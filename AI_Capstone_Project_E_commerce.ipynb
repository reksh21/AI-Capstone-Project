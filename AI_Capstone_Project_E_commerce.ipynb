{
  "nbformat": 4,
  "nbformat_minor": 0,
  "metadata": {
    "colab": {
      "provenance": [],
      "authorship_tag": "ABX9TyNX+eiVjwtk/BkrZcCQFufi",
      "include_colab_link": true
    },
    "kernelspec": {
      "name": "python3",
      "display_name": "Python 3"
    },
    "language_info": {
      "name": "python"
    }
  },
  "cells": [
    {
      "cell_type": "markdown",
      "metadata": {
        "id": "view-in-github",
        "colab_type": "text"
      },
      "source": [
        "<a href=\"https://colab.research.google.com/github/reksh21/AI-Capstone-Project/blob/main/AI_Capstone_Project_E_commerce.ipynb\" target=\"_parent\"><img src=\"https://colab.research.google.com/assets/colab-badge.svg\" alt=\"Open In Colab\"/></a>"
      ]
    },
    {
      "cell_type": "markdown",
      "source": [
        "# **Problem Statement**"
      ],
      "metadata": {
        "id": "PJJ806DOGvN5"
      }
    },
    {
      "cell_type": "markdown",
      "source": [
        "Amazon is an online shopping website that now caters to millions of people\n",
        "everywhere. Over 34,000 consumer reviews for Amazon brand products like Kindle,\n",
        "Fire TV Stick and more are provided.\n",
        "\n",
        "The dataset has attributes like brand, categories, primary categories, reviews.title, reviews.text, and the sentiment. Sentiment is a categorical variable with three levels \"Positive\", \"Negative“, and \"Neutral\". For a given unseen data, the sentiment needs to be predicted.\n",
        "\n",
        "You are required to predict Sentiment or Satisfaction of a purchase based on multiple features and review text.\n",
        "\n",
        "**Project Task: Week 1**\n",
        "**Class Imbalance Problem:**\n",
        "1. Perform an EDA on the dataset.\n",
        "\n",
        " a) See what a positive, negative, and neutral review looks like\n",
        "\n",
        " b) Check the class count for each class. It’s a class imbalance problem.\n",
        "2. Convert the reviews in Tf-Idf score.\n",
        "3. Run multinomial Naive Bayes classifier. Everything will be classified as positive because of the class imbalance.\n",
        "\n",
        "**Project Task: Week 2**\n",
        "**Tackling Class Imbalance Problem:**\n",
        "1. Oversampling or undersampling can be used to tackle the class imbalance problem.\n",
        "2. In case of class imbalance criteria, use the following metrices for evaluating model performance: precision, recall, F1-score, AUC-ROC curve. Use F1-Score as the evaluation criteria for this project.\n",
        "3. Use Tree-based classifiers like Random Forest and XGBoost.\n",
        "\n",
        " Note: Tree-based classifiers work on two ideologies namely, Bagging or Boosting and have fine-tuning parameter which takes care of the imbalanced class.\n",
        "\n",
        "**Project Task: Week 3**\n",
        "**Model Selection:**\n",
        "1. Apply multi-class SVM’s and neural nets.\n",
        "2. Use possible ensemble techniques like: XGboost + oversampled_multinomial_NB.\n",
        "3. Assign a score to the sentence sentiment (engineer a feature called sentiment score). Use this engineered feature in the model and check for improvements. Draw insights on the same.\n",
        "\n",
        "**Project Task: Week 4**\n",
        "**Applying LSTM:**\n",
        "1. Use LSTM for the previous problem (use parameters of LSTM like top-word, embedding-length, Dropout, epochs, number of layers, etc.)\n",
        " Hint: Another variation of LSTM, GRU (Gated Recurrent Units) can be tried as well.\n",
        "2. Compare the accuracy of neural nets with traditional ML based algorithms.\n",
        "3. Find the best setting of LSTM (Neural Net) and GRU that can best classify the reviews as positive, negative, and neutral.\n",
        "\n",
        " Hint: Use techniques like Grid Search, Cross-Validation and Random Search\n",
        "\n"
      ],
      "metadata": {
        "id": "BHZ8YlYoFNdS"
      }
    },
    {
      "cell_type": "markdown",
      "source": [
        "# **Importing Required Libraries**"
      ],
      "metadata": {
        "id": "ZCBiugpUHIEI"
      }
    },
    {
      "cell_type": "code",
      "source": [
        "#Basic Libraries\n",
        "import numpy as np                                               #For numerical data manipulation, analysis with arrays\n",
        "import pandas as pd                                              #For Data analysis and manipulation with series and DataFrames\n",
        "import seaborn as sb                                             #For Statistical data visualizations\n",
        "\n",
        "#NLP Libraries\n",
        "import nltk                                                      #Natural Language Toolkit (NLTK) for working with human language data including Tokenization,Stemming and Lemmatization, Part-of-Speech Tagging, Named Entity Recognition, Sentiment Analysis,Machine Translation\n",
        "from nltk.tokenize import RegexpTokenizer                        #To create custom tokenizers based on regular expressions.\n",
        "from nltk.corpus import stopwords                                #Contains a list of common words that are often filtered out of text\n",
        "from nltk.corpus import wordnet                                  #Lexical database of English words finding synonyms, antonyms, and definitions\n",
        "from nltk.stem import WordNetLemmatizer                          #Reduce words to their base form\n",
        "from nltk.sentiment.vader import SentimentIntensityAnalyzer      #For performing sentiment analysis on text\n",
        "\n",
        "#Machine Learning Model Libraries\n",
        "from sklearn.naive_bayes import MultinomialNB                    #Imports Multinomial Naive Bayes Classifier\n",
        "from sklearn.ensemble import RandomForestClassifier              #Imports Random Forest Classifier\n",
        "from xgboost import XGBClassifier                                #Imports Xgboost Classifier\n",
        "from sklearn.svm import SVC                                      #Imports Support Vector Classifier from SVM\n",
        "from sklearn.ensemble import VotingClassifier                    #Imports Voting Classifier\n",
        "\n",
        "#Performance Evaluating Libraries\n",
        "from sklearn import metrics                                      #For evaluating the performance\n",
        "from sklearn.metrics import roc_auc_score, accuracy_score        #Summarizes the overall performance and accuracy of the classifier\n",
        "from sklearn.metrics import classification_report                #For generating a comprehensive report of the performance of a classification model\n",
        "\n",
        "#Sampling Library\n",
        "from imblearn.over_sampling import SMOTE                         #For handling imbalanced datasets\n",
        "\n",
        "from collections import Counter                                  #Keeps track of the count of each element in a sequence\n",
        "\n",
        "from sklearn.feature_extraction.text import CountVectorizer      #To convert a collection of text documents into a matrix of token counts.\n",
        "from sklearn.feature_extraction.text import TfidfTransformer     #To convert a matrix of token counts into a matrix of TF-IDF values.\n",
        "from sklearn.preprocessing import label_binarize                 #To convert categorical labels into a binary matrix.\n",
        "from sklearn.model_selection import train_test_split             #For splitting your dataset into training and testing sets\n",
        "from sklearn.preprocessing import OneHotEncoder                  #To convert categorical features into a numerical representation(integer labels)\n",
        "\n",
        "from tensorflow.keras.preprocessing.sequence import pad_sequences#To pad sequences of different lengths to a common length\n",
        "from tensorflow.keras.utils import to_categorical                #To convert integer labels into a one-hot encoded representation\n",
        "from tensorflow.keras.preprocessing.text import Tokenizer        #For converting text data into a numerical representation\n",
        "from keras.layers import Embedding, LSTM, Dense, Activation, Dropout #Used in building deep learning models\n",
        "from keras.models import Sequential                              #To build a neural network by stacking layers sequentially\n",
        "\n",
        "from bs4 import BeautifulSoup                                    #For parsing HTML and XML documents,tool for web scraping and data extraction\n",
        "import re                                                        #Regular expressions tool for pattern matching and text manipulation\n",
        "\n",
        "from gensim.models import Word2Vec                               #For training word embeddings\n",
        "import gensim                                                    #For working with word embeddings and topic modeling\n",
        "\n",
        "#Required Downloads\n",
        "nltk.download('stopwords')                                       #Downloads the stopwords corpus\n",
        "nltk.download('wordnet')                                         #Downloads the WordNet corpus\n",
        "nltk.download(\"vader_lexicon\")                                   #Downloads the VADER lexicon\n",
        "nltk.download('punkt')                                           #For sentence segmentation and part-of-speech tagging."
      ],
      "metadata": {
        "id": "vVbQjGqqGMNJ",
        "colab": {
          "base_uri": "https://localhost:8080/"
        },
        "outputId": "3d6cfd5a-9036-4ddd-a11f-d17f25bf29a7"
      },
      "execution_count": null,
      "outputs": [
        {
          "output_type": "stream",
          "name": "stderr",
          "text": [
            "[nltk_data] Downloading package stopwords to /root/nltk_data...\n",
            "[nltk_data]   Unzipping corpora/stopwords.zip.\n",
            "[nltk_data] Downloading package wordnet to /root/nltk_data...\n",
            "[nltk_data] Downloading package vader_lexicon to /root/nltk_data...\n",
            "[nltk_data] Downloading package punkt to /root/nltk_data...\n",
            "[nltk_data]   Unzipping tokenizers/punkt.zip.\n"
          ]
        },
        {
          "output_type": "execute_result",
          "data": {
            "text/plain": [
              "True"
            ]
          },
          "metadata": {},
          "execution_count": 2
        }
      ]
    },
    {
      "cell_type": "markdown",
      "source": [
        "# **Loading the Dataset**"
      ],
      "metadata": {
        "id": "qfcoTK_UJa74"
      }
    },
    {
      "cell_type": "code",
      "source": [
        "train_data = pd.read_csv(\"train_data.csv\")\n",
        "test_data = pd.read_csv(\"test_data.csv\")\n",
        "test_data_hidden = pd.read_csv(\"test_data_hidden.csv\")"
      ],
      "metadata": {
        "id": "3Z0ZJZdGGUyC"
      },
      "execution_count": null,
      "outputs": []
    },
    {
      "cell_type": "code",
      "source": [
        "train_data.head(1)"
      ],
      "metadata": {
        "colab": {
          "base_uri": "https://localhost:8080/",
          "height": 115
        },
        "id": "1yuPRnGsM_3M",
        "outputId": "62a8b9e1-6ad5-48c1-be2f-7ed8abaa33c5"
      },
      "execution_count": null,
      "outputs": [
        {
          "output_type": "execute_result",
          "data": {
            "text/plain": [
              "                                                name   brand  \\\n",
              "0  All-New Fire HD 8 Tablet, 8\" HD Display, Wi-Fi...  Amazon   \n",
              "\n",
              "                                          categories primaryCategories  \\\n",
              "0  Electronics,iPad & Tablets,All Tablets,Fire Ta...       Electronics   \n",
              "\n",
              "               reviews.date  \\\n",
              "0  2016-12-26T00:00:00.000Z   \n",
              "\n",
              "                                        reviews.text    reviews.title  \\\n",
              "0  Purchased on Black FridayPros - Great Price (e...  Powerful tablet   \n",
              "\n",
              "  sentiment  \n",
              "0  Positive  "
            ],
            "text/html": [
              "\n",
              "  <div id=\"df-879ccbe7-58c9-4222-8cb0-accdbfdd1d82\" class=\"colab-df-container\">\n",
              "    <div>\n",
              "<style scoped>\n",
              "    .dataframe tbody tr th:only-of-type {\n",
              "        vertical-align: middle;\n",
              "    }\n",
              "\n",
              "    .dataframe tbody tr th {\n",
              "        vertical-align: top;\n",
              "    }\n",
              "\n",
              "    .dataframe thead th {\n",
              "        text-align: right;\n",
              "    }\n",
              "</style>\n",
              "<table border=\"1\" class=\"dataframe\">\n",
              "  <thead>\n",
              "    <tr style=\"text-align: right;\">\n",
              "      <th></th>\n",
              "      <th>name</th>\n",
              "      <th>brand</th>\n",
              "      <th>categories</th>\n",
              "      <th>primaryCategories</th>\n",
              "      <th>reviews.date</th>\n",
              "      <th>reviews.text</th>\n",
              "      <th>reviews.title</th>\n",
              "      <th>sentiment</th>\n",
              "    </tr>\n",
              "  </thead>\n",
              "  <tbody>\n",
              "    <tr>\n",
              "      <th>0</th>\n",
              "      <td>All-New Fire HD 8 Tablet, 8\" HD Display, Wi-Fi...</td>\n",
              "      <td>Amazon</td>\n",
              "      <td>Electronics,iPad &amp; Tablets,All Tablets,Fire Ta...</td>\n",
              "      <td>Electronics</td>\n",
              "      <td>2016-12-26T00:00:00.000Z</td>\n",
              "      <td>Purchased on Black FridayPros - Great Price (e...</td>\n",
              "      <td>Powerful tablet</td>\n",
              "      <td>Positive</td>\n",
              "    </tr>\n",
              "  </tbody>\n",
              "</table>\n",
              "</div>\n",
              "    <div class=\"colab-df-buttons\">\n",
              "\n",
              "  <div class=\"colab-df-container\">\n",
              "    <button class=\"colab-df-convert\" onclick=\"convertToInteractive('df-879ccbe7-58c9-4222-8cb0-accdbfdd1d82')\"\n",
              "            title=\"Convert this dataframe to an interactive table.\"\n",
              "            style=\"display:none;\">\n",
              "\n",
              "  <svg xmlns=\"http://www.w3.org/2000/svg\" height=\"24px\" viewBox=\"0 -960 960 960\">\n",
              "    <path d=\"M120-120v-720h720v720H120Zm60-500h600v-160H180v160Zm220 220h160v-160H400v160Zm0 220h160v-160H400v160ZM180-400h160v-160H180v160Zm440 0h160v-160H620v160ZM180-180h160v-160H180v160Zm440 0h160v-160H620v160Z\"/>\n",
              "  </svg>\n",
              "    </button>\n",
              "\n",
              "  <style>\n",
              "    .colab-df-container {\n",
              "      display:flex;\n",
              "      gap: 12px;\n",
              "    }\n",
              "\n",
              "    .colab-df-convert {\n",
              "      background-color: #E8F0FE;\n",
              "      border: none;\n",
              "      border-radius: 50%;\n",
              "      cursor: pointer;\n",
              "      display: none;\n",
              "      fill: #1967D2;\n",
              "      height: 32px;\n",
              "      padding: 0 0 0 0;\n",
              "      width: 32px;\n",
              "    }\n",
              "\n",
              "    .colab-df-convert:hover {\n",
              "      background-color: #E2EBFA;\n",
              "      box-shadow: 0px 1px 2px rgba(60, 64, 67, 0.3), 0px 1px 3px 1px rgba(60, 64, 67, 0.15);\n",
              "      fill: #174EA6;\n",
              "    }\n",
              "\n",
              "    .colab-df-buttons div {\n",
              "      margin-bottom: 4px;\n",
              "    }\n",
              "\n",
              "    [theme=dark] .colab-df-convert {\n",
              "      background-color: #3B4455;\n",
              "      fill: #D2E3FC;\n",
              "    }\n",
              "\n",
              "    [theme=dark] .colab-df-convert:hover {\n",
              "      background-color: #434B5C;\n",
              "      box-shadow: 0px 1px 3px 1px rgba(0, 0, 0, 0.15);\n",
              "      filter: drop-shadow(0px 1px 2px rgba(0, 0, 0, 0.3));\n",
              "      fill: #FFFFFF;\n",
              "    }\n",
              "  </style>\n",
              "\n",
              "    <script>\n",
              "      const buttonEl =\n",
              "        document.querySelector('#df-879ccbe7-58c9-4222-8cb0-accdbfdd1d82 button.colab-df-convert');\n",
              "      buttonEl.style.display =\n",
              "        google.colab.kernel.accessAllowed ? 'block' : 'none';\n",
              "\n",
              "      async function convertToInteractive(key) {\n",
              "        const element = document.querySelector('#df-879ccbe7-58c9-4222-8cb0-accdbfdd1d82');\n",
              "        const dataTable =\n",
              "          await google.colab.kernel.invokeFunction('convertToInteractive',\n",
              "                                                    [key], {});\n",
              "        if (!dataTable) return;\n",
              "\n",
              "        const docLinkHtml = 'Like what you see? Visit the ' +\n",
              "          '<a target=\"_blank\" href=https://colab.research.google.com/notebooks/data_table.ipynb>data table notebook</a>'\n",
              "          + ' to learn more about interactive tables.';\n",
              "        element.innerHTML = '';\n",
              "        dataTable['output_type'] = 'display_data';\n",
              "        await google.colab.output.renderOutput(dataTable, element);\n",
              "        const docLink = document.createElement('div');\n",
              "        docLink.innerHTML = docLinkHtml;\n",
              "        element.appendChild(docLink);\n",
              "      }\n",
              "    </script>\n",
              "  </div>\n",
              "\n",
              "\n",
              "    </div>\n",
              "  </div>\n"
            ],
            "application/vnd.google.colaboratory.intrinsic+json": {
              "type": "dataframe",
              "variable_name": "train_data",
              "summary": "{\n  \"name\": \"train_data\",\n  \"rows\": 4000,\n  \"fields\": [\n    {\n      \"column\": \"name\",\n      \"properties\": {\n        \"dtype\": \"category\",\n        \"num_unique_values\": 23,\n        \"samples\": [\n          \"Kindle Oasis E-reader with Leather Charging Cover - Black, 6\\\" High-Resolution Display (300 ppi), Wi-Fi - Includes Special Offers\",\n          \"Fire Tablet, 7 Display, Wi-Fi, 16 GB - Includes Special Offers, Black\",\n          \"All-New Fire HD 8 Tablet, 8\\\" HD Display, Wi-Fi, 16 GB - Includes Special Offers, Magenta\"\n        ],\n        \"semantic_type\": \"\",\n        \"description\": \"\"\n      }\n    },\n    {\n      \"column\": \"brand\",\n      \"properties\": {\n        \"dtype\": \"category\",\n        \"num_unique_values\": 1,\n        \"samples\": [\n          \"Amazon\"\n        ],\n        \"semantic_type\": \"\",\n        \"description\": \"\"\n      }\n    },\n    {\n      \"column\": \"categories\",\n      \"properties\": {\n        \"dtype\": \"category\",\n        \"num_unique_values\": 23,\n        \"samples\": [\n          \"Kindle E-readers,Electronics Features,Computers & Tablets,E-Readers & Accessories,E-Readers,eBook Readers\"\n        ],\n        \"semantic_type\": \"\",\n        \"description\": \"\"\n      }\n    },\n    {\n      \"column\": \"primaryCategories\",\n      \"properties\": {\n        \"dtype\": \"category\",\n        \"num_unique_values\": 4,\n        \"samples\": [\n          \"Electronics,Hardware\"\n        ],\n        \"semantic_type\": \"\",\n        \"description\": \"\"\n      }\n    },\n    {\n      \"column\": \"reviews.date\",\n      \"properties\": {\n        \"dtype\": \"object\",\n        \"num_unique_values\": 638,\n        \"samples\": [\n          \"2016-08-12T00:00:00.000Z\"\n        ],\n        \"semantic_type\": \"\",\n        \"description\": \"\"\n      }\n    },\n    {\n      \"column\": \"reviews.text\",\n      \"properties\": {\n        \"dtype\": \"string\",\n        \"num_unique_values\": 3598,\n        \"samples\": [\n          \"We bought this for our toddlers, and so far seems to hold up well with them. Some quirky rules with Amazon and accounts with product, but overall good for what we need.\"\n        ],\n        \"semantic_type\": \"\",\n        \"description\": \"\"\n      }\n    },\n    {\n      \"column\": \"reviews.title\",\n      \"properties\": {\n        \"dtype\": \"string\",\n        \"num_unique_values\": 2606,\n        \"samples\": [\n          \"My son loves it!!\"\n        ],\n        \"semantic_type\": \"\",\n        \"description\": \"\"\n      }\n    },\n    {\n      \"column\": \"sentiment\",\n      \"properties\": {\n        \"dtype\": \"category\",\n        \"num_unique_values\": 3,\n        \"samples\": [\n          \"Positive\"\n        ],\n        \"semantic_type\": \"\",\n        \"description\": \"\"\n      }\n    }\n  ]\n}"
            }
          },
          "metadata": {},
          "execution_count": 4
        }
      ]
    },
    {
      "cell_type": "code",
      "source": [
        "test_data.head(1)"
      ],
      "metadata": {
        "colab": {
          "base_uri": "https://localhost:8080/",
          "height": 98
        },
        "id": "V_FQu69bNL83",
        "outputId": "d8895fe6-4b4a-47ad-ec40-bb6cd846a4ee"
      },
      "execution_count": null,
      "outputs": [
        {
          "output_type": "execute_result",
          "data": {
            "text/plain": [
              "                                                name   brand  \\\n",
              "0  Fire Tablet, 7 Display, Wi-Fi, 16 GB - Include...  Amazon   \n",
              "\n",
              "                                          categories primaryCategories  \\\n",
              "0  Fire Tablets,Computers/Tablets & Networking,Ta...       Electronics   \n",
              "\n",
              "               reviews.date  \\\n",
              "0  2016-05-23T00:00:00.000Z   \n",
              "\n",
              "                                        reviews.text      reviews.title  \n",
              "0  Amazon kindle fire has a lot of free app and c...  very handy device  "
            ],
            "text/html": [
              "\n",
              "  <div id=\"df-1792b20f-fa65-42d9-81ee-3884940df1d3\" class=\"colab-df-container\">\n",
              "    <div>\n",
              "<style scoped>\n",
              "    .dataframe tbody tr th:only-of-type {\n",
              "        vertical-align: middle;\n",
              "    }\n",
              "\n",
              "    .dataframe tbody tr th {\n",
              "        vertical-align: top;\n",
              "    }\n",
              "\n",
              "    .dataframe thead th {\n",
              "        text-align: right;\n",
              "    }\n",
              "</style>\n",
              "<table border=\"1\" class=\"dataframe\">\n",
              "  <thead>\n",
              "    <tr style=\"text-align: right;\">\n",
              "      <th></th>\n",
              "      <th>name</th>\n",
              "      <th>brand</th>\n",
              "      <th>categories</th>\n",
              "      <th>primaryCategories</th>\n",
              "      <th>reviews.date</th>\n",
              "      <th>reviews.text</th>\n",
              "      <th>reviews.title</th>\n",
              "    </tr>\n",
              "  </thead>\n",
              "  <tbody>\n",
              "    <tr>\n",
              "      <th>0</th>\n",
              "      <td>Fire Tablet, 7 Display, Wi-Fi, 16 GB - Include...</td>\n",
              "      <td>Amazon</td>\n",
              "      <td>Fire Tablets,Computers/Tablets &amp; Networking,Ta...</td>\n",
              "      <td>Electronics</td>\n",
              "      <td>2016-05-23T00:00:00.000Z</td>\n",
              "      <td>Amazon kindle fire has a lot of free app and c...</td>\n",
              "      <td>very handy device</td>\n",
              "    </tr>\n",
              "  </tbody>\n",
              "</table>\n",
              "</div>\n",
              "    <div class=\"colab-df-buttons\">\n",
              "\n",
              "  <div class=\"colab-df-container\">\n",
              "    <button class=\"colab-df-convert\" onclick=\"convertToInteractive('df-1792b20f-fa65-42d9-81ee-3884940df1d3')\"\n",
              "            title=\"Convert this dataframe to an interactive table.\"\n",
              "            style=\"display:none;\">\n",
              "\n",
              "  <svg xmlns=\"http://www.w3.org/2000/svg\" height=\"24px\" viewBox=\"0 -960 960 960\">\n",
              "    <path d=\"M120-120v-720h720v720H120Zm60-500h600v-160H180v160Zm220 220h160v-160H400v160Zm0 220h160v-160H400v160ZM180-400h160v-160H180v160Zm440 0h160v-160H620v160ZM180-180h160v-160H180v160Zm440 0h160v-160H620v160Z\"/>\n",
              "  </svg>\n",
              "    </button>\n",
              "\n",
              "  <style>\n",
              "    .colab-df-container {\n",
              "      display:flex;\n",
              "      gap: 12px;\n",
              "    }\n",
              "\n",
              "    .colab-df-convert {\n",
              "      background-color: #E8F0FE;\n",
              "      border: none;\n",
              "      border-radius: 50%;\n",
              "      cursor: pointer;\n",
              "      display: none;\n",
              "      fill: #1967D2;\n",
              "      height: 32px;\n",
              "      padding: 0 0 0 0;\n",
              "      width: 32px;\n",
              "    }\n",
              "\n",
              "    .colab-df-convert:hover {\n",
              "      background-color: #E2EBFA;\n",
              "      box-shadow: 0px 1px 2px rgba(60, 64, 67, 0.3), 0px 1px 3px 1px rgba(60, 64, 67, 0.15);\n",
              "      fill: #174EA6;\n",
              "    }\n",
              "\n",
              "    .colab-df-buttons div {\n",
              "      margin-bottom: 4px;\n",
              "    }\n",
              "\n",
              "    [theme=dark] .colab-df-convert {\n",
              "      background-color: #3B4455;\n",
              "      fill: #D2E3FC;\n",
              "    }\n",
              "\n",
              "    [theme=dark] .colab-df-convert:hover {\n",
              "      background-color: #434B5C;\n",
              "      box-shadow: 0px 1px 3px 1px rgba(0, 0, 0, 0.15);\n",
              "      filter: drop-shadow(0px 1px 2px rgba(0, 0, 0, 0.3));\n",
              "      fill: #FFFFFF;\n",
              "    }\n",
              "  </style>\n",
              "\n",
              "    <script>\n",
              "      const buttonEl =\n",
              "        document.querySelector('#df-1792b20f-fa65-42d9-81ee-3884940df1d3 button.colab-df-convert');\n",
              "      buttonEl.style.display =\n",
              "        google.colab.kernel.accessAllowed ? 'block' : 'none';\n",
              "\n",
              "      async function convertToInteractive(key) {\n",
              "        const element = document.querySelector('#df-1792b20f-fa65-42d9-81ee-3884940df1d3');\n",
              "        const dataTable =\n",
              "          await google.colab.kernel.invokeFunction('convertToInteractive',\n",
              "                                                    [key], {});\n",
              "        if (!dataTable) return;\n",
              "\n",
              "        const docLinkHtml = 'Like what you see? Visit the ' +\n",
              "          '<a target=\"_blank\" href=https://colab.research.google.com/notebooks/data_table.ipynb>data table notebook</a>'\n",
              "          + ' to learn more about interactive tables.';\n",
              "        element.innerHTML = '';\n",
              "        dataTable['output_type'] = 'display_data';\n",
              "        await google.colab.output.renderOutput(dataTable, element);\n",
              "        const docLink = document.createElement('div');\n",
              "        docLink.innerHTML = docLinkHtml;\n",
              "        element.appendChild(docLink);\n",
              "      }\n",
              "    </script>\n",
              "  </div>\n",
              "\n",
              "\n",
              "    </div>\n",
              "  </div>\n"
            ],
            "application/vnd.google.colaboratory.intrinsic+json": {
              "type": "dataframe",
              "variable_name": "test_data",
              "summary": "{\n  \"name\": \"test_data\",\n  \"rows\": 1000,\n  \"fields\": [\n    {\n      \"column\": \"name\",\n      \"properties\": {\n        \"dtype\": \"category\",\n        \"num_unique_values\": 23,\n        \"samples\": [\n          \"All-New Fire HD 8 Tablet, 8\\\" HD Display, Wi-Fi, 32 GB - Includes Special Offers, Magenta\",\n          \"Amazon - Kindle Voyage - 4GB - Wi-Fi + 3G - Black\",\n          \"Fire Tablet, 7 Display, Wi-Fi, 16 GB - Includes Special Offers, Black\"\n        ],\n        \"semantic_type\": \"\",\n        \"description\": \"\"\n      }\n    },\n    {\n      \"column\": \"brand\",\n      \"properties\": {\n        \"dtype\": \"category\",\n        \"num_unique_values\": 1,\n        \"samples\": [\n          \"Amazon\"\n        ],\n        \"semantic_type\": \"\",\n        \"description\": \"\"\n      }\n    },\n    {\n      \"column\": \"categories\",\n      \"properties\": {\n        \"dtype\": \"category\",\n        \"num_unique_values\": 23,\n        \"samples\": [\n          \"Fire Tablets,Tablets,Computers/Tablets & Networking,Other Computers & Networking,Computers & Tablets,All Tablets\"\n        ],\n        \"semantic_type\": \"\",\n        \"description\": \"\"\n      }\n    },\n    {\n      \"column\": \"primaryCategories\",\n      \"properties\": {\n        \"dtype\": \"category\",\n        \"num_unique_values\": 4,\n        \"samples\": [\n          \"Electronics,Hardware\"\n        ],\n        \"semantic_type\": \"\",\n        \"description\": \"\"\n      }\n    },\n    {\n      \"column\": \"reviews.date\",\n      \"properties\": {\n        \"dtype\": \"object\",\n        \"num_unique_values\": 366,\n        \"samples\": [\n          \"2017-02-09T00:00:00.000Z\"\n        ],\n        \"semantic_type\": \"\",\n        \"description\": \"\"\n      }\n    },\n    {\n      \"column\": \"reviews.text\",\n      \"properties\": {\n        \"dtype\": \"string\",\n        \"num_unique_values\": 979,\n        \"samples\": [\n          \"Bought this tablet on sale. I can look up all the things I 'm interested in.\"\n        ],\n        \"semantic_type\": \"\",\n        \"description\": \"\"\n      }\n    },\n    {\n      \"column\": \"reviews.title\",\n      \"properties\": {\n        \"dtype\": \"string\",\n        \"num_unique_values\": 796,\n        \"samples\": [\n          \"Portable\"\n        ],\n        \"semantic_type\": \"\",\n        \"description\": \"\"\n      }\n    }\n  ]\n}"
            }
          },
          "metadata": {},
          "execution_count": 5
        }
      ]
    },
    {
      "cell_type": "code",
      "source": [
        "test_data_hidden.head(1)"
      ],
      "metadata": {
        "colab": {
          "base_uri": "https://localhost:8080/",
          "height": 115
        },
        "id": "9gJGymueNTyU",
        "outputId": "c01506a0-97a6-42a1-be55-6cdd5c4e2cb0"
      },
      "execution_count": null,
      "outputs": [
        {
          "output_type": "execute_result",
          "data": {
            "text/plain": [
              "                                                name   brand  \\\n",
              "0  Fire Tablet, 7 Display, Wi-Fi, 16 GB - Include...  Amazon   \n",
              "\n",
              "                                          categories primaryCategories  \\\n",
              "0  Fire Tablets,Computers/Tablets & Networking,Ta...       Electronics   \n",
              "\n",
              "               reviews.date  \\\n",
              "0  2016-05-23T00:00:00.000Z   \n",
              "\n",
              "                                        reviews.text      reviews.title  \\\n",
              "0  Amazon kindle fire has a lot of free app and c...  very handy device   \n",
              "\n",
              "  sentiment  \n",
              "0  Positive  "
            ],
            "text/html": [
              "\n",
              "  <div id=\"df-0cf57cc6-1d43-420f-8b2d-66e68e2b2266\" class=\"colab-df-container\">\n",
              "    <div>\n",
              "<style scoped>\n",
              "    .dataframe tbody tr th:only-of-type {\n",
              "        vertical-align: middle;\n",
              "    }\n",
              "\n",
              "    .dataframe tbody tr th {\n",
              "        vertical-align: top;\n",
              "    }\n",
              "\n",
              "    .dataframe thead th {\n",
              "        text-align: right;\n",
              "    }\n",
              "</style>\n",
              "<table border=\"1\" class=\"dataframe\">\n",
              "  <thead>\n",
              "    <tr style=\"text-align: right;\">\n",
              "      <th></th>\n",
              "      <th>name</th>\n",
              "      <th>brand</th>\n",
              "      <th>categories</th>\n",
              "      <th>primaryCategories</th>\n",
              "      <th>reviews.date</th>\n",
              "      <th>reviews.text</th>\n",
              "      <th>reviews.title</th>\n",
              "      <th>sentiment</th>\n",
              "    </tr>\n",
              "  </thead>\n",
              "  <tbody>\n",
              "    <tr>\n",
              "      <th>0</th>\n",
              "      <td>Fire Tablet, 7 Display, Wi-Fi, 16 GB - Include...</td>\n",
              "      <td>Amazon</td>\n",
              "      <td>Fire Tablets,Computers/Tablets &amp; Networking,Ta...</td>\n",
              "      <td>Electronics</td>\n",
              "      <td>2016-05-23T00:00:00.000Z</td>\n",
              "      <td>Amazon kindle fire has a lot of free app and c...</td>\n",
              "      <td>very handy device</td>\n",
              "      <td>Positive</td>\n",
              "    </tr>\n",
              "  </tbody>\n",
              "</table>\n",
              "</div>\n",
              "    <div class=\"colab-df-buttons\">\n",
              "\n",
              "  <div class=\"colab-df-container\">\n",
              "    <button class=\"colab-df-convert\" onclick=\"convertToInteractive('df-0cf57cc6-1d43-420f-8b2d-66e68e2b2266')\"\n",
              "            title=\"Convert this dataframe to an interactive table.\"\n",
              "            style=\"display:none;\">\n",
              "\n",
              "  <svg xmlns=\"http://www.w3.org/2000/svg\" height=\"24px\" viewBox=\"0 -960 960 960\">\n",
              "    <path d=\"M120-120v-720h720v720H120Zm60-500h600v-160H180v160Zm220 220h160v-160H400v160Zm0 220h160v-160H400v160ZM180-400h160v-160H180v160Zm440 0h160v-160H620v160ZM180-180h160v-160H180v160Zm440 0h160v-160H620v160Z\"/>\n",
              "  </svg>\n",
              "    </button>\n",
              "\n",
              "  <style>\n",
              "    .colab-df-container {\n",
              "      display:flex;\n",
              "      gap: 12px;\n",
              "    }\n",
              "\n",
              "    .colab-df-convert {\n",
              "      background-color: #E8F0FE;\n",
              "      border: none;\n",
              "      border-radius: 50%;\n",
              "      cursor: pointer;\n",
              "      display: none;\n",
              "      fill: #1967D2;\n",
              "      height: 32px;\n",
              "      padding: 0 0 0 0;\n",
              "      width: 32px;\n",
              "    }\n",
              "\n",
              "    .colab-df-convert:hover {\n",
              "      background-color: #E2EBFA;\n",
              "      box-shadow: 0px 1px 2px rgba(60, 64, 67, 0.3), 0px 1px 3px 1px rgba(60, 64, 67, 0.15);\n",
              "      fill: #174EA6;\n",
              "    }\n",
              "\n",
              "    .colab-df-buttons div {\n",
              "      margin-bottom: 4px;\n",
              "    }\n",
              "\n",
              "    [theme=dark] .colab-df-convert {\n",
              "      background-color: #3B4455;\n",
              "      fill: #D2E3FC;\n",
              "    }\n",
              "\n",
              "    [theme=dark] .colab-df-convert:hover {\n",
              "      background-color: #434B5C;\n",
              "      box-shadow: 0px 1px 3px 1px rgba(0, 0, 0, 0.15);\n",
              "      filter: drop-shadow(0px 1px 2px rgba(0, 0, 0, 0.3));\n",
              "      fill: #FFFFFF;\n",
              "    }\n",
              "  </style>\n",
              "\n",
              "    <script>\n",
              "      const buttonEl =\n",
              "        document.querySelector('#df-0cf57cc6-1d43-420f-8b2d-66e68e2b2266 button.colab-df-convert');\n",
              "      buttonEl.style.display =\n",
              "        google.colab.kernel.accessAllowed ? 'block' : 'none';\n",
              "\n",
              "      async function convertToInteractive(key) {\n",
              "        const element = document.querySelector('#df-0cf57cc6-1d43-420f-8b2d-66e68e2b2266');\n",
              "        const dataTable =\n",
              "          await google.colab.kernel.invokeFunction('convertToInteractive',\n",
              "                                                    [key], {});\n",
              "        if (!dataTable) return;\n",
              "\n",
              "        const docLinkHtml = 'Like what you see? Visit the ' +\n",
              "          '<a target=\"_blank\" href=https://colab.research.google.com/notebooks/data_table.ipynb>data table notebook</a>'\n",
              "          + ' to learn more about interactive tables.';\n",
              "        element.innerHTML = '';\n",
              "        dataTable['output_type'] = 'display_data';\n",
              "        await google.colab.output.renderOutput(dataTable, element);\n",
              "        const docLink = document.createElement('div');\n",
              "        docLink.innerHTML = docLinkHtml;\n",
              "        element.appendChild(docLink);\n",
              "      }\n",
              "    </script>\n",
              "  </div>\n",
              "\n",
              "\n",
              "    </div>\n",
              "  </div>\n"
            ],
            "application/vnd.google.colaboratory.intrinsic+json": {
              "type": "dataframe",
              "variable_name": "test_data_hidden",
              "summary": "{\n  \"name\": \"test_data_hidden\",\n  \"rows\": 1000,\n  \"fields\": [\n    {\n      \"column\": \"name\",\n      \"properties\": {\n        \"dtype\": \"category\",\n        \"num_unique_values\": 23,\n        \"samples\": [\n          \"All-New Fire HD 8 Tablet, 8\\\" HD Display, Wi-Fi, 32 GB - Includes Special Offers, Magenta\",\n          \"Amazon - Kindle Voyage - 4GB - Wi-Fi + 3G - Black\",\n          \"Fire Tablet, 7 Display, Wi-Fi, 16 GB - Includes Special Offers, Black\"\n        ],\n        \"semantic_type\": \"\",\n        \"description\": \"\"\n      }\n    },\n    {\n      \"column\": \"brand\",\n      \"properties\": {\n        \"dtype\": \"category\",\n        \"num_unique_values\": 1,\n        \"samples\": [\n          \"Amazon\"\n        ],\n        \"semantic_type\": \"\",\n        \"description\": \"\"\n      }\n    },\n    {\n      \"column\": \"categories\",\n      \"properties\": {\n        \"dtype\": \"category\",\n        \"num_unique_values\": 23,\n        \"samples\": [\n          \"Fire Tablets,Tablets,Computers/Tablets & Networking,Other Computers & Networking,Computers & Tablets,All Tablets\"\n        ],\n        \"semantic_type\": \"\",\n        \"description\": \"\"\n      }\n    },\n    {\n      \"column\": \"primaryCategories\",\n      \"properties\": {\n        \"dtype\": \"category\",\n        \"num_unique_values\": 4,\n        \"samples\": [\n          \"Electronics,Hardware\"\n        ],\n        \"semantic_type\": \"\",\n        \"description\": \"\"\n      }\n    },\n    {\n      \"column\": \"reviews.date\",\n      \"properties\": {\n        \"dtype\": \"object\",\n        \"num_unique_values\": 366,\n        \"samples\": [\n          \"2017-02-09T00:00:00.000Z\"\n        ],\n        \"semantic_type\": \"\",\n        \"description\": \"\"\n      }\n    },\n    {\n      \"column\": \"reviews.text\",\n      \"properties\": {\n        \"dtype\": \"string\",\n        \"num_unique_values\": 979,\n        \"samples\": [\n          \"Bought this tablet on sale. I can look up all the things I 'm interested in.\"\n        ],\n        \"semantic_type\": \"\",\n        \"description\": \"\"\n      }\n    },\n    {\n      \"column\": \"reviews.title\",\n      \"properties\": {\n        \"dtype\": \"string\",\n        \"num_unique_values\": 796,\n        \"samples\": [\n          \"Portable\"\n        ],\n        \"semantic_type\": \"\",\n        \"description\": \"\"\n      }\n    },\n    {\n      \"column\": \"sentiment\",\n      \"properties\": {\n        \"dtype\": \"category\",\n        \"num_unique_values\": 3,\n        \"samples\": [\n          \"Positive\"\n        ],\n        \"semantic_type\": \"\",\n        \"description\": \"\"\n      }\n    }\n  ]\n}"
            }
          },
          "metadata": {},
          "execution_count": 6
        }
      ]
    },
    {
      "cell_type": "markdown",
      "source": [
        "# **Project Task: Week 1 Class Imbalance Problem:**"
      ],
      "metadata": {
        "id": "RLUwQFbEGIgC"
      }
    },
    {
      "cell_type": "markdown",
      "source": [
        "## **1. Perform an EDA on the dataset.**"
      ],
      "metadata": {
        "id": "meMCtizoM59D"
      }
    },
    {
      "cell_type": "markdown",
      "source": [
        "### **a) See what a positive, negative, and neutral review looks like**"
      ],
      "metadata": {
        "id": "E26Frtw_PqYU"
      }
    },
    {
      "cell_type": "code",
      "source": [
        "train_data.info()"
      ],
      "metadata": {
        "colab": {
          "base_uri": "https://localhost:8080/"
        },
        "id": "R7shrYkJM5Gv",
        "outputId": "c200444f-e98a-49f7-de40-d5f2181e6983"
      },
      "execution_count": null,
      "outputs": [
        {
          "output_type": "stream",
          "name": "stdout",
          "text": [
            "<class 'pandas.core.frame.DataFrame'>\n",
            "RangeIndex: 4000 entries, 0 to 3999\n",
            "Data columns (total 8 columns):\n",
            " #   Column             Non-Null Count  Dtype \n",
            "---  ------             --------------  ----- \n",
            " 0   name               4000 non-null   object\n",
            " 1   brand              4000 non-null   object\n",
            " 2   categories         4000 non-null   object\n",
            " 3   primaryCategories  4000 non-null   object\n",
            " 4   reviews.date       4000 non-null   object\n",
            " 5   reviews.text       4000 non-null   object\n",
            " 6   reviews.title      3990 non-null   object\n",
            " 7   sentiment          4000 non-null   object\n",
            "dtypes: object(8)\n",
            "memory usage: 250.1+ KB\n"
          ]
        }
      ]
    },
    {
      "cell_type": "code",
      "source": [
        "test_data.info()"
      ],
      "metadata": {
        "colab": {
          "base_uri": "https://localhost:8080/"
        },
        "id": "pVQv8A_FP9aD",
        "outputId": "51a6644d-e4f5-4bdc-cf16-a82886259902"
      },
      "execution_count": null,
      "outputs": [
        {
          "output_type": "stream",
          "name": "stdout",
          "text": [
            "<class 'pandas.core.frame.DataFrame'>\n",
            "RangeIndex: 1000 entries, 0 to 999\n",
            "Data columns (total 7 columns):\n",
            " #   Column             Non-Null Count  Dtype \n",
            "---  ------             --------------  ----- \n",
            " 0   name               1000 non-null   object\n",
            " 1   brand              1000 non-null   object\n",
            " 2   categories         1000 non-null   object\n",
            " 3   primaryCategories  1000 non-null   object\n",
            " 4   reviews.date       1000 non-null   object\n",
            " 5   reviews.text       1000 non-null   object\n",
            " 6   reviews.title      997 non-null    object\n",
            "dtypes: object(7)\n",
            "memory usage: 54.8+ KB\n"
          ]
        }
      ]
    },
    {
      "cell_type": "code",
      "source": [
        "test_data_hidden.info()"
      ],
      "metadata": {
        "colab": {
          "base_uri": "https://localhost:8080/"
        },
        "id": "W4djFCB9QCay",
        "outputId": "1e0fdfd8-9ac9-4aaa-93bc-eaf8da511be0"
      },
      "execution_count": null,
      "outputs": [
        {
          "output_type": "stream",
          "name": "stdout",
          "text": [
            "<class 'pandas.core.frame.DataFrame'>\n",
            "RangeIndex: 1000 entries, 0 to 999\n",
            "Data columns (total 8 columns):\n",
            " #   Column             Non-Null Count  Dtype \n",
            "---  ------             --------------  ----- \n",
            " 0   name               1000 non-null   object\n",
            " 1   brand              1000 non-null   object\n",
            " 2   categories         1000 non-null   object\n",
            " 3   primaryCategories  1000 non-null   object\n",
            " 4   reviews.date       1000 non-null   object\n",
            " 5   reviews.text       1000 non-null   object\n",
            " 6   reviews.title      997 non-null    object\n",
            " 7   sentiment          1000 non-null   object\n",
            "dtypes: object(8)\n",
            "memory usage: 62.6+ KB\n"
          ]
        }
      ]
    },
    {
      "cell_type": "code",
      "source": [
        "train_data.shape,test_data.shape,test_data_hidden.shape"
      ],
      "metadata": {
        "colab": {
          "base_uri": "https://localhost:8080/"
        },
        "id": "XhNiX3P4QJW7",
        "outputId": "face83de-125b-4f7b-ac89-e3d4c4108fd2"
      },
      "execution_count": null,
      "outputs": [
        {
          "output_type": "execute_result",
          "data": {
            "text/plain": [
              "((4000, 8), (1000, 7), (1000, 8))"
            ]
          },
          "metadata": {},
          "execution_count": 10
        }
      ]
    },
    {
      "cell_type": "code",
      "source": [
        "train_data[\"sentiment\"].unique()"
      ],
      "metadata": {
        "colab": {
          "base_uri": "https://localhost:8080/"
        },
        "id": "8g2ZkoPSbxae",
        "outputId": "1dd9185f-50a1-4b8e-91dc-eb870c418bfb"
      },
      "execution_count": null,
      "outputs": [
        {
          "output_type": "execute_result",
          "data": {
            "text/plain": [
              "array(['Positive', 'Neutral', 'Negative'], dtype=object)"
            ]
          },
          "metadata": {},
          "execution_count": 11
        }
      ]
    },
    {
      "cell_type": "code",
      "source": [
        "test_data_hidden[\"sentiment\"].unique()"
      ],
      "metadata": {
        "colab": {
          "base_uri": "https://localhost:8080/"
        },
        "id": "mSkSU2T3cZbq",
        "outputId": "2357f549-7393-441c-a61b-20d7b6186570"
      },
      "execution_count": null,
      "outputs": [
        {
          "output_type": "execute_result",
          "data": {
            "text/plain": [
              "array(['Positive', 'Negative', 'Neutral'], dtype=object)"
            ]
          },
          "metadata": {},
          "execution_count": 12
        }
      ]
    },
    {
      "cell_type": "markdown",
      "source": [
        "### **b) Check the class count for each class. It’s a class imbalance problem.**"
      ],
      "metadata": {
        "id": "mX7O5ID9bkuG"
      }
    },
    {
      "cell_type": "code",
      "source": [
        "train_data['sentiment'].value_counts()"
      ],
      "metadata": {
        "colab": {
          "base_uri": "https://localhost:8080/"
        },
        "id": "pMmAOFX5QcHA",
        "outputId": "8ca080a3-8988-413c-8b84-9ff0151274fd"
      },
      "execution_count": null,
      "outputs": [
        {
          "output_type": "execute_result",
          "data": {
            "text/plain": [
              "sentiment\n",
              "Positive    3749\n",
              "Neutral      158\n",
              "Negative      93\n",
              "Name: count, dtype: int64"
            ]
          },
          "metadata": {},
          "execution_count": 13
        }
      ]
    },
    {
      "cell_type": "code",
      "source": [
        "train_data['sentiment'].value_counts(normalize=True).mul(100).round(2).astype(str) + \"%\""
      ],
      "metadata": {
        "colab": {
          "base_uri": "https://localhost:8080/"
        },
        "id": "Tu8rmSXVq4_l",
        "outputId": "8e210ebd-4592-4af1-b91c-296b620e3843"
      },
      "execution_count": null,
      "outputs": [
        {
          "output_type": "execute_result",
          "data": {
            "text/plain": [
              "sentiment\n",
              "Positive    93.72%\n",
              "Neutral      3.95%\n",
              "Negative     2.33%\n",
              "Name: proportion, dtype: object"
            ]
          },
          "metadata": {},
          "execution_count": 14
        }
      ]
    },
    {
      "cell_type": "code",
      "source": [
        "sb.countplot(data = train_data,x=train_data['sentiment'])"
      ],
      "metadata": {
        "colab": {
          "base_uri": "https://localhost:8080/",
          "height": 466
        },
        "id": "P5ajkWEEgkE2",
        "outputId": "04e013c6-5a48-4c6d-8b3e-abbda897b1b8"
      },
      "execution_count": null,
      "outputs": [
        {
          "output_type": "execute_result",
          "data": {
            "text/plain": [
              "<Axes: xlabel='sentiment', ylabel='count'>"
            ]
          },
          "metadata": {},
          "execution_count": 15
        },
        {
          "output_type": "display_data",
          "data": {
            "text/plain": [
              "<Figure size 640x480 with 1 Axes>"
            ],
            "image/png": "[encoded data removed]"
          },
          "metadata": {}
        }
      ]
    },
    {
      "cell_type": "code",
      "source": [
        "test_data_hidden['sentiment'].value_counts()"
      ],
      "metadata": {
        "colab": {
          "base_uri": "https://localhost:8080/"
        },
        "id": "J3OOBPoadAwO",
        "outputId": "97c219d3-44ec-4a14-d8be-b811c2635483"
      },
      "execution_count": null,
      "outputs": [
        {
          "output_type": "execute_result",
          "data": {
            "text/plain": [
              "sentiment\n",
              "Positive    937\n",
              "Neutral      39\n",
              "Negative     24\n",
              "Name: count, dtype: int64"
            ]
          },
          "metadata": {},
          "execution_count": 16
        }
      ]
    },
    {
      "cell_type": "code",
      "source": [
        "test_data_hidden['sentiment'].value_counts(normalize=True).mul(100).round(2).astype(str) + \"%\""
      ],
      "metadata": {
        "colab": {
          "base_uri": "https://localhost:8080/"
        },
        "id": "ekiJSAxMeBke",
        "outputId": "046c1e82-c234-4d8c-fa95-e04d0f3f72d3"
      },
      "execution_count": null,
      "outputs": [
        {
          "output_type": "execute_result",
          "data": {
            "text/plain": [
              "sentiment\n",
              "Positive    93.7%\n",
              "Neutral      3.9%\n",
              "Negative     2.4%\n",
              "Name: proportion, dtype: object"
            ]
          },
          "metadata": {},
          "execution_count": 17
        }
      ]
    },
    {
      "cell_type": "code",
      "source": [
        "sb.countplot(data = test_data_hidden,x=test_data_hidden['sentiment'])"
      ],
      "metadata": {
        "colab": {
          "base_uri": "https://localhost:8080/",
          "height": 466
        },
        "id": "ZATTftAFhGBS",
        "outputId": "0437ebdb-7d91-4c72-8ff4-74bf5c4b6a43"
      },
      "execution_count": null,
      "outputs": [
        {
          "output_type": "execute_result",
          "data": {
            "text/plain": [
              "<Axes: xlabel='sentiment', ylabel='count'>"
            ]
          },
          "metadata": {},
          "execution_count": 18
        },
        {
          "output_type": "display_data",
          "data": {
            "text/plain": [
              "<Figure size 640x480 with 1 Axes>"
            ],
            "image/png": "[encoded data removed]"
          },
          "metadata": {}
        }
      ]
    },
    {
      "cell_type": "markdown",
      "source": [
        "## **2. Convert the reviews in Tf-Idf score.**"
      ],
      "metadata": {
        "id": "6B4kMI7_BqG8"
      }
    },
    {
      "cell_type": "markdown",
      "source": [
        "To find TF-IDF score, The following steps needs to be done\n",
        "* Extracting required features from Training set\n",
        "* Preprocess the extracted data by\n",
        " * converting the content into lower case\n",
        " * Tokenizing the document(Spliting the sentence into words)\n",
        " * Remove Stopwords, punctuation\n",
        " * Lemmetizing each words\n",
        "* Create Bag of Words using CountVectorizer\n",
        "* Convert the Bag of words to TF-IDF score using TfidfTransformer"
      ],
      "metadata": {
        "id": "RvpZv8tcVKWB"
      }
    },
    {
      "cell_type": "markdown",
      "source": [
        "**Extracting required features from Training set for preprocessing**"
      ],
      "metadata": {
        "id": "TJeJJMDMBg19"
      }
    },
    {
      "cell_type": "code",
      "source": [
        "train = train_data[[\"sentiment\",\"reviews.text\"]]"
      ],
      "metadata": {
        "id": "2yN6webW6FEE"
      },
      "execution_count": null,
      "outputs": []
    },
    {
      "cell_type": "code",
      "source": [
        "train.head(5)"
      ],
      "metadata": {
        "colab": {
          "base_uri": "https://localhost:8080/",
          "height": 206
        },
        "id": "a7qox1dtA3CY",
        "outputId": "5f46bc2e-b8dd-4ce2-a248-1e514179a580"
      },
      "execution_count": null,
      "outputs": [
        {
          "output_type": "execute_result",
          "data": {
            "text/plain": [
              "  sentiment                                       reviews.text\n",
              "0  Positive  Purchased on Black FridayPros - Great Price (e...\n",
              "1  Positive  I purchased two Amazon in Echo Plus and two do...\n",
              "2   Neutral  Just an average Alexa option. Does show a few ...\n",
              "3  Positive  very good product. Exactly what I wanted, and ...\n",
              "4  Positive  This is the 3rd one I've purchased. I've bough..."
            ],
            "text/html": [
              "\n",
              "  <div id=\"df-a3b30fcb-0110-499d-8769-6225d4054928\" class=\"colab-df-container\">\n",
              "    <div>\n",
              "<style scoped>\n",
              "    .dataframe tbody tr th:only-of-type {\n",
              "        vertical-align: middle;\n",
              "    }\n",
              "\n",
              "    .dataframe tbody tr th {\n",
              "        vertical-align: top;\n",
              "    }\n",
              "\n",
              "    .dataframe thead th {\n",
              "        text-align: right;\n",
              "    }\n",
              "</style>\n",
              "<table border=\"1\" class=\"dataframe\">\n",
              "  <thead>\n",
              "    <tr style=\"text-align: right;\">\n",
              "      <th></th>\n",
              "      <th>sentiment</th>\n",
              "      <th>reviews.text</th>\n",
              "    </tr>\n",
              "  </thead>\n",
              "  <tbody>\n",
              "    <tr>\n",
              "      <th>0</th>\n",
              "      <td>Positive</td>\n",
              "      <td>Purchased on Black FridayPros - Great Price (e...</td>\n",
              "    </tr>\n",
              "    <tr>\n",
              "      <th>1</th>\n",
              "      <td>Positive</td>\n",
              "      <td>I purchased two Amazon in Echo Plus and two do...</td>\n",
              "    </tr>\n",
              "    <tr>\n",
              "      <th>2</th>\n",
              "      <td>Neutral</td>\n",
              "      <td>Just an average Alexa option. Does show a few ...</td>\n",
              "    </tr>\n",
              "    <tr>\n",
              "      <th>3</th>\n",
              "      <td>Positive</td>\n",
              "      <td>very good product. Exactly what I wanted, and ...</td>\n",
              "    </tr>\n",
              "    <tr>\n",
              "      <th>4</th>\n",
              "      <td>Positive</td>\n",
              "      <td>This is the 3rd one I've purchased. I've bough...</td>\n",
              "    </tr>\n",
              "  </tbody>\n",
              "</table>\n",
              "</div>\n",
              "    <div class=\"colab-df-buttons\">\n",
              "\n",
              "  <div class=\"colab-df-container\">\n",
              "    <button class=\"colab-df-convert\" onclick=\"convertToInteractive('df-a3b30fcb-0110-499d-8769-6225d4054928')\"\n",
              "            title=\"Convert this dataframe to an interactive table.\"\n",
              "            style=\"display:none;\">\n",
              "\n",
              "  <svg xmlns=\"http://www.w3.org/2000/svg\" height=\"24px\" viewBox=\"0 -960 960 960\">\n",
              "    <path d=\"M120-120v-720h720v720H120Zm60-500h600v-160H180v160Zm220 220h160v-160H400v160Zm0 220h160v-160H400v160ZM180-400h160v-160H180v160Zm440 0h160v-160H620v160ZM180-180h160v-160H180v160Zm440 0h160v-160H620v160Z\"/>\n",
              "  </svg>\n",
              "    </button>\n",
              "\n",
              "  <style>\n",
              "    .colab-df-container {\n",
              "      display:flex;\n",
              "      gap: 12px;\n",
              "    }\n",
              "\n",
              "    .colab-df-convert {\n",
              "      background-color: #E8F0FE;\n",
              "      border: none;\n",
              "      border-radius: 50%;\n",
              "      cursor: pointer;\n",
              "      display: none;\n",
              "      fill: #1967D2;\n",
              "      height: 32px;\n",
              "      padding: 0 0 0 0;\n",
              "      width: 32px;\n",
              "    }\n",
              "\n",
              "    .colab-df-convert:hover {\n",
              "      background-color: #E2EBFA;\n",
              "      box-shadow: 0px 1px 2px rgba(60, 64, 67, 0.3), 0px 1px 3px 1px rgba(60, 64, 67, 0.15);\n",
              "      fill: #174EA6;\n",
              "    }\n",
              "\n",
              "    .colab-df-buttons div {\n",
              "      margin-bottom: 4px;\n",
              "    }\n",
              "\n",
              "    [theme=dark] .colab-df-convert {\n",
              "      background-color: #3B4455;\n",
              "      fill: #D2E3FC;\n",
              "    }\n",
              "\n",
              "    [theme=dark] .colab-df-convert:hover {\n",
              "      background-color: #434B5C;\n",
              "      box-shadow: 0px 1px 3px 1px rgba(0, 0, 0, 0.15);\n",
              "      filter: drop-shadow(0px 1px 2px rgba(0, 0, 0, 0.3));\n",
              "      fill: #FFFFFF;\n",
              "    }\n",
              "  </style>\n",
              "\n",
              "    <script>\n",
              "      const buttonEl =\n",
              "        document.querySelector('#df-a3b30fcb-0110-499d-8769-6225d4054928 button.colab-df-convert');\n",
              "      buttonEl.style.display =\n",
              "        google.colab.kernel.accessAllowed ? 'block' : 'none';\n",
              "\n",
              "      async function convertToInteractive(key) {\n",
              "        const element = document.querySelector('#df-a3b30fcb-0110-499d-8769-6225d4054928');\n",
              "        const dataTable =\n",
              "          await google.colab.kernel.invokeFunction('convertToInteractive',\n",
              "                                                    [key], {});\n",
              "        if (!dataTable) return;\n",
              "\n",
              "        const docLinkHtml = 'Like what you see? Visit the ' +\n",
              "          '<a target=\"_blank\" href=https://colab.research.google.com/notebooks/data_table.ipynb>data table notebook</a>'\n",
              "          + ' to learn more about interactive tables.';\n",
              "        element.innerHTML = '';\n",
              "        dataTable['output_type'] = 'display_data';\n",
              "        await google.colab.output.renderOutput(dataTable, element);\n",
              "        const docLink = document.createElement('div');\n",
              "        docLink.innerHTML = docLinkHtml;\n",
              "        element.appendChild(docLink);\n",
              "      }\n",
              "    </script>\n",
              "  </div>\n",
              "\n",
              "\n",
              "<div id=\"df-f8b621e8-c43a-4b18-a738-ebe17eb4f4d5\">\n",
              "  <button class=\"colab-df-quickchart\" onclick=\"quickchart('df-f8b621e8-c43a-4b18-a738-ebe17eb4f4d5')\"\n",
              "            title=\"Suggest charts\"\n",
              "            style=\"display:none;\">\n",
              "\n",
              "<svg xmlns=\"http://www.w3.org/2000/svg\" height=\"24px\"viewBox=\"0 0 24 24\"\n",
              "     width=\"24px\">\n",
              "    <g>\n",
              "        <path d=\"M19 3H5c-1.1 0-2 .9-2 2v14c0 1.1.9 2 2 2h14c1.1 0 2-.9 2-2V5c0-1.1-.9-2-2-2zM9 17H7v-7h2v7zm4 0h-2V7h2v10zm4 0h-2v-4h2v4z\"/>\n",
              "    </g>\n",
              "</svg>\n",
              "  </button>\n",
              "\n",
              "<style>\n",
              "  .colab-df-quickchart {\n",
              "      --bg-color: #E8F0FE;\n",
              "      --fill-color: #1967D2;\n",
              "      --hover-bg-color: #E2EBFA;\n",
              "      --hover-fill-color: #174EA6;\n",
              "      --disabled-fill-color: #AAA;\n",
              "      --disabled-bg-color: #DDD;\n",
              "  }\n",
              "\n",
              "  [theme=dark] .colab-df-quickchart {\n",
              "      --bg-color: #3B4455;\n",
              "      --fill-color: #D2E3FC;\n",
              "      --hover-bg-color: #434B5C;\n",
              "      --hover-fill-color: #FFFFFF;\n",
              "      --disabled-bg-color: #3B4455;\n",
              "      --disabled-fill-color: #666;\n",
              "  }\n",
              "\n",
              "  .colab-df-quickchart {\n",
              "    background-color: var(--bg-color);\n",
              "    border: none;\n",
              "    border-radius: 50%;\n",
              "    cursor: pointer;\n",
              "    display: none;\n",
              "    fill: var(--fill-color);\n",
              "    height: 32px;\n",
              "    padding: 0;\n",
              "    width: 32px;\n",
              "  }\n",
              "\n",
              "  .colab-df-quickchart:hover {\n",
              "    background-color: var(--hover-bg-color);\n",
              "    box-shadow: 0 1px 2px rgba(60, 64, 67, 0.3), 0 1px 3px 1px rgba(60, 64, 67, 0.15);\n",
              "    fill: var(--button-hover-fill-color);\n",
              "  }\n",
              "\n",
              "  .colab-df-quickchart-complete:disabled,\n",
              "  .colab-df-quickchart-complete:disabled:hover {\n",
              "    background-color: var(--disabled-bg-color);\n",
              "    fill: var(--disabled-fill-color);\n",
              "    box-shadow: none;\n",
              "  }\n",
              "\n",
              "  .colab-df-spinner {\n",
              "    border: 2px solid var(--fill-color);\n",
              "    border-color: transparent;\n",
              "    border-bottom-color: var(--fill-color);\n",
              "    animation:\n",
              "      spin 1s steps(1) infinite;\n",
              "  }\n",
              "\n",
              "  @keyframes spin {\n",
              "    0% {\n",
              "      border-color: transparent;\n",
              "      border-bottom-color: var(--fill-color);\n",
              "      border-left-color: var(--fill-color);\n",
              "    }\n",
              "    20% {\n",
              "      border-color: transparent;\n",
              "      border-left-color: var(--fill-color);\n",
              "      border-top-color: var(--fill-color);\n",
              "    }\n",
              "    30% {\n",
              "      border-color: transparent;\n",
              "      border-left-color: var(--fill-color);\n",
              "      border-top-color: var(--fill-color);\n",
              "      border-right-color: var(--fill-color);\n",
              "    }\n",
              "    40% {\n",
              "      border-color: transparent;\n",
              "      border-right-color: var(--fill-color);\n",
              "      border-top-color: var(--fill-color);\n",
              "    }\n",
              "    60% {\n",
              "      border-color: transparent;\n",
              "      border-right-color: var(--fill-color);\n",
              "    }\n",
              "    80% {\n",
              "      border-color: transparent;\n",
              "      border-right-color: var(--fill-color);\n",
              "      border-bottom-color: var(--fill-color);\n",
              "    }\n",
              "    90% {\n",
              "      border-color: transparent;\n",
              "      border-bottom-color: var(--fill-color);\n",
              "    }\n",
              "  }\n",
              "</style>\n",
              "\n",
              "  <script>\n",
              "    async function quickchart(key) {\n",
              "      const quickchartButtonEl =\n",
              "        document.querySelector('#' + key + ' button');\n",
              "      quickchartButtonEl.disabled = true;  // To prevent multiple clicks.\n",
              "      quickchartButtonEl.classList.add('colab-df-spinner');\n",
              "      try {\n",
              "        const charts = await google.colab.kernel.invokeFunction(\n",
              "            'suggestCharts', [key], {});\n",
              "      } catch (error) {\n",
              "        console.error('Error during call to suggestCharts:', error);\n",
              "      }\n",
              "      quickchartButtonEl.classList.remove('colab-df-spinner');\n",
              "      quickchartButtonEl.classList.add('colab-df-quickchart-complete');\n",
              "    }\n",
              "    (() => {\n",
              "      let quickchartButtonEl =\n",
              "        document.querySelector('#df-f8b621e8-c43a-4b18-a738-ebe17eb4f4d5 button');\n",
              "      quickchartButtonEl.style.display =\n",
              "        google.colab.kernel.accessAllowed ? 'block' : 'none';\n",
              "    })();\n",
              "  </script>\n",
              "</div>\n",
              "\n",
              "    </div>\n",
              "  </div>\n"
            ],
            "application/vnd.google.colaboratory.intrinsic+json": {
              "type": "dataframe",
              "variable_name": "train",
              "summary": "{\n  \"name\": \"train\",\n  \"rows\": 4000,\n  \"fields\": [\n    {\n      \"column\": \"sentiment\",\n      \"properties\": {\n        \"dtype\": \"category\",\n        \"num_unique_values\": 3,\n        \"samples\": [\n          \"Positive\",\n          \"Neutral\",\n          \"Negative\"\n        ],\n        \"semantic_type\": \"\",\n        \"description\": \"\"\n      }\n    },\n    {\n      \"column\": \"reviews.text\",\n      \"properties\": {\n        \"dtype\": \"string\",\n        \"num_unique_values\": 3598,\n        \"samples\": [\n          \"We bought this for our toddlers, and so far seems to hold up well with them. Some quirky rules with Amazon and accounts with product, but overall good for what we need.\",\n          \"My new Echo Plus exceeds my expectations. The speaker's sound is just what I wanted and the included Hue bulb is great.\",\n          \"This is just the right size and can put games on it just like an iPad.\"\n        ],\n        \"semantic_type\": \"\",\n        \"description\": \"\"\n      }\n    }\n  ]\n}"
            }
          },
          "metadata": {},
          "execution_count": 20
        }
      ]
    },
    {
      "cell_type": "code",
      "source": [
        "train.shape"
      ],
      "metadata": {
        "colab": {
          "base_uri": "https://localhost:8080/"
        },
        "id": "JTP4mVBnBRYZ",
        "outputId": "e47cdc3c-6f8e-406a-88bc-901e270a1232"
      },
      "execution_count": null,
      "outputs": [
        {
          "output_type": "execute_result",
          "data": {
            "text/plain": [
              "(4000, 2)"
            ]
          },
          "metadata": {},
          "execution_count": 21
        }
      ]
    },
    {
      "cell_type": "code",
      "source": [
        "test_hidden= test_data_hidden[[\"sentiment\",\"reviews.text\"]]"
      ],
      "metadata": {
        "id": "B1scSNkceCHB"
      },
      "execution_count": null,
      "outputs": []
    },
    {
      "cell_type": "code",
      "source": [
        "test_hidden.shape"
      ],
      "metadata": {
        "colab": {
          "base_uri": "https://localhost:8080/"
        },
        "id": "-8A6dm0Cf5Ah",
        "outputId": "1444677e-d79a-4f1d-8241-1b7c0aa5a2b8"
      },
      "execution_count": null,
      "outputs": [
        {
          "output_type": "execute_result",
          "data": {
            "text/plain": [
              "(1000, 2)"
            ]
          },
          "metadata": {},
          "execution_count": 23
        }
      ]
    },
    {
      "cell_type": "markdown",
      "source": [
        "**Initializing Classes:**"
      ],
      "metadata": {
        "id": "OjG9Wm2y202J"
      }
    },
    {
      "cell_type": "code",
      "source": [
        "wordnet_lemmatizer = WordNetLemmatizer()\n",
        "tokenizer = RegexpTokenizer(r'[a-z]+')\n",
        "stop_words = set(stopwords.words('english'))"
      ],
      "metadata": {
        "id": "foj5k5w224P6"
      },
      "execution_count": null,
      "outputs": []
    },
    {
      "cell_type": "markdown",
      "source": [
        "Preprocess function performs text cleaning and normalization.\n",
        "* **Lowercasing:** Converts the entire document text (document) to lowercase.\n",
        "* **Tokenization:** Breaks down the text into individual words.\n",
        "* **Stopword Removal:** Removes stop words from the tokenized list (words).\n",
        "* **Lemmatization:** Reduce a word to its base or root form.\n",
        "* **Joining Words:** Joins the processed words (after stop word removal, lemmatization) back into a single string separated by spaces."
      ],
      "metadata": {
        "id": "t80BzZuK5TEf"
      }
    },
    {
      "cell_type": "code",
      "source": [
        "def preprocess(document):\n",
        "    document = document.lower()                                           # Convert to lowercase\n",
        "    words = tokenizer.tokenize(document)                                  # Tokenize\n",
        "    words = [w for w in words if not w in stop_words]                     # Removing stopwords\n",
        "    # Lemmatizing\n",
        "    for pos in [wordnet.NOUN, wordnet.VERB, wordnet.ADJ, wordnet.ADV]:\n",
        "        words = [wordnet_lemmatizer.lemmatize(x, pos) for x in words]\n",
        "    return \" \".join(words)\n",
        "\n",
        "print(\"Setup Complete\")"
      ],
      "metadata": {
        "colab": {
          "base_uri": "https://localhost:8080/"
        },
        "id": "mPPf0Ra75xYI",
        "outputId": "3655eaf5-8f42-452e-8b17-e087f59f6efb"
      },
      "execution_count": null,
      "outputs": [
        {
          "output_type": "stream",
          "name": "stdout",
          "text": [
            "Setup Complete\n"
          ]
        }
      ]
    },
    {
      "cell_type": "code",
      "source": [
        "#Creating new column 'Processed_Review' in the train dataframe\n",
        "train['Processed_Review'] = train['reviews.text'].apply(preprocess)\n",
        "train.head(3)"
      ],
      "metadata": {
        "colab": {
          "base_uri": "https://localhost:8080/",
          "height": 247
        },
        "id": "DHD-8SK8sUpu",
        "outputId": "7e6ea334-dbcc-49bc-f5d0-3033aca51ead"
      },
      "execution_count": null,
      "outputs": [
        {
          "output_type": "stream",
          "name": "stderr",
          "text": [
            "<ipython-input-26-af5f52237a55>:2: SettingWithCopyWarning: \n",
            "A value is trying to be set on a copy of a slice from a DataFrame.\n",
            "Try using .loc[row_indexer,col_indexer] = value instead\n",
            "\n",
            "See the caveats in the documentation: https://pandas.pydata.org/pandas-docs/stable/user_guide/indexing.html#returning-a-view-versus-a-copy\n",
            "  train['Processed_Review'] = train['reviews.text'].apply(preprocess)\n"
          ]
        },
        {
          "output_type": "execute_result",
          "data": {
            "text/plain": [
              "  sentiment                                       reviews.text  \\\n",
              "0  Positive  Purchased on Black FridayPros - Great Price (e...   \n",
              "1  Positive  I purchased two Amazon in Echo Plus and two do...   \n",
              "2   Neutral  Just an average Alexa option. Does show a few ...   \n",
              "\n",
              "                                    Processed_Review  \n",
              "0  purchase black fridaypros great price even sal...  \n",
              "1  purchase two amazon echo plus two dot plus fou...  \n",
              "2  average alexa option show thing screen still l...  "
            ],
            "text/html": [
              "\n",
              "  <div id=\"df-b79018d9-c9ee-482e-9ca6-47bcc0614b4d\" class=\"colab-df-container\">\n",
              "    <div>\n",
              "<style scoped>\n",
              "    .dataframe tbody tr th:only-of-type {\n",
              "        vertical-align: middle;\n",
              "    }\n",
              "\n",
              "    .dataframe tbody tr th {\n",
              "        vertical-align: top;\n",
              "    }\n",
              "\n",
              "    .dataframe thead th {\n",
              "        text-align: right;\n",
              "    }\n",
              "</style>\n",
              "<table border=\"1\" class=\"dataframe\">\n",
              "  <thead>\n",
              "    <tr style=\"text-align: right;\">\n",
              "      <th></th>\n",
              "      <th>sentiment</th>\n",
              "      <th>reviews.text</th>\n",
              "      <th>Processed_Review</th>\n",
              "    </tr>\n",
              "  </thead>\n",
              "  <tbody>\n",
              "    <tr>\n",
              "      <th>0</th>\n",
              "      <td>Positive</td>\n",
              "      <td>Purchased on Black FridayPros - Great Price (e...</td>\n",
              "      <td>purchase black fridaypros great price even sal...</td>\n",
              "    </tr>\n",
              "    <tr>\n",
              "      <th>1</th>\n",
              "      <td>Positive</td>\n",
              "      <td>I purchased two Amazon in Echo Plus and two do...</td>\n",
              "      <td>purchase two amazon echo plus two dot plus fou...</td>\n",
              "    </tr>\n",
              "    <tr>\n",
              "      <th>2</th>\n",
              "      <td>Neutral</td>\n",
              "      <td>Just an average Alexa option. Does show a few ...</td>\n",
              "      <td>average alexa option show thing screen still l...</td>\n",
              "    </tr>\n",
              "  </tbody>\n",
              "</table>\n",
              "</div>\n",
              "    <div class=\"colab-df-buttons\">\n",
              "\n",
              "  <div class=\"colab-df-container\">\n",
              "    <button class=\"colab-df-convert\" onclick=\"convertToInteractive('df-b79018d9-c9ee-482e-9ca6-47bcc0614b4d')\"\n",
              "            title=\"Convert this dataframe to an interactive table.\"\n",
              "            style=\"display:none;\">\n",
              "\n",
              "  <svg xmlns=\"http://www.w3.org/2000/svg\" height=\"24px\" viewBox=\"0 -960 960 960\">\n",
              "    <path d=\"M120-120v-720h720v720H120Zm60-500h600v-160H180v160Zm220 220h160v-160H400v160Zm0 220h160v-160H400v160ZM180-400h160v-160H180v160Zm440 0h160v-160H620v160ZM180-180h160v-160H180v160Zm440 0h160v-160H620v160Z\"/>\n",
              "  </svg>\n",
              "    </button>\n",
              "\n",
              "  <style>\n",
              "    .colab-df-container {\n",
              "      display:flex;\n",
              "      gap: 12px;\n",
              "    }\n",
              "\n",
              "    .colab-df-convert {\n",
              "      background-color: #E8F0FE;\n",
              "      border: none;\n",
              "      border-radius: 50%;\n",
              "      cursor: pointer;\n",
              "      display: none;\n",
              "      fill: #1967D2;\n",
              "      height: 32px;\n",
              "      padding: 0 0 0 0;\n",
              "      width: 32px;\n",
              "    }\n",
              "\n",
              "    .colab-df-convert:hover {\n",
              "      background-color: #E2EBFA;\n",
              "      box-shadow: 0px 1px 2px rgba(60, 64, 67, 0.3), 0px 1px 3px 1px rgba(60, 64, 67, 0.15);\n",
              "      fill: #174EA6;\n",
              "    }\n",
              "\n",
              "    .colab-df-buttons div {\n",
              "      margin-bottom: 4px;\n",
              "    }\n",
              "\n",
              "    [theme=dark] .colab-df-convert {\n",
              "      background-color: #3B4455;\n",
              "      fill: #D2E3FC;\n",
              "    }\n",
              "\n",
              "    [theme=dark] .colab-df-convert:hover {\n",
              "      background-color: #434B5C;\n",
              "      box-shadow: 0px 1px 3px 1px rgba(0, 0, 0, 0.15);\n",
              "      filter: drop-shadow(0px 1px 2px rgba(0, 0, 0, 0.3));\n",
              "      fill: #FFFFFF;\n",
              "    }\n",
              "  </style>\n",
              "\n",
              "    <script>\n",
              "      const buttonEl =\n",
              "        document.querySelector('#df-b79018d9-c9ee-482e-9ca6-47bcc0614b4d button.colab-df-convert');\n",
              "      buttonEl.style.display =\n",
              "        google.colab.kernel.accessAllowed ? 'block' : 'none';\n",
              "\n",
              "      async function convertToInteractive(key) {\n",
              "        const element = document.querySelector('#df-b79018d9-c9ee-482e-9ca6-47bcc0614b4d');\n",
              "        const dataTable =\n",
              "          await google.colab.kernel.invokeFunction('convertToInteractive',\n",
              "                                                    [key], {});\n",
              "        if (!dataTable) return;\n",
              "\n",
              "        const docLinkHtml = 'Like what you see? Visit the ' +\n",
              "          '<a target=\"_blank\" href=https://colab.research.google.com/notebooks/data_table.ipynb>data table notebook</a>'\n",
              "          + ' to learn more about interactive tables.';\n",
              "        element.innerHTML = '';\n",
              "        dataTable['output_type'] = 'display_data';\n",
              "        await google.colab.output.renderOutput(dataTable, element);\n",
              "        const docLink = document.createElement('div');\n",
              "        docLink.innerHTML = docLinkHtml;\n",
              "        element.appendChild(docLink);\n",
              "      }\n",
              "    </script>\n",
              "  </div>\n",
              "\n",
              "\n",
              "<div id=\"df-99b3f631-b206-4323-add6-3c1e1be653b8\">\n",
              "  <button class=\"colab-df-quickchart\" onclick=\"quickchart('df-99b3f631-b206-4323-add6-3c1e1be653b8')\"\n",
              "            title=\"Suggest charts\"\n",
              "            style=\"display:none;\">\n",
              "\n",
              "<svg xmlns=\"http://www.w3.org/2000/svg\" height=\"24px\"viewBox=\"0 0 24 24\"\n",
              "     width=\"24px\">\n",
              "    <g>\n",
              "        <path d=\"M19 3H5c-1.1 0-2 .9-2 2v14c0 1.1.9 2 2 2h14c1.1 0 2-.9 2-2V5c0-1.1-.9-2-2-2zM9 17H7v-7h2v7zm4 0h-2V7h2v10zm4 0h-2v-4h2v4z\"/>\n",
              "    </g>\n",
              "</svg>\n",
              "  </button>\n",
              "\n",
              "<style>\n",
              "  .colab-df-quickchart {\n",
              "      --bg-color: #E8F0FE;\n",
              "      --fill-color: #1967D2;\n",
              "      --hover-bg-color: #E2EBFA;\n",
              "      --hover-fill-color: #174EA6;\n",
              "      --disabled-fill-color: #AAA;\n",
              "      --disabled-bg-color: #DDD;\n",
              "  }\n",
              "\n",
              "  [theme=dark] .colab-df-quickchart {\n",
              "      --bg-color: #3B4455;\n",
              "      --fill-color: #D2E3FC;\n",
              "      --hover-bg-color: #434B5C;\n",
              "      --hover-fill-color: #FFFFFF;\n",
              "      --disabled-bg-color: #3B4455;\n",
              "      --disabled-fill-color: #666;\n",
              "  }\n",
              "\n",
              "  .colab-df-quickchart {\n",
              "    background-color: var(--bg-color);\n",
              "    border: none;\n",
              "    border-radius: 50%;\n",
              "    cursor: pointer;\n",
              "    display: none;\n",
              "    fill: var(--fill-color);\n",
              "    height: 32px;\n",
              "    padding: 0;\n",
              "    width: 32px;\n",
              "  }\n",
              "\n",
              "  .colab-df-quickchart:hover {\n",
              "    background-color: var(--hover-bg-color);\n",
              "    box-shadow: 0 1px 2px rgba(60, 64, 67, 0.3), 0 1px 3px 1px rgba(60, 64, 67, 0.15);\n",
              "    fill: var(--button-hover-fill-color);\n",
              "  }\n",
              "\n",
              "  .colab-df-quickchart-complete:disabled,\n",
              "  .colab-df-quickchart-complete:disabled:hover {\n",
              "    background-color: var(--disabled-bg-color);\n",
              "    fill: var(--disabled-fill-color);\n",
              "    box-shadow: none;\n",
              "  }\n",
              "\n",
              "  .colab-df-spinner {\n",
              "    border: 2px solid var(--fill-color);\n",
              "    border-color: transparent;\n",
              "    border-bottom-color: var(--fill-color);\n",
              "    animation:\n",
              "      spin 1s steps(1) infinite;\n",
              "  }\n",
              "\n",
              "  @keyframes spin {\n",
              "    0% {\n",
              "      border-color: transparent;\n",
              "      border-bottom-color: var(--fill-color);\n",
              "      border-left-color: var(--fill-color);\n",
              "    }\n",
              "    20% {\n",
              "      border-color: transparent;\n",
              "      border-left-color: var(--fill-color);\n",
              "      border-top-color: var(--fill-color);\n",
              "    }\n",
              "    30% {\n",
              "      border-color: transparent;\n",
              "      border-left-color: var(--fill-color);\n",
              "      border-top-color: var(--fill-color);\n",
              "      border-right-color: var(--fill-color);\n",
              "    }\n",
              "    40% {\n",
              "      border-color: transparent;\n",
              "      border-right-color: var(--fill-color);\n",
              "      border-top-color: var(--fill-color);\n",
              "    }\n",
              "    60% {\n",
              "      border-color: transparent;\n",
              "      border-right-color: var(--fill-color);\n",
              "    }\n",
              "    80% {\n",
              "      border-color: transparent;\n",
              "      border-right-color: var(--fill-color);\n",
              "      border-bottom-color: var(--fill-color);\n",
              "    }\n",
              "    90% {\n",
              "      border-color: transparent;\n",
              "      border-bottom-color: var(--fill-color);\n",
              "    }\n",
              "  }\n",
              "</style>\n",
              "\n",
              "  <script>\n",
              "    async function quickchart(key) {\n",
              "      const quickchartButtonEl =\n",
              "        document.querySelector('#' + key + ' button');\n",
              "      quickchartButtonEl.disabled = true;  // To prevent multiple clicks.\n",
              "      quickchartButtonEl.classList.add('colab-df-spinner');\n",
              "      try {\n",
              "        const charts = await google.colab.kernel.invokeFunction(\n",
              "            'suggestCharts', [key], {});\n",
              "      } catch (error) {\n",
              "        console.error('Error during call to suggestCharts:', error);\n",
              "      }\n",
              "      quickchartButtonEl.classList.remove('colab-df-spinner');\n",
              "      quickchartButtonEl.classList.add('colab-df-quickchart-complete');\n",
              "    }\n",
              "    (() => {\n",
              "      let quickchartButtonEl =\n",
              "        document.querySelector('#df-99b3f631-b206-4323-add6-3c1e1be653b8 button');\n",
              "      quickchartButtonEl.style.display =\n",
              "        google.colab.kernel.accessAllowed ? 'block' : 'none';\n",
              "    })();\n",
              "  </script>\n",
              "</div>\n",
              "\n",
              "    </div>\n",
              "  </div>\n"
            ],
            "application/vnd.google.colaboratory.intrinsic+json": {
              "type": "dataframe",
              "variable_name": "train",
              "summary": "{\n  \"name\": \"train\",\n  \"rows\": 4000,\n  \"fields\": [\n    {\n      \"column\": \"sentiment\",\n      \"properties\": {\n        \"dtype\": \"category\",\n        \"num_unique_values\": 3,\n        \"samples\": [\n          \"Positive\",\n          \"Neutral\",\n          \"Negative\"\n        ],\n        \"semantic_type\": \"\",\n        \"description\": \"\"\n      }\n    },\n    {\n      \"column\": \"reviews.text\",\n      \"properties\": {\n        \"dtype\": \"string\",\n        \"num_unique_values\": 3598,\n        \"samples\": [\n          \"We bought this for our toddlers, and so far seems to hold up well with them. Some quirky rules with Amazon and accounts with product, but overall good for what we need.\",\n          \"My new Echo Plus exceeds my expectations. The speaker's sound is just what I wanted and the included Hue bulb is great.\",\n          \"This is just the right size and can put games on it just like an iPad.\"\n        ],\n        \"semantic_type\": \"\",\n        \"description\": \"\"\n      }\n    },\n    {\n      \"column\": \"Processed_Review\",\n      \"properties\": {\n        \"dtype\": \"string\",\n        \"num_unique_values\": 3595,\n        \"samples\": [\n          \"difficult understand instruction still work\",\n          \"awesome gift someone special enjoy much mine would recommend product\",\n          \"first tablet purchase kid love\"\n        ],\n        \"semantic_type\": \"\",\n        \"description\": \"\"\n      }\n    }\n  ]\n}"
            }
          },
          "metadata": {},
          "execution_count": 26
        }
      ]
    },
    {
      "cell_type": "code",
      "source": [
        "#Creating a new dataframe for processed review\n",
        "train_processed = train [[\"sentiment\",\"Processed_Review\"]]\n",
        "train_processed.head(3)"
      ],
      "metadata": {
        "colab": {
          "base_uri": "https://localhost:8080/",
          "height": 143
        },
        "id": "d3Sfz2wXsXlf",
        "outputId": "2c2f168c-985a-49fd-f2c2-5096472f26da"
      },
      "execution_count": null,
      "outputs": [
        {
          "output_type": "execute_result",
          "data": {
            "text/plain": [
              "  sentiment                                   Processed_Review\n",
              "0  Positive  purchase black fridaypros great price even sal...\n",
              "1  Positive  purchase two amazon echo plus two dot plus fou...\n",
              "2   Neutral  average alexa option show thing screen still l..."
            ],
            "text/html": [
              "\n",
              "  <div id=\"df-8a1bcd37-0e46-4a36-975c-7fffc1016593\" class=\"colab-df-container\">\n",
              "    <div>\n",
              "<style scoped>\n",
              "    .dataframe tbody tr th:only-of-type {\n",
              "        vertical-align: middle;\n",
              "    }\n",
              "\n",
              "    .dataframe tbody tr th {\n",
              "        vertical-align: top;\n",
              "    }\n",
              "\n",
              "    .dataframe thead th {\n",
              "        text-align: right;\n",
              "    }\n",
              "</style>\n",
              "<table border=\"1\" class=\"dataframe\">\n",
              "  <thead>\n",
              "    <tr style=\"text-align: right;\">\n",
              "      <th></th>\n",
              "      <th>sentiment</th>\n",
              "      <th>Processed_Review</th>\n",
              "    </tr>\n",
              "  </thead>\n",
              "  <tbody>\n",
              "    <tr>\n",
              "      <th>0</th>\n",
              "      <td>Positive</td>\n",
              "      <td>purchase black fridaypros great price even sal...</td>\n",
              "    </tr>\n",
              "    <tr>\n",
              "      <th>1</th>\n",
              "      <td>Positive</td>\n",
              "      <td>purchase two amazon echo plus two dot plus fou...</td>\n",
              "    </tr>\n",
              "    <tr>\n",
              "      <th>2</th>\n",
              "      <td>Neutral</td>\n",
              "      <td>average alexa option show thing screen still l...</td>\n",
              "    </tr>\n",
              "  </tbody>\n",
              "</table>\n",
              "</div>\n",
              "    <div class=\"colab-df-buttons\">\n",
              "\n",
              "  <div class=\"colab-df-container\">\n",
              "    <button class=\"colab-df-convert\" onclick=\"convertToInteractive('df-8a1bcd37-0e46-4a36-975c-7fffc1016593')\"\n",
              "            title=\"Convert this dataframe to an interactive table.\"\n",
              "            style=\"display:none;\">\n",
              "\n",
              "  <svg xmlns=\"http://www.w3.org/2000/svg\" height=\"24px\" viewBox=\"0 -960 960 960\">\n",
              "    <path d=\"M120-120v-720h720v720H120Zm60-500h600v-160H180v160Zm220 220h160v-160H400v160Zm0 220h160v-160H400v160ZM180-400h160v-160H180v160Zm440 0h160v-160H620v160ZM180-180h160v-160H180v160Zm440 0h160v-160H620v160Z\"/>\n",
              "  </svg>\n",
              "    </button>\n",
              "\n",
              "  <style>\n",
              "    .colab-df-container {\n",
              "      display:flex;\n",
              "      gap: 12px;\n",
              "    }\n",
              "\n",
              "    .colab-df-convert {\n",
              "      background-color: #E8F0FE;\n",
              "      border: none;\n",
              "      border-radius: 50%;\n",
              "      cursor: pointer;\n",
              "      display: none;\n",
              "      fill: #1967D2;\n",
              "      height: 32px;\n",
              "      padding: 0 0 0 0;\n",
              "      width: 32px;\n",
              "    }\n",
              "\n",
              "    .colab-df-convert:hover {\n",
              "      background-color: #E2EBFA;\n",
              "      box-shadow: 0px 1px 2px rgba(60, 64, 67, 0.3), 0px 1px 3px 1px rgba(60, 64, 67, 0.15);\n",
              "      fill: #174EA6;\n",
              "    }\n",
              "\n",
              "    .colab-df-buttons div {\n",
              "      margin-bottom: 4px;\n",
              "    }\n",
              "\n",
              "    [theme=dark] .colab-df-convert {\n",
              "      background-color: #3B4455;\n",
              "      fill: #D2E3FC;\n",
              "    }\n",
              "\n",
              "    [theme=dark] .colab-df-convert:hover {\n",
              "      background-color: #434B5C;\n",
              "      box-shadow: 0px 1px 3px 1px rgba(0, 0, 0, 0.15);\n",
              "      filter: drop-shadow(0px 1px 2px rgba(0, 0, 0, 0.3));\n",
              "      fill: #FFFFFF;\n",
              "    }\n",
              "  </style>\n",
              "\n",
              "    <script>\n",
              "      const buttonEl =\n",
              "        document.querySelector('#df-8a1bcd37-0e46-4a36-975c-7fffc1016593 button.colab-df-convert');\n",
              "      buttonEl.style.display =\n",
              "        google.colab.kernel.accessAllowed ? 'block' : 'none';\n",
              "\n",
              "      async function convertToInteractive(key) {\n",
              "        const element = document.querySelector('#df-8a1bcd37-0e46-4a36-975c-7fffc1016593');\n",
              "        const dataTable =\n",
              "          await google.colab.kernel.invokeFunction('convertToInteractive',\n",
              "                                                    [key], {});\n",
              "        if (!dataTable) return;\n",
              "\n",
              "        const docLinkHtml = 'Like what you see? Visit the ' +\n",
              "          '<a target=\"_blank\" href=https://colab.research.google.com/notebooks/data_table.ipynb>data table notebook</a>'\n",
              "          + ' to learn more about interactive tables.';\n",
              "        element.innerHTML = '';\n",
              "        dataTable['output_type'] = 'display_data';\n",
              "        await google.colab.output.renderOutput(dataTable, element);\n",
              "        const docLink = document.createElement('div');\n",
              "        docLink.innerHTML = docLinkHtml;\n",
              "        element.appendChild(docLink);\n",
              "      }\n",
              "    </script>\n",
              "  </div>\n",
              "\n",
              "\n",
              "<div id=\"df-cdfc8bb9-41cc-4b69-820c-6b6bc6857e10\">\n",
              "  <button class=\"colab-df-quickchart\" onclick=\"quickchart('df-cdfc8bb9-41cc-4b69-820c-6b6bc6857e10')\"\n",
              "            title=\"Suggest charts\"\n",
              "            style=\"display:none;\">\n",
              "\n",
              "<svg xmlns=\"http://www.w3.org/2000/svg\" height=\"24px\"viewBox=\"0 0 24 24\"\n",
              "     width=\"24px\">\n",
              "    <g>\n",
              "        <path d=\"M19 3H5c-1.1 0-2 .9-2 2v14c0 1.1.9 2 2 2h14c1.1 0 2-.9 2-2V5c0-1.1-.9-2-2-2zM9 17H7v-7h2v7zm4 0h-2V7h2v10zm4 0h-2v-4h2v4z\"/>\n",
              "    </g>\n",
              "</svg>\n",
              "  </button>\n",
              "\n",
              "<style>\n",
              "  .colab-df-quickchart {\n",
              "      --bg-color: #E8F0FE;\n",
              "      --fill-color: #1967D2;\n",
              "      --hover-bg-color: #E2EBFA;\n",
              "      --hover-fill-color: #174EA6;\n",
              "      --disabled-fill-color: #AAA;\n",
              "      --disabled-bg-color: #DDD;\n",
              "  }\n",
              "\n",
              "  [theme=dark] .colab-df-quickchart {\n",
              "      --bg-color: #3B4455;\n",
              "      --fill-color: #D2E3FC;\n",
              "      --hover-bg-color: #434B5C;\n",
              "      --hover-fill-color: #FFFFFF;\n",
              "      --disabled-bg-color: #3B4455;\n",
              "      --disabled-fill-color: #666;\n",
              "  }\n",
              "\n",
              "  .colab-df-quickchart {\n",
              "    background-color: var(--bg-color);\n",
              "    border: none;\n",
              "    border-radius: 50%;\n",
              "    cursor: pointer;\n",
              "    display: none;\n",
              "    fill: var(--fill-color);\n",
              "    height: 32px;\n",
              "    padding: 0;\n",
              "    width: 32px;\n",
              "  }\n",
              "\n",
              "  .colab-df-quickchart:hover {\n",
              "    background-color: var(--hover-bg-color);\n",
              "    box-shadow: 0 1px 2px rgba(60, 64, 67, 0.3), 0 1px 3px 1px rgba(60, 64, 67, 0.15);\n",
              "    fill: var(--button-hover-fill-color);\n",
              "  }\n",
              "\n",
              "  .colab-df-quickchart-complete:disabled,\n",
              "  .colab-df-quickchart-complete:disabled:hover {\n",
              "    background-color: var(--disabled-bg-color);\n",
              "    fill: var(--disabled-fill-color);\n",
              "    box-shadow: none;\n",
              "  }\n",
              "\n",
              "  .colab-df-spinner {\n",
              "    border: 2px solid var(--fill-color);\n",
              "    border-color: transparent;\n",
              "    border-bottom-color: var(--fill-color);\n",
              "    animation:\n",
              "      spin 1s steps(1) infinite;\n",
              "  }\n",
              "\n",
              "  @keyframes spin {\n",
              "    0% {\n",
              "      border-color: transparent;\n",
              "      border-bottom-color: var(--fill-color);\n",
              "      border-left-color: var(--fill-color);\n",
              "    }\n",
              "    20% {\n",
              "      border-color: transparent;\n",
              "      border-left-color: var(--fill-color);\n",
              "      border-top-color: var(--fill-color);\n",
              "    }\n",
              "    30% {\n",
              "      border-color: transparent;\n",
              "      border-left-color: var(--fill-color);\n",
              "      border-top-color: var(--fill-color);\n",
              "      border-right-color: var(--fill-color);\n",
              "    }\n",
              "    40% {\n",
              "      border-color: transparent;\n",
              "      border-right-color: var(--fill-color);\n",
              "      border-top-color: var(--fill-color);\n",
              "    }\n",
              "    60% {\n",
              "      border-color: transparent;\n",
              "      border-right-color: var(--fill-color);\n",
              "    }\n",
              "    80% {\n",
              "      border-color: transparent;\n",
              "      border-right-color: var(--fill-color);\n",
              "      border-bottom-color: var(--fill-color);\n",
              "    }\n",
              "    90% {\n",
              "      border-color: transparent;\n",
              "      border-bottom-color: var(--fill-color);\n",
              "    }\n",
              "  }\n",
              "</style>\n",
              "\n",
              "  <script>\n",
              "    async function quickchart(key) {\n",
              "      const quickchartButtonEl =\n",
              "        document.querySelector('#' + key + ' button');\n",
              "      quickchartButtonEl.disabled = true;  // To prevent multiple clicks.\n",
              "      quickchartButtonEl.classList.add('colab-df-spinner');\n",
              "      try {\n",
              "        const charts = await google.colab.kernel.invokeFunction(\n",
              "            'suggestCharts', [key], {});\n",
              "      } catch (error) {\n",
              "        console.error('Error during call to suggestCharts:', error);\n",
              "      }\n",
              "      quickchartButtonEl.classList.remove('colab-df-spinner');\n",
              "      quickchartButtonEl.classList.add('colab-df-quickchart-complete');\n",
              "    }\n",
              "    (() => {\n",
              "      let quickchartButtonEl =\n",
              "        document.querySelector('#df-cdfc8bb9-41cc-4b69-820c-6b6bc6857e10 button');\n",
              "      quickchartButtonEl.style.display =\n",
              "        google.colab.kernel.accessAllowed ? 'block' : 'none';\n",
              "    })();\n",
              "  </script>\n",
              "</div>\n",
              "\n",
              "    </div>\n",
              "  </div>\n"
            ],
            "application/vnd.google.colaboratory.intrinsic+json": {
              "type": "dataframe",
              "variable_name": "train_processed",
              "summary": "{\n  \"name\": \"train_processed\",\n  \"rows\": 4000,\n  \"fields\": [\n    {\n      \"column\": \"sentiment\",\n      \"properties\": {\n        \"dtype\": \"category\",\n        \"num_unique_values\": 3,\n        \"samples\": [\n          \"Positive\",\n          \"Neutral\",\n          \"Negative\"\n        ],\n        \"semantic_type\": \"\",\n        \"description\": \"\"\n      }\n    },\n    {\n      \"column\": \"Processed_Review\",\n      \"properties\": {\n        \"dtype\": \"string\",\n        \"num_unique_values\": 3595,\n        \"samples\": [\n          \"difficult understand instruction still work\",\n          \"awesome gift someone special enjoy much mine would recommend product\",\n          \"first tablet purchase kid love\"\n        ],\n        \"semantic_type\": \"\",\n        \"description\": \"\"\n      }\n    }\n  ]\n}"
            }
          },
          "metadata": {},
          "execution_count": 27
        }
      ]
    },
    {
      "cell_type": "code",
      "source": [
        "#Creating new column 'Processed_Review' in the test_hidden dataframe\n",
        "test_hidden['Processed_Review'] = test_hidden['reviews.text'].apply(preprocess)\n",
        "test_hidden.head(3)"
      ],
      "metadata": {
        "colab": {
          "base_uri": "https://localhost:8080/",
          "height": 247
        },
        "id": "PDf9TIoYpfq9",
        "outputId": "03801e63-17d1-4456-d371-13da92a84efe"
      },
      "execution_count": null,
      "outputs": [
        {
          "output_type": "stream",
          "name": "stderr",
          "text": [
            "<ipython-input-28-3817a7309d20>:2: SettingWithCopyWarning: \n",
            "A value is trying to be set on a copy of a slice from a DataFrame.\n",
            "Try using .loc[row_indexer,col_indexer] = value instead\n",
            "\n",
            "See the caveats in the documentation: https://pandas.pydata.org/pandas-docs/stable/user_guide/indexing.html#returning-a-view-versus-a-copy\n",
            "  test_hidden['Processed_Review'] = test_hidden['reviews.text'].apply(preprocess)\n"
          ]
        },
        {
          "output_type": "execute_result",
          "data": {
            "text/plain": [
              "  sentiment                                       reviews.text  \\\n",
              "0  Positive  Amazon kindle fire has a lot of free app and c...   \n",
              "1  Positive  The Echo Show is a great addition to the Amazo...   \n",
              "2  Positive  Great value from Best Buy. Bought at Christmas...   \n",
              "\n",
              "                                    Processed_Review  \n",
              "0  amazon kindle fire lot free app use one want g...  \n",
              "1  echo show great addition amazon family work li...  \n",
              "2            great value best buy buy christmas sale  "
            ],
            "text/html": [
              "\n",
              "  <div id=\"df-6cf27239-ff26-4a4d-8d7e-ae320de6b48d\" class=\"colab-df-container\">\n",
              "    <div>\n",
              "<style scoped>\n",
              "    .dataframe tbody tr th:only-of-type {\n",
              "        vertical-align: middle;\n",
              "    }\n",
              "\n",
              "    .dataframe tbody tr th {\n",
              "        vertical-align: top;\n",
              "    }\n",
              "\n",
              "    .dataframe thead th {\n",
              "        text-align: right;\n",
              "    }\n",
              "</style>\n",
              "<table border=\"1\" class=\"dataframe\">\n",
              "  <thead>\n",
              "    <tr style=\"text-align: right;\">\n",
              "      <th></th>\n",
              "      <th>sentiment</th>\n",
              "      <th>reviews.text</th>\n",
              "      <th>Processed_Review</th>\n",
              "    </tr>\n",
              "  </thead>\n",
              "  <tbody>\n",
              "    <tr>\n",
              "      <th>0</th>\n",
              "      <td>Positive</td>\n",
              "      <td>Amazon kindle fire has a lot of free app and c...</td>\n",
              "      <td>amazon kindle fire lot free app use one want g...</td>\n",
              "    </tr>\n",
              "    <tr>\n",
              "      <th>1</th>\n",
              "      <td>Positive</td>\n",
              "      <td>The Echo Show is a great addition to the Amazo...</td>\n",
              "      <td>echo show great addition amazon family work li...</td>\n",
              "    </tr>\n",
              "    <tr>\n",
              "      <th>2</th>\n",
              "      <td>Positive</td>\n",
              "      <td>Great value from Best Buy. Bought at Christmas...</td>\n",
              "      <td>great value best buy buy christmas sale</td>\n",
              "    </tr>\n",
              "  </tbody>\n",
              "</table>\n",
              "</div>\n",
              "    <div class=\"colab-df-buttons\">\n",
              "\n",
              "  <div class=\"colab-df-container\">\n",
              "    <button class=\"colab-df-convert\" onclick=\"convertToInteractive('df-6cf27239-ff26-4a4d-8d7e-ae320de6b48d')\"\n",
              "            title=\"Convert this dataframe to an interactive table.\"\n",
              "            style=\"display:none;\">\n",
              "\n",
              "  <svg xmlns=\"http://www.w3.org/2000/svg\" height=\"24px\" viewBox=\"0 -960 960 960\">\n",
              "    <path d=\"M120-120v-720h720v720H120Zm60-500h600v-160H180v160Zm220 220h160v-160H400v160Zm0 220h160v-160H400v160ZM180-400h160v-160H180v160Zm440 0h160v-160H620v160ZM180-180h160v-160H180v160Zm440 0h160v-160H620v160Z\"/>\n",
              "  </svg>\n",
              "    </button>\n",
              "\n",
              "  <style>\n",
              "    .colab-df-container {\n",
              "      display:flex;\n",
              "      gap: 12px;\n",
              "    }\n",
              "\n",
              "    .colab-df-convert {\n",
              "      background-color: #E8F0FE;\n",
              "      border: none;\n",
              "      border-radius: 50%;\n",
              "      cursor: pointer;\n",
              "      display: none;\n",
              "      fill: #1967D2;\n",
              "      height: 32px;\n",
              "      padding: 0 0 0 0;\n",
              "      width: 32px;\n",
              "    }\n",
              "\n",
              "    .colab-df-convert:hover {\n",
              "      background-color: #E2EBFA;\n",
              "      box-shadow: 0px 1px 2px rgba(60, 64, 67, 0.3), 0px 1px 3px 1px rgba(60, 64, 67, 0.15);\n",
              "      fill: #174EA6;\n",
              "    }\n",
              "\n",
              "    .colab-df-buttons div {\n",
              "      margin-bottom: 4px;\n",
              "    }\n",
              "\n",
              "    [theme=dark] .colab-df-convert {\n",
              "      background-color: #3B4455;\n",
              "      fill: #D2E3FC;\n",
              "    }\n",
              "\n",
              "    [theme=dark] .colab-df-convert:hover {\n",
              "      background-color: #434B5C;\n",
              "      box-shadow: 0px 1px 3px 1px rgba(0, 0, 0, 0.15);\n",
              "      filter: drop-shadow(0px 1px 2px rgba(0, 0, 0, 0.3));\n",
              "      fill: #FFFFFF;\n",
              "    }\n",
              "  </style>\n",
              "\n",
              "    <script>\n",
              "      const buttonEl =\n",
              "        document.querySelector('#df-6cf27239-ff26-4a4d-8d7e-ae320de6b48d button.colab-df-convert');\n",
              "      buttonEl.style.display =\n",
              "        google.colab.kernel.accessAllowed ? 'block' : 'none';\n",
              "\n",
              "      async function convertToInteractive(key) {\n",
              "        const element = document.querySelector('#df-6cf27239-ff26-4a4d-8d7e-ae320de6b48d');\n",
              "        const dataTable =\n",
              "          await google.colab.kernel.invokeFunction('convertToInteractive',\n",
              "                                                    [key], {});\n",
              "        if (!dataTable) return;\n",
              "\n",
              "        const docLinkHtml = 'Like what you see? Visit the ' +\n",
              "          '<a target=\"_blank\" href=https://colab.research.google.com/notebooks/data_table.ipynb>data table notebook</a>'\n",
              "          + ' to learn more about interactive tables.';\n",
              "        element.innerHTML = '';\n",
              "        dataTable['output_type'] = 'display_data';\n",
              "        await google.colab.output.renderOutput(dataTable, element);\n",
              "        const docLink = document.createElement('div');\n",
              "        docLink.innerHTML = docLinkHtml;\n",
              "        element.appendChild(docLink);\n",
              "      }\n",
              "    </script>\n",
              "  </div>\n",
              "\n",
              "\n",
              "<div id=\"df-49868530-478b-460f-a5a0-e312e4bb708d\">\n",
              "  <button class=\"colab-df-quickchart\" onclick=\"quickchart('df-49868530-478b-460f-a5a0-e312e4bb708d')\"\n",
              "            title=\"Suggest charts\"\n",
              "            style=\"display:none;\">\n",
              "\n",
              "<svg xmlns=\"http://www.w3.org/2000/svg\" height=\"24px\"viewBox=\"0 0 24 24\"\n",
              "     width=\"24px\">\n",
              "    <g>\n",
              "        <path d=\"M19 3H5c-1.1 0-2 .9-2 2v14c0 1.1.9 2 2 2h14c1.1 0 2-.9 2-2V5c0-1.1-.9-2-2-2zM9 17H7v-7h2v7zm4 0h-2V7h2v10zm4 0h-2v-4h2v4z\"/>\n",
              "    </g>\n",
              "</svg>\n",
              "  </button>\n",
              "\n",
              "<style>\n",
              "  .colab-df-quickchart {\n",
              "      --bg-color: #E8F0FE;\n",
              "      --fill-color: #1967D2;\n",
              "      --hover-bg-color: #E2EBFA;\n",
              "      --hover-fill-color: #174EA6;\n",
              "      --disabled-fill-color: #AAA;\n",
              "      --disabled-bg-color: #DDD;\n",
              "  }\n",
              "\n",
              "  [theme=dark] .colab-df-quickchart {\n",
              "      --bg-color: #3B4455;\n",
              "      --fill-color: #D2E3FC;\n",
              "      --hover-bg-color: #434B5C;\n",
              "      --hover-fill-color: #FFFFFF;\n",
              "      --disabled-bg-color: #3B4455;\n",
              "      --disabled-fill-color: #666;\n",
              "  }\n",
              "\n",
              "  .colab-df-quickchart {\n",
              "    background-color: var(--bg-color);\n",
              "    border: none;\n",
              "    border-radius: 50%;\n",
              "    cursor: pointer;\n",
              "    display: none;\n",
              "    fill: var(--fill-color);\n",
              "    height: 32px;\n",
              "    padding: 0;\n",
              "    width: 32px;\n",
              "  }\n",
              "\n",
              "  .colab-df-quickchart:hover {\n",
              "    background-color: var(--hover-bg-color);\n",
              "    box-shadow: 0 1px 2px rgba(60, 64, 67, 0.3), 0 1px 3px 1px rgba(60, 64, 67, 0.15);\n",
              "    fill: var(--button-hover-fill-color);\n",
              "  }\n",
              "\n",
              "  .colab-df-quickchart-complete:disabled,\n",
              "  .colab-df-quickchart-complete:disabled:hover {\n",
              "    background-color: var(--disabled-bg-color);\n",
              "    fill: var(--disabled-fill-color);\n",
              "    box-shadow: none;\n",
              "  }\n",
              "\n",
              "  .colab-df-spinner {\n",
              "    border: 2px solid var(--fill-color);\n",
              "    border-color: transparent;\n",
              "    border-bottom-color: var(--fill-color);\n",
              "    animation:\n",
              "      spin 1s steps(1) infinite;\n",
              "  }\n",
              "\n",
              "  @keyframes spin {\n",
              "    0% {\n",
              "      border-color: transparent;\n",
              "      border-bottom-color: var(--fill-color);\n",
              "      border-left-color: var(--fill-color);\n",
              "    }\n",
              "    20% {\n",
              "      border-color: transparent;\n",
              "      border-left-color: var(--fill-color);\n",
              "      border-top-color: var(--fill-color);\n",
              "    }\n",
              "    30% {\n",
              "      border-color: transparent;\n",
              "      border-left-color: var(--fill-color);\n",
              "      border-top-color: var(--fill-color);\n",
              "      border-right-color: var(--fill-color);\n",
              "    }\n",
              "    40% {\n",
              "      border-color: transparent;\n",
              "      border-right-color: var(--fill-color);\n",
              "      border-top-color: var(--fill-color);\n",
              "    }\n",
              "    60% {\n",
              "      border-color: transparent;\n",
              "      border-right-color: var(--fill-color);\n",
              "    }\n",
              "    80% {\n",
              "      border-color: transparent;\n",
              "      border-right-color: var(--fill-color);\n",
              "      border-bottom-color: var(--fill-color);\n",
              "    }\n",
              "    90% {\n",
              "      border-color: transparent;\n",
              "      border-bottom-color: var(--fill-color);\n",
              "    }\n",
              "  }\n",
              "</style>\n",
              "\n",
              "  <script>\n",
              "    async function quickchart(key) {\n",
              "      const quickchartButtonEl =\n",
              "        document.querySelector('#' + key + ' button');\n",
              "      quickchartButtonEl.disabled = true;  // To prevent multiple clicks.\n",
              "      quickchartButtonEl.classList.add('colab-df-spinner');\n",
              "      try {\n",
              "        const charts = await google.colab.kernel.invokeFunction(\n",
              "            'suggestCharts', [key], {});\n",
              "      } catch (error) {\n",
              "        console.error('Error during call to suggestCharts:', error);\n",
              "      }\n",
              "      quickchartButtonEl.classList.remove('colab-df-spinner');\n",
              "      quickchartButtonEl.classList.add('colab-df-quickchart-complete');\n",
              "    }\n",
              "    (() => {\n",
              "      let quickchartButtonEl =\n",
              "        document.querySelector('#df-49868530-478b-460f-a5a0-e312e4bb708d button');\n",
              "      quickchartButtonEl.style.display =\n",
              "        google.colab.kernel.accessAllowed ? 'block' : 'none';\n",
              "    })();\n",
              "  </script>\n",
              "</div>\n",
              "\n",
              "    </div>\n",
              "  </div>\n"
            ],
            "application/vnd.google.colaboratory.intrinsic+json": {
              "type": "dataframe",
              "variable_name": "test_hidden",
              "summary": "{\n  \"name\": \"test_hidden\",\n  \"rows\": 1000,\n  \"fields\": [\n    {\n      \"column\": \"sentiment\",\n      \"properties\": {\n        \"dtype\": \"category\",\n        \"num_unique_values\": 3,\n        \"samples\": [\n          \"Positive\",\n          \"Negative\",\n          \"Neutral\"\n        ],\n        \"semantic_type\": \"\",\n        \"description\": \"\"\n      }\n    },\n    {\n      \"column\": \"reviews.text\",\n      \"properties\": {\n        \"dtype\": \"string\",\n        \"num_unique_values\": 979,\n        \"samples\": [\n          \"Bought this tablet on sale. I can look up all the things I 'm interested in.\",\n          \"The echo show feels useless after a few hours, especially without the ability to watch YouTube.\",\n          \"We purchased the Amazon - Echo Show with Alexa in store. Took it home and after connection wi-fi it was great. we cannot wait to buy light bulbs and a thermostat. Great buy\"\n        ],\n        \"semantic_type\": \"\",\n        \"description\": \"\"\n      }\n    },\n    {\n      \"column\": \"Processed_Review\",\n      \"properties\": {\n        \"dtype\": \"string\",\n        \"num_unique_values\": 979,\n        \"samples\": [\n          \"buy tablet sale look thing interest\",\n          \"echo show feel useless hour especially without ability watch youtube\",\n          \"purchase amazon echo show alexa store take home connection wi fi great cannot wait buy light bulb thermostat great buy\"\n        ],\n        \"semantic_type\": \"\",\n        \"description\": \"\"\n      }\n    }\n  ]\n}"
            }
          },
          "metadata": {},
          "execution_count": 28
        }
      ]
    },
    {
      "cell_type": "code",
      "source": [
        "#Creating a new dataframe for processed review\n",
        "test_processed = test_hidden[[\"sentiment\",\"Processed_Review\"]]\n",
        "test_processed.head(3)"
      ],
      "metadata": {
        "colab": {
          "base_uri": "https://localhost:8080/",
          "height": 143
        },
        "id": "HmURefsrpwNf",
        "outputId": "844233f9-5b54-4f6a-9a53-d055b46a6b4c"
      },
      "execution_count": null,
      "outputs": [
        {
          "output_type": "execute_result",
          "data": {
            "text/plain": [
              "  sentiment                                   Processed_Review\n",
              "0  Positive  amazon kindle fire lot free app use one want g...\n",
              "1  Positive  echo show great addition amazon family work li...\n",
              "2  Positive            great value best buy buy christmas sale"
            ],
            "text/html": [
              "\n",
              "  <div id=\"df-7da6115a-673f-43a9-811e-1dd6bd21ce6e\" class=\"colab-df-container\">\n",
              "    <div>\n",
              "<style scoped>\n",
              "    .dataframe tbody tr th:only-of-type {\n",
              "        vertical-align: middle;\n",
              "    }\n",
              "\n",
              "    .dataframe tbody tr th {\n",
              "        vertical-align: top;\n",
              "    }\n",
              "\n",
              "    .dataframe thead th {\n",
              "        text-align: right;\n",
              "    }\n",
              "</style>\n",
              "<table border=\"1\" class=\"dataframe\">\n",
              "  <thead>\n",
              "    <tr style=\"text-align: right;\">\n",
              "      <th></th>\n",
              "      <th>sentiment</th>\n",
              "      <th>Processed_Review</th>\n",
              "    </tr>\n",
              "  </thead>\n",
              "  <tbody>\n",
              "    <tr>\n",
              "      <th>0</th>\n",
              "      <td>Positive</td>\n",
              "      <td>amazon kindle fire lot free app use one want g...</td>\n",
              "    </tr>\n",
              "    <tr>\n",
              "      <th>1</th>\n",
              "      <td>Positive</td>\n",
              "      <td>echo show great addition amazon family work li...</td>\n",
              "    </tr>\n",
              "    <tr>\n",
              "      <th>2</th>\n",
              "      <td>Positive</td>\n",
              "      <td>great value best buy buy christmas sale</td>\n",
              "    </tr>\n",
              "  </tbody>\n",
              "</table>\n",
              "</div>\n",
              "    <div class=\"colab-df-buttons\">\n",
              "\n",
              "  <div class=\"colab-df-container\">\n",
              "    <button class=\"colab-df-convert\" onclick=\"convertToInteractive('df-7da6115a-673f-43a9-811e-1dd6bd21ce6e')\"\n",
              "            title=\"Convert this dataframe to an interactive table.\"\n",
              "            style=\"display:none;\">\n",
              "\n",
              "  <svg xmlns=\"http://www.w3.org/2000/svg\" height=\"24px\" viewBox=\"0 -960 960 960\">\n",
              "    <path d=\"M120-120v-720h720v720H120Zm60-500h600v-160H180v160Zm220 220h160v-160H400v160Zm0 220h160v-160H400v160ZM180-400h160v-160H180v160Zm440 0h160v-160H620v160ZM180-180h160v-160H180v160Zm440 0h160v-160H620v160Z\"/>\n",
              "  </svg>\n",
              "    </button>\n",
              "\n",
              "  <style>\n",
              "    .colab-df-container {\n",
              "      display:flex;\n",
              "      gap: 12px;\n",
              "    }\n",
              "\n",
              "    .colab-df-convert {\n",
              "      background-color: #E8F0FE;\n",
              "      border: none;\n",
              "      border-radius: 50%;\n",
              "      cursor: pointer;\n",
              "      display: none;\n",
              "      fill: #1967D2;\n",
              "      height: 32px;\n",
              "      padding: 0 0 0 0;\n",
              "      width: 32px;\n",
              "    }\n",
              "\n",
              "    .colab-df-convert:hover {\n",
              "      background-color: #E2EBFA;\n",
              "      box-shadow: 0px 1px 2px rgba(60, 64, 67, 0.3), 0px 1px 3px 1px rgba(60, 64, 67, 0.15);\n",
              "      fill: #174EA6;\n",
              "    }\n",
              "\n",
              "    .colab-df-buttons div {\n",
              "      margin-bottom: 4px;\n",
              "    }\n",
              "\n",
              "    [theme=dark] .colab-df-convert {\n",
              "      background-color: #3B4455;\n",
              "      fill: #D2E3FC;\n",
              "    }\n",
              "\n",
              "    [theme=dark] .colab-df-convert:hover {\n",
              "      background-color: #434B5C;\n",
              "      box-shadow: 0px 1px 3px 1px rgba(0, 0, 0, 0.15);\n",
              "      filter: drop-shadow(0px 1px 2px rgba(0, 0, 0, 0.3));\n",
              "      fill: #FFFFFF;\n",
              "    }\n",
              "  </style>\n",
              "\n",
              "    <script>\n",
              "      const buttonEl =\n",
              "        document.querySelector('#df-7da6115a-673f-43a9-811e-1dd6bd21ce6e button.colab-df-convert');\n",
              "      buttonEl.style.display =\n",
              "        google.colab.kernel.accessAllowed ? 'block' : 'none';\n",
              "\n",
              "      async function convertToInteractive(key) {\n",
              "        const element = document.querySelector('#df-7da6115a-673f-43a9-811e-1dd6bd21ce6e');\n",
              "        const dataTable =\n",
              "          await google.colab.kernel.invokeFunction('convertToInteractive',\n",
              "                                                    [key], {});\n",
              "        if (!dataTable) return;\n",
              "\n",
              "        const docLinkHtml = 'Like what you see? Visit the ' +\n",
              "          '<a target=\"_blank\" href=https://colab.research.google.com/notebooks/data_table.ipynb>data table notebook</a>'\n",
              "          + ' to learn more about interactive tables.';\n",
              "        element.innerHTML = '';\n",
              "        dataTable['output_type'] = 'display_data';\n",
              "        await google.colab.output.renderOutput(dataTable, element);\n",
              "        const docLink = document.createElement('div');\n",
              "        docLink.innerHTML = docLinkHtml;\n",
              "        element.appendChild(docLink);\n",
              "      }\n",
              "    </script>\n",
              "  </div>\n",
              "\n",
              "\n",
              "<div id=\"df-a114dad7-1434-4f0d-82d6-9db6b767c7b2\">\n",
              "  <button class=\"colab-df-quickchart\" onclick=\"quickchart('df-a114dad7-1434-4f0d-82d6-9db6b767c7b2')\"\n",
              "            title=\"Suggest charts\"\n",
              "            style=\"display:none;\">\n",
              "\n",
              "<svg xmlns=\"http://www.w3.org/2000/svg\" height=\"24px\"viewBox=\"0 0 24 24\"\n",
              "     width=\"24px\">\n",
              "    <g>\n",
              "        <path d=\"M19 3H5c-1.1 0-2 .9-2 2v14c0 1.1.9 2 2 2h14c1.1 0 2-.9 2-2V5c0-1.1-.9-2-2-2zM9 17H7v-7h2v7zm4 0h-2V7h2v10zm4 0h-2v-4h2v4z\"/>\n",
              "    </g>\n",
              "</svg>\n",
              "  </button>\n",
              "\n",
              "<style>\n",
              "  .colab-df-quickchart {\n",
              "      --bg-color: #E8F0FE;\n",
              "      --fill-color: #1967D2;\n",
              "      --hover-bg-color: #E2EBFA;\n",
              "      --hover-fill-color: #174EA6;\n",
              "      --disabled-fill-color: #AAA;\n",
              "      --disabled-bg-color: #DDD;\n",
              "  }\n",
              "\n",
              "  [theme=dark] .colab-df-quickchart {\n",
              "      --bg-color: #3B4455;\n",
              "      --fill-color: #D2E3FC;\n",
              "      --hover-bg-color: #434B5C;\n",
              "      --hover-fill-color: #FFFFFF;\n",
              "      --disabled-bg-color: #3B4455;\n",
              "      --disabled-fill-color: #666;\n",
              "  }\n",
              "\n",
              "  .colab-df-quickchart {\n",
              "    background-color: var(--bg-color);\n",
              "    border: none;\n",
              "    border-radius: 50%;\n",
              "    cursor: pointer;\n",
              "    display: none;\n",
              "    fill: var(--fill-color);\n",
              "    height: 32px;\n",
              "    padding: 0;\n",
              "    width: 32px;\n",
              "  }\n",
              "\n",
              "  .colab-df-quickchart:hover {\n",
              "    background-color: var(--hover-bg-color);\n",
              "    box-shadow: 0 1px 2px rgba(60, 64, 67, 0.3), 0 1px 3px 1px rgba(60, 64, 67, 0.15);\n",
              "    fill: var(--button-hover-fill-color);\n",
              "  }\n",
              "\n",
              "  .colab-df-quickchart-complete:disabled,\n",
              "  .colab-df-quickchart-complete:disabled:hover {\n",
              "    background-color: var(--disabled-bg-color);\n",
              "    fill: var(--disabled-fill-color);\n",
              "    box-shadow: none;\n",
              "  }\n",
              "\n",
              "  .colab-df-spinner {\n",
              "    border: 2px solid var(--fill-color);\n",
              "    border-color: transparent;\n",
              "    border-bottom-color: var(--fill-color);\n",
              "    animation:\n",
              "      spin 1s steps(1) infinite;\n",
              "  }\n",
              "\n",
              "  @keyframes spin {\n",
              "    0% {\n",
              "      border-color: transparent;\n",
              "      border-bottom-color: var(--fill-color);\n",
              "      border-left-color: var(--fill-color);\n",
              "    }\n",
              "    20% {\n",
              "      border-color: transparent;\n",
              "      border-left-color: var(--fill-color);\n",
              "      border-top-color: var(--fill-color);\n",
              "    }\n",
              "    30% {\n",
              "      border-color: transparent;\n",
              "      border-left-color: var(--fill-color);\n",
              "      border-top-color: var(--fill-color);\n",
              "      border-right-color: var(--fill-color);\n",
              "    }\n",
              "    40% {\n",
              "      border-color: transparent;\n",
              "      border-right-color: var(--fill-color);\n",
              "      border-top-color: var(--fill-color);\n",
              "    }\n",
              "    60% {\n",
              "      border-color: transparent;\n",
              "      border-right-color: var(--fill-color);\n",
              "    }\n",
              "    80% {\n",
              "      border-color: transparent;\n",
              "      border-right-color: var(--fill-color);\n",
              "      border-bottom-color: var(--fill-color);\n",
              "    }\n",
              "    90% {\n",
              "      border-color: transparent;\n",
              "      border-bottom-color: var(--fill-color);\n",
              "    }\n",
              "  }\n",
              "</style>\n",
              "\n",
              "  <script>\n",
              "    async function quickchart(key) {\n",
              "      const quickchartButtonEl =\n",
              "        document.querySelector('#' + key + ' button');\n",
              "      quickchartButtonEl.disabled = true;  // To prevent multiple clicks.\n",
              "      quickchartButtonEl.classList.add('colab-df-spinner');\n",
              "      try {\n",
              "        const charts = await google.colab.kernel.invokeFunction(\n",
              "            'suggestCharts', [key], {});\n",
              "      } catch (error) {\n",
              "        console.error('Error during call to suggestCharts:', error);\n",
              "      }\n",
              "      quickchartButtonEl.classList.remove('colab-df-spinner');\n",
              "      quickchartButtonEl.classList.add('colab-df-quickchart-complete');\n",
              "    }\n",
              "    (() => {\n",
              "      let quickchartButtonEl =\n",
              "        document.querySelector('#df-a114dad7-1434-4f0d-82d6-9db6b767c7b2 button');\n",
              "      quickchartButtonEl.style.display =\n",
              "        google.colab.kernel.accessAllowed ? 'block' : 'none';\n",
              "    })();\n",
              "  </script>\n",
              "</div>\n",
              "\n",
              "    </div>\n",
              "  </div>\n"
            ],
            "application/vnd.google.colaboratory.intrinsic+json": {
              "type": "dataframe",
              "variable_name": "test_processed",
              "summary": "{\n  \"name\": \"test_processed\",\n  \"rows\": 1000,\n  \"fields\": [\n    {\n      \"column\": \"sentiment\",\n      \"properties\": {\n        \"dtype\": \"category\",\n        \"num_unique_values\": 3,\n        \"samples\": [\n          \"Positive\",\n          \"Negative\",\n          \"Neutral\"\n        ],\n        \"semantic_type\": \"\",\n        \"description\": \"\"\n      }\n    },\n    {\n      \"column\": \"Processed_Review\",\n      \"properties\": {\n        \"dtype\": \"string\",\n        \"num_unique_values\": 979,\n        \"samples\": [\n          \"buy tablet sale look thing interest\",\n          \"echo show feel useless hour especially without ability watch youtube\",\n          \"purchase amazon echo show alexa store take home connection wi fi great cannot wait buy light bulb thermostat great buy\"\n        ],\n        \"semantic_type\": \"\",\n        \"description\": \"\"\n      }\n    }\n  ]\n}"
            }
          },
          "metadata": {},
          "execution_count": 29
        }
      ]
    },
    {
      "cell_type": "markdown",
      "source": [
        "textPreprocessing performs basic text cleaning steps\n",
        "* Remove Punctuation\n",
        "* Join Characters into a Sentence\n",
        "* Split Sentence into Words\n",
        "* Stopword Removal\n",
        "* Return the Cleaned Text"
      ],
      "metadata": {
        "id": "vL8QHora8DJl"
      }
    },
    {
      "cell_type": "code",
      "source": [
        "def textPreprocessing(document):\n",
        "    #Remove Punctuation Logic\n",
        "    import string\n",
        "    removePunctuation = [char for char in document if char not in string.punctuation]\n",
        "    #Join Chars to form sentences\n",
        "    sentenceWithoutPunctuations = ''.join(removePunctuation)\n",
        "    words = sentenceWithoutPunctuations.split()\n",
        "    #StopwordRemoval\n",
        "    removeStopwords = [word for word in words if word.lower() not in stopwords.words('english')]\n",
        "\n",
        "    return removeStopwords"
      ],
      "metadata": {
        "id": "jvoqc-3UtIrM"
      },
      "execution_count": null,
      "outputs": []
    },
    {
      "cell_type": "code",
      "source": [
        "#Text preprocessing\n",
        "train_processed['Processed_Review'].head(2).apply(textPreprocessing)"
      ],
      "metadata": {
        "colab": {
          "base_uri": "https://localhost:8080/"
        },
        "id": "dbggB8yMuKKZ",
        "outputId": "93942b70-a809-4502-bcde-72a1d3438179"
      },
      "execution_count": null,
      "outputs": [
        {
          "output_type": "execute_result",
          "data": {
            "text/plain": [
              "0    [purchase, black, fridaypros, great, price, ev...\n",
              "1    [purchase, two, amazon, echo, plus, two, dot, ...\n",
              "Name: Processed_Review, dtype: object"
            ]
          },
          "metadata": {},
          "execution_count": 31
        }
      ]
    },
    {
      "cell_type": "code",
      "source": [
        "train_processed.head(3)"
      ],
      "metadata": {
        "colab": {
          "base_uri": "https://localhost:8080/",
          "height": 143
        },
        "id": "HhHpVPcAMof_",
        "outputId": "803035d8-c482-4a0b-946c-433c7c96d5bb"
      },
      "execution_count": null,
      "outputs": [
        {
          "output_type": "execute_result",
          "data": {
            "text/plain": [
              "  sentiment                                   Processed_Review\n",
              "0  Positive  purchase black fridaypros great price even sal...\n",
              "1  Positive  purchase two amazon echo plus two dot plus fou...\n",
              "2   Neutral  average alexa option show thing screen still l..."
            ],
            "text/html": [
              "\n",
              "  <div id=\"df-fdf00d43-881c-45da-887b-4b72f849bf1f\" class=\"colab-df-container\">\n",
              "    <div>\n",
              "<style scoped>\n",
              "    .dataframe tbody tr th:only-of-type {\n",
              "        vertical-align: middle;\n",
              "    }\n",
              "\n",
              "    .dataframe tbody tr th {\n",
              "        vertical-align: top;\n",
              "    }\n",
              "\n",
              "    .dataframe thead th {\n",
              "        text-align: right;\n",
              "    }\n",
              "</style>\n",
              "<table border=\"1\" class=\"dataframe\">\n",
              "  <thead>\n",
              "    <tr style=\"text-align: right;\">\n",
              "      <th></th>\n",
              "      <th>sentiment</th>\n",
              "      <th>Processed_Review</th>\n",
              "    </tr>\n",
              "  </thead>\n",
              "  <tbody>\n",
              "    <tr>\n",
              "      <th>0</th>\n",
              "      <td>Positive</td>\n",
              "      <td>purchase black fridaypros great price even sal...</td>\n",
              "    </tr>\n",
              "    <tr>\n",
              "      <th>1</th>\n",
              "      <td>Positive</td>\n",
              "      <td>purchase two amazon echo plus two dot plus fou...</td>\n",
              "    </tr>\n",
              "    <tr>\n",
              "      <th>2</th>\n",
              "      <td>Neutral</td>\n",
              "      <td>average alexa option show thing screen still l...</td>\n",
              "    </tr>\n",
              "  </tbody>\n",
              "</table>\n",
              "</div>\n",
              "    <div class=\"colab-df-buttons\">\n",
              "\n",
              "  <div class=\"colab-df-container\">\n",
              "    <button class=\"colab-df-convert\" onclick=\"convertToInteractive('df-fdf00d43-881c-45da-887b-4b72f849bf1f')\"\n",
              "            title=\"Convert this dataframe to an interactive table.\"\n",
              "            style=\"display:none;\">\n",
              "\n",
              "  <svg xmlns=\"http://www.w3.org/2000/svg\" height=\"24px\" viewBox=\"0 -960 960 960\">\n",
              "    <path d=\"M120-120v-720h720v720H120Zm60-500h600v-160H180v160Zm220 220h160v-160H400v160Zm0 220h160v-160H400v160ZM180-400h160v-160H180v160Zm440 0h160v-160H620v160ZM180-180h160v-160H180v160Zm440 0h160v-160H620v160Z\"/>\n",
              "  </svg>\n",
              "    </button>\n",
              "\n",
              "  <style>\n",
              "    .colab-df-container {\n",
              "      display:flex;\n",
              "      gap: 12px;\n",
              "    }\n",
              "\n",
              "    .colab-df-convert {\n",
              "      background-color: #E8F0FE;\n",
              "      border: none;\n",
              "      border-radius: 50%;\n",
              "      cursor: pointer;\n",
              "      display: none;\n",
              "      fill: #1967D2;\n",
              "      height: 32px;\n",
              "      padding: 0 0 0 0;\n",
              "      width: 32px;\n",
              "    }\n",
              "\n",
              "    .colab-df-convert:hover {\n",
              "      background-color: #E2EBFA;\n",
              "      box-shadow: 0px 1px 2px rgba(60, 64, 67, 0.3), 0px 1px 3px 1px rgba(60, 64, 67, 0.15);\n",
              "      fill: #174EA6;\n",
              "    }\n",
              "\n",
              "    .colab-df-buttons div {\n",
              "      margin-bottom: 4px;\n",
              "    }\n",
              "\n",
              "    [theme=dark] .colab-df-convert {\n",
              "      background-color: #3B4455;\n",
              "      fill: #D2E3FC;\n",
              "    }\n",
              "\n",
              "    [theme=dark] .colab-df-convert:hover {\n",
              "      background-color: #434B5C;\n",
              "      box-shadow: 0px 1px 3px 1px rgba(0, 0, 0, 0.15);\n",
              "      filter: drop-shadow(0px 1px 2px rgba(0, 0, 0, 0.3));\n",
              "      fill: #FFFFFF;\n",
              "    }\n",
              "  </style>\n",
              "\n",
              "    <script>\n",
              "      const buttonEl =\n",
              "        document.querySelector('#df-fdf00d43-881c-45da-887b-4b72f849bf1f button.colab-df-convert');\n",
              "      buttonEl.style.display =\n",
              "        google.colab.kernel.accessAllowed ? 'block' : 'none';\n",
              "\n",
              "      async function convertToInteractive(key) {\n",
              "        const element = document.querySelector('#df-fdf00d43-881c-45da-887b-4b72f849bf1f');\n",
              "        const dataTable =\n",
              "          await google.colab.kernel.invokeFunction('convertToInteractive',\n",
              "                                                    [key], {});\n",
              "        if (!dataTable) return;\n",
              "\n",
              "        const docLinkHtml = 'Like what you see? Visit the ' +\n",
              "          '<a target=\"_blank\" href=https://colab.research.google.com/notebooks/data_table.ipynb>data table notebook</a>'\n",
              "          + ' to learn more about interactive tables.';\n",
              "        element.innerHTML = '';\n",
              "        dataTable['output_type'] = 'display_data';\n",
              "        await google.colab.output.renderOutput(dataTable, element);\n",
              "        const docLink = document.createElement('div');\n",
              "        docLink.innerHTML = docLinkHtml;\n",
              "        element.appendChild(docLink);\n",
              "      }\n",
              "    </script>\n",
              "  </div>\n",
              "\n",
              "\n",
              "<div id=\"df-1df85efb-3e17-4653-8465-2fe3295561fe\">\n",
              "  <button class=\"colab-df-quickchart\" onclick=\"quickchart('df-1df85efb-3e17-4653-8465-2fe3295561fe')\"\n",
              "            title=\"Suggest charts\"\n",
              "            style=\"display:none;\">\n",
              "\n",
              "<svg xmlns=\"http://www.w3.org/2000/svg\" height=\"24px\"viewBox=\"0 0 24 24\"\n",
              "     width=\"24px\">\n",
              "    <g>\n",
              "        <path d=\"M19 3H5c-1.1 0-2 .9-2 2v14c0 1.1.9 2 2 2h14c1.1 0 2-.9 2-2V5c0-1.1-.9-2-2-2zM9 17H7v-7h2v7zm4 0h-2V7h2v10zm4 0h-2v-4h2v4z\"/>\n",
              "    </g>\n",
              "</svg>\n",
              "  </button>\n",
              "\n",
              "<style>\n",
              "  .colab-df-quickchart {\n",
              "      --bg-color: #E8F0FE;\n",
              "      --fill-color: #1967D2;\n",
              "      --hover-bg-color: #E2EBFA;\n",
              "      --hover-fill-color: #174EA6;\n",
              "      --disabled-fill-color: #AAA;\n",
              "      --disabled-bg-color: #DDD;\n",
              "  }\n",
              "\n",
              "  [theme=dark] .colab-df-quickchart {\n",
              "      --bg-color: #3B4455;\n",
              "      --fill-color: #D2E3FC;\n",
              "      --hover-bg-color: #434B5C;\n",
              "      --hover-fill-color: #FFFFFF;\n",
              "      --disabled-bg-color: #3B4455;\n",
              "      --disabled-fill-color: #666;\n",
              "  }\n",
              "\n",
              "  .colab-df-quickchart {\n",
              "    background-color: var(--bg-color);\n",
              "    border: none;\n",
              "    border-radius: 50%;\n",
              "    cursor: pointer;\n",
              "    display: none;\n",
              "    fill: var(--fill-color);\n",
              "    height: 32px;\n",
              "    padding: 0;\n",
              "    width: 32px;\n",
              "  }\n",
              "\n",
              "  .colab-df-quickchart:hover {\n",
              "    background-color: var(--hover-bg-color);\n",
              "    box-shadow: 0 1px 2px rgba(60, 64, 67, 0.3), 0 1px 3px 1px rgba(60, 64, 67, 0.15);\n",
              "    fill: var(--button-hover-fill-color);\n",
              "  }\n",
              "\n",
              "  .colab-df-quickchart-complete:disabled,\n",
              "  .colab-df-quickchart-complete:disabled:hover {\n",
              "    background-color: var(--disabled-bg-color);\n",
              "    fill: var(--disabled-fill-color);\n",
              "    box-shadow: none;\n",
              "  }\n",
              "\n",
              "  .colab-df-spinner {\n",
              "    border: 2px solid var(--fill-color);\n",
              "    border-color: transparent;\n",
              "    border-bottom-color: var(--fill-color);\n",
              "    animation:\n",
              "      spin 1s steps(1) infinite;\n",
              "  }\n",
              "\n",
              "  @keyframes spin {\n",
              "    0% {\n",
              "      border-color: transparent;\n",
              "      border-bottom-color: var(--fill-color);\n",
              "      border-left-color: var(--fill-color);\n",
              "    }\n",
              "    20% {\n",
              "      border-color: transparent;\n",
              "      border-left-color: var(--fill-color);\n",
              "      border-top-color: var(--fill-color);\n",
              "    }\n",
              "    30% {\n",
              "      border-color: transparent;\n",
              "      border-left-color: var(--fill-color);\n",
              "      border-top-color: var(--fill-color);\n",
              "      border-right-color: var(--fill-color);\n",
              "    }\n",
              "    40% {\n",
              "      border-color: transparent;\n",
              "      border-right-color: var(--fill-color);\n",
              "      border-top-color: var(--fill-color);\n",
              "    }\n",
              "    60% {\n",
              "      border-color: transparent;\n",
              "      border-right-color: var(--fill-color);\n",
              "    }\n",
              "    80% {\n",
              "      border-color: transparent;\n",
              "      border-right-color: var(--fill-color);\n",
              "      border-bottom-color: var(--fill-color);\n",
              "    }\n",
              "    90% {\n",
              "      border-color: transparent;\n",
              "      border-bottom-color: var(--fill-color);\n",
              "    }\n",
              "  }\n",
              "</style>\n",
              "\n",
              "  <script>\n",
              "    async function quickchart(key) {\n",
              "      const quickchartButtonEl =\n",
              "        document.querySelector('#' + key + ' button');\n",
              "      quickchartButtonEl.disabled = true;  // To prevent multiple clicks.\n",
              "      quickchartButtonEl.classList.add('colab-df-spinner');\n",
              "      try {\n",
              "        const charts = await google.colab.kernel.invokeFunction(\n",
              "            'suggestCharts', [key], {});\n",
              "      } catch (error) {\n",
              "        console.error('Error during call to suggestCharts:', error);\n",
              "      }\n",
              "      quickchartButtonEl.classList.remove('colab-df-spinner');\n",
              "      quickchartButtonEl.classList.add('colab-df-quickchart-complete');\n",
              "    }\n",
              "    (() => {\n",
              "      let quickchartButtonEl =\n",
              "        document.querySelector('#df-1df85efb-3e17-4653-8465-2fe3295561fe button');\n",
              "      quickchartButtonEl.style.display =\n",
              "        google.colab.kernel.accessAllowed ? 'block' : 'none';\n",
              "    })();\n",
              "  </script>\n",
              "</div>\n",
              "\n",
              "    </div>\n",
              "  </div>\n"
            ],
            "application/vnd.google.colaboratory.intrinsic+json": {
              "type": "dataframe",
              "variable_name": "train_processed",
              "summary": "{\n  \"name\": \"train_processed\",\n  \"rows\": 4000,\n  \"fields\": [\n    {\n      \"column\": \"sentiment\",\n      \"properties\": {\n        \"dtype\": \"category\",\n        \"num_unique_values\": 3,\n        \"samples\": [\n          \"Positive\",\n          \"Neutral\",\n          \"Negative\"\n        ],\n        \"semantic_type\": \"\",\n        \"description\": \"\"\n      }\n    },\n    {\n      \"column\": \"Processed_Review\",\n      \"properties\": {\n        \"dtype\": \"string\",\n        \"num_unique_values\": 3595,\n        \"samples\": [\n          \"difficult understand instruction still work\",\n          \"awesome gift someone special enjoy much mine would recommend product\",\n          \"first tablet purchase kid love\"\n        ],\n        \"semantic_type\": \"\",\n        \"description\": \"\"\n      }\n    }\n  ]\n}"
            }
          },
          "metadata": {},
          "execution_count": 32
        }
      ]
    },
    {
      "cell_type": "code",
      "source": [
        "#Text preprocessing\n",
        "test_processed['Processed_Review'].head(2).apply(textPreprocessing)"
      ],
      "metadata": {
        "colab": {
          "base_uri": "https://localhost:8080/"
        },
        "id": "fuKOg8PDq2aI",
        "outputId": "92235056-ff46-42f3-c89b-9b8467baaeb7"
      },
      "execution_count": null,
      "outputs": [
        {
          "output_type": "execute_result",
          "data": {
            "text/plain": [
              "0    [amazon, kindle, fire, lot, free, app, use, on...\n",
              "1    [echo, show, great, addition, amazon, family, ...\n",
              "Name: Processed_Review, dtype: object"
            ]
          },
          "metadata": {},
          "execution_count": 33
        }
      ]
    },
    {
      "cell_type": "code",
      "source": [
        "test_processed.head(3)"
      ],
      "metadata": {
        "colab": {
          "base_uri": "https://localhost:8080/",
          "height": 143
        },
        "id": "X_NnOEVRq63f",
        "outputId": "153d05a0-df24-4cdb-dec5-ebc4a1fad974"
      },
      "execution_count": null,
      "outputs": [
        {
          "output_type": "execute_result",
          "data": {
            "text/plain": [
              "  sentiment                                   Processed_Review\n",
              "0  Positive  amazon kindle fire lot free app use one want g...\n",
              "1  Positive  echo show great addition amazon family work li...\n",
              "2  Positive            great value best buy buy christmas sale"
            ],
            "text/html": [
              "\n",
              "  <div id=\"df-bf729a3a-4f4a-4d5b-af72-c901afab3300\" class=\"colab-df-container\">\n",
              "    <div>\n",
              "<style scoped>\n",
              "    .dataframe tbody tr th:only-of-type {\n",
              "        vertical-align: middle;\n",
              "    }\n",
              "\n",
              "    .dataframe tbody tr th {\n",
              "        vertical-align: top;\n",
              "    }\n",
              "\n",
              "    .dataframe thead th {\n",
              "        text-align: right;\n",
              "    }\n",
              "</style>\n",
              "<table border=\"1\" class=\"dataframe\">\n",
              "  <thead>\n",
              "    <tr style=\"text-align: right;\">\n",
              "      <th></th>\n",
              "      <th>sentiment</th>\n",
              "      <th>Processed_Review</th>\n",
              "    </tr>\n",
              "  </thead>\n",
              "  <tbody>\n",
              "    <tr>\n",
              "      <th>0</th>\n",
              "      <td>Positive</td>\n",
              "      <td>amazon kindle fire lot free app use one want g...</td>\n",
              "    </tr>\n",
              "    <tr>\n",
              "      <th>1</th>\n",
              "      <td>Positive</td>\n",
              "      <td>echo show great addition amazon family work li...</td>\n",
              "    </tr>\n",
              "    <tr>\n",
              "      <th>2</th>\n",
              "      <td>Positive</td>\n",
              "      <td>great value best buy buy christmas sale</td>\n",
              "    </tr>\n",
              "  </tbody>\n",
              "</table>\n",
              "</div>\n",
              "    <div class=\"colab-df-buttons\">\n",
              "\n",
              "  <div class=\"colab-df-container\">\n",
              "    <button class=\"colab-df-convert\" onclick=\"convertToInteractive('df-bf729a3a-4f4a-4d5b-af72-c901afab3300')\"\n",
              "            title=\"Convert this dataframe to an interactive table.\"\n",
              "            style=\"display:none;\">\n",
              "\n",
              "  <svg xmlns=\"http://www.w3.org/2000/svg\" height=\"24px\" viewBox=\"0 -960 960 960\">\n",
              "    <path d=\"M120-120v-720h720v720H120Zm60-500h600v-160H180v160Zm220 220h160v-160H400v160Zm0 220h160v-160H400v160ZM180-400h160v-160H180v160Zm440 0h160v-160H620v160ZM180-180h160v-160H180v160Zm440 0h160v-160H620v160Z\"/>\n",
              "  </svg>\n",
              "    </button>\n",
              "\n",
              "  <style>\n",
              "    .colab-df-container {\n",
              "      display:flex;\n",
              "      gap: 12px;\n",
              "    }\n",
              "\n",
              "    .colab-df-convert {\n",
              "      background-color: #E8F0FE;\n",
              "      border: none;\n",
              "      border-radius: 50%;\n",
              "      cursor: pointer;\n",
              "      display: none;\n",
              "      fill: #1967D2;\n",
              "      height: 32px;\n",
              "      padding: 0 0 0 0;\n",
              "      width: 32px;\n",
              "    }\n",
              "\n",
              "    .colab-df-convert:hover {\n",
              "      background-color: #E2EBFA;\n",
              "      box-shadow: 0px 1px 2px rgba(60, 64, 67, 0.3), 0px 1px 3px 1px rgba(60, 64, 67, 0.15);\n",
              "      fill: #174EA6;\n",
              "    }\n",
              "\n",
              "    .colab-df-buttons div {\n",
              "      margin-bottom: 4px;\n",
              "    }\n",
              "\n",
              "    [theme=dark] .colab-df-convert {\n",
              "      background-color: #3B4455;\n",
              "      fill: #D2E3FC;\n",
              "    }\n",
              "\n",
              "    [theme=dark] .colab-df-convert:hover {\n",
              "      background-color: #434B5C;\n",
              "      box-shadow: 0px 1px 3px 1px rgba(0, 0, 0, 0.15);\n",
              "      filter: drop-shadow(0px 1px 2px rgba(0, 0, 0, 0.3));\n",
              "      fill: #FFFFFF;\n",
              "    }\n",
              "  </style>\n",
              "\n",
              "    <script>\n",
              "      const buttonEl =\n",
              "        document.querySelector('#df-bf729a3a-4f4a-4d5b-af72-c901afab3300 button.colab-df-convert');\n",
              "      buttonEl.style.display =\n",
              "        google.colab.kernel.accessAllowed ? 'block' : 'none';\n",
              "\n",
              "      async function convertToInteractive(key) {\n",
              "        const element = document.querySelector('#df-bf729a3a-4f4a-4d5b-af72-c901afab3300');\n",
              "        const dataTable =\n",
              "          await google.colab.kernel.invokeFunction('convertToInteractive',\n",
              "                                                    [key], {});\n",
              "        if (!dataTable) return;\n",
              "\n",
              "        const docLinkHtml = 'Like what you see? Visit the ' +\n",
              "          '<a target=\"_blank\" href=https://colab.research.google.com/notebooks/data_table.ipynb>data table notebook</a>'\n",
              "          + ' to learn more about interactive tables.';\n",
              "        element.innerHTML = '';\n",
              "        dataTable['output_type'] = 'display_data';\n",
              "        await google.colab.output.renderOutput(dataTable, element);\n",
              "        const docLink = document.createElement('div');\n",
              "        docLink.innerHTML = docLinkHtml;\n",
              "        element.appendChild(docLink);\n",
              "      }\n",
              "    </script>\n",
              "  </div>\n",
              "\n",
              "\n",
              "<div id=\"df-87fe7d3a-9229-4b03-ba0b-ee42543e2384\">\n",
              "  <button class=\"colab-df-quickchart\" onclick=\"quickchart('df-87fe7d3a-9229-4b03-ba0b-ee42543e2384')\"\n",
              "            title=\"Suggest charts\"\n",
              "            style=\"display:none;\">\n",
              "\n",
              "<svg xmlns=\"http://www.w3.org/2000/svg\" height=\"24px\"viewBox=\"0 0 24 24\"\n",
              "     width=\"24px\">\n",
              "    <g>\n",
              "        <path d=\"M19 3H5c-1.1 0-2 .9-2 2v14c0 1.1.9 2 2 2h14c1.1 0 2-.9 2-2V5c0-1.1-.9-2-2-2zM9 17H7v-7h2v7zm4 0h-2V7h2v10zm4 0h-2v-4h2v4z\"/>\n",
              "    </g>\n",
              "</svg>\n",
              "  </button>\n",
              "\n",
              "<style>\n",
              "  .colab-df-quickchart {\n",
              "      --bg-color: #E8F0FE;\n",
              "      --fill-color: #1967D2;\n",
              "      --hover-bg-color: #E2EBFA;\n",
              "      --hover-fill-color: #174EA6;\n",
              "      --disabled-fill-color: #AAA;\n",
              "      --disabled-bg-color: #DDD;\n",
              "  }\n",
              "\n",
              "  [theme=dark] .colab-df-quickchart {\n",
              "      --bg-color: #3B4455;\n",
              "      --fill-color: #D2E3FC;\n",
              "      --hover-bg-color: #434B5C;\n",
              "      --hover-fill-color: #FFFFFF;\n",
              "      --disabled-bg-color: #3B4455;\n",
              "      --disabled-fill-color: #666;\n",
              "  }\n",
              "\n",
              "  .colab-df-quickchart {\n",
              "    background-color: var(--bg-color);\n",
              "    border: none;\n",
              "    border-radius: 50%;\n",
              "    cursor: pointer;\n",
              "    display: none;\n",
              "    fill: var(--fill-color);\n",
              "    height: 32px;\n",
              "    padding: 0;\n",
              "    width: 32px;\n",
              "  }\n",
              "\n",
              "  .colab-df-quickchart:hover {\n",
              "    background-color: var(--hover-bg-color);\n",
              "    box-shadow: 0 1px 2px rgba(60, 64, 67, 0.3), 0 1px 3px 1px rgba(60, 64, 67, 0.15);\n",
              "    fill: var(--button-hover-fill-color);\n",
              "  }\n",
              "\n",
              "  .colab-df-quickchart-complete:disabled,\n",
              "  .colab-df-quickchart-complete:disabled:hover {\n",
              "    background-color: var(--disabled-bg-color);\n",
              "    fill: var(--disabled-fill-color);\n",
              "    box-shadow: none;\n",
              "  }\n",
              "\n",
              "  .colab-df-spinner {\n",
              "    border: 2px solid var(--fill-color);\n",
              "    border-color: transparent;\n",
              "    border-bottom-color: var(--fill-color);\n",
              "    animation:\n",
              "      spin 1s steps(1) infinite;\n",
              "  }\n",
              "\n",
              "  @keyframes spin {\n",
              "    0% {\n",
              "      border-color: transparent;\n",
              "      border-bottom-color: var(--fill-color);\n",
              "      border-left-color: var(--fill-color);\n",
              "    }\n",
              "    20% {\n",
              "      border-color: transparent;\n",
              "      border-left-color: var(--fill-color);\n",
              "      border-top-color: var(--fill-color);\n",
              "    }\n",
              "    30% {\n",
              "      border-color: transparent;\n",
              "      border-left-color: var(--fill-color);\n",
              "      border-top-color: var(--fill-color);\n",
              "      border-right-color: var(--fill-color);\n",
              "    }\n",
              "    40% {\n",
              "      border-color: transparent;\n",
              "      border-right-color: var(--fill-color);\n",
              "      border-top-color: var(--fill-color);\n",
              "    }\n",
              "    60% {\n",
              "      border-color: transparent;\n",
              "      border-right-color: var(--fill-color);\n",
              "    }\n",
              "    80% {\n",
              "      border-color: transparent;\n",
              "      border-right-color: var(--fill-color);\n",
              "      border-bottom-color: var(--fill-color);\n",
              "    }\n",
              "    90% {\n",
              "      border-color: transparent;\n",
              "      border-bottom-color: var(--fill-color);\n",
              "    }\n",
              "  }\n",
              "</style>\n",
              "\n",
              "  <script>\n",
              "    async function quickchart(key) {\n",
              "      const quickchartButtonEl =\n",
              "        document.querySelector('#' + key + ' button');\n",
              "      quickchartButtonEl.disabled = true;  // To prevent multiple clicks.\n",
              "      quickchartButtonEl.classList.add('colab-df-spinner');\n",
              "      try {\n",
              "        const charts = await google.colab.kernel.invokeFunction(\n",
              "            'suggestCharts', [key], {});\n",
              "      } catch (error) {\n",
              "        console.error('Error during call to suggestCharts:', error);\n",
              "      }\n",
              "      quickchartButtonEl.classList.remove('colab-df-spinner');\n",
              "      quickchartButtonEl.classList.add('colab-df-quickchart-complete');\n",
              "    }\n",
              "    (() => {\n",
              "      let quickchartButtonEl =\n",
              "        document.querySelector('#df-87fe7d3a-9229-4b03-ba0b-ee42543e2384 button');\n",
              "      quickchartButtonEl.style.display =\n",
              "        google.colab.kernel.accessAllowed ? 'block' : 'none';\n",
              "    })();\n",
              "  </script>\n",
              "</div>\n",
              "\n",
              "    </div>\n",
              "  </div>\n"
            ],
            "application/vnd.google.colaboratory.intrinsic+json": {
              "type": "dataframe",
              "variable_name": "test_processed",
              "summary": "{\n  \"name\": \"test_processed\",\n  \"rows\": 1000,\n  \"fields\": [\n    {\n      \"column\": \"sentiment\",\n      \"properties\": {\n        \"dtype\": \"category\",\n        \"num_unique_values\": 3,\n        \"samples\": [\n          \"Positive\",\n          \"Negative\",\n          \"Neutral\"\n        ],\n        \"semantic_type\": \"\",\n        \"description\": \"\"\n      }\n    },\n    {\n      \"column\": \"Processed_Review\",\n      \"properties\": {\n        \"dtype\": \"string\",\n        \"num_unique_values\": 979,\n        \"samples\": [\n          \"buy tablet sale look thing interest\",\n          \"echo show feel useless hour especially without ability watch youtube\",\n          \"purchase amazon echo show alexa store take home connection wi fi great cannot wait buy light bulb thermostat great buy\"\n        ],\n        \"semantic_type\": \"\",\n        \"description\": \"\"\n      }\n    }\n  ]\n}"
            }
          },
          "metadata": {},
          "execution_count": 34
        }
      ]
    },
    {
      "cell_type": "markdown",
      "source": [
        "**CountVectorizer (Bag of Words):**\n",
        "* Technique for converting textual data into a numerical representation.\n",
        "* Analyzes the text and builds a vocabulary (a dictionary that maps words to unique integer IDs)."
      ],
      "metadata": {
        "id": "KAjv5NZgudQ2"
      }
    },
    {
      "cell_type": "code",
      "source": [
        "bow = CountVectorizer(analyzer=textPreprocessing).fit(train_processed['Processed_Review'])\n",
        "train_vec = bow.transform(train_processed['Processed_Review'])         #Takes the processed reviews and converts them into a BoW matrix.\n",
        "test_vec = bow.transform(test_processed['Processed_Review'])"
      ],
      "metadata": {
        "id": "8csuvd32ukjL"
      },
      "execution_count": null,
      "outputs": []
    },
    {
      "cell_type": "code",
      "source": [
        "bow.vocabulary_"
      ],
      "metadata": {
        "colab": {
          "base_uri": "https://localhost:8080/"
        },
        "id": "P6vn1NBllQXk",
        "outputId": "6d89b0f1-094b-44f4-e0a2-f6e7a2771b8e"
      },
      "execution_count": null,
      "outputs": [
        {
          "output_type": "execute_result",
          "data": {
            "text/plain": [
              "{'purchase': 2350,\n",
              " 'black': 343,\n",
              " 'fridaypros': 1236,\n",
              " 'great': 1348,\n",
              " 'price': 2292,\n",
              " 'even': 1041,\n",
              " 'sale': 2565,\n",
              " 'powerful': 2259,\n",
              " 'fast': 1128,\n",
              " 'quad': 2361,\n",
              " 'core': 678,\n",
              " 'processor': 2315,\n",
              " 'amaze': 122,\n",
              " 'soundwell': 2782,\n",
              " 'builtcons': 421,\n",
              " 'amazon': 124,\n",
              " 'ad': 37,\n",
              " 'need': 1971,\n",
              " 'subsidize': 2894,\n",
              " 'tablet': 2955,\n",
              " 'remove': 2480,\n",
              " 'add': 42,\n",
              " 'pay': 2139,\n",
              " 'inability': 1523,\n",
              " 'access': 12,\n",
              " 'apps': 175,\n",
              " 'except': 1062,\n",
              " 'one': 2055,\n",
              " 'way': 3292,\n",
              " 'able': 2,\n",
              " 'accomplish': 20,\n",
              " 'google': 1319,\n",
              " 'play': 2210,\n",
              " 'storenet': 2861,\n",
              " 'money': 1922,\n",
              " 'two': 3136,\n",
              " 'echo': 951,\n",
              " 'plus': 2225,\n",
              " 'dot': 893,\n",
              " 'four': 1222,\n",
              " 'fire': 1166,\n",
              " 'stick': 2853,\n",
              " 'hub': 1469,\n",
              " 'philip': 2174,\n",
              " 'hue': 1471,\n",
              " 'lamp': 1696,\n",
              " 'family': 1120,\n",
              " 'christmas': 520,\n",
              " 'happy': 1385,\n",
              " 'learn': 1723,\n",
              " 'much': 1939,\n",
              " 'alexa': 94,\n",
              " 'start': 2834,\n",
              " 'daily': 742,\n",
              " 'routine': 2548,\n",
              " 'program': 2322,\n",
              " 'whatever': 3314,\n",
              " 'would': 3369,\n",
              " 'like': 1753,\n",
              " 'include': 1528,\n",
              " 'news': 1990,\n",
              " 'weather': 3298,\n",
              " 'music': 1951,\n",
              " 'horoscope': 1453,\n",
              " 'also': 115,\n",
              " 'day': 754,\n",
              " 'compliment': 607,\n",
              " 'think': 3026,\n",
              " 'important': 1514,\n",
              " 'give': 1289,\n",
              " 'best': 326,\n",
              " 'chili': 514,\n",
              " 'recipe': 2430,\n",
              " 'mean': 1852,\n",
              " 'call': 446,\n",
              " 'want': 3273,\n",
              " 'husband': 1480,\n",
              " 'use': 3203,\n",
              " 'stay': 2841,\n",
              " 'organize': 2076,\n",
              " 'business': 430,\n",
              " 'date': 750,\n",
              " 'reminder': 2476,\n",
              " 'go': 1301,\n",
              " 'average': 235,\n",
              " 'option': 2073,\n",
              " 'show': 2676,\n",
              " 'thing': 3025,\n",
              " 'screen': 2595,\n",
              " 'still': 2856,\n",
              " 'limit': 1757,\n",
              " 'good': 1310,\n",
              " 'product': 2317,\n",
              " 'exactly': 1058,\n",
              " 'rd': 2396,\n",
              " 'buy': 434,\n",
              " 'niece': 1998,\n",
              " 'case': 473,\n",
              " 'compare': 590,\n",
              " 'hold': 1434,\n",
              " 'protect': 2337,\n",
              " 'many': 1833,\n",
              " 'time': 3050,\n",
              " 'drop': 919,\n",
              " 'light': 1746,\n",
              " 'weight': 3308,\n",
              " 'wish': 3344,\n",
              " 'wifi': 3329,\n",
              " 'download': 898,\n",
              " 'online': 2057,\n",
              " 'year': 3385,\n",
              " 'old': 2051,\n",
              " 'daughter': 751,\n",
              " 'save': 2576,\n",
              " 'brother': 407,\n",
              " 'gb': 1265,\n",
              " 'early': 937,\n",
              " 'new': 1985,\n",
              " 'space': 2786,\n",
              " 'bite': 342,\n",
              " 'clunky': 553,\n",
              " 'le': 1718,\n",
              " 'intuitive': 1599,\n",
              " 'high': 1423,\n",
              " 'tough': 3084,\n",
              " 'beat': 301,\n",
              " 'speed': 2799,\n",
              " 'web': 3300,\n",
              " 'certain': 490,\n",
              " 'game': 1261,\n",
              " 'fine': 1161,\n",
              " 'book': 369,\n",
              " 'parental': 2118,\n",
              " 'control': 660,\n",
              " 'helpful': 1414,\n",
              " 'take': 2962,\n",
              " 'figure': 1152,\n",
              " 'require': 2496,\n",
              " 'step': 2847,\n",
              " 'seem': 2623,\n",
              " 'necessary': 1970,\n",
              " 'change': 497,\n",
              " 'overall': 2095,\n",
              " 'ok': 2048,\n",
              " 'first': 1170,\n",
              " 'kid': 1662,\n",
              " 'consider': 637,\n",
              " 'adult': 58,\n",
              " 'e': 935,\n",
              " 'basic': 281,\n",
              " 'otherwise': 2083,\n",
              " 'quality': 2362,\n",
              " 'efficiency': 967,\n",
              " 'son': 2763,\n",
              " 'room': 2542,\n",
              " 'upgrade': 3191,\n",
              " 'memory': 1868,\n",
              " 'allow': 102,\n",
              " 'speaker': 2789,\n",
              " 'could': 686,\n",
              " 'locate': 1776,\n",
              " 'position': 2249,\n",
              " 'mom': 1918,\n",
              " 'get': 1278,\n",
              " 'ipad': 1610,\n",
              " 'might': 1885,\n",
              " 'expensive': 1084,\n",
              " 'well': 3311,\n",
              " 'cheap': 506,\n",
              " 'run': 2553,\n",
              " 'chrome': 522,\n",
              " 'stuff': 2881,\n",
              " 'return': 2523,\n",
              " 'store': 2860,\n",
              " 'replace': 2488,\n",
              " 'love': 1796,\n",
              " 'child': 510,\n",
              " 'profile': 2320,\n",
              " 'ability': 1,\n",
              " 'replacement': 2489,\n",
              " 'warranty': 3278,\n",
              " 'come': 574,\n",
              " 'handy': 1381,\n",
              " 'make': 1821,\n",
              " 'sure': 2927,\n",
              " 'monitor': 1923,\n",
              " 'prevent': 2289,\n",
              " 'unwanted': 3186,\n",
              " 'app': 158,\n",
              " 'choice': 516,\n",
              " 'color': 566,\n",
              " 'kindle': 1675,\n",
              " 'gift': 1282,\n",
              " 'hd': 1397,\n",
              " 'age': 72,\n",
              " 'ipads': 1611,\n",
              " 'fact': 1112,\n",
              " 'tv': 3129,\n",
              " 'movie': 1937,\n",
              " 'watch': 3287,\n",
              " 'line': 1760,\n",
              " 'easy': 943,\n",
              " 'set': 2649,\n",
              " 'surprisingly': 2935,\n",
              " 'useful': 3204,\n",
              " 'ben': 320,\n",
              " 'gen': 1270,\n",
              " 'definitely': 779,\n",
              " 'recommend': 2436,\n",
              " 'seam': 2605,\n",
              " 'work': 3358,\n",
              " 'model': 1913,\n",
              " 'build': 420,\n",
              " 'strip': 2873,\n",
              " 'say': 2581,\n",
              " 'sound': 2778,\n",
              " 'baby': 251,\n",
              " 'talk': 2963,\n",
              " 'lol': 1783,\n",
              " 'little': 1769,\n",
              " 'hesitant': 1418,\n",
              " 'spend': 2802,\n",
              " 'glad': 1291,\n",
              " 'always': 119,\n",
              " 'answer': 144,\n",
              " 'command': 579,\n",
              " 'notice': 2016,\n",
              " 'probably': 2310,\n",
              " 'right': 2531,\n",
              " 'see': 2621,\n",
              " 'brief': 401,\n",
              " 'picture': 2189,\n",
              " 'video': 3239,\n",
              " 'nice': 1995,\n",
              " 'plan': 2206,\n",
              " 'grandma': 1337,\n",
              " 'technologically': 2982,\n",
              " 'advance': 59,\n",
              " 'sit': 2707,\n",
              " 'table': 2954,\n",
              " 'grandkids': 1336,\n",
              " 'worth': 3365,\n",
              " 'every': 1047,\n",
              " 'penny': 2149,\n",
              " 'exceed': 1060,\n",
              " 'expectation': 1082,\n",
              " 'item': 1620,\n",
              " 'prime': 2298,\n",
              " 'almost': 107,\n",
              " 'must': 1953,\n",
              " 'keep': 1657,\n",
              " 'place': 2202,\n",
              " 'small': 2734,\n",
              " 'enough': 1012,\n",
              " 'carry': 470,\n",
              " 'purse': 2354,\n",
              " 'open': 2064,\n",
              " 'whole': 3325,\n",
              " 'world': 3361,\n",
              " 'wait': 3267,\n",
              " 'appointment': 168,\n",
              " 'listen': 1765,\n",
              " 'sign': 2684,\n",
              " 'unlimited': 3175,\n",
              " 'pandora': 2109,\n",
              " 'device': 819,\n",
              " 'home': 1437,\n",
              " 'enjoy': 1008,\n",
              " 'view': 3242,\n",
              " 'adjustment': 53,\n",
              " 'fit': 1172,\n",
              " 'grand': 1327,\n",
              " 'pick': 2186,\n",
              " 'network': 1983,\n",
              " 'short': 2672,\n",
              " 'order': 2075,\n",
              " 'idea': 1487,\n",
              " 'implement': 1511,\n",
              " 'setup': 2652,\n",
              " 'enable': 994,\n",
              " 'voice': 3259,\n",
              " 'io': 1608,\n",
              " 'unclear': 3150,\n",
              " 'connect': 630,\n",
              " 'equipment': 1027,\n",
              " 'wife': 3328,\n",
              " 'kitchen': 1680,\n",
              " 'different': 827,\n",
              " 'communicate': 583,\n",
              " 'directly': 843,\n",
              " 'facetime': 1110,\n",
              " 'rather': 2391,\n",
              " 'someone': 2754,\n",
              " 'deal': 760,\n",
              " 'breaker': 397,\n",
              " 'though': 3032,\n",
              " 'alot': 110,\n",
              " 'instead': 1574,\n",
              " 'dog': 885,\n",
              " 'somewhere': 2762,\n",
              " 'lot': 1793,\n",
              " 'awesome': 242,\n",
              " 'internet': 1595,\n",
              " 'stream': 2868,\n",
              " 'dont': 889,\n",
              " 'everything': 1052,\n",
              " 'however': 1465,\n",
              " 'within': 3345,\n",
              " 'update': 3190,\n",
              " 'often': 2047,\n",
              " 'happen': 1383,\n",
              " 'top': 3074,\n",
              " 'mini': 1893,\n",
              " 'expect': 1081,\n",
              " 'highly': 1425,\n",
              " 'look': 1786,\n",
              " 'quick': 2368,\n",
              " 'specifically': 2796,\n",
              " 'aspect': 198,\n",
              " 'life': 1743,\n",
              " 'perform': 2156,\n",
              " 'pleasantly': 2220,\n",
              " 'surprise': 2934,\n",
              " 'performance': 2157,\n",
              " 'help': 1413,\n",
              " 'rutine': 2556,\n",
              " 'ask': 196,\n",
              " 'simple': 2694,\n",
              " 'specific': 2795,\n",
              " 'flash': 1175,\n",
              " 'traffic': 3095,\n",
              " 'commute': 585,\n",
              " 'tool': 3071,\n",
              " 'tech': 2975,\n",
              " 'enthusiast': 1018,\n",
              " 'meet': 1861,\n",
              " 'stylus': 2888,\n",
              " 'pen': 2148,\n",
              " 'storage': 2859,\n",
              " 'mine': 1891,\n",
              " 'read': 2400,\n",
              " 'surf': 2928,\n",
              " 'dark': 745,\n",
              " 'reason': 2413,\n",
              " 'hulu': 1475,\n",
              " 'netflix': 1982,\n",
              " 'wonderful': 3352,\n",
              " 'free': 1227,\n",
              " 'fantastic': 1124,\n",
              " 'office': 2045,\n",
              " 'personal': 2166,\n",
              " 'assistant': 203,\n",
              " 'totally': 3079,\n",
              " 'friendly': 1238,\n",
              " 'cost': 683,\n",
              " 'investment': 1605,\n",
              " 'tap': 2967,\n",
              " 'essentially': 1037,\n",
              " 'version': 3232,\n",
              " 'capability': 455,\n",
              " 'double': 894,\n",
              " 'portable': 2246,\n",
              " 'bluetooth': 358,\n",
              " 'anything': 151,\n",
              " 'prefer': 2271,\n",
              " 'college': 565,\n",
              " 'student': 2879,\n",
              " 'supplement': 2921,\n",
              " 'therapy': 3016,\n",
              " 'practice': 2265,\n",
              " 'awhile': 243,\n",
              " 'approve': 174,\n",
              " 'charge': 501,\n",
              " 'account': 21,\n",
              " 'register': 2455,\n",
              " 'beautiful': 302,\n",
              " 'camera': 449,\n",
              " 'photo': 2180,\n",
              " 'pixelated': 2200,\n",
              " 'inexpensive': 1550,\n",
              " 'nabi': 1957,\n",
              " 'thrill': 3035,\n",
              " 'skype': 2717,\n",
              " 'already': 113,\n",
              " 'battery': 292,\n",
              " 'outstanding': 2093,\n",
              " 'really': 2410,\n",
              " 'worry': 3364,\n",
              " 'size': 2711,\n",
              " 'wasnt': 3282,\n",
              " 'something': 2756,\n",
              " 'friday': 1235,\n",
              " 'soon': 2768,\n",
              " 'understand': 3155,\n",
              " 'enhance': 1006,\n",
              " 'adjust': 51,\n",
              " 'shop': 2671,\n",
              " 'list': 1764,\n",
              " 'touch': 3080,\n",
              " 'walk': 3269,\n",
              " 'blurb': 361,\n",
              " 'sleek': 2718,\n",
              " 'counter': 688,\n",
              " 'anyone': 150,\n",
              " 'absolutely': 5,\n",
              " 'feature': 1134,\n",
              " 'market': 1836,\n",
              " 'value': 3218,\n",
              " 'incredible': 1534,\n",
              " 'question': 2366,\n",
              " 'timer': 3053,\n",
              " 'etc': 1039,\n",
              " 'heart': 1405,\n",
              " 'recommendation': 2437,\n",
              " 'simarly': 2692,\n",
              " 'screenless': 2597,\n",
              " 'auto': 226,\n",
              " 'entertainment': 1016,\n",
              " 'friend': 1237,\n",
              " 'knowledge': 1686,\n",
              " 'joke': 1640,\n",
              " 'ton': 3068,\n",
              " 'fun': 1246,\n",
              " 'weekend': 3305,\n",
              " 'sorcerer': 2773,\n",
              " 'box': 387,\n",
              " 'display': 863,\n",
              " 'magical': 1812,\n",
              " 'bright': 402,\n",
              " 'pretty': 2287,\n",
              " 'ecosystem': 955,\n",
              " 'nothing': 2015,\n",
              " 'spectacular': 2797,\n",
              " 'majorly': 1820,\n",
              " 'wrong': 3374,\n",
              " 'big': 334,\n",
              " 'flaw': 1178,\n",
              " 'gear': 1266,\n",
              " 'find': 1160,\n",
              " 'search': 2608,\n",
              " 'lock': 1778,\n",
              " 'hit': 1430,\n",
              " 'back': 253,\n",
              " 'relax': 2465,\n",
              " 'guide': 1364,\n",
              " 'activate': 30,\n",
              " 'commercial': 581,\n",
              " 'correct': 680,\n",
              " 'multiple': 1942,\n",
              " 'household': 1463,\n",
              " 'comparable': 589,\n",
              " 'competitor': 597,\n",
              " 'geek': 1268,\n",
              " 'squad': 2819,\n",
              " 'monday': 1921,\n",
              " 'april': 178,\n",
              " 'along': 109,\n",
              " 'perfect': 2153,\n",
              " 'weary': 3297,\n",
              " 'hang': 1382,\n",
              " 'member': 1865,\n",
              " 'explore': 1090,\n",
              " 'skill': 2714,\n",
              " 'alarm': 89,\n",
              " 'inform': 1553,\n",
              " 'today': 3062,\n",
              " 'forcast': 1209,\n",
              " 'local': 1775,\n",
              " 'event': 1043,\n",
              " 'decent': 764,\n",
              " 'mindless': 1890,\n",
              " 'another': 143,\n",
              " 'accessory': 14,\n",
              " 'house': 1462,\n",
              " 'us': 3198,\n",
              " 'cook': 671,\n",
              " 'grocery': 1356,\n",
              " 'crisp': 714,\n",
              " 'since': 2698,\n",
              " 'wash': 3280,\n",
              " 'twice': 3132,\n",
              " 'throw': 3039,\n",
              " 'tick': 3044,\n",
              " 'automate': 227,\n",
              " 'ereader': 1030,\n",
              " 'pricy': 2295,\n",
              " 'spec': 2791,\n",
              " 'voyage': 3262,\n",
              " 'far': 1125,\n",
              " 'pixel': 2199,\n",
              " 'procesor': 2313,\n",
              " 'difference': 826,\n",
              " 'lead': 1719,\n",
              " 'long': 1784,\n",
              " 'cover': 697,\n",
              " 'drain': 905,\n",
              " 'without': 3346,\n",
              " 'hour': 1461,\n",
              " 'water': 3289,\n",
              " 'resistant': 2504,\n",
              " 'hence': 1416,\n",
              " 'name': 1959,\n",
              " 'rain': 2380,\n",
              " 'outside': 2092,\n",
              " 'bath': 287,\n",
              " 'currently': 730,\n",
              " 'offer': 2044,\n",
              " 'mind': 1889,\n",
              " 'tag': 2960,\n",
              " 'bad': 263,\n",
              " 'numerous': 2026,\n",
              " 'educational': 963,\n",
              " 'available': 233,\n",
              " 'yr': 3400,\n",
              " 'granddaughter': 1332,\n",
              " 'unable': 3145,\n",
              " 'excite': 1066,\n",
              " 'deliver': 788,\n",
              " 'simply': 2697,\n",
              " 'easily': 941,\n",
              " 'miss': 1905,\n",
              " 'yo': 3391,\n",
              " 'facebook': 1108,\n",
              " 'brand': 392,\n",
              " 'task': 2970,\n",
              " 'complaint': 599,\n",
              " 'leave': 1726,\n",
              " 'plane': 2207,\n",
              " 'late': 1707,\n",
              " 'due': 925,\n",
              " 'technology': 2983,\n",
              " 'side': 2682,\n",
              " 'mobil': 1909,\n",
              " 'phone': 2178,\n",
              " 'people': 2150,\n",
              " 'choose': 517,\n",
              " 'disappoint': 849,\n",
              " 'father': 1129,\n",
              " 'external': 1098,\n",
              " 'pdfs': 2143,\n",
              " 'properly': 2335,\n",
              " 'either': 973,\n",
              " 'zoom': 3406,\n",
              " 'provide': 2343,\n",
              " 'experience': 1085,\n",
              " 'install': 1569,\n",
              " 'quiet': 2370,\n",
              " 'ever': 1045,\n",
              " 'hand': 1377,\n",
              " 'tie': 3045,\n",
              " 'likenit': 1755,\n",
              " 'cradle': 701,\n",
              " 'user': 3209,\n",
              " 'large': 1701,\n",
              " 'unfair': 3162,\n",
              " 'rate': 2390,\n",
              " 'cause': 481,\n",
              " 'homework': 1440,\n",
              " 'worthless': 3366,\n",
              " 'regular': 2457,\n",
              " 'poor': 2238,\n",
              " 'excuse': 1072,\n",
              " 'chat': 505,\n",
              " 'bathroom': 288,\n",
              " 'pool': 2236,\n",
              " 'may': 1848,\n",
              " 'info': 1552,\n",
              " 'hot': 1458,\n",
              " 'skeptical': 2713,\n",
              " 'project': 2326,\n",
              " 'f': 1106,\n",
              " 'drone': 918,\n",
              " 'youtube': 3399,\n",
              " 'sell': 2630,\n",
              " 'test': 3001,\n",
              " 'iphone': 1612,\n",
              " 'android': 135,\n",
              " 'function': 1248,\n",
              " 'unless': 3173,\n",
              " 'check': 509,\n",
              " 'move': 1936,\n",
              " 'foot': 1207,\n",
              " 'outlet': 2088,\n",
              " 'hugh': 1474,\n",
              " 'expense': 1083,\n",
              " 'others': 2082,\n",
              " 'know': 1685,\n",
              " 'employee': 992,\n",
              " 'needespecially': 1972,\n",
              " 'jissela': 1635,\n",
              " 'clear': 539,\n",
              " 'huge': 1473,\n",
              " 'teach': 2972,\n",
              " 'turn': 3128,\n",
              " 'advertise': 62,\n",
              " 'browser': 410,\n",
              " 'determine': 815,\n",
              " 'certainly': 491,\n",
              " 'fianc': 1146,\n",
              " 'excellent': 1061,\n",
              " 'form': 1215,\n",
              " 'adore': 57,\n",
              " 'flatness': 1177,\n",
              " 'brightness': 404,\n",
              " 'daylight': 755,\n",
              " 'imo': 1508,\n",
              " 'actually': 36,\n",
              " 'yes': 3388,\n",
              " 'operate': 2066,\n",
              " 'wireless': 3340,\n",
              " 'speak': 2788,\n",
              " 'microphone': 1879,\n",
              " 'button': 433,\n",
              " 'rechargeable': 2426,\n",
              " 'base': 279,\n",
              " 'unit': 3168,\n",
              " 'wonder': 3351,\n",
              " 'didnt': 823,\n",
              " 'browse': 409,\n",
              " 'fancy': 1123,\n",
              " 'perfectly': 2154,\n",
              " 'pff': 2172,\n",
              " 'wont': 3354,\n",
              " 'cant': 454,\n",
              " 'nd': 1965,\n",
              " 'present': 2283,\n",
              " 'issue': 1619,\n",
              " 'functionality': 1250,\n",
              " 'content': 654,\n",
              " 'elderly': 974,\n",
              " 'xmas': 3379,\n",
              " 'electronic': 976,\n",
              " 'competent': 595,\n",
              " 'please': 2221,\n",
              " 'grandson': 1342,\n",
              " 'together': 3065,\n",
              " 'send': 2632,\n",
              " 'message': 1873,\n",
              " 'grandparent': 1341,\n",
              " 'extra': 1100,\n",
              " 'last': 1703,\n",
              " 'nephew': 1978,\n",
              " 'meantime': 1853,\n",
              " 'gadget': 1258,\n",
              " 'august': 222,\n",
              " 'charger': 502,\n",
              " 'connection': 631,\n",
              " 'loose': 1789,\n",
              " 'exchange': 1065,\n",
              " 'problem': 2311,\n",
              " 'sister': 2706,\n",
              " 'rethink': 2520,\n",
              " 'let': 1734,\n",
              " 'word': 3357,\n",
              " 'equally': 1025,\n",
              " 'impressive': 1519,\n",
              " 'gradually': 1326,\n",
              " 'blind': 351,\n",
              " 'feel': 1140,\n",
              " 'affordable': 68,\n",
              " 'class': 536,\n",
              " 'dad': 740,\n",
              " 'super': 2916,\n",
              " 'live': 1771,\n",
              " 'try': 3121,\n",
              " 'switch': 2943,\n",
              " 'capable': 456,\n",
              " 'previous': 2290,\n",
              " 'alternative': 117,\n",
              " 'lose': 1791,\n",
              " 'break': 395,\n",
              " 'pocket': 2227,\n",
              " 'improvement': 1521,\n",
              " 'bring': 406,\n",
              " 'u': 3140,\n",
              " 'rundown': 2554,\n",
              " 'morning': 1928,\n",
              " 'car': 462,\n",
              " 'thick': 3023,\n",
              " 'rubber': 2549,\n",
              " 'mix': 1906,\n",
              " 'cord': 677,\n",
              " 'pull': 2347,\n",
              " 'port': 2244,\n",
              " 'angle': 137,\n",
              " 'mow': 1938,\n",
              " 'yard': 3383,\n",
              " 'song': 2764,\n",
              " 'various': 3222,\n",
              " 'reluctant': 2470,\n",
              " 'package': 2104,\n",
              " 'phillips': 2175,\n",
              " 'bulb': 422,\n",
              " 'addictive': 44,\n",
              " 'pair': 2108,\n",
              " 'become': 304,\n",
              " 'indispensable': 1543,\n",
              " 'availability': 232,\n",
              " 'three': 3034,\n",
              " 'smart': 2735,\n",
              " 'firesticks': 1168,\n",
              " 'confuse': 626,\n",
              " 'safe': 2559,\n",
              " 'sd': 2602,\n",
              " 'card': 463,\n",
              " 'playimg': 2214,\n",
              " 'past': 2132,\n",
              " 'defective': 776,\n",
              " 'bend': 321,\n",
              " 'hard': 1387,\n",
              " 'possible': 2253,\n",
              " 'pic': 2185,\n",
              " 'substitute': 2897,\n",
              " 'minimal': 1895,\n",
              " 'usage': 3200,\n",
              " 'never': 1984,\n",
              " 'text': 3003,\n",
              " 'font': 1204,\n",
              " 'page': 2106,\n",
              " 'flip': 1185,\n",
              " 'positive': 2251,\n",
              " 'review': 2525,\n",
              " 'reflection': 2450,\n",
              " 'month': 1926,\n",
              " 'contact': 651,\n",
              " 'support': 2923,\n",
              " 'factory': 1114,\n",
              " 'reset': 2502,\n",
              " 'poorly': 2239,\n",
              " 'design': 803,\n",
              " 'pop': 2240,\n",
              " 'constantly': 645,\n",
              " 'mess': 1872,\n",
              " 'drm': 916,\n",
              " 'fix': 1174,\n",
              " 'unfortunately': 3164,\n",
              " 'maybe': 1849,\n",
              " 'information': 1554,\n",
              " 'beyond': 329,\n",
              " 'frustrate': 1241,\n",
              " 'library': 1740,\n",
              " 'verification': 3227,\n",
              " 'code': 556,\n",
              " 'minute': 1900,\n",
              " 'request': 2495,\n",
              " 'nother': 2014,\n",
              " 'feed': 1138,\n",
              " 'away': 241,\n",
              " 'mall': 1823,\n",
              " 'recieved': 2428,\n",
              " 'decide': 767,\n",
              " 'micro': 1878,\n",
              " 'science': 2588,\n",
              " 'speech': 2798,\n",
              " 'put': 2356,\n",
              " 'dry': 921,\n",
              " 'clothe': 549,\n",
              " 'completely': 602,\n",
              " 'contol': 658,\n",
              " 'aunt': 223,\n",
              " 'ease': 940,\n",
              " 'cut': 738,\n",
              " 'contrast': 659,\n",
              " 'around': 186,\n",
              " 'basically': 282,\n",
              " 'reader': 2403,\n",
              " 'backlit': 258,\n",
              " 'low': 1800,\n",
              " 'night': 1999,\n",
              " 'sun': 2910,\n",
              " 'adjustable': 52,\n",
              " 'g': 1257,\n",
              " 'yet': 3390,\n",
              " 'wi': 3326,\n",
              " 'fi': 1145,\n",
              " 'area': 183,\n",
              " 'security': 2620,\n",
              " 'avid': 236,\n",
              " 'young': 3396,\n",
              " 'face': 1107,\n",
              " 'manga': 1829,\n",
              " 'galaxy': 1260,\n",
              " 'extreme': 1101,\n",
              " 'leaf': 1720,\n",
              " 'tell': 2991,\n",
              " 'extremely': 1102,\n",
              " 'satisfy': 2575,\n",
              " 'mother': 1930,\n",
              " 'fanatic': 1122,\n",
              " 'hear': 1404,\n",
              " 'kind': 1670,\n",
              " 'partial': 2122,\n",
              " 'agree': 77,\n",
              " 'tank': 2966,\n",
              " 'concern': 614,\n",
              " 'plastic': 2208,\n",
              " 'particular': 2123,\n",
              " 'parent': 2117,\n",
              " 'activity': 34,\n",
              " 'hook': 1446,\n",
              " 'comfortable': 576,\n",
              " 'receive': 2419,\n",
              " 'research': 2500,\n",
              " 'several': 2654,\n",
              " 'outdoor': 2086,\n",
              " 'starter': 2835,\n",
              " 'individual': 1544,\n",
              " 'competitive': 596,\n",
              " 'interactive': 1587,\n",
              " 'ebooks': 949,\n",
              " 'entertain': 1015,\n",
              " 'hope': 1450,\n",
              " 'format': 1216,\n",
              " 'crystal': 724,\n",
              " 'compete': 594,\n",
              " 'variation': 3220,\n",
              " 'recent': 2421,\n",
              " 'paperwhite': 2114,\n",
              " 'balance': 266,\n",
              " 'adaptable': 39,\n",
              " 'construction': 647,\n",
              " 'improve': 1520,\n",
              " 'strain': 2866,\n",
              " 'eye': 1103,\n",
              " 'demerit': 792,\n",
              " 'bedroom': 306,\n",
              " 'superior': 2919,\n",
              " 'hurt': 1479,\n",
              " 'teenage': 2986,\n",
              " 'write': 3373,\n",
              " 'point': 2232,\n",
              " 'third': 3027,\n",
              " 'serf': 2641,\n",
              " 'purpose': 2353,\n",
              " 'real': 2406,\n",
              " 'negative': 1974,\n",
              " 'interest': 1589,\n",
              " 'least': 1724,\n",
              " 'vivint': 3257,\n",
              " 'respond': 2509,\n",
              " 'barnes': 276,\n",
              " 'noble': 2001,\n",
              " 'nook': 2008,\n",
              " 'email': 989,\n",
              " 'bundle': 428,\n",
              " 'additional': 46,\n",
              " 'tplink': 3090,\n",
              " 'plug': 2224,\n",
              " 'personally': 2168,\n",
              " 'shape': 2658,\n",
              " 'square': 2820,\n",
              " 'inch': 1527,\n",
              " 'suddenly': 2901,\n",
              " 'fail': 1115,\n",
              " 'buck': 415,\n",
              " 'rid': 2529,\n",
              " 'aware': 240,\n",
              " 'everybody': 1048,\n",
              " 'melbourne': 1864,\n",
              " 'florida': 1188,\n",
              " 'verbal': 3226,\n",
              " 'visual': 3252,\n",
              " 'autism': 225,\n",
              " 'development': 818,\n",
              " 'anywhere': 154,\n",
              " 'finish': 1164,\n",
              " 'digitally': 834,\n",
              " 'travel': 3104,\n",
              " 'die': 824,\n",
              " 'ap': 155,\n",
              " 'durable': 927,\n",
              " 'sweet': 2941,\n",
              " 'bonus': 368,\n",
              " 'road': 2536,\n",
              " 'trip': 3116,\n",
              " 'feedback': 1139,\n",
              " 'result': 2519,\n",
              " 'addition': 45,\n",
              " 'fairly': 1117,\n",
              " 'definite': 778,\n",
              " 'winner': 3337,\n",
              " 'author': 224,\n",
              " 'frequently': 1234,\n",
              " 'promotional': 2329,\n",
              " 'prize': 2307,\n",
              " 'hitch': 1431,\n",
              " 'shy': 2678,\n",
              " 'couple': 693,\n",
              " 'instruction': 1576,\n",
              " 'assistance': 202,\n",
              " 'thank': 3007,\n",
              " 'unleash': 3172,\n",
              " 'representative': 2493,\n",
              " 'lady': 1692,\n",
              " 'membership': 1866,\n",
              " 'par': 2116,\n",
              " 'service': 2646,\n",
              " 'audio': 217,\n",
              " 'battert': 291,\n",
              " 'star': 2830,\n",
              " 'girl': 1287,\n",
              " 'drawback': 908,\n",
              " 'non': 2004,\n",
              " 'dim': 836,\n",
              " 'flicker': 1182,\n",
              " 'full': 1243,\n",
              " 'recognize': 2434,\n",
              " 'guy': 1366,\n",
              " 'con': 611,\n",
              " 'sensitivity': 2637,\n",
              " 'bridge': 400,\n",
              " 'difficult': 829,\n",
              " 'navigate': 1963,\n",
              " 'sahre': 2562,\n",
              " 'reasonable': 2414,\n",
              " 'job': 1636,\n",
              " 'responsive': 2511,\n",
              " 'cannot': 453,\n",
              " 'chromecast': 523,\n",
              " 'realize': 2408,\n",
              " 'source': 2783,\n",
              " 'load': 1773,\n",
              " 'education': 962,\n",
              " 'ur': 3197,\n",
              " 'distract': 869,\n",
              " 'mechanic': 1857,\n",
              " 'slightly': 2725,\n",
              " 'sunlight': 2913,\n",
              " 'beach': 299,\n",
              " 'poolside': 2237,\n",
              " 'terrific': 3000,\n",
              " 'sink': 2701,\n",
              " 'keyboard': 1659,\n",
              " 'appropriate': 173,\n",
              " 'power': 2258,\n",
              " 'protection': 2338,\n",
              " 'terrible': 2999,\n",
              " 'similar': 2693,\n",
              " 'logitech': 1780,\n",
              " 'ue': 3141,\n",
              " 'boom': 374,\n",
              " 'promotion': 2328,\n",
              " 'expandable': 1078,\n",
              " 'apple': 163,\n",
              " 'end': 997,\n",
              " 'hindsight': 1427,\n",
              " 'volume': 3261,\n",
              " 'soft': 2746,\n",
              " 'bulky': 424,\n",
              " 'instance': 1571,\n",
              " 'strong': 2874,\n",
              " 'toddler': 3063,\n",
              " 'combo': 572,\n",
              " 'street': 2870,\n",
              " 'ago': 76,\n",
              " 'savvy': 2578,\n",
              " 'luv': 1805,\n",
              " 'hasmore': 1393,\n",
              " 'especially': 1035,\n",
              " 'microsd': 1880,\n",
              " 'december': 763,\n",
              " 'construct': 646,\n",
              " 'credit': 711,\n",
              " 'suggest': 2904,\n",
              " 'prepay': 2278,\n",
              " 'enjoyment': 1010,\n",
              " 'instal': 1568,\n",
              " 'transfer': 3100,\n",
              " 'understatement': 3158,\n",
              " 'attempt': 213,\n",
              " 'suit': 2906,\n",
              " 'occupy': 2039,\n",
              " 'annoy': 140,\n",
              " 'fight': 1151,\n",
              " 'ring': 2533,\n",
              " 'doorbell': 891,\n",
              " 'edition': 960,\n",
              " 'tremendous': 3111,\n",
              " 'bug': 418,\n",
              " 'dream': 910,\n",
              " 'topic': 3075,\n",
              " 'lyric': 1806,\n",
              " 'scroll': 2601,\n",
              " 'trailer': 3096,\n",
              " 'special': 2792,\n",
              " 'cool': 674,\n",
              " 'alone': 108,\n",
              " 'oasis': 2031,\n",
              " 'wake': 3268,\n",
              " 'second': 2613,\n",
              " 'instantly': 1573,\n",
              " 'ready': 2405,\n",
              " 'heavy': 1410,\n",
              " 'sometimes': 2758,\n",
              " 'pace': 2102,\n",
              " 'floor': 1187,\n",
              " 'elliptical': 984,\n",
              " 'machine': 1808,\n",
              " 'matter': 1845,\n",
              " 'remain': 2472,\n",
              " ...}"
            ]
          },
          "metadata": {},
          "execution_count": 36
        }
      ]
    },
    {
      "cell_type": "code",
      "source": [
        "len(bow.vocabulary_)"
      ],
      "metadata": {
        "colab": {
          "base_uri": "https://localhost:8080/"
        },
        "id": "fAcc-yNilZ85",
        "outputId": "5541dee9-8c57-4cea-d895-dc9ac2761263"
      },
      "execution_count": null,
      "outputs": [
        {
          "output_type": "execute_result",
          "data": {
            "text/plain": [
              "3407"
            ]
          },
          "metadata": {},
          "execution_count": 37
        }
      ]
    },
    {
      "cell_type": "code",
      "source": [
        "train_vec.shape"
      ],
      "metadata": {
        "colab": {
          "base_uri": "https://localhost:8080/"
        },
        "id": "fBv-TdLxm19d",
        "outputId": "943a9119-6bad-4e0a-e8ce-73b0559b97af"
      },
      "execution_count": null,
      "outputs": [
        {
          "output_type": "execute_result",
          "data": {
            "text/plain": [
              "(4000, 3407)"
            ]
          },
          "metadata": {},
          "execution_count": 38
        }
      ]
    },
    {
      "cell_type": "code",
      "source": [
        "test_vec.shape"
      ],
      "metadata": {
        "colab": {
          "base_uri": "https://localhost:8080/"
        },
        "id": "yKIpRIRV1c1E",
        "outputId": "5ec04702-9619-47d8-d948-9adaa28e26ff"
      },
      "execution_count": null,
      "outputs": [
        {
          "output_type": "execute_result",
          "data": {
            "text/plain": [
              "(1000, 3407)"
            ]
          },
          "metadata": {},
          "execution_count": 39
        }
      ]
    },
    {
      "cell_type": "code",
      "source": [
        "test_vec.toarray()"
      ],
      "metadata": {
        "colab": {
          "base_uri": "https://localhost:8080/"
        },
        "id": "SkR-ax5uCzeq",
        "outputId": "b85a8aeb-ab22-4dc9-ecf3-618acda926eb"
      },
      "execution_count": null,
      "outputs": [
        {
          "output_type": "execute_result",
          "data": {
            "text/plain": [
              "array([[0, 0, 0, ..., 0, 0, 0],\n",
              "       [0, 0, 0, ..., 0, 0, 0],\n",
              "       [0, 0, 0, ..., 0, 0, 0],\n",
              "       ...,\n",
              "       [0, 0, 0, ..., 0, 0, 0],\n",
              "       [0, 0, 0, ..., 0, 0, 0],\n",
              "       [0, 0, 0, ..., 0, 0, 0]])"
            ]
          },
          "metadata": {},
          "execution_count": 40
        }
      ]
    },
    {
      "cell_type": "code",
      "source": [
        "print(train_vec)"
      ],
      "metadata": {
        "colab": {
          "base_uri": "https://localhost:8080/"
        },
        "id": "Y_6kIW3xAiGa",
        "outputId": "9f6f0bf8-753f-45bb-aeed-3121b1d8de47"
      },
      "execution_count": null,
      "outputs": [
        {
          "output_type": "stream",
          "name": "stdout",
          "text": [
            "  (0, 2)\t1\n",
            "  (0, 12)\t1\n",
            "  (0, 20)\t1\n",
            "  (0, 37)\t1\n",
            "  (0, 42)\t2\n",
            "  (0, 122)\t1\n",
            "  (0, 124)\t3\n",
            "  (0, 175)\t1\n",
            "  (0, 343)\t1\n",
            "  (0, 421)\t1\n",
            "  (0, 678)\t1\n",
            "  (0, 1041)\t1\n",
            "  (0, 1062)\t1\n",
            "  (0, 1128)\t1\n",
            "  (0, 1236)\t1\n",
            "  (0, 1319)\t1\n",
            "  (0, 1348)\t2\n",
            "  (0, 1523)\t1\n",
            "  (0, 1922)\t1\n",
            "  (0, 1971)\t1\n",
            "  (0, 2055)\t1\n",
            "  (0, 2139)\t1\n",
            "  (0, 2210)\t1\n",
            "  (0, 2259)\t1\n",
            "  (0, 2292)\t1\n",
            "  :\t:\n",
            "  (3997, 2789)\t3\n",
            "  (3997, 2827)\t1\n",
            "  (3997, 2830)\t1\n",
            "  (3997, 3025)\t2\n",
            "  (3997, 3168)\t1\n",
            "  (3997, 3203)\t1\n",
            "  (3997, 3273)\t1\n",
            "  (3997, 3325)\t1\n",
            "  (3997, 3364)\t1\n",
            "  (3998, 124)\t1\n",
            "  (3998, 343)\t1\n",
            "  (3998, 566)\t1\n",
            "  (3998, 1082)\t1\n",
            "  (3998, 1166)\t1\n",
            "  (3998, 1170)\t1\n",
            "  (3998, 1753)\t1\n",
            "  (3998, 1861)\t1\n",
            "  (3998, 2350)\t1\n",
            "  (3998, 2613)\t1\n",
            "  (3998, 2955)\t1\n",
            "  (3998, 3050)\t1\n",
            "  (3999, 968)\t1\n",
            "  (3999, 1128)\t1\n",
            "  (3999, 2575)\t1\n",
            "  (3999, 2955)\t1\n"
          ]
        }
      ]
    },
    {
      "cell_type": "markdown",
      "source": [
        "**TfidfTransformer:**\n",
        "\n",
        "The TfidfTransformer class is used to compute the TF-IDF (Term frequency-Inverse Document Frequency) values for a given set of documents.\n",
        "\n",
        "It takes a matrix of term frequencies as input and returns a matrix of TF-IDF values.\n",
        "The TF-IDF score of a word in a document is calculated as follows:\n",
        "TF-IDF = TF * IDF\n",
        "\n",
        "where:\n",
        "\n",
        "TF (Term Frequency) is the number of times the word appears in the document.\n",
        "\n",
        "IDF (Inverse Document Frequency) is the logarithm of the number of documents divided by the number of documents that contain the word."
      ],
      "metadata": {
        "id": "w_Q07ylSkcpH"
      }
    },
    {
      "cell_type": "code",
      "source": [
        "tfidfData = TfidfTransformer().fit(train_vec)\n",
        "tfidfDataFinal = tfidfData.transform(train_vec)                #transform the reviews_bow matrix into a TF-IDF matrix"
      ],
      "metadata": {
        "id": "f4BRVaapNVrq"
      },
      "execution_count": null,
      "outputs": []
    },
    {
      "cell_type": "code",
      "source": [
        "tfidfDataFinal.shape"
      ],
      "metadata": {
        "colab": {
          "base_uri": "https://localhost:8080/"
        },
        "id": "DP1GaE-1S5Gw",
        "outputId": "27b52b02-0b57-42be-f887-7ae54aa5a820"
      },
      "execution_count": null,
      "outputs": [
        {
          "output_type": "execute_result",
          "data": {
            "text/plain": [
              "(4000, 3407)"
            ]
          },
          "metadata": {},
          "execution_count": 43
        }
      ]
    },
    {
      "cell_type": "code",
      "source": [
        "print(tfidfDataFinal[0,:])"
      ],
      "metadata": {
        "colab": {
          "base_uri": "https://localhost:8080/"
        },
        "id": "h70LtLXkS86k",
        "outputId": "0ec53a04-6aff-4f4a-a9ab-aa7f187975b1"
      },
      "execution_count": null,
      "outputs": [
        {
          "output_type": "stream",
          "name": "stdout",
          "text": [
            "  (0, 3292)\t0.12348731897288433\n",
            "  (0, 2955)\t0.13262765127937107\n",
            "  (0, 2894)\t0.22889129312178152\n",
            "  (0, 2861)\t0.22889129312178152\n",
            "  (0, 2782)\t0.22889129312178152\n",
            "  (0, 2565)\t0.13750705381771683\n",
            "  (0, 2480)\t0.18120952660343198\n",
            "  (0, 2361)\t0.21044546789025603\n",
            "  (0, 2350)\t0.08672269357481559\n",
            "  (0, 2315)\t0.17527129722802176\n",
            "  (0, 2292)\t0.08954066746770499\n",
            "  (0, 2259)\t0.18120952660343198\n",
            "  (0, 2210)\t0.09077190449626162\n",
            "  (0, 2139)\t0.14545045985637628\n",
            "  (0, 2055)\t0.08206248864024848\n",
            "  (0, 1971)\t0.09636033823619856\n",
            "  (0, 1922)\t0.13279862678760768\n",
            "  (0, 1523)\t0.22889129312178152\n",
            "  (0, 1348)\t0.12108339495186818\n",
            "  (0, 1319)\t0.13174106906037267\n",
            "  (0, 1236)\t0.22889129312178152\n",
            "  (0, 1128)\t0.11971297627771318\n",
            "  (0, 1062)\t0.17527129722802176\n",
            "  (0, 1041)\t0.11719661158900058\n",
            "  (0, 678)\t0.21044546789025603\n",
            "  (0, 421)\t0.22889129312178152\n",
            "  (0, 343)\t0.14376916184303215\n",
            "  (0, 175)\t0.09966676704966672\n",
            "  (0, 124)\t0.2484639774439866\n",
            "  (0, 122)\t0.12758953070967224\n",
            "  (0, 42)\t0.24449868449104678\n",
            "  (0, 37)\t0.16631719881134555\n",
            "  (0, 20)\t0.22889129312178152\n",
            "  (0, 12)\t0.13624957419421976\n",
            "  (0, 2)\t0.11194752797448537\n"
          ]
        }
      ]
    },
    {
      "cell_type": "code",
      "source": [
        "#tfidfDataFinal_test.shape"
      ],
      "metadata": {
        "id": "_l1XfgDnr5ar"
      },
      "execution_count": null,
      "outputs": []
    },
    {
      "cell_type": "markdown",
      "source": [
        "##**3. Run multinomial Naive Bayes classifier. Everything will be classified as positive because of the class imbalance.**"
      ],
      "metadata": {
        "id": "-C94mTTdXF66"
      }
    },
    {
      "cell_type": "markdown",
      "source": [
        "**Multinomial Naive Bayes:**\n",
        "\n",
        "* Specific type of Naive Bayes for discrete features.\n",
        "* Assumes features represent counts or frequencies (e.g., word counts in text)\n",
        "* Uses a multinomial distribution to model the probability of each feature value given a class. The multinomial distribution is a probability distribution in statistics that applies to situations with multiple possible outcomes and a fixed number of trials."
      ],
      "metadata": {
        "id": "iZ5nU3JMoobK"
      }
    },
    {
      "cell_type": "code",
      "source": [
        "# Multinomial Naive Bayes classifyer with imbalanced data\n",
        "mnb_model = MultinomialNB()\n",
        "mnb_model.fit(tfidfDataFinal,train_processed['sentiment'])"
      ],
      "metadata": {
        "colab": {
          "base_uri": "https://localhost:8080/",
          "height": 74
        },
        "id": "5lszrp203BEF",
        "outputId": "04bdbc14-b27f-4cd8-a543-1d6111f86da7"
      },
      "execution_count": null,
      "outputs": [
        {
          "output_type": "execute_result",
          "data": {
            "text/plain": [
              "MultinomialNB()"
            ],
            "text/html": [
              "<style>#sk-container-id-1 {color: black;background-color: white;}#sk-container-id-1 pre{padding: 0;}#sk-container-id-1 div.sk-toggleable {background-color: white;}#sk-container-id-1 label.sk-toggleable__label {cursor: pointer;display: block;width: 100%;margin-bottom: 0;padding: 0.3em;box-sizing: border-box;text-align: center;}#sk-container-id-1 label.sk-toggleable__label-arrow:before {content: \"▸\";float: left;margin-right: 0.25em;color: #696969;}#sk-container-id-1 label.sk-toggleable__label-arrow:hover:before {color: black;}#sk-container-id-1 div.sk-estimator:hover label.sk-toggleable__label-arrow:before {color: black;}#sk-container-id-1 div.sk-toggleable__content {max-height: 0;max-width: 0;overflow: hidden;text-align: left;background-color: #f0f8ff;}#sk-container-id-1 div.sk-toggleable__content pre {margin: 0.2em;color: black;border-radius: 0.25em;background-color: #f0f8ff;}#sk-container-id-1 input.sk-toggleable__control:checked~div.sk-toggleable__content {max-height: 200px;max-width: 100%;overflow: auto;}#sk-container-id-1 input.sk-toggleable__control:checked~label.sk-toggleable__label-arrow:before {content: \"▾\";}#sk-container-id-1 div.sk-estimator input.sk-toggleable__control:checked~label.sk-toggleable__label {background-color: #d4ebff;}#sk-container-id-1 div.sk-label input.sk-toggleable__control:checked~label.sk-toggleable__label {background-color: #d4ebff;}#sk-container-id-1 input.sk-hidden--visually {border: 0;clip: rect(1px 1px 1px 1px);clip: rect(1px, 1px, 1px, 1px);height: 1px;margin: -1px;overflow: hidden;padding: 0;position: absolute;width: 1px;}#sk-container-id-1 div.sk-estimator {font-family: monospace;background-color: #f0f8ff;border: 1px dotted black;border-radius: 0.25em;box-sizing: border-box;margin-bottom: 0.5em;}#sk-container-id-1 div.sk-estimator:hover {background-color: #d4ebff;}#sk-container-id-1 div.sk-parallel-item::after {content: \"\";width: 100%;border-bottom: 1px solid gray;flex-grow: 1;}#sk-container-id-1 div.sk-label:hover label.sk-toggleable__label {background-color: #d4ebff;}#sk-container-id-1 div.sk-serial::before {content: \"\";position: absolute;border-left: 1px solid gray;box-sizing: border-box;top: 0;bottom: 0;left: 50%;z-index: 0;}#sk-container-id-1 div.sk-serial {display: flex;flex-direction: column;align-items: center;background-color: white;padding-right: 0.2em;padding-left: 0.2em;position: relative;}#sk-container-id-1 div.sk-item {position: relative;z-index: 1;}#sk-container-id-1 div.sk-parallel {display: flex;align-items: stretch;justify-content: center;background-color: white;position: relative;}#sk-container-id-1 div.sk-item::before, #sk-container-id-1 div.sk-parallel-item::before {content: \"\";position: absolute;border-left: 1px solid gray;box-sizing: border-box;top: 0;bottom: 0;left: 50%;z-index: -1;}#sk-container-id-1 div.sk-parallel-item {display: flex;flex-direction: column;z-index: 1;position: relative;background-color: white;}#sk-container-id-1 div.sk-parallel-item:first-child::after {align-self: flex-end;width: 50%;}#sk-container-id-1 div.sk-parallel-item:last-child::after {align-self: flex-start;width: 50%;}#sk-container-id-1 div.sk-parallel-item:only-child::after {width: 0;}#sk-container-id-1 div.sk-dashed-wrapped {border: 1px dashed gray;margin: 0 0.4em 0.5em 0.4em;box-sizing: border-box;padding-bottom: 0.4em;background-color: white;}#sk-container-id-1 div.sk-label label {font-family: monospace;font-weight: bold;display: inline-block;line-height: 1.2em;}#sk-container-id-1 div.sk-label-container {text-align: center;}#sk-container-id-1 div.sk-container {/* jupyter's `normalize.less` sets `[hidden] { display: none; }` but bootstrap.min.css set `[hidden] { display: none !important; }` so we also need the `!important` here to be able to override the default hidden behavior on the sphinx rendered scikit-learn.org. See: https://github.com/scikit-learn/scikit-learn/issues/21755 */display: inline-block !important;position: relative;}#sk-container-id-1 div.sk-text-repr-fallback {display: none;}</style><div id=\"sk-container-id-1\" class=\"sk-top-container\"><div class=\"sk-text-repr-fallback\"><pre>MultinomialNB()</pre><b>In a Jupyter environment, please rerun this cell to show the HTML representation or trust the notebook. <br />On GitHub, the HTML representation is unable to render, please try loading this page with nbviewer.org.</b></div><div class=\"sk-container\" hidden><div class=\"sk-item\"><div class=\"sk-estimator sk-toggleable\"><input class=\"sk-toggleable__control sk-hidden--visually\" id=\"sk-estimator-id-1\" type=\"checkbox\" checked><label for=\"sk-estimator-id-1\" class=\"sk-toggleable__label sk-toggleable__label-arrow\">MultinomialNB</label><div class=\"sk-toggleable__content\"><pre>MultinomialNB()</pre></div></div></div></div></div>"
            ]
          },
          "metadata": {},
          "execution_count": 46
        }
      ]
    },
    {
      "cell_type": "code",
      "source": [
        "# Train prediction\n",
        "Unbalanced_mnb_train_pred = mnb_model.predict(tfidfDataFinal)\n",
        "\n",
        "Unbalanced_mnb_train_report = metrics.classification_report(train_processed['sentiment'], Unbalanced_mnb_train_pred)\n",
        "print (\"\\nAccuracy on Training set: {:.4f}\".format(accuracy_score(train_processed['sentiment'], Unbalanced_mnb_train_pred)))\n",
        "print(\"Train classification report\\n\", Unbalanced_mnb_train_report)"
      ],
      "metadata": {
        "colab": {
          "base_uri": "https://localhost:8080/"
        },
        "id": "_Io90TO3y_Mp",
        "outputId": "c4871a68-c320-4f6f-a102-04e899ca415e"
      },
      "execution_count": null,
      "outputs": [
        {
          "output_type": "stream",
          "name": "stdout",
          "text": [
            "\n",
            "Accuracy on Training set: 0.9373\n",
            "Train classification report\n",
            "               precision    recall  f1-score   support\n",
            "\n",
            "    Negative       0.00      0.00      0.00        93\n",
            "     Neutral       0.00      0.00      0.00       158\n",
            "    Positive       0.94      1.00      0.97      3749\n",
            "\n",
            "    accuracy                           0.94      4000\n",
            "   macro avg       0.31      0.33      0.32      4000\n",
            "weighted avg       0.88      0.94      0.91      4000\n",
            "\n"
          ]
        },
        {
          "output_type": "stream",
          "name": "stderr",
          "text": [
            "/usr/local/lib/python3.10/dist-packages/sklearn/metrics/_classification.py:1344: UndefinedMetricWarning: Precision and F-score are ill-defined and being set to 0.0 in labels with no predicted samples. Use `zero_division` parameter to control this behavior.\n",
            "  _warn_prf(average, modifier, msg_start, len(result))\n",
            "/usr/local/lib/python3.10/dist-packages/sklearn/metrics/_classification.py:1344: UndefinedMetricWarning: Precision and F-score are ill-defined and being set to 0.0 in labels with no predicted samples. Use `zero_division` parameter to control this behavior.\n",
            "  _warn_prf(average, modifier, msg_start, len(result))\n",
            "/usr/local/lib/python3.10/dist-packages/sklearn/metrics/_classification.py:1344: UndefinedMetricWarning: Precision and F-score are ill-defined and being set to 0.0 in labels with no predicted samples. Use `zero_division` parameter to control this behavior.\n",
            "  _warn_prf(average, modifier, msg_start, len(result))\n"
          ]
        }
      ]
    },
    {
      "cell_type": "code",
      "source": [
        "# Test prediction\n",
        "Unbalanced_mnb_test_pred = mnb_model.predict(test_vec)\n",
        "Unbalanced_mnb_test_report = metrics.classification_report(test_processed['sentiment'], Unbalanced_mnb_test_pred)\n",
        "print (\"\\nAccuracy on Test set: {:.4f}\".format(accuracy_score(test_processed['sentiment'], Unbalanced_mnb_test_pred)))\n",
        "print(\"Test classification report\\n\", Unbalanced_mnb_test_report)"
      ],
      "metadata": {
        "colab": {
          "base_uri": "https://localhost:8080/"
        },
        "id": "n7Vxywmv1GNc",
        "outputId": "9abaed8d-cb30-4433-ebbd-61a5d9b9d07f"
      },
      "execution_count": null,
      "outputs": [
        {
          "output_type": "stream",
          "name": "stdout",
          "text": [
            "\n",
            "Accuracy on Test set: 0.9370\n",
            "Test classification report\n",
            "               precision    recall  f1-score   support\n",
            "\n",
            "    Negative       0.00      0.00      0.00        24\n",
            "     Neutral       0.00      0.00      0.00        39\n",
            "    Positive       0.94      1.00      0.97       937\n",
            "\n",
            "    accuracy                           0.94      1000\n",
            "   macro avg       0.31      0.33      0.32      1000\n",
            "weighted avg       0.88      0.94      0.91      1000\n",
            "\n"
          ]
        },
        {
          "output_type": "stream",
          "name": "stderr",
          "text": [
            "/usr/local/lib/python3.10/dist-packages/sklearn/metrics/_classification.py:1344: UndefinedMetricWarning: Precision and F-score are ill-defined and being set to 0.0 in labels with no predicted samples. Use `zero_division` parameter to control this behavior.\n",
            "  _warn_prf(average, modifier, msg_start, len(result))\n",
            "/usr/local/lib/python3.10/dist-packages/sklearn/metrics/_classification.py:1344: UndefinedMetricWarning: Precision and F-score are ill-defined and being set to 0.0 in labels with no predicted samples. Use `zero_division` parameter to control this behavior.\n",
            "  _warn_prf(average, modifier, msg_start, len(result))\n",
            "/usr/local/lib/python3.10/dist-packages/sklearn/metrics/_classification.py:1344: UndefinedMetricWarning: Precision and F-score are ill-defined and being set to 0.0 in labels with no predicted samples. Use `zero_division` parameter to control this behavior.\n",
            "  _warn_prf(average, modifier, msg_start, len(result))\n"
          ]
        }
      ]
    },
    {
      "cell_type": "markdown",
      "source": [
        "**Summary of Multinomial Naive Bayes Classification Reports:**\n",
        "These reports reveal a trend with the Multinomial Naive Bayes model on a dataset with three classes: Negative, Neutral, and Positive.\n",
        "\n",
        "**Key Points:**\n",
        "\n",
        "* **Extremely Imbalanced Classes:** Both training and test sets show a significant imbalance, with very few Negative (93 and 24 respectively) and Neutral (158 and 39 respectively) examples compared to Positive (3749 and 937).\n",
        "* **Zero Performance for Negative and Neutral:** The precision, recall, and F1-score for Negative and Neutral classes are all 0 in both reports. This signifies the model completely fails to classify these classes on both training and test data.\n",
        "* **High Positive Class Performance:** The model performs exceptionally well for the Positive class, with a precision of 0.94 and recall of 1.00 in both reports. This suggests it accurately identifies Positive examples.\n",
        "* **Misleading Accuracy:** Despite a high overall accuracy (around 0.94) on both sets, the accuracy is misleading due to the class imbalance. The model essentially ignores Negative and Neutral classes and focuses solely on Positives.\n",
        "\n",
        "**Overall:**\n",
        "\n",
        "This Multinomial Naive Bayes model suffers severely from class imbalance. It prioritizes the majority Positive class and fails entirely to classify Negative and Neutral instances.\n",
        "\n",
        "**Recommendations:**\n",
        "\n",
        "* **Address Class Imbalance:** Techniques like oversampling (replicating minority class examples) or undersampling (reducing majority class examples) are crucial to create a more balanced training set.\n",
        "* **Alternative Models:** Consider using algorithms designed for imbalanced datasets, such as Support Vector Machines (SVM) with cost-sensitive learning or Random Forest with class weights.\n",
        "\n",
        "By addressing the class imbalance and potentially exploring alternative models, you can achieve a more robust classification performance that considers all classes effectively."
      ],
      "metadata": {
        "id": "Zfw4p1Jo1O2c"
      }
    },
    {
      "cell_type": "markdown",
      "source": [
        "# **Project Task: Week 2 Tackling Class Imbalance Problem**"
      ],
      "metadata": {
        "id": "3XBCUUGFlPEL"
      }
    },
    {
      "cell_type": "markdown",
      "source": [
        "## **1.Oversampling or undersampling can be used to tackle the class imbalance problem.**"
      ],
      "metadata": {
        "id": "FmxTXLcGli1i"
      }
    },
    {
      "cell_type": "markdown",
      "source": [
        "For Oversampling the dataset, SMOTE is being used to create duplicate entries"
      ],
      "metadata": {
        "id": "YX_Lu3dFruMW"
      }
    },
    {
      "cell_type": "markdown",
      "source": [
        "SMOTE - Synthetic Minority Over-sampling Technique to address class imbalance in datasets\n",
        "* Identify the Minority Class\n",
        "* Randomly Select a Minority Example\n",
        "* Find Nearest Neighbors- identifies the k-nearest neighbors (similar examples) of the chosen minority example(k=5 by default)\n",
        "* Generate Synthetic Example- Randomly selects one of these k-nearest neighbors. It then creates a new synthetic data point by taking the difference between the original minority example and its chosen neighbor."
      ],
      "metadata": {
        "id": "LRsDcQqMqQU5"
      }
    },
    {
      "cell_type": "code",
      "source": [
        "# define oversampling strategy\n",
        "oversample = SMOTE(sampling_strategy='not majority')\n",
        "# fit and apply the transform\n",
        "X_over, Y_over = oversample.fit_resample(tfidfDataFinal,train_processed['sentiment'])"
      ],
      "metadata": {
        "id": "u2EciNhSr2vJ"
      },
      "execution_count": null,
      "outputs": []
    },
    {
      "cell_type": "code",
      "source": [
        "sb.countplot(x=Y_over)\n",
        "Y_over.value_counts()"
      ],
      "metadata": {
        "colab": {
          "base_uri": "https://localhost:8080/",
          "height": 536
        },
        "id": "Tsvkeb9Su0EY",
        "outputId": "b96925ee-2529-4c58-82e5-a27147a3e232"
      },
      "execution_count": null,
      "outputs": [
        {
          "output_type": "execute_result",
          "data": {
            "text/plain": [
              "sentiment\n",
              "Positive    3749\n",
              "Neutral     3749\n",
              "Negative    3749\n",
              "Name: count, dtype: int64"
            ]
          },
          "metadata": {},
          "execution_count": 50
        },
        {
          "output_type": "display_data",
          "data": {
            "text/plain": [
              "<Figure size 640x480 with 1 Axes>"
            ],
            "image/png": "[encoded data removed]"
          },
          "metadata": {}
        }
      ]
    },
    {
      "cell_type": "code",
      "source": [
        "# check the number of sample before and after oversampling\n",
        "print(Counter(train_processed['sentiment']))\n",
        "print(Counter(Y_over))"
      ],
      "metadata": {
        "colab": {
          "base_uri": "https://localhost:8080/"
        },
        "id": "htTabKzvvyWH",
        "outputId": "85fcfcf2-03ab-46d2-df3f-da12930d8b70"
      },
      "execution_count": null,
      "outputs": [
        {
          "output_type": "stream",
          "name": "stdout",
          "text": [
            "Counter({'Positive': 3749, 'Neutral': 158, 'Negative': 93})\n",
            "Counter({'Positive': 3749, 'Neutral': 3749, 'Negative': 3749})\n"
          ]
        }
      ]
    },
    {
      "cell_type": "markdown",
      "source": [
        "##**2.In case of class imbalance criteria, use the following metrices for evaluating model performance: precision, recall, F1-score, AUC-ROC curve. Use F1-Score as the evaluation criteria for this project.**"
      ],
      "metadata": {
        "id": "6Y06izDSnfO_"
      }
    },
    {
      "cell_type": "markdown",
      "source": [
        "Multinomial Naive Bayes on Over Sampled Data"
      ],
      "metadata": {
        "id": "ma8dVCsqw-Q8"
      }
    },
    {
      "cell_type": "code",
      "source": [
        "# Multinomial Naive Bayes classifyer with balanced data\n",
        "#from sklearn.naive_bayes import MultinomialNB\n",
        "mnb_model_balanced = MultinomialNB()\n",
        "mnb_model_balanced.fit(X_over,Y_over)"
      ],
      "metadata": {
        "colab": {
          "base_uri": "https://localhost:8080/",
          "height": 74
        },
        "id": "jyOZgcbWxK7V",
        "outputId": "220ed5b7-5679-443a-a68d-349e36a3a6f0"
      },
      "execution_count": null,
      "outputs": [
        {
          "output_type": "execute_result",
          "data": {
            "text/plain": [
              "MultinomialNB()"
            ],
            "text/html": [
              "<style>#sk-container-id-2 {color: black;background-color: white;}#sk-container-id-2 pre{padding: 0;}#sk-container-id-2 div.sk-toggleable {background-color: white;}#sk-container-id-2 label.sk-toggleable__label {cursor: pointer;display: block;width: 100%;margin-bottom: 0;padding: 0.3em;box-sizing: border-box;text-align: center;}#sk-container-id-2 label.sk-toggleable__label-arrow:before {content: \"▸\";float: left;margin-right: 0.25em;color: #696969;}#sk-container-id-2 label.sk-toggleable__label-arrow:hover:before {color: black;}#sk-container-id-2 div.sk-estimator:hover label.sk-toggleable__label-arrow:before {color: black;}#sk-container-id-2 div.sk-toggleable__content {max-height: 0;max-width: 0;overflow: hidden;text-align: left;background-color: #f0f8ff;}#sk-container-id-2 div.sk-toggleable__content pre {margin: 0.2em;color: black;border-radius: 0.25em;background-color: #f0f8ff;}#sk-container-id-2 input.sk-toggleable__control:checked~div.sk-toggleable__content {max-height: 200px;max-width: 100%;overflow: auto;}#sk-container-id-2 input.sk-toggleable__control:checked~label.sk-toggleable__label-arrow:before {content: \"▾\";}#sk-container-id-2 div.sk-estimator input.sk-toggleable__control:checked~label.sk-toggleable__label {background-color: #d4ebff;}#sk-container-id-2 div.sk-label input.sk-toggleable__control:checked~label.sk-toggleable__label {background-color: #d4ebff;}#sk-container-id-2 input.sk-hidden--visually {border: 0;clip: rect(1px 1px 1px 1px);clip: rect(1px, 1px, 1px, 1px);height: 1px;margin: -1px;overflow: hidden;padding: 0;position: absolute;width: 1px;}#sk-container-id-2 div.sk-estimator {font-family: monospace;background-color: #f0f8ff;border: 1px dotted black;border-radius: 0.25em;box-sizing: border-box;margin-bottom: 0.5em;}#sk-container-id-2 div.sk-estimator:hover {background-color: #d4ebff;}#sk-container-id-2 div.sk-parallel-item::after {content: \"\";width: 100%;border-bottom: 1px solid gray;flex-grow: 1;}#sk-container-id-2 div.sk-label:hover label.sk-toggleable__label {background-color: #d4ebff;}#sk-container-id-2 div.sk-serial::before {content: \"\";position: absolute;border-left: 1px solid gray;box-sizing: border-box;top: 0;bottom: 0;left: 50%;z-index: 0;}#sk-container-id-2 div.sk-serial {display: flex;flex-direction: column;align-items: center;background-color: white;padding-right: 0.2em;padding-left: 0.2em;position: relative;}#sk-container-id-2 div.sk-item {position: relative;z-index: 1;}#sk-container-id-2 div.sk-parallel {display: flex;align-items: stretch;justify-content: center;background-color: white;position: relative;}#sk-container-id-2 div.sk-item::before, #sk-container-id-2 div.sk-parallel-item::before {content: \"\";position: absolute;border-left: 1px solid gray;box-sizing: border-box;top: 0;bottom: 0;left: 50%;z-index: -1;}#sk-container-id-2 div.sk-parallel-item {display: flex;flex-direction: column;z-index: 1;position: relative;background-color: white;}#sk-container-id-2 div.sk-parallel-item:first-child::after {align-self: flex-end;width: 50%;}#sk-container-id-2 div.sk-parallel-item:last-child::after {align-self: flex-start;width: 50%;}#sk-container-id-2 div.sk-parallel-item:only-child::after {width: 0;}#sk-container-id-2 div.sk-dashed-wrapped {border: 1px dashed gray;margin: 0 0.4em 0.5em 0.4em;box-sizing: border-box;padding-bottom: 0.4em;background-color: white;}#sk-container-id-2 div.sk-label label {font-family: monospace;font-weight: bold;display: inline-block;line-height: 1.2em;}#sk-container-id-2 div.sk-label-container {text-align: center;}#sk-container-id-2 div.sk-container {/* jupyter's `normalize.less` sets `[hidden] { display: none; }` but bootstrap.min.css set `[hidden] { display: none !important; }` so we also need the `!important` here to be able to override the default hidden behavior on the sphinx rendered scikit-learn.org. See: https://github.com/scikit-learn/scikit-learn/issues/21755 */display: inline-block !important;position: relative;}#sk-container-id-2 div.sk-text-repr-fallback {display: none;}</style><div id=\"sk-container-id-2\" class=\"sk-top-container\"><div class=\"sk-text-repr-fallback\"><pre>MultinomialNB()</pre><b>In a Jupyter environment, please rerun this cell to show the HTML representation or trust the notebook. <br />On GitHub, the HTML representation is unable to render, please try loading this page with nbviewer.org.</b></div><div class=\"sk-container\" hidden><div class=\"sk-item\"><div class=\"sk-estimator sk-toggleable\"><input class=\"sk-toggleable__control sk-hidden--visually\" id=\"sk-estimator-id-2\" type=\"checkbox\" checked><label for=\"sk-estimator-id-2\" class=\"sk-toggleable__label sk-toggleable__label-arrow\">MultinomialNB</label><div class=\"sk-toggleable__content\"><pre>MultinomialNB()</pre></div></div></div></div></div>"
            ]
          },
          "metadata": {},
          "execution_count": 52
        }
      ]
    },
    {
      "cell_type": "code",
      "source": [
        "# Train prediction\n",
        "balanced_mnb_train_pred = mnb_model_balanced.predict(X_over)\n",
        "\n",
        "balanced_mnb_train_report = metrics.classification_report(Y_over, balanced_mnb_train_pred)\n",
        "print (\"\\nAccuracy on Training set: {:.4f}\".format(accuracy_score(Y_over, balanced_mnb_train_pred)))\n",
        "print(\"Train classification report\\n\", balanced_mnb_train_report)"
      ],
      "metadata": {
        "colab": {
          "base_uri": "https://localhost:8080/"
        },
        "id": "vU3R0CpIxn6Q",
        "outputId": "e5a4c1b2-3f6f-4733-c5b4-2f1f7dd3757b"
      },
      "execution_count": null,
      "outputs": [
        {
          "output_type": "stream",
          "name": "stdout",
          "text": [
            "\n",
            "Accuracy on Training set: 0.9672\n",
            "Train classification report\n",
            "               precision    recall  f1-score   support\n",
            "\n",
            "    Negative       0.98      1.00      0.99      3749\n",
            "     Neutral       0.94      0.99      0.96      3749\n",
            "    Positive       0.99      0.91      0.95      3749\n",
            "\n",
            "    accuracy                           0.97     11247\n",
            "   macro avg       0.97      0.97      0.97     11247\n",
            "weighted avg       0.97      0.97      0.97     11247\n",
            "\n"
          ]
        }
      ]
    },
    {
      "cell_type": "code",
      "source": [
        "# Test prediction\n",
        "balanced_mnb_test_pred = mnb_model_balanced.predict(test_vec)\n",
        "balanced_mnb_test_report = metrics.classification_report(test_processed['sentiment'], balanced_mnb_test_pred)\n",
        "print (\"\\nAccuracy on Test set: {:.4f}\".format(accuracy_score(test_processed['sentiment'], balanced_mnb_test_pred)))\n",
        "print(\"Test classification report\\n\", balanced_mnb_test_report)"
      ],
      "metadata": {
        "colab": {
          "base_uri": "https://localhost:8080/"
        },
        "id": "vf1WgXE7xoUJ",
        "outputId": "c369f440-926c-4633-ae2d-0e5abeb1df5a"
      },
      "execution_count": null,
      "outputs": [
        {
          "output_type": "stream",
          "name": "stdout",
          "text": [
            "\n",
            "Accuracy on Test set: 0.8750\n",
            "Test classification report\n",
            "               precision    recall  f1-score   support\n",
            "\n",
            "    Negative       0.30      0.42      0.35        24\n",
            "     Neutral       0.19      0.46      0.26        39\n",
            "    Positive       0.97      0.90      0.94       937\n",
            "\n",
            "    accuracy                           0.88      1000\n",
            "   macro avg       0.49      0.59      0.52      1000\n",
            "weighted avg       0.93      0.88      0.90      1000\n",
            "\n"
          ]
        }
      ]
    },
    {
      "cell_type": "markdown",
      "source": [
        "**Summary of Multinomial Naive Bayes Classification Reports:**\n",
        "\n",
        "These reports show the performance of a Multinomial Naive Bayes model on a potentially imbalanced dataset with three classes: Negative, Neutral, and Positive.\n",
        "\n",
        "**Training Set:**\n",
        "\n",
        "* The model achieved a very high accuracy (96.42%) on the training data, suggesting good performance overall.\n",
        "* Looking at the class-wise metrics, the model performs well for all classes with precision and recall above 0.90.\n",
        "* The F1-score is also high for all classes, indicating a good balance between precision and recall.\n",
        "* High accuracy on the training set might indicate overfitting, where the model memorizes the training data but doesn't generalize well to unseen data.\n",
        "\n",
        "**Test Set:**\n",
        "\n",
        "* The accuracy on the test set (87.8%) is significantly lower than the training set, suggesting overfitting.\n",
        "* Similar to the training set, there might be a class imbalance with fewer Negative (24) and Neutral (39) examples compared to Positive (937).\n",
        "* The model performs well for the Positive class with high precision (0.97) and recall (0.91).\n",
        "* However, the performance is poor for Negative and Neutral classes, with low precision and moderate recall. This suggests the model struggles to differentiate these classes from the Positive class on unseen data.\n",
        "\n",
        "**Overall:**\n",
        "\n",
        "While the model achieves high accuracy on the training set, the significant drop in performance on the test set indicates overfitting. There's also evidence of potential class imbalance that the model struggles with on unseen data.\n",
        "\n",
        "And While SMOTE Oversampling doesnt have must effect on TFIDF and BOW representation, because it causes Limited semantic meaning in which SMOTE creates synthetic data points by interpolating between existing minority class examples. This might not capture the true semantic meaning of real text data.\n",
        "\n",
        "**Steps to improve the model:**\n",
        "\n",
        "* **Address overfitting:** Techniques like regularization (L1/L2 penalty) or dropout can help prevent the model from memorizing training data.\n",
        "* **Consider alternative models:** Depending on the problem, other classification algorithms might be better suited for imbalanced datasets.\n",
        "* **Data Exploration** Investigate the characteristics of Negative and Neutral data to understand why the model struggles with them."
      ],
      "metadata": {
        "id": "rM7QkbBazn3W"
      }
    },
    {
      "cell_type": "markdown",
      "source": [
        "##**3.Use Tree-based classifiers like Random Forest and XGBoost.**"
      ],
      "metadata": {
        "id": "q9wbkGFSn2K2"
      }
    },
    {
      "cell_type": "markdown",
      "source": [
        " **Note:** Tree-based classifiers work on two ideologies namely, Bagging or Boosting and have fine-tuning parameter which takes care of the imbalanced class.\n"
      ],
      "metadata": {
        "id": "gQck-FWhoA5T"
      }
    },
    {
      "cell_type": "code",
      "source": [
        "# Model building using tree based models- Random Forest classifier unbalanced data\n",
        "rcf_unbalanced_model = RandomForestClassifier()\n",
        "#The default value for the n_estimators parameter in the RandomForestClassifier class in Python is 100.\n",
        "rcf_unbalanced_model.fit(tfidfDataFinal,train_processed['sentiment'])"
      ],
      "metadata": {
        "colab": {
          "base_uri": "https://localhost:8080/",
          "height": 74
        },
        "id": "vNnU-5-rxogl",
        "outputId": "94df636d-a821-47e6-c2be-f032b74cb1cd"
      },
      "execution_count": null,
      "outputs": [
        {
          "output_type": "execute_result",
          "data": {
            "text/plain": [
              "RandomForestClassifier()"
            ],
            "text/html": [
              "<style>#sk-container-id-3 {color: black;background-color: white;}#sk-container-id-3 pre{padding: 0;}#sk-container-id-3 div.sk-toggleable {background-color: white;}#sk-container-id-3 label.sk-toggleable__label {cursor: pointer;display: block;width: 100%;margin-bottom: 0;padding: 0.3em;box-sizing: border-box;text-align: center;}#sk-container-id-3 label.sk-toggleable__label-arrow:before {content: \"▸\";float: left;margin-right: 0.25em;color: #696969;}#sk-container-id-3 label.sk-toggleable__label-arrow:hover:before {color: black;}#sk-container-id-3 div.sk-estimator:hover label.sk-toggleable__label-arrow:before {color: black;}#sk-container-id-3 div.sk-toggleable__content {max-height: 0;max-width: 0;overflow: hidden;text-align: left;background-color: #f0f8ff;}#sk-container-id-3 div.sk-toggleable__content pre {margin: 0.2em;color: black;border-radius: 0.25em;background-color: #f0f8ff;}#sk-container-id-3 input.sk-toggleable__control:checked~div.sk-toggleable__content {max-height: 200px;max-width: 100%;overflow: auto;}#sk-container-id-3 input.sk-toggleable__control:checked~label.sk-toggleable__label-arrow:before {content: \"▾\";}#sk-container-id-3 div.sk-estimator input.sk-toggleable__control:checked~label.sk-toggleable__label {background-color: #d4ebff;}#sk-container-id-3 div.sk-label input.sk-toggleable__control:checked~label.sk-toggleable__label {background-color: #d4ebff;}#sk-container-id-3 input.sk-hidden--visually {border: 0;clip: rect(1px 1px 1px 1px);clip: rect(1px, 1px, 1px, 1px);height: 1px;margin: -1px;overflow: hidden;padding: 0;position: absolute;width: 1px;}#sk-container-id-3 div.sk-estimator {font-family: monospace;background-color: #f0f8ff;border: 1px dotted black;border-radius: 0.25em;box-sizing: border-box;margin-bottom: 0.5em;}#sk-container-id-3 div.sk-estimator:hover {background-color: #d4ebff;}#sk-container-id-3 div.sk-parallel-item::after {content: \"\";width: 100%;border-bottom: 1px solid gray;flex-grow: 1;}#sk-container-id-3 div.sk-label:hover label.sk-toggleable__label {background-color: #d4ebff;}#sk-container-id-3 div.sk-serial::before {content: \"\";position: absolute;border-left: 1px solid gray;box-sizing: border-box;top: 0;bottom: 0;left: 50%;z-index: 0;}#sk-container-id-3 div.sk-serial {display: flex;flex-direction: column;align-items: center;background-color: white;padding-right: 0.2em;padding-left: 0.2em;position: relative;}#sk-container-id-3 div.sk-item {position: relative;z-index: 1;}#sk-container-id-3 div.sk-parallel {display: flex;align-items: stretch;justify-content: center;background-color: white;position: relative;}#sk-container-id-3 div.sk-item::before, #sk-container-id-3 div.sk-parallel-item::before {content: \"\";position: absolute;border-left: 1px solid gray;box-sizing: border-box;top: 0;bottom: 0;left: 50%;z-index: -1;}#sk-container-id-3 div.sk-parallel-item {display: flex;flex-direction: column;z-index: 1;position: relative;background-color: white;}#sk-container-id-3 div.sk-parallel-item:first-child::after {align-self: flex-end;width: 50%;}#sk-container-id-3 div.sk-parallel-item:last-child::after {align-self: flex-start;width: 50%;}#sk-container-id-3 div.sk-parallel-item:only-child::after {width: 0;}#sk-container-id-3 div.sk-dashed-wrapped {border: 1px dashed gray;margin: 0 0.4em 0.5em 0.4em;box-sizing: border-box;padding-bottom: 0.4em;background-color: white;}#sk-container-id-3 div.sk-label label {font-family: monospace;font-weight: bold;display: inline-block;line-height: 1.2em;}#sk-container-id-3 div.sk-label-container {text-align: center;}#sk-container-id-3 div.sk-container {/* jupyter's `normalize.less` sets `[hidden] { display: none; }` but bootstrap.min.css set `[hidden] { display: none !important; }` so we also need the `!important` here to be able to override the default hidden behavior on the sphinx rendered scikit-learn.org. See: https://github.com/scikit-learn/scikit-learn/issues/21755 */display: inline-block !important;position: relative;}#sk-container-id-3 div.sk-text-repr-fallback {display: none;}</style><div id=\"sk-container-id-3\" class=\"sk-top-container\"><div class=\"sk-text-repr-fallback\"><pre>RandomForestClassifier()</pre><b>In a Jupyter environment, please rerun this cell to show the HTML representation or trust the notebook. <br />On GitHub, the HTML representation is unable to render, please try loading this page with nbviewer.org.</b></div><div class=\"sk-container\" hidden><div class=\"sk-item\"><div class=\"sk-estimator sk-toggleable\"><input class=\"sk-toggleable__control sk-hidden--visually\" id=\"sk-estimator-id-3\" type=\"checkbox\" checked><label for=\"sk-estimator-id-3\" class=\"sk-toggleable__label sk-toggleable__label-arrow\">RandomForestClassifier</label><div class=\"sk-toggleable__content\"><pre>RandomForestClassifier()</pre></div></div></div></div></div>"
            ]
          },
          "metadata": {},
          "execution_count": 55
        }
      ]
    },
    {
      "cell_type": "code",
      "source": [
        "# Train prediction\n",
        "rcf_unbalanced_train_pred = rcf_unbalanced_model.predict(tfidfDataFinal)\n",
        "\n",
        "rcf_unbalanced_train_report = metrics.classification_report(train_processed['sentiment'], rcf_unbalanced_train_pred)\n",
        "print (\"\\nAccuracy on Training set: {:.4f}\".format(accuracy_score(train_processed['sentiment'], rcf_unbalanced_train_pred)))\n",
        "print(\"Train classification report\\n\", rcf_unbalanced_train_report)"
      ],
      "metadata": {
        "colab": {
          "base_uri": "https://localhost:8080/"
        },
        "id": "XF0BejeyjzNc",
        "outputId": "cfadfb38-6065-4934-84d0-45a5e8a34c53"
      },
      "execution_count": null,
      "outputs": [
        {
          "output_type": "stream",
          "name": "stdout",
          "text": [
            "\n",
            "Accuracy on Training set: 1.0000\n",
            "Train classification report\n",
            "               precision    recall  f1-score   support\n",
            "\n",
            "    Negative       1.00      1.00      1.00        93\n",
            "     Neutral       1.00      1.00      1.00       158\n",
            "    Positive       1.00      1.00      1.00      3749\n",
            "\n",
            "    accuracy                           1.00      4000\n",
            "   macro avg       1.00      1.00      1.00      4000\n",
            "weighted avg       1.00      1.00      1.00      4000\n",
            "\n"
          ]
        }
      ]
    },
    {
      "cell_type": "code",
      "source": [
        "# Test prediction\n",
        "rcf_unbalanced_test_pred = rcf_unbalanced_model.predict(test_vec)\n",
        "rcf_unbalanced_test_report = metrics.classification_report(test_processed['sentiment'], rcf_unbalanced_test_pred)\n",
        "print (\"\\nAccuracy on Test set: {:.4f}\".format(accuracy_score(test_processed['sentiment'], rcf_unbalanced_test_pred)))\n",
        "print(\"Test classification report\\n\", rcf_unbalanced_test_report)"
      ],
      "metadata": {
        "colab": {
          "base_uri": "https://localhost:8080/"
        },
        "id": "Eru7w6Dnxokw",
        "outputId": "91370999-7b56-47ec-e0da-ce6f2ac75352"
      },
      "execution_count": null,
      "outputs": [
        {
          "output_type": "stream",
          "name": "stdout",
          "text": [
            "\n",
            "Accuracy on Test set: 0.9450\n",
            "Test classification report\n",
            "               precision    recall  f1-score   support\n",
            "\n",
            "    Negative       0.58      0.29      0.39        24\n",
            "     Neutral       0.54      0.36      0.43        39\n",
            "    Positive       0.96      0.99      0.97       937\n",
            "\n",
            "    accuracy                           0.94      1000\n",
            "   macro avg       0.69      0.55      0.60      1000\n",
            "weighted avg       0.93      0.94      0.94      1000\n",
            "\n"
          ]
        }
      ]
    },
    {
      "cell_type": "markdown",
      "source": [
        "**Summary of Random Forest Classifier Reports:**\n",
        "These reports show the performance of a Random Forest classifier on a dataset with three classes: Negative, Neutral, and Positive, and there's evidence of class imbalance.\n",
        "\n",
        "**Training Set:**\n",
        "\n",
        "The model achieved a perfect accuracy (1.00) on the training data, indicating it correctly classified all instances. However, this might be a case of overfitting.\n",
        "\n",
        "**Test Set:**\n",
        "\n",
        "* The accuracy on the test set (0.95) is still good, but lower than the training set, suggesting some overfitting.\n",
        "* Similar to the Multinomial Naive Bayes reports, there's likely a class imbalance with fewer Negative (24) and Neutral (39) examples compared to Positive (937).\n",
        "* The model performs well for the Positive class with high precision (0.96) and recall (0.99).\n",
        "\n",
        "However, the performance is lower for Negative and Neutral classes, with moderate precision (around 0.70) and lower recall (around 0.30). This suggests the model struggles to identify these classes accurately on unseen data.\n",
        "\n",
        "**Overall:**\n",
        "\n",
        "While the Random Forest achieves high accuracy on the training set and decent overall accuracy on the test set, the significant drop in performance for Negative and Neutral classes indicates limitations with imbalanced data. There might also be overfitting to the training data.\n",
        "\n",
        "**Recommendations:**\n",
        "\n",
        "**Address Overfitting:** Techniques like using a validation set for hyperparameter tuning or applying regularization methods can help prevent overfitting.\n",
        "\n",
        "**Handle Class Imbalance:** Similar to the Naive Bayes case, consider oversampling or undersampling to create a more balanced training set.\n",
        "\n",
        "**Evaluate Model Complexity:** Random Forests can become complex, potentially leading to overfitting. Explore techniques like feature importance analysis to identify the most relevant features and potentially reduce model complexity.\n",
        "\n",
        "By addressing these issues, you can potentially improve the model's ability to handle imbalanced data and achieve more robust classification performance across all classes."
      ],
      "metadata": {
        "id": "dkt4ziam2--i"
      }
    },
    {
      "cell_type": "code",
      "source": [
        "# XGBoostClassifier with unbalanced data\n",
        "#In the XGBClassifier class, The default value for the n_estimators parameter is 100, max_depth parameter is 3\n",
        "xgb_unbalanced_model = XGBClassifier()\n",
        "# Convert class labels to integers\n",
        "label_mapping = {\n",
        "    'Negative': 0,\n",
        "    'Neutral': 1,\n",
        "    'Positive': 2\n",
        "}\n",
        "\n",
        "train_processed['sentiment'] = train_processed['sentiment'].map(label_mapping)\n",
        "xgb_unbalanced_model.fit(tfidfDataFinal,train_processed['sentiment'])"
      ],
      "metadata": {
        "colab": {
          "base_uri": "https://localhost:8080/",
          "height": 352
        },
        "id": "zV1iIeZixon4",
        "outputId": "8e81c56b-079f-4c04-bb60-f0b37d8dddb6"
      },
      "execution_count": null,
      "outputs": [
        {
          "output_type": "stream",
          "name": "stderr",
          "text": [
            "<ipython-input-58-f1c8a24117a9>:11: SettingWithCopyWarning: \n",
            "A value is trying to be set on a copy of a slice from a DataFrame.\n",
            "Try using .loc[row_indexer,col_indexer] = value instead\n",
            "\n",
            "See the caveats in the documentation: https://pandas.pydata.org/pandas-docs/stable/user_guide/indexing.html#returning-a-view-versus-a-copy\n",
            "  train_processed['sentiment'] = train_processed['sentiment'].map(label_mapping)\n"
          ]
        },
        {
          "output_type": "execute_result",
          "data": {
            "text/plain": [
              "XGBClassifier(base_score=None, booster=None, callbacks=None,\n",
              "              colsample_bylevel=None, colsample_bynode=None,\n",
              "              colsample_bytree=None, device=None, early_stopping_rounds=None,\n",
              "              enable_categorical=False, eval_metric=None, feature_types=None,\n",
              "              gamma=None, grow_policy=None, importance_type=None,\n",
              "              interaction_constraints=None, learning_rate=None, max_bin=None,\n",
              "              max_cat_threshold=None, max_cat_to_onehot=None,\n",
              "              max_delta_step=None, max_depth=None, max_leaves=None,\n",
              "              min_child_weight=None, missing=nan, monotone_constraints=None,\n",
              "              multi_strategy=None, n_estimators=None, n_jobs=None,\n",
              "              num_parallel_tree=None, objective='multi:softprob', ...)"
            ],
            "text/html": [
              "<style>#sk-container-id-4 {color: black;background-color: white;}#sk-container-id-4 pre{padding: 0;}#sk-container-id-4 div.sk-toggleable {background-color: white;}#sk-container-id-4 label.sk-toggleable__label {cursor: pointer;display: block;width: 100%;margin-bottom: 0;padding: 0.3em;box-sizing: border-box;text-align: center;}#sk-container-id-4 label.sk-toggleable__label-arrow:before {content: \"▸\";float: left;margin-right: 0.25em;color: #696969;}#sk-container-id-4 label.sk-toggleable__label-arrow:hover:before {color: black;}#sk-container-id-4 div.sk-estimator:hover label.sk-toggleable__label-arrow:before {color: black;}#sk-container-id-4 div.sk-toggleable__content {max-height: 0;max-width: 0;overflow: hidden;text-align: left;background-color: #f0f8ff;}#sk-container-id-4 div.sk-toggleable__content pre {margin: 0.2em;color: black;border-radius: 0.25em;background-color: #f0f8ff;}#sk-container-id-4 input.sk-toggleable__control:checked~div.sk-toggleable__content {max-height: 200px;max-width: 100%;overflow: auto;}#sk-container-id-4 input.sk-toggleable__control:checked~label.sk-toggleable__label-arrow:before {content: \"▾\";}#sk-container-id-4 div.sk-estimator input.sk-toggleable__control:checked~label.sk-toggleable__label {background-color: #d4ebff;}#sk-container-id-4 div.sk-label input.sk-toggleable__control:checked~label.sk-toggleable__label {background-color: #d4ebff;}#sk-container-id-4 input.sk-hidden--visually {border: 0;clip: rect(1px 1px 1px 1px);clip: rect(1px, 1px, 1px, 1px);height: 1px;margin: -1px;overflow: hidden;padding: 0;position: absolute;width: 1px;}#sk-container-id-4 div.sk-estimator {font-family: monospace;background-color: #f0f8ff;border: 1px dotted black;border-radius: 0.25em;box-sizing: border-box;margin-bottom: 0.5em;}#sk-container-id-4 div.sk-estimator:hover {background-color: #d4ebff;}#sk-container-id-4 div.sk-parallel-item::after {content: \"\";width: 100%;border-bottom: 1px solid gray;flex-grow: 1;}#sk-container-id-4 div.sk-label:hover label.sk-toggleable__label {background-color: #d4ebff;}#sk-container-id-4 div.sk-serial::before {content: \"\";position: absolute;border-left: 1px solid gray;box-sizing: border-box;top: 0;bottom: 0;left: 50%;z-index: 0;}#sk-container-id-4 div.sk-serial {display: flex;flex-direction: column;align-items: center;background-color: white;padding-right: 0.2em;padding-left: 0.2em;position: relative;}#sk-container-id-4 div.sk-item {position: relative;z-index: 1;}#sk-container-id-4 div.sk-parallel {display: flex;align-items: stretch;justify-content: center;background-color: white;position: relative;}#sk-container-id-4 div.sk-item::before, #sk-container-id-4 div.sk-parallel-item::before {content: \"\";position: absolute;border-left: 1px solid gray;box-sizing: border-box;top: 0;bottom: 0;left: 50%;z-index: -1;}#sk-container-id-4 div.sk-parallel-item {display: flex;flex-direction: column;z-index: 1;position: relative;background-color: white;}#sk-container-id-4 div.sk-parallel-item:first-child::after {align-self: flex-end;width: 50%;}#sk-container-id-4 div.sk-parallel-item:last-child::after {align-self: flex-start;width: 50%;}#sk-container-id-4 div.sk-parallel-item:only-child::after {width: 0;}#sk-container-id-4 div.sk-dashed-wrapped {border: 1px dashed gray;margin: 0 0.4em 0.5em 0.4em;box-sizing: border-box;padding-bottom: 0.4em;background-color: white;}#sk-container-id-4 div.sk-label label {font-family: monospace;font-weight: bold;display: inline-block;line-height: 1.2em;}#sk-container-id-4 div.sk-label-container {text-align: center;}#sk-container-id-4 div.sk-container {/* jupyter's `normalize.less` sets `[hidden] { display: none; }` but bootstrap.min.css set `[hidden] { display: none !important; }` so we also need the `!important` here to be able to override the default hidden behavior on the sphinx rendered scikit-learn.org. See: https://github.com/scikit-learn/scikit-learn/issues/21755 */display: inline-block !important;position: relative;}#sk-container-id-4 div.sk-text-repr-fallback {display: none;}</style><div id=\"sk-container-id-4\" class=\"sk-top-container\"><div class=\"sk-text-repr-fallback\"><pre>XGBClassifier(base_score=None, booster=None, callbacks=None,\n",
              "              colsample_bylevel=None, colsample_bynode=None,\n",
              "              colsample_bytree=None, device=None, early_stopping_rounds=None,\n",
              "              enable_categorical=False, eval_metric=None, feature_types=None,\n",
              "              gamma=None, grow_policy=None, importance_type=None,\n",
              "              interaction_constraints=None, learning_rate=None, max_bin=None,\n",
              "              max_cat_threshold=None, max_cat_to_onehot=None,\n",
              "              max_delta_step=None, max_depth=None, max_leaves=None,\n",
              "              min_child_weight=None, missing=nan, monotone_constraints=None,\n",
              "              multi_strategy=None, n_estimators=None, n_jobs=None,\n",
              "              num_parallel_tree=None, objective=&#x27;multi:softprob&#x27;, ...)</pre><b>In a Jupyter environment, please rerun this cell to show the HTML representation or trust the notebook. <br />On GitHub, the HTML representation is unable to render, please try loading this page with nbviewer.org.</b></div><div class=\"sk-container\" hidden><div class=\"sk-item\"><div class=\"sk-estimator sk-toggleable\"><input class=\"sk-toggleable__control sk-hidden--visually\" id=\"sk-estimator-id-4\" type=\"checkbox\" checked><label for=\"sk-estimator-id-4\" class=\"sk-toggleable__label sk-toggleable__label-arrow\">XGBClassifier</label><div class=\"sk-toggleable__content\"><pre>XGBClassifier(base_score=None, booster=None, callbacks=None,\n",
              "              colsample_bylevel=None, colsample_bynode=None,\n",
              "              colsample_bytree=None, device=None, early_stopping_rounds=None,\n",
              "              enable_categorical=False, eval_metric=None, feature_types=None,\n",
              "              gamma=None, grow_policy=None, importance_type=None,\n",
              "              interaction_constraints=None, learning_rate=None, max_bin=None,\n",
              "              max_cat_threshold=None, max_cat_to_onehot=None,\n",
              "              max_delta_step=None, max_depth=None, max_leaves=None,\n",
              "              min_child_weight=None, missing=nan, monotone_constraints=None,\n",
              "              multi_strategy=None, n_estimators=None, n_jobs=None,\n",
              "              num_parallel_tree=None, objective=&#x27;multi:softprob&#x27;, ...)</pre></div></div></div></div></div>"
            ]
          },
          "metadata": {},
          "execution_count": 58
        }
      ]
    },
    {
      "cell_type": "code",
      "source": [
        "# Train prediction\n",
        "xgb_unbalanced_train_pred = xgb_unbalanced_model.predict(tfidfDataFinal)\n",
        "\n",
        "xgb_unbalanced_train_report = metrics.classification_report(train_processed['sentiment'], xgb_unbalanced_train_pred)\n",
        "print (\"\\nAccuracy on Training set: {:.4f}\".format(accuracy_score(train_processed['sentiment'], xgb_unbalanced_train_pred)))\n",
        "print(\"Train classification report\\n\", xgb_unbalanced_train_report)"
      ],
      "metadata": {
        "colab": {
          "base_uri": "https://localhost:8080/"
        },
        "id": "3PTLkgetxorK",
        "outputId": "230df24b-b9ee-47dd-c6ef-51496c098818"
      },
      "execution_count": null,
      "outputs": [
        {
          "output_type": "stream",
          "name": "stdout",
          "text": [
            "\n",
            "Accuracy on Training set: 0.9942\n",
            "Train classification report\n",
            "               precision    recall  f1-score   support\n",
            "\n",
            "           0       1.00      0.96      0.98        93\n",
            "           1       1.00      0.88      0.94       158\n",
            "           2       0.99      1.00      1.00      3749\n",
            "\n",
            "    accuracy                           0.99      4000\n",
            "   macro avg       1.00      0.95      0.97      4000\n",
            "weighted avg       0.99      0.99      0.99      4000\n",
            "\n"
          ]
        }
      ]
    },
    {
      "cell_type": "code",
      "source": [
        "# Test prediction\n",
        "xgb_unbalanced_test_pred = xgb_unbalanced_model.predict(test_vec)\n",
        "# Convert string labels to numeric labels in test_processed\n",
        "label_mapping = {\n",
        "    'Negative': 0,\n",
        "    'Neutral': 1,\n",
        "    'Positive': 2\n",
        "}\n",
        "\n",
        "Labelled = test_processed['sentiment'].map(label_mapping)\n",
        "xgb_unbalanced_test_report = metrics.classification_report(Labelled, xgb_unbalanced_test_pred)\n",
        "print (\"\\nAccuracy on Test set: {:.4f}\".format(accuracy_score(Labelled, xgb_unbalanced_test_pred)))\n",
        "print(\"Test classification report\\n\", xgb_unbalanced_test_report)"
      ],
      "metadata": {
        "colab": {
          "base_uri": "https://localhost:8080/"
        },
        "id": "PLsVu3STxouH",
        "outputId": "1c7a3b19-3e02-4b3f-88ad-f2cd7a65bc01"
      },
      "execution_count": null,
      "outputs": [
        {
          "output_type": "stream",
          "name": "stdout",
          "text": [
            "\n",
            "Accuracy on Test set: 0.9390\n",
            "Test classification report\n",
            "               precision    recall  f1-score   support\n",
            "\n",
            "           0       0.71      0.21      0.32        24\n",
            "           1       0.36      0.13      0.19        39\n",
            "           2       0.95      0.99      0.97       937\n",
            "\n",
            "    accuracy                           0.94      1000\n",
            "   macro avg       0.67      0.44      0.49      1000\n",
            "weighted avg       0.92      0.94      0.92      1000\n",
            "\n"
          ]
        }
      ]
    },
    {
      "cell_type": "markdown",
      "source": [
        "**Summary of XGBoost Classifier Reports:**\n",
        "These reports detail the performance of an XGBoost classifier on a dataset with three classes (potentially imbalanced): class 0, class 1, and class 2.\n",
        "\n",
        "**Training Set:**\n",
        "\n",
        "* The model achieved very high accuracy (0.9942) on the training data, indicating strong performance overall.\n",
        "* Looking at class-wise metrics, the model performs well for classes 0 and 2, with precision and recall above 0.94.\n",
        "* Class 1 has a slightly lower recall (0.88) but still a high precision (1.00). This suggests the model might miss some class 1 instances but correctly identifies most predicted ones.\n",
        "* Possible Overfitting: A very high training accuracy, especially with imbalanced data, can be a sign of overfitting.\n",
        "\n",
        "**Test Set:**\n",
        "\n",
        "* The accuracy on the test set (0.9390) is lower than the training set, suggesting some overfitting.\n",
        "* There's likely class imbalance with fewer examples for classes 0 (24) and 1 (39) compared to class 2 (937). The model performs well for class 2 with high precision (0.95) and recall (0.99).\n",
        "\n",
        "However, the performance is significantly lower for classes 0 and 1, with low precision and recall. This suggests the model struggles to identify these minority classes on unseen data.\n",
        "\n",
        "**Overall:**\n",
        "\n",
        "While the XGBoost classifier achieves high accuracy on the training set, the significant drop in performance for minority classes (0 and 1) on the test set indicates limitations with imbalanced data and potential overfitting.\n",
        "\n",
        "**Recommendations:**\n",
        "\n",
        "**Address Overfitting:** Techniques like using a validation set for hyperparameter tuning or applying regularization methods (e.g., L1/L2 penalty) can help prevent overfitting.\n",
        "\n",
        "**Handle Class Imbalance:** Similar to the previous models, consider techniques like oversampling or undersampling to create a more balanced training set.\n",
        "\n",
        "**Early Stopping:** Implement early stopping during XGBoost training to prevent the model from overfitting on the training data.\n",
        "\n",
        "By addressing these issues, you can improve the model's ability to handle imbalanced data and achieve more generalizable classification performance across all classes."
      ],
      "metadata": {
        "id": "S5x2dHDh4RZE"
      }
    },
    {
      "cell_type": "markdown",
      "source": [
        "#**Project Task: Week 3 Model Selection**"
      ],
      "metadata": {
        "id": "uGUiFOnBKxJx"
      }
    },
    {
      "cell_type": "markdown",
      "source": [
        "##**1. Apply multi-class SVM’s and neural nets.**"
      ],
      "metadata": {
        "id": "DFi5Nvr8K523"
      }
    },
    {
      "cell_type": "code",
      "source": [
        "# Apply multi-class SVM’s\n",
        "svm_balanced_model = SVC(kernel='linear', C=0.5,class_weight='balanced')\n",
        "svm_balanced_model.fit(X_over, Y_over)"
      ],
      "metadata": {
        "colab": {
          "base_uri": "https://localhost:8080/",
          "height": 74
        },
        "id": "dU5GujkZxoxU",
        "outputId": "73bd5145-1c69-47ed-9df3-03d3ea7034d5"
      },
      "execution_count": null,
      "outputs": [
        {
          "output_type": "execute_result",
          "data": {
            "text/plain": [
              "SVC(C=0.5, class_weight='balanced', kernel='linear')"
            ],
            "text/html": [
              "<style>#sk-container-id-5 {color: black;background-color: white;}#sk-container-id-5 pre{padding: 0;}#sk-container-id-5 div.sk-toggleable {background-color: white;}#sk-container-id-5 label.sk-toggleable__label {cursor: pointer;display: block;width: 100%;margin-bottom: 0;padding: 0.3em;box-sizing: border-box;text-align: center;}#sk-container-id-5 label.sk-toggleable__label-arrow:before {content: \"▸\";float: left;margin-right: 0.25em;color: #696969;}#sk-container-id-5 label.sk-toggleable__label-arrow:hover:before {color: black;}#sk-container-id-5 div.sk-estimator:hover label.sk-toggleable__label-arrow:before {color: black;}#sk-container-id-5 div.sk-toggleable__content {max-height: 0;max-width: 0;overflow: hidden;text-align: left;background-color: #f0f8ff;}#sk-container-id-5 div.sk-toggleable__content pre {margin: 0.2em;color: black;border-radius: 0.25em;background-color: #f0f8ff;}#sk-container-id-5 input.sk-toggleable__control:checked~div.sk-toggleable__content {max-height: 200px;max-width: 100%;overflow: auto;}#sk-container-id-5 input.sk-toggleable__control:checked~label.sk-toggleable__label-arrow:before {content: \"▾\";}#sk-container-id-5 div.sk-estimator input.sk-toggleable__control:checked~label.sk-toggleable__label {background-color: #d4ebff;}#sk-container-id-5 div.sk-label input.sk-toggleable__control:checked~label.sk-toggleable__label {background-color: #d4ebff;}#sk-container-id-5 input.sk-hidden--visually {border: 0;clip: rect(1px 1px 1px 1px);clip: rect(1px, 1px, 1px, 1px);height: 1px;margin: -1px;overflow: hidden;padding: 0;position: absolute;width: 1px;}#sk-container-id-5 div.sk-estimator {font-family: monospace;background-color: #f0f8ff;border: 1px dotted black;border-radius: 0.25em;box-sizing: border-box;margin-bottom: 0.5em;}#sk-container-id-5 div.sk-estimator:hover {background-color: #d4ebff;}#sk-container-id-5 div.sk-parallel-item::after {content: \"\";width: 100%;border-bottom: 1px solid gray;flex-grow: 1;}#sk-container-id-5 div.sk-label:hover label.sk-toggleable__label {background-color: #d4ebff;}#sk-container-id-5 div.sk-serial::before {content: \"\";position: absolute;border-left: 1px solid gray;box-sizing: border-box;top: 0;bottom: 0;left: 50%;z-index: 0;}#sk-container-id-5 div.sk-serial {display: flex;flex-direction: column;align-items: center;background-color: white;padding-right: 0.2em;padding-left: 0.2em;position: relative;}#sk-container-id-5 div.sk-item {position: relative;z-index: 1;}#sk-container-id-5 div.sk-parallel {display: flex;align-items: stretch;justify-content: center;background-color: white;position: relative;}#sk-container-id-5 div.sk-item::before, #sk-container-id-5 div.sk-parallel-item::before {content: \"\";position: absolute;border-left: 1px solid gray;box-sizing: border-box;top: 0;bottom: 0;left: 50%;z-index: -1;}#sk-container-id-5 div.sk-parallel-item {display: flex;flex-direction: column;z-index: 1;position: relative;background-color: white;}#sk-container-id-5 div.sk-parallel-item:first-child::after {align-self: flex-end;width: 50%;}#sk-container-id-5 div.sk-parallel-item:last-child::after {align-self: flex-start;width: 50%;}#sk-container-id-5 div.sk-parallel-item:only-child::after {width: 0;}#sk-container-id-5 div.sk-dashed-wrapped {border: 1px dashed gray;margin: 0 0.4em 0.5em 0.4em;box-sizing: border-box;padding-bottom: 0.4em;background-color: white;}#sk-container-id-5 div.sk-label label {font-family: monospace;font-weight: bold;display: inline-block;line-height: 1.2em;}#sk-container-id-5 div.sk-label-container {text-align: center;}#sk-container-id-5 div.sk-container {/* jupyter's `normalize.less` sets `[hidden] { display: none; }` but bootstrap.min.css set `[hidden] { display: none !important; }` so we also need the `!important` here to be able to override the default hidden behavior on the sphinx rendered scikit-learn.org. See: https://github.com/scikit-learn/scikit-learn/issues/21755 */display: inline-block !important;position: relative;}#sk-container-id-5 div.sk-text-repr-fallback {display: none;}</style><div id=\"sk-container-id-5\" class=\"sk-top-container\"><div class=\"sk-text-repr-fallback\"><pre>SVC(C=0.5, class_weight=&#x27;balanced&#x27;, kernel=&#x27;linear&#x27;)</pre><b>In a Jupyter environment, please rerun this cell to show the HTML representation or trust the notebook. <br />On GitHub, the HTML representation is unable to render, please try loading this page with nbviewer.org.</b></div><div class=\"sk-container\" hidden><div class=\"sk-item\"><div class=\"sk-estimator sk-toggleable\"><input class=\"sk-toggleable__control sk-hidden--visually\" id=\"sk-estimator-id-5\" type=\"checkbox\" checked><label for=\"sk-estimator-id-5\" class=\"sk-toggleable__label sk-toggleable__label-arrow\">SVC</label><div class=\"sk-toggleable__content\"><pre>SVC(C=0.5, class_weight=&#x27;balanced&#x27;, kernel=&#x27;linear&#x27;)</pre></div></div></div></div></div>"
            ]
          },
          "metadata": {},
          "execution_count": 61
        }
      ]
    },
    {
      "cell_type": "code",
      "source": [
        "# Train prediction\n",
        "svm_balanced_train_pred = svm_balanced_model.predict(X_over)\n",
        "svm_balanced_train_report = metrics.classification_report(Y_over, svm_balanced_train_pred)\n",
        "print (\"\\nAccuracy on Training set: {:.4f}\".format(accuracy_score(Y_over, svm_balanced_train_pred)))\n",
        "print(\"Train classification report\\n\", svm_balanced_train_report)"
      ],
      "metadata": {
        "colab": {
          "base_uri": "https://localhost:8080/"
        },
        "id": "fUWS_kvRxo0W",
        "outputId": "8172961d-f976-4d28-cc54-1177b335ec0b"
      },
      "execution_count": null,
      "outputs": [
        {
          "output_type": "stream",
          "name": "stdout",
          "text": [
            "\n",
            "Accuracy on Training set: 0.9924\n",
            "Train classification report\n",
            "               precision    recall  f1-score   support\n",
            "\n",
            "    Negative       1.00      1.00      1.00      3749\n",
            "     Neutral       0.98      1.00      0.99      3749\n",
            "    Positive       1.00      0.98      0.99      3749\n",
            "\n",
            "    accuracy                           0.99     11247\n",
            "   macro avg       0.99      0.99      0.99     11247\n",
            "weighted avg       0.99      0.99      0.99     11247\n",
            "\n"
          ]
        }
      ]
    },
    {
      "cell_type": "code",
      "source": [
        "test_vec.shape"
      ],
      "metadata": {
        "colab": {
          "base_uri": "https://localhost:8080/"
        },
        "id": "ISnvnGqRtSRm",
        "outputId": "fcd52cb2-cb29-440f-e689-e20ed79e9ce5"
      },
      "execution_count": null,
      "outputs": [
        {
          "output_type": "execute_result",
          "data": {
            "text/plain": [
              "(1000, 3407)"
            ]
          },
          "metadata": {},
          "execution_count": 63
        }
      ]
    },
    {
      "cell_type": "code",
      "source": [
        "# Test prediction\n",
        "svm_balanced_test_pred = svm_balanced_model.predict(test_vec)\n",
        "svm_balanced_test_report = metrics.classification_report(test_processed['sentiment'], svm_balanced_test_pred)\n",
        "print (\"\\nAccuracy on Test set: {:.4f}\".format(accuracy_score(test_processed['sentiment'], svm_balanced_test_pred)))\n",
        "print(\"Test classification report\\n\", svm_balanced_test_report)"
      ],
      "metadata": {
        "colab": {
          "base_uri": "https://localhost:8080/"
        },
        "id": "8SYvyO6pM8X_",
        "outputId": "b0144b48-0dee-42fd-eb5f-03fa43891a13"
      },
      "execution_count": null,
      "outputs": [
        {
          "output_type": "stream",
          "name": "stdout",
          "text": [
            "\n",
            "Accuracy on Test set: 0.8720\n",
            "Test classification report\n",
            "               precision    recall  f1-score   support\n",
            "\n",
            "    Negative       0.29      0.62      0.39        24\n",
            "     Neutral       0.20      0.49      0.29        39\n",
            "    Positive       0.98      0.89      0.94       937\n",
            "\n",
            "    accuracy                           0.87      1000\n",
            "   macro avg       0.49      0.67      0.54      1000\n",
            "weighted avg       0.93      0.87      0.90      1000\n",
            "\n"
          ]
        }
      ]
    },
    {
      "cell_type": "markdown",
      "source": [
        "**Summary of Support Vector Machine Classification Reports:**\n",
        "\n",
        "These reports show the performance of a Support Vector Machine (SVM) classifier on a dataset with three classes: Negative, Neutral, and Positive, and there's evidence of class imbalance.\n",
        "\n",
        "**Training Set:**\n",
        "\n",
        "The model achieved a very high accuracy (0.9932) on the training data, indicating strong performance overall for all classes. This might be a case of overfitting, especially with imbalanced data.\n",
        "\n",
        "**Test Set:**\n",
        "\n",
        "* The accuracy on the test set (0.8750) is significantly lower than the training set, suggesting significant overfitting.\n",
        "* Similar to the other models, there's likely class imbalance with fewer Negative (24) and Neutral (39) examples compared to Positive (937). The model performs well for the Positive class with high precision (0.98) and recall (0.90).\n",
        "* However, the performance is poor for Negative and Neutral classes, with low precision and moderate recall. This suggests the model struggles to classify these classes on unseen data.\n",
        "\n",
        "**Overall:**\n",
        "\n",
        "While the SVM achieves high accuracy on the training set, the significant drop in performance for minority classes (Negative and Neutral) on the test set indicates limitations with imbalanced data and severe overfitting.\n",
        "\n",
        "**Recommendations:**\n",
        "\n",
        "**Address Overfitting:** Techniques like using a validation set for hyperparameter tuning or applying regularization methods (e.g., kernel selection, cost parameter tuning) are crucial to prevent overfitting with SVMs.\n",
        "\n",
        "**Handle Class Imbalance:** Similar to the previous models, consider oversampling or undersampling to create a more balanced training set.\n",
        "\n",
        "**Cost-Sensitive Learning:** If misclassifying certain classes is more costly, explore cost-sensitive learning with SVMs to prioritize accurate classification for those classes.\n",
        "\n",
        "By addressing these issues, you can improve the model's ability to handle imbalanced data and achieve more generalizable classification performance across all classes."
      ],
      "metadata": {
        "id": "t6-CoSq46K71"
      }
    },
    {
      "cell_type": "code",
      "source": [
        "from sklearn.preprocessing import label_binarize"
      ],
      "metadata": {
        "id": "jWbq-u7GKGDO"
      },
      "execution_count": null,
      "outputs": []
    },
    {
      "cell_type": "code",
      "source": [
        "Y_over"
      ],
      "metadata": {
        "colab": {
          "base_uri": "https://localhost:8080/"
        },
        "id": "ZByMitDZKaMi",
        "outputId": "9f197bb2-912d-4ed0-fb1b-63cab74c038d"
      },
      "execution_count": null,
      "outputs": [
        {
          "output_type": "execute_result",
          "data": {
            "text/plain": [
              "0        Positive\n",
              "1        Positive\n",
              "2         Neutral\n",
              "3        Positive\n",
              "4        Positive\n",
              "           ...   \n",
              "11242     Neutral\n",
              "11243     Neutral\n",
              "11244     Neutral\n",
              "11245     Neutral\n",
              "11246     Neutral\n",
              "Name: sentiment, Length: 11247, dtype: object"
            ]
          },
          "metadata": {},
          "execution_count": 66
        }
      ]
    },
    {
      "cell_type": "markdown",
      "source": [
        "##**2. Use possible ensemble techniques like: XGboost + oversampled_multinomial_NB.**"
      ],
      "metadata": {
        "id": "IE7nhb74xild"
      }
    },
    {
      "cell_type": "markdown",
      "source": [
        "Ensemble techniques like combining XGBoost and oversampled Multinomial Naive Bayes using a voting classifier can be a powerful approach to improve classification performance, especially when dealing with imbalanced datasets. Here's a breakdown of the approach and its potential benefits:\n",
        "\n",
        "**1. XGBoost:**\n",
        "\n",
        "XGBoost is a powerful gradient boosting algorithm known for its accuracy and ability to handle various data types.\n",
        "In your scenario, it likely learns complex patterns from the imbalanced dataset and performs well on the majority class (positive).\n",
        "However, it might struggle with the minority classes (negative and neutral) due to the imbalance.\n",
        "\n",
        "**2. Oversampled Multinomial Naive Bayes:**\n",
        "\n",
        "Multinomial Naive Bayes is a simpler classifier that assumes independence between features.\n",
        "Oversampling replicates examples from the minority class (negative and neutral) to create a more balanced training set.\n",
        "This can help the Naive Bayes model learn the characteristics of these minority classes more effectively.\n",
        "\n",
        "**3. Voting Classifier:**\n",
        "\n",
        "A voting classifier combines the predictions from multiple models (here, XGBoost and oversampled Naive Bayes) and makes a final prediction based on the majority vote.\n",
        "\n",
        "**Benefits of Ensemble with Voting:**\n",
        "\n",
        "* **Leverages Strengths:** XGBoost brings its power for complex patterns, while the oversampled Naive Bayes focuses on the minority classes.\n",
        "Reduces Overfitting: By combining models with different learning styles, the voting classifier can potentially reduce overfitting to the training data.\n",
        "* **Improves Performance on Imbalanced Data:** By addressing the class imbalance through oversampling and combining models, the ensemble can achieve better overall accuracy and fairer classification across all classes.\n",
        "\n",
        "Here are some additional points to consider:\n",
        "\n",
        "* **Hyperparameter Tuning:** It's essential to tune the hyperparameters of both XGBoost and the oversampled Naive Bayes model for optimal performance.\n",
        "* **Choice of Oversampling Technique:** Different oversampling techniques exist (SMOTE, random oversampling). Experiment to see which works best for your data."
      ],
      "metadata": {
        "id": "0F887S_2ICOn"
      }
    },
    {
      "cell_type": "code",
      "source": [
        "m1 = MultinomialNB()\n",
        "m2 =  XGBClassifier(n_estimators=500,max_depth=6)\n",
        "model = VotingClassifier(estimators=[('lr', m1), ('dt', m2)], voting='hard')\n",
        "model.fit(X_over,Y_over)"
      ],
      "metadata": {
        "colab": {
          "base_uri": "https://localhost:8080/",
          "height": 109
        },
        "id": "UbidqoO_zBrF",
        "outputId": "4523e78f-ecc8-4be7-f633-7c8b105cc304"
      },
      "execution_count": null,
      "outputs": [
        {
          "output_type": "execute_result",
          "data": {
            "text/plain": [
              "VotingClassifier(estimators=[('lr', MultinomialNB()),\n",
              "                             ('dt',\n",
              "                              XGBClassifier(base_score=None, booster=None,\n",
              "                                            callbacks=None,\n",
              "                                            colsample_bylevel=None,\n",
              "                                            colsample_bynode=None,\n",
              "                                            colsample_bytree=None, device=None,\n",
              "                                            early_stopping_rounds=None,\n",
              "                                            enable_categorical=False,\n",
              "                                            eval_metric=None,\n",
              "                                            feature_types=None, gamma=None,\n",
              "                                            grow_policy=None,\n",
              "                                            importance_type=None,\n",
              "                                            interaction_constraints=None,\n",
              "                                            learning_rate=None, max_bin=None,\n",
              "                                            max_cat_threshold=None,\n",
              "                                            max_cat_to_onehot=None,\n",
              "                                            max_delta_step=None, max_depth=6,\n",
              "                                            max_leaves=None,\n",
              "                                            min_child_weight=None, missing=nan,\n",
              "                                            monotone_constraints=None,\n",
              "                                            multi_strategy=None,\n",
              "                                            n_estimators=500, n_jobs=None,\n",
              "                                            num_parallel_tree=None,\n",
              "                                            random_state=None, ...))])"
            ],
            "text/html": [
              "<style>#sk-container-id-6 {color: black;background-color: white;}#sk-container-id-6 pre{padding: 0;}#sk-container-id-6 div.sk-toggleable {background-color: white;}#sk-container-id-6 label.sk-toggleable__label {cursor: pointer;display: block;width: 100%;margin-bottom: 0;padding: 0.3em;box-sizing: border-box;text-align: center;}#sk-container-id-6 label.sk-toggleable__label-arrow:before {content: \"▸\";float: left;margin-right: 0.25em;color: #696969;}#sk-container-id-6 label.sk-toggleable__label-arrow:hover:before {color: black;}#sk-container-id-6 div.sk-estimator:hover label.sk-toggleable__label-arrow:before {color: black;}#sk-container-id-6 div.sk-toggleable__content {max-height: 0;max-width: 0;overflow: hidden;text-align: left;background-color: #f0f8ff;}#sk-container-id-6 div.sk-toggleable__content pre {margin: 0.2em;color: black;border-radius: 0.25em;background-color: #f0f8ff;}#sk-container-id-6 input.sk-toggleable__control:checked~div.sk-toggleable__content {max-height: 200px;max-width: 100%;overflow: auto;}#sk-container-id-6 input.sk-toggleable__control:checked~label.sk-toggleable__label-arrow:before {content: \"▾\";}#sk-container-id-6 div.sk-estimator input.sk-toggleable__control:checked~label.sk-toggleable__label {background-color: #d4ebff;}#sk-container-id-6 div.sk-label input.sk-toggleable__control:checked~label.sk-toggleable__label {background-color: #d4ebff;}#sk-container-id-6 input.sk-hidden--visually {border: 0;clip: rect(1px 1px 1px 1px);clip: rect(1px, 1px, 1px, 1px);height: 1px;margin: -1px;overflow: hidden;padding: 0;position: absolute;width: 1px;}#sk-container-id-6 div.sk-estimator {font-family: monospace;background-color: #f0f8ff;border: 1px dotted black;border-radius: 0.25em;box-sizing: border-box;margin-bottom: 0.5em;}#sk-container-id-6 div.sk-estimator:hover {background-color: #d4ebff;}#sk-container-id-6 div.sk-parallel-item::after {content: \"\";width: 100%;border-bottom: 1px solid gray;flex-grow: 1;}#sk-container-id-6 div.sk-label:hover label.sk-toggleable__label {background-color: #d4ebff;}#sk-container-id-6 div.sk-serial::before {content: \"\";position: absolute;border-left: 1px solid gray;box-sizing: border-box;top: 0;bottom: 0;left: 50%;z-index: 0;}#sk-container-id-6 div.sk-serial {display: flex;flex-direction: column;align-items: center;background-color: white;padding-right: 0.2em;padding-left: 0.2em;position: relative;}#sk-container-id-6 div.sk-item {position: relative;z-index: 1;}#sk-container-id-6 div.sk-parallel {display: flex;align-items: stretch;justify-content: center;background-color: white;position: relative;}#sk-container-id-6 div.sk-item::before, #sk-container-id-6 div.sk-parallel-item::before {content: \"\";position: absolute;border-left: 1px solid gray;box-sizing: border-box;top: 0;bottom: 0;left: 50%;z-index: -1;}#sk-container-id-6 div.sk-parallel-item {display: flex;flex-direction: column;z-index: 1;position: relative;background-color: white;}#sk-container-id-6 div.sk-parallel-item:first-child::after {align-self: flex-end;width: 50%;}#sk-container-id-6 div.sk-parallel-item:last-child::after {align-self: flex-start;width: 50%;}#sk-container-id-6 div.sk-parallel-item:only-child::after {width: 0;}#sk-container-id-6 div.sk-dashed-wrapped {border: 1px dashed gray;margin: 0 0.4em 0.5em 0.4em;box-sizing: border-box;padding-bottom: 0.4em;background-color: white;}#sk-container-id-6 div.sk-label label {font-family: monospace;font-weight: bold;display: inline-block;line-height: 1.2em;}#sk-container-id-6 div.sk-label-container {text-align: center;}#sk-container-id-6 div.sk-container {/* jupyter's `normalize.less` sets `[hidden] { display: none; }` but bootstrap.min.css set `[hidden] { display: none !important; }` so we also need the `!important` here to be able to override the default hidden behavior on the sphinx rendered scikit-learn.org. See: https://github.com/scikit-learn/scikit-learn/issues/21755 */display: inline-block !important;position: relative;}#sk-container-id-6 div.sk-text-repr-fallback {display: none;}</style><div id=\"sk-container-id-6\" class=\"sk-top-container\"><div class=\"sk-text-repr-fallback\"><pre>VotingClassifier(estimators=[(&#x27;lr&#x27;, MultinomialNB()),\n",
              "                             (&#x27;dt&#x27;,\n",
              "                              XGBClassifier(base_score=None, booster=None,\n",
              "                                            callbacks=None,\n",
              "                                            colsample_bylevel=None,\n",
              "                                            colsample_bynode=None,\n",
              "                                            colsample_bytree=None, device=None,\n",
              "                                            early_stopping_rounds=None,\n",
              "                                            enable_categorical=False,\n",
              "                                            eval_metric=None,\n",
              "                                            feature_types=None, gamma=None,\n",
              "                                            grow_policy=None,\n",
              "                                            importance_type=None,\n",
              "                                            interaction_constraints=None,\n",
              "                                            learning_rate=None, max_bin=None,\n",
              "                                            max_cat_threshold=None,\n",
              "                                            max_cat_to_onehot=None,\n",
              "                                            max_delta_step=None, max_depth=6,\n",
              "                                            max_leaves=None,\n",
              "                                            min_child_weight=None, missing=nan,\n",
              "                                            monotone_constraints=None,\n",
              "                                            multi_strategy=None,\n",
              "                                            n_estimators=500, n_jobs=None,\n",
              "                                            num_parallel_tree=None,\n",
              "                                            random_state=None, ...))])</pre><b>In a Jupyter environment, please rerun this cell to show the HTML representation or trust the notebook. <br />On GitHub, the HTML representation is unable to render, please try loading this page with nbviewer.org.</b></div><div class=\"sk-container\" hidden><div class=\"sk-item sk-dashed-wrapped\"><div class=\"sk-label-container\"><div class=\"sk-label sk-toggleable\"><input class=\"sk-toggleable__control sk-hidden--visually\" id=\"sk-estimator-id-6\" type=\"checkbox\" ><label for=\"sk-estimator-id-6\" class=\"sk-toggleable__label sk-toggleable__label-arrow\">VotingClassifier</label><div class=\"sk-toggleable__content\"><pre>VotingClassifier(estimators=[(&#x27;lr&#x27;, MultinomialNB()),\n",
              "                             (&#x27;dt&#x27;,\n",
              "                              XGBClassifier(base_score=None, booster=None,\n",
              "                                            callbacks=None,\n",
              "                                            colsample_bylevel=None,\n",
              "                                            colsample_bynode=None,\n",
              "                                            colsample_bytree=None, device=None,\n",
              "                                            early_stopping_rounds=None,\n",
              "                                            enable_categorical=False,\n",
              "                                            eval_metric=None,\n",
              "                                            feature_types=None, gamma=None,\n",
              "                                            grow_policy=None,\n",
              "                                            importance_type=None,\n",
              "                                            interaction_constraints=None,\n",
              "                                            learning_rate=None, max_bin=None,\n",
              "                                            max_cat_threshold=None,\n",
              "                                            max_cat_to_onehot=None,\n",
              "                                            max_delta_step=None, max_depth=6,\n",
              "                                            max_leaves=None,\n",
              "                                            min_child_weight=None, missing=nan,\n",
              "                                            monotone_constraints=None,\n",
              "                                            multi_strategy=None,\n",
              "                                            n_estimators=500, n_jobs=None,\n",
              "                                            num_parallel_tree=None,\n",
              "                                            random_state=None, ...))])</pre></div></div></div><div class=\"sk-parallel\"><div class=\"sk-parallel-item\"><div class=\"sk-item\"><div class=\"sk-label-container\"><div class=\"sk-label sk-toggleable\"><label>lr</label></div></div><div class=\"sk-serial\"><div class=\"sk-item\"><div class=\"sk-estimator sk-toggleable\"><input class=\"sk-toggleable__control sk-hidden--visually\" id=\"sk-estimator-id-7\" type=\"checkbox\" ><label for=\"sk-estimator-id-7\" class=\"sk-toggleable__label sk-toggleable__label-arrow\">MultinomialNB</label><div class=\"sk-toggleable__content\"><pre>MultinomialNB()</pre></div></div></div></div></div></div><div class=\"sk-parallel-item\"><div class=\"sk-item\"><div class=\"sk-label-container\"><div class=\"sk-label sk-toggleable\"><label>dt</label></div></div><div class=\"sk-serial\"><div class=\"sk-item\"><div class=\"sk-estimator sk-toggleable\"><input class=\"sk-toggleable__control sk-hidden--visually\" id=\"sk-estimator-id-8\" type=\"checkbox\" ><label for=\"sk-estimator-id-8\" class=\"sk-toggleable__label sk-toggleable__label-arrow\">XGBClassifier</label><div class=\"sk-toggleable__content\"><pre>XGBClassifier(base_score=None, booster=None, callbacks=None,\n",
              "              colsample_bylevel=None, colsample_bynode=None,\n",
              "              colsample_bytree=None, device=None, early_stopping_rounds=None,\n",
              "              enable_categorical=False, eval_metric=None, feature_types=None,\n",
              "              gamma=None, grow_policy=None, importance_type=None,\n",
              "              interaction_constraints=None, learning_rate=None, max_bin=None,\n",
              "              max_cat_threshold=None, max_cat_to_onehot=None,\n",
              "              max_delta_step=None, max_depth=6, max_leaves=None,\n",
              "              min_child_weight=None, missing=nan, monotone_constraints=None,\n",
              "              multi_strategy=None, n_estimators=500, n_jobs=None,\n",
              "              num_parallel_tree=None, random_state=None, ...)</pre></div></div></div></div></div></div></div></div></div></div>"
            ]
          },
          "metadata": {},
          "execution_count": 67
        }
      ]
    },
    {
      "cell_type": "code",
      "source": [
        "# Train prediction\n",
        "ensemble_train_pred = model.predict(X_over)\n",
        "ensemble_train_report = metrics.classification_report(Y_over, ensemble_train_pred)\n",
        "print (\"\\nAccuracy on Training set: {:.4f}\".format(accuracy_score(Y_over, ensemble_train_pred)))\n",
        "print(\"Train classification report\\n\", ensemble_train_report)"
      ],
      "metadata": {
        "colab": {
          "base_uri": "https://localhost:8080/"
        },
        "id": "lI5ee0sUzrFf",
        "outputId": "d2414592-8073-493d-dc11-12d16e641e5b"
      },
      "execution_count": null,
      "outputs": [
        {
          "output_type": "stream",
          "name": "stdout",
          "text": [
            "\n",
            "Accuracy on Training set: 0.9694\n",
            "Train classification report\n",
            "               precision    recall  f1-score   support\n",
            "\n",
            "    Negative       0.98      1.00      0.99      3749\n",
            "     Neutral       0.94      1.00      0.97      3749\n",
            "    Positive       1.00      0.91      0.95      3749\n",
            "\n",
            "    accuracy                           0.97     11247\n",
            "   macro avg       0.97      0.97      0.97     11247\n",
            "weighted avg       0.97      0.97      0.97     11247\n",
            "\n"
          ]
        }
      ]
    },
    {
      "cell_type": "code",
      "source": [
        "# Test prediction\n",
        "ensemble_test_pred = model.predict(test_vec)\n",
        "ensemble_test_report = metrics.classification_report(test_processed['sentiment'], ensemble_test_pred)\n",
        "print (\"\\nAccuracy on Test set: {:.4f}\".format(accuracy_score(test_processed['sentiment'], ensemble_test_pred)))\n",
        "print(\"Test classification report\\n\", ensemble_test_report)"
      ],
      "metadata": {
        "colab": {
          "base_uri": "https://localhost:8080/"
        },
        "id": "4OIgI-Ej0kiY",
        "outputId": "a78d7842-3680-40df-ec2b-cf4f041bb507"
      },
      "execution_count": null,
      "outputs": [
        {
          "output_type": "stream",
          "name": "stdout",
          "text": [
            "\n",
            "Accuracy on Test set: 0.8750\n",
            "Test classification report\n",
            "               precision    recall  f1-score   support\n",
            "\n",
            "    Negative       0.30      0.42      0.35        24\n",
            "     Neutral       0.19      0.46      0.26        39\n",
            "    Positive       0.97      0.90      0.94       937\n",
            "\n",
            "    accuracy                           0.88      1000\n",
            "   macro avg       0.49      0.59      0.52      1000\n",
            "weighted avg       0.93      0.88      0.90      1000\n",
            "\n"
          ]
        }
      ]
    },
    {
      "cell_type": "markdown",
      "source": [
        "**Summary of Ensemble Learning Classification Reports:**\n",
        "\n",
        "**Training Set:**\n",
        "\n",
        "* The ensemble classifier achieved a high accuracy (0.9677) on the training data, indicating good overall performance.\n",
        "* A very high accuracy, especially with imbalanced data, can still be a sign of overfitting.\n",
        "\n",
        "**Test Set:**\n",
        "\n",
        "* The accuracy on the test set (0.8720) is lower than the training set, suggesting some overfitting, but the drop is smaller compared to individual models.\n",
        "* There's likely still class imbalance with fewer Negative (24) and Neutral (39) examples compared to Positive (937).\n",
        "* The model performs well for the Positive class with high precision (0.97) and recall (0.90), similar to individual models.\n",
        "* There's improvement for Negative and Neutral classes compared to individual models.\n",
        "* Precision for Negative increased to 0.34 (from 0.33 in both Naive Bayes and Random Forest).\n",
        "* Precision for Neutral increased to 0.16 (from 0.19 in Naive Bayes and 0.70 in Random Forest).\n",
        "* Recall remains moderate for both classes (around 0.4 for Negative and 0.4 for Neutral).\n",
        "\n",
        "**Overall:**\n",
        "\n",
        "The ensemble approach with voting classification shows promise in addressing the class imbalance issue. It achieves better performance on minority classes (Negative and Neutral) on the test set compared to the individual models. However, there's still some overfitting, and further improvements might be possible."
      ],
      "metadata": {
        "id": "r1mgQOxZLgf1"
      }
    },
    {
      "cell_type": "markdown",
      "source": [
        "## **3. Assign a score to the sentence sentiment (engineer a feature called sentiment score). Use this engineered feature in the model and check for improvements. Draw insights on the same.**"
      ],
      "metadata": {
        "id": "RTVbOTl-y45y"
      }
    },
    {
      "cell_type": "markdown",
      "source": [
        "VADER (Valence Aware Dictionary and sEntiment Reasoner) is a sentiment analysis tool that can be used to determine the emotional tone of a sentence. Here's how it works:\n",
        "\n",
        "Lexicon-Based Scoring: VADER relies on a pre-built lexicon containing words with sentiment scores. These scores indicate the positivity or negativity of a word. For example, \"happy\" might have a score of 1 (positive), while \"sad\" might have a score of -1 (negative).\n",
        "Intensity Modifiers: VADER goes beyond just single words. It considers capitalization (e.g., \"HAPPY\" is more positive than \"happy\"), punctuation (exclamation points often indicate stronger emotions), and negation words (e.g., \"not good\" is negative). These factors can increase or decrease the overall sentiment score.\n",
        "Sentence Score: By analyzing all the words and their modifiers in a sentence, VADER assigns a compound score between -1 (most negative) and +1 (most positive). A score closer to 0 indicates a neutral sentiment.\n",
        "Example:\n",
        "\n",
        "Let's analyze the sentence \"The movie was okay, but the acting was terrible!\"\n",
        "\n",
        "VADER would identify \"okay\" as neutral and \"terrible\" as negative.\n",
        "It might also consider the exclamation point to strengthen the negativity of \"terrible.\"\n",
        "Based on these factors, VADER would likely assign a slightly negative score to the sentence overall."
      ],
      "metadata": {
        "id": "yklP2J_CwDwA"
      }
    },
    {
      "cell_type": "code",
      "source": [
        "sentiment = SentimentIntensityAnalyzer()"
      ],
      "metadata": {
        "id": "rg4r-3dMzr_v"
      },
      "execution_count": null,
      "outputs": []
    },
    {
      "cell_type": "code",
      "source": [
        "# Calculate sentiment scores for each sentence in the training dataframe\n",
        "sentiment_score = [round(sentiment.polarity_scores(i)[\"compound\"],2) for i in train_processed['Processed_Review']]\n",
        "train_processed[\"sentiment_score\"] = sentiment_score"
      ],
      "metadata": {
        "id": "wV3Wipm-2obi"
      },
      "execution_count": null,
      "outputs": []
    },
    {
      "cell_type": "code",
      "source": [
        "def sentiment_score(score):\n",
        "  if score < 0:\n",
        "    return 'Negative'\n",
        "  elif score == 0:\n",
        "    return 'Neutral'\n",
        "  else:\n",
        "    return \"Positive\"\n",
        "train_processed[\"label\"] = train_processed[\"sentiment_score\"].apply(sentiment_score)"
      ],
      "metadata": {
        "id": "33Z-G7gn4B14"
      },
      "execution_count": null,
      "outputs": []
    },
    {
      "cell_type": "code",
      "source": [
        "train_processed['label'].value_counts()"
      ],
      "metadata": {
        "colab": {
          "base_uri": "https://localhost:8080/"
        },
        "id": "PDThdiSJ8598",
        "outputId": "2462d09b-96c9-408c-9e7c-fd6a3512ffc5"
      },
      "execution_count": null,
      "outputs": [
        {
          "output_type": "execute_result",
          "data": {
            "text/plain": [
              "label\n",
              "Positive    3712\n",
              "Negative     167\n",
              "Neutral      121\n",
              "Name: count, dtype: int64"
            ]
          },
          "metadata": {},
          "execution_count": 73
        }
      ]
    },
    {
      "cell_type": "code",
      "source": [
        "train_processed['sentiment'].value_counts()"
      ],
      "metadata": {
        "colab": {
          "base_uri": "https://localhost:8080/"
        },
        "id": "SkMNinyJ-ADb",
        "outputId": "f9d9ee6f-afca-4a4d-a347-0a351cd7e722"
      },
      "execution_count": null,
      "outputs": [
        {
          "output_type": "execute_result",
          "data": {
            "text/plain": [
              "sentiment\n",
              "2    3749\n",
              "1     158\n",
              "0      93\n",
              "Name: count, dtype: int64"
            ]
          },
          "metadata": {},
          "execution_count": 74
        }
      ]
    },
    {
      "cell_type": "code",
      "source": [
        "sb.countplot(data = train,x=train_processed['sentiment'])"
      ],
      "metadata": {
        "colab": {
          "base_uri": "https://localhost:8080/",
          "height": 466
        },
        "id": "WxwiTiRW-H8X",
        "outputId": "9733adc7-6f7a-4062-f3aa-c64b7008a5b0"
      },
      "execution_count": null,
      "outputs": [
        {
          "output_type": "execute_result",
          "data": {
            "text/plain": [
              "<Axes: xlabel='sentiment', ylabel='count'>"
            ]
          },
          "metadata": {},
          "execution_count": 75
        },
        {
          "output_type": "display_data",
          "data": {
            "text/plain": [
              "<Figure size 640x480 with 1 Axes>"
            ],
            "image/png": "[encoded data removed]"
          },
          "metadata": {}
        }
      ]
    },
    {
      "cell_type": "code",
      "source": [
        "sb.countplot(data = train,x=train_processed['label'])"
      ],
      "metadata": {
        "colab": {
          "base_uri": "https://localhost:8080/",
          "height": 466
        },
        "id": "NLGSxwye_ZeP",
        "outputId": "da198988-c115-4619-cd78-b029dc346843"
      },
      "execution_count": null,
      "outputs": [
        {
          "output_type": "execute_result",
          "data": {
            "text/plain": [
              "<Axes: xlabel='label', ylabel='count'>"
            ]
          },
          "metadata": {},
          "execution_count": 76
        },
        {
          "output_type": "display_data",
          "data": {
            "text/plain": [
              "<Figure size 640x480 with 1 Axes>"
            ],
            "image/png": "[encoded data removed]"
          },
          "metadata": {}
        }
      ]
    },
    {
      "cell_type": "code",
      "source": [
        "train_processed['label'] = train_processed['label'].map(label_mapping)"
      ],
      "metadata": {
        "id": "eWw0xDJ8KEUR"
      },
      "execution_count": null,
      "outputs": []
    },
    {
      "cell_type": "code",
      "source": [
        "train_processed.head(5)"
      ],
      "metadata": {
        "colab": {
          "base_uri": "https://localhost:8080/",
          "height": 206
        },
        "id": "u4Dw3_CrNJw0",
        "outputId": "9eb4db8c-33a4-473f-eb36-7cee22d39efc"
      },
      "execution_count": null,
      "outputs": [
        {
          "output_type": "execute_result",
          "data": {
            "text/plain": [
              "   sentiment                                   Processed_Review  \\\n",
              "0          2  purchase black fridaypros great price even sal...   \n",
              "1          2  purchase two amazon echo plus two dot plus fou...   \n",
              "2          1  average alexa option show thing screen still l...   \n",
              "3          2               good product exactly want good price   \n",
              "4          2  rd one purchase buy one niece case compare one...   \n",
              "\n",
              "   sentiment_score  label  \n",
              "0             0.96      2  \n",
              "1             0.96      2  \n",
              "2             0.00      1  \n",
              "3             0.73      2  \n",
              "4             0.13      2  "
            ],
            "text/html": [
              "\n",
              "  <div id=\"df-63317b9a-30d0-4902-a569-f4eb4edcc59f\" class=\"colab-df-container\">\n",
              "    <div>\n",
              "<style scoped>\n",
              "    .dataframe tbody tr th:only-of-type {\n",
              "        vertical-align: middle;\n",
              "    }\n",
              "\n",
              "    .dataframe tbody tr th {\n",
              "        vertical-align: top;\n",
              "    }\n",
              "\n",
              "    .dataframe thead th {\n",
              "        text-align: right;\n",
              "    }\n",
              "</style>\n",
              "<table border=\"1\" class=\"dataframe\">\n",
              "  <thead>\n",
              "    <tr style=\"text-align: right;\">\n",
              "      <th></th>\n",
              "      <th>sentiment</th>\n",
              "      <th>Processed_Review</th>\n",
              "      <th>sentiment_score</th>\n",
              "      <th>label</th>\n",
              "    </tr>\n",
              "  </thead>\n",
              "  <tbody>\n",
              "    <tr>\n",
              "      <th>0</th>\n",
              "      <td>2</td>\n",
              "      <td>purchase black fridaypros great price even sal...</td>\n",
              "      <td>0.96</td>\n",
              "      <td>2</td>\n",
              "    </tr>\n",
              "    <tr>\n",
              "      <th>1</th>\n",
              "      <td>2</td>\n",
              "      <td>purchase two amazon echo plus two dot plus fou...</td>\n",
              "      <td>0.96</td>\n",
              "      <td>2</td>\n",
              "    </tr>\n",
              "    <tr>\n",
              "      <th>2</th>\n",
              "      <td>1</td>\n",
              "      <td>average alexa option show thing screen still l...</td>\n",
              "      <td>0.00</td>\n",
              "      <td>1</td>\n",
              "    </tr>\n",
              "    <tr>\n",
              "      <th>3</th>\n",
              "      <td>2</td>\n",
              "      <td>good product exactly want good price</td>\n",
              "      <td>0.73</td>\n",
              "      <td>2</td>\n",
              "    </tr>\n",
              "    <tr>\n",
              "      <th>4</th>\n",
              "      <td>2</td>\n",
              "      <td>rd one purchase buy one niece case compare one...</td>\n",
              "      <td>0.13</td>\n",
              "      <td>2</td>\n",
              "    </tr>\n",
              "  </tbody>\n",
              "</table>\n",
              "</div>\n",
              "    <div class=\"colab-df-buttons\">\n",
              "\n",
              "  <div class=\"colab-df-container\">\n",
              "    <button class=\"colab-df-convert\" onclick=\"convertToInteractive('df-63317b9a-30d0-4902-a569-f4eb4edcc59f')\"\n",
              "            title=\"Convert this dataframe to an interactive table.\"\n",
              "            style=\"display:none;\">\n",
              "\n",
              "  <svg xmlns=\"http://www.w3.org/2000/svg\" height=\"24px\" viewBox=\"0 -960 960 960\">\n",
              "    <path d=\"M120-120v-720h720v720H120Zm60-500h600v-160H180v160Zm220 220h160v-160H400v160Zm0 220h160v-160H400v160ZM180-400h160v-160H180v160Zm440 0h160v-160H620v160ZM180-180h160v-160H180v160Zm440 0h160v-160H620v160Z\"/>\n",
              "  </svg>\n",
              "    </button>\n",
              "\n",
              "  <style>\n",
              "    .colab-df-container {\n",
              "      display:flex;\n",
              "      gap: 12px;\n",
              "    }\n",
              "\n",
              "    .colab-df-convert {\n",
              "      background-color: #E8F0FE;\n",
              "      border: none;\n",
              "      border-radius: 50%;\n",
              "      cursor: pointer;\n",
              "      display: none;\n",
              "      fill: #1967D2;\n",
              "      height: 32px;\n",
              "      padding: 0 0 0 0;\n",
              "      width: 32px;\n",
              "    }\n",
              "\n",
              "    .colab-df-convert:hover {\n",
              "      background-color: #E2EBFA;\n",
              "      box-shadow: 0px 1px 2px rgba(60, 64, 67, 0.3), 0px 1px 3px 1px rgba(60, 64, 67, 0.15);\n",
              "      fill: #174EA6;\n",
              "    }\n",
              "\n",
              "    .colab-df-buttons div {\n",
              "      margin-bottom: 4px;\n",
              "    }\n",
              "\n",
              "    [theme=dark] .colab-df-convert {\n",
              "      background-color: #3B4455;\n",
              "      fill: #D2E3FC;\n",
              "    }\n",
              "\n",
              "    [theme=dark] .colab-df-convert:hover {\n",
              "      background-color: #434B5C;\n",
              "      box-shadow: 0px 1px 3px 1px rgba(0, 0, 0, 0.15);\n",
              "      filter: drop-shadow(0px 1px 2px rgba(0, 0, 0, 0.3));\n",
              "      fill: #FFFFFF;\n",
              "    }\n",
              "  </style>\n",
              "\n",
              "    <script>\n",
              "      const buttonEl =\n",
              "        document.querySelector('#df-63317b9a-30d0-4902-a569-f4eb4edcc59f button.colab-df-convert');\n",
              "      buttonEl.style.display =\n",
              "        google.colab.kernel.accessAllowed ? 'block' : 'none';\n",
              "\n",
              "      async function convertToInteractive(key) {\n",
              "        const element = document.querySelector('#df-63317b9a-30d0-4902-a569-f4eb4edcc59f');\n",
              "        const dataTable =\n",
              "          await google.colab.kernel.invokeFunction('convertToInteractive',\n",
              "                                                    [key], {});\n",
              "        if (!dataTable) return;\n",
              "\n",
              "        const docLinkHtml = 'Like what you see? Visit the ' +\n",
              "          '<a target=\"_blank\" href=https://colab.research.google.com/notebooks/data_table.ipynb>data table notebook</a>'\n",
              "          + ' to learn more about interactive tables.';\n",
              "        element.innerHTML = '';\n",
              "        dataTable['output_type'] = 'display_data';\n",
              "        await google.colab.output.renderOutput(dataTable, element);\n",
              "        const docLink = document.createElement('div');\n",
              "        docLink.innerHTML = docLinkHtml;\n",
              "        element.appendChild(docLink);\n",
              "      }\n",
              "    </script>\n",
              "  </div>\n",
              "\n",
              "\n",
              "<div id=\"df-450d2561-321d-43d2-a4b9-34e3c9f94fed\">\n",
              "  <button class=\"colab-df-quickchart\" onclick=\"quickchart('df-450d2561-321d-43d2-a4b9-34e3c9f94fed')\"\n",
              "            title=\"Suggest charts\"\n",
              "            style=\"display:none;\">\n",
              "\n",
              "<svg xmlns=\"http://www.w3.org/2000/svg\" height=\"24px\"viewBox=\"0 0 24 24\"\n",
              "     width=\"24px\">\n",
              "    <g>\n",
              "        <path d=\"M19 3H5c-1.1 0-2 .9-2 2v14c0 1.1.9 2 2 2h14c1.1 0 2-.9 2-2V5c0-1.1-.9-2-2-2zM9 17H7v-7h2v7zm4 0h-2V7h2v10zm4 0h-2v-4h2v4z\"/>\n",
              "    </g>\n",
              "</svg>\n",
              "  </button>\n",
              "\n",
              "<style>\n",
              "  .colab-df-quickchart {\n",
              "      --bg-color: #E8F0FE;\n",
              "      --fill-color: #1967D2;\n",
              "      --hover-bg-color: #E2EBFA;\n",
              "      --hover-fill-color: #174EA6;\n",
              "      --disabled-fill-color: #AAA;\n",
              "      --disabled-bg-color: #DDD;\n",
              "  }\n",
              "\n",
              "  [theme=dark] .colab-df-quickchart {\n",
              "      --bg-color: #3B4455;\n",
              "      --fill-color: #D2E3FC;\n",
              "      --hover-bg-color: #434B5C;\n",
              "      --hover-fill-color: #FFFFFF;\n",
              "      --disabled-bg-color: #3B4455;\n",
              "      --disabled-fill-color: #666;\n",
              "  }\n",
              "\n",
              "  .colab-df-quickchart {\n",
              "    background-color: var(--bg-color);\n",
              "    border: none;\n",
              "    border-radius: 50%;\n",
              "    cursor: pointer;\n",
              "    display: none;\n",
              "    fill: var(--fill-color);\n",
              "    height: 32px;\n",
              "    padding: 0;\n",
              "    width: 32px;\n",
              "  }\n",
              "\n",
              "  .colab-df-quickchart:hover {\n",
              "    background-color: var(--hover-bg-color);\n",
              "    box-shadow: 0 1px 2px rgba(60, 64, 67, 0.3), 0 1px 3px 1px rgba(60, 64, 67, 0.15);\n",
              "    fill: var(--button-hover-fill-color);\n",
              "  }\n",
              "\n",
              "  .colab-df-quickchart-complete:disabled,\n",
              "  .colab-df-quickchart-complete:disabled:hover {\n",
              "    background-color: var(--disabled-bg-color);\n",
              "    fill: var(--disabled-fill-color);\n",
              "    box-shadow: none;\n",
              "  }\n",
              "\n",
              "  .colab-df-spinner {\n",
              "    border: 2px solid var(--fill-color);\n",
              "    border-color: transparent;\n",
              "    border-bottom-color: var(--fill-color);\n",
              "    animation:\n",
              "      spin 1s steps(1) infinite;\n",
              "  }\n",
              "\n",
              "  @keyframes spin {\n",
              "    0% {\n",
              "      border-color: transparent;\n",
              "      border-bottom-color: var(--fill-color);\n",
              "      border-left-color: var(--fill-color);\n",
              "    }\n",
              "    20% {\n",
              "      border-color: transparent;\n",
              "      border-left-color: var(--fill-color);\n",
              "      border-top-color: var(--fill-color);\n",
              "    }\n",
              "    30% {\n",
              "      border-color: transparent;\n",
              "      border-left-color: var(--fill-color);\n",
              "      border-top-color: var(--fill-color);\n",
              "      border-right-color: var(--fill-color);\n",
              "    }\n",
              "    40% {\n",
              "      border-color: transparent;\n",
              "      border-right-color: var(--fill-color);\n",
              "      border-top-color: var(--fill-color);\n",
              "    }\n",
              "    60% {\n",
              "      border-color: transparent;\n",
              "      border-right-color: var(--fill-color);\n",
              "    }\n",
              "    80% {\n",
              "      border-color: transparent;\n",
              "      border-right-color: var(--fill-color);\n",
              "      border-bottom-color: var(--fill-color);\n",
              "    }\n",
              "    90% {\n",
              "      border-color: transparent;\n",
              "      border-bottom-color: var(--fill-color);\n",
              "    }\n",
              "  }\n",
              "</style>\n",
              "\n",
              "  <script>\n",
              "    async function quickchart(key) {\n",
              "      const quickchartButtonEl =\n",
              "        document.querySelector('#' + key + ' button');\n",
              "      quickchartButtonEl.disabled = true;  // To prevent multiple clicks.\n",
              "      quickchartButtonEl.classList.add('colab-df-spinner');\n",
              "      try {\n",
              "        const charts = await google.colab.kernel.invokeFunction(\n",
              "            'suggestCharts', [key], {});\n",
              "      } catch (error) {\n",
              "        console.error('Error during call to suggestCharts:', error);\n",
              "      }\n",
              "      quickchartButtonEl.classList.remove('colab-df-spinner');\n",
              "      quickchartButtonEl.classList.add('colab-df-quickchart-complete');\n",
              "    }\n",
              "    (() => {\n",
              "      let quickchartButtonEl =\n",
              "        document.querySelector('#df-450d2561-321d-43d2-a4b9-34e3c9f94fed button');\n",
              "      quickchartButtonEl.style.display =\n",
              "        google.colab.kernel.accessAllowed ? 'block' : 'none';\n",
              "    })();\n",
              "  </script>\n",
              "</div>\n",
              "\n",
              "    </div>\n",
              "  </div>\n"
            ],
            "application/vnd.google.colaboratory.intrinsic+json": {
              "type": "dataframe",
              "variable_name": "train_processed",
              "summary": "{\n  \"name\": \"train_processed\",\n  \"rows\": 4000,\n  \"fields\": [\n    {\n      \"column\": \"sentiment\",\n      \"properties\": {\n        \"dtype\": \"number\",\n        \"std\": 0,\n        \"min\": 0,\n        \"max\": 2,\n        \"num_unique_values\": 3,\n        \"samples\": [\n          2,\n          1,\n          0\n        ],\n        \"semantic_type\": \"\",\n        \"description\": \"\"\n      }\n    },\n    {\n      \"column\": \"Processed_Review\",\n      \"properties\": {\n        \"dtype\": \"string\",\n        \"num_unique_values\": 3595,\n        \"samples\": [\n          \"difficult understand instruction still work\",\n          \"awesome gift someone special enjoy much mine would recommend product\",\n          \"first tablet purchase kid love\"\n        ],\n        \"semantic_type\": \"\",\n        \"description\": \"\"\n      }\n    },\n    {\n      \"column\": \"sentiment_score\",\n      \"properties\": {\n        \"dtype\": \"number\",\n        \"std\": 0.30901127032043063,\n        \"min\": -0.78,\n        \"max\": 1.0,\n        \"num_unique_values\": 140,\n        \"samples\": [\n          -0.31,\n          0.71,\n          0.88\n        ],\n        \"semantic_type\": \"\",\n        \"description\": \"\"\n      }\n    },\n    {\n      \"column\": \"label\",\n      \"properties\": {\n        \"dtype\": \"number\",\n        \"std\": 0,\n        \"min\": 0,\n        \"max\": 2,\n        \"num_unique_values\": 3,\n        \"samples\": [\n          2,\n          1,\n          0\n        ],\n        \"semantic_type\": \"\",\n        \"description\": \"\"\n      }\n    }\n  ]\n}"
            }
          },
          "metadata": {},
          "execution_count": 78
        }
      ]
    },
    {
      "cell_type": "code",
      "source": [
        "# Calculate sentiment scores for each sentence in the test dataframe\n",
        "sentiment_score_test = [round(sentiment.polarity_scores(i)[\"compound\"],2) for i in test_processed['Processed_Review']]\n",
        "test_processed[\"sentiment_score\"] = sentiment_score_test"
      ],
      "metadata": {
        "id": "_KRUx6vYQAgn"
      },
      "execution_count": null,
      "outputs": []
    },
    {
      "cell_type": "code",
      "source": [
        "test_processed[\"label\"] = test_processed[\"sentiment_score\"].apply(sentiment_score)"
      ],
      "metadata": {
        "id": "T5DS01kdQpf2"
      },
      "execution_count": null,
      "outputs": []
    },
    {
      "cell_type": "code",
      "source": [
        "test_processed['label'] = test_processed['label'].map(label_mapping)"
      ],
      "metadata": {
        "id": "tqLAvhFpR_Gu"
      },
      "execution_count": null,
      "outputs": []
    },
    {
      "cell_type": "code",
      "source": [
        "test_processed['label'].value_counts()"
      ],
      "metadata": {
        "colab": {
          "base_uri": "https://localhost:8080/"
        },
        "id": "GAkVqc_6QxNr",
        "outputId": "eb196515-8959-4302-83e4-8d2ff75caafd"
      },
      "execution_count": null,
      "outputs": [
        {
          "output_type": "execute_result",
          "data": {
            "text/plain": [
              "label\n",
              "2    927\n",
              "1     38\n",
              "0     35\n",
              "Name: count, dtype: int64"
            ]
          },
          "metadata": {},
          "execution_count": 82
        }
      ]
    },
    {
      "cell_type": "code",
      "source": [
        "test_processed['sentiment'].value_counts()"
      ],
      "metadata": {
        "colab": {
          "base_uri": "https://localhost:8080/"
        },
        "id": "sbNAgoJ9Qz93",
        "outputId": "bea01066-13d3-4d27-e2fc-6664082fe82d"
      },
      "execution_count": null,
      "outputs": [
        {
          "output_type": "execute_result",
          "data": {
            "text/plain": [
              "sentiment\n",
              "Positive    937\n",
              "Neutral      39\n",
              "Negative     24\n",
              "Name: count, dtype: int64"
            ]
          },
          "metadata": {},
          "execution_count": 83
        }
      ]
    },
    {
      "cell_type": "code",
      "source": [
        "xgb_unbalanced_model.fit(tfidfDataFinal,train_processed['label'])"
      ],
      "metadata": {
        "colab": {
          "base_uri": "https://localhost:8080/",
          "height": 248
        },
        "id": "Mp9DHd_bNKUr",
        "outputId": "1dd51d64-0444-41cc-de4a-3588e6bb82b4"
      },
      "execution_count": null,
      "outputs": [
        {
          "output_type": "execute_result",
          "data": {
            "text/plain": [
              "XGBClassifier(base_score=None, booster=None, callbacks=None,\n",
              "              colsample_bylevel=None, colsample_bynode=None,\n",
              "              colsample_bytree=None, device=None, early_stopping_rounds=None,\n",
              "              enable_categorical=False, eval_metric=None, feature_types=None,\n",
              "              gamma=None, grow_policy=None, importance_type=None,\n",
              "              interaction_constraints=None, learning_rate=None, max_bin=None,\n",
              "              max_cat_threshold=None, max_cat_to_onehot=None,\n",
              "              max_delta_step=None, max_depth=None, max_leaves=None,\n",
              "              min_child_weight=None, missing=nan, monotone_constraints=None,\n",
              "              multi_strategy=None, n_estimators=None, n_jobs=None,\n",
              "              num_parallel_tree=None, objective='multi:softprob', ...)"
            ],
            "text/html": [
              "<style>#sk-container-id-7 {color: black;background-color: white;}#sk-container-id-7 pre{padding: 0;}#sk-container-id-7 div.sk-toggleable {background-color: white;}#sk-container-id-7 label.sk-toggleable__label {cursor: pointer;display: block;width: 100%;margin-bottom: 0;padding: 0.3em;box-sizing: border-box;text-align: center;}#sk-container-id-7 label.sk-toggleable__label-arrow:before {content: \"▸\";float: left;margin-right: 0.25em;color: #696969;}#sk-container-id-7 label.sk-toggleable__label-arrow:hover:before {color: black;}#sk-container-id-7 div.sk-estimator:hover label.sk-toggleable__label-arrow:before {color: black;}#sk-container-id-7 div.sk-toggleable__content {max-height: 0;max-width: 0;overflow: hidden;text-align: left;background-color: #f0f8ff;}#sk-container-id-7 div.sk-toggleable__content pre {margin: 0.2em;color: black;border-radius: 0.25em;background-color: #f0f8ff;}#sk-container-id-7 input.sk-toggleable__control:checked~div.sk-toggleable__content {max-height: 200px;max-width: 100%;overflow: auto;}#sk-container-id-7 input.sk-toggleable__control:checked~label.sk-toggleable__label-arrow:before {content: \"▾\";}#sk-container-id-7 div.sk-estimator input.sk-toggleable__control:checked~label.sk-toggleable__label {background-color: #d4ebff;}#sk-container-id-7 div.sk-label input.sk-toggleable__control:checked~label.sk-toggleable__label {background-color: #d4ebff;}#sk-container-id-7 input.sk-hidden--visually {border: 0;clip: rect(1px 1px 1px 1px);clip: rect(1px, 1px, 1px, 1px);height: 1px;margin: -1px;overflow: hidden;padding: 0;position: absolute;width: 1px;}#sk-container-id-7 div.sk-estimator {font-family: monospace;background-color: #f0f8ff;border: 1px dotted black;border-radius: 0.25em;box-sizing: border-box;margin-bottom: 0.5em;}#sk-container-id-7 div.sk-estimator:hover {background-color: #d4ebff;}#sk-container-id-7 div.sk-parallel-item::after {content: \"\";width: 100%;border-bottom: 1px solid gray;flex-grow: 1;}#sk-container-id-7 div.sk-label:hover label.sk-toggleable__label {background-color: #d4ebff;}#sk-container-id-7 div.sk-serial::before {content: \"\";position: absolute;border-left: 1px solid gray;box-sizing: border-box;top: 0;bottom: 0;left: 50%;z-index: 0;}#sk-container-id-7 div.sk-serial {display: flex;flex-direction: column;align-items: center;background-color: white;padding-right: 0.2em;padding-left: 0.2em;position: relative;}#sk-container-id-7 div.sk-item {position: relative;z-index: 1;}#sk-container-id-7 div.sk-parallel {display: flex;align-items: stretch;justify-content: center;background-color: white;position: relative;}#sk-container-id-7 div.sk-item::before, #sk-container-id-7 div.sk-parallel-item::before {content: \"\";position: absolute;border-left: 1px solid gray;box-sizing: border-box;top: 0;bottom: 0;left: 50%;z-index: -1;}#sk-container-id-7 div.sk-parallel-item {display: flex;flex-direction: column;z-index: 1;position: relative;background-color: white;}#sk-container-id-7 div.sk-parallel-item:first-child::after {align-self: flex-end;width: 50%;}#sk-container-id-7 div.sk-parallel-item:last-child::after {align-self: flex-start;width: 50%;}#sk-container-id-7 div.sk-parallel-item:only-child::after {width: 0;}#sk-container-id-7 div.sk-dashed-wrapped {border: 1px dashed gray;margin: 0 0.4em 0.5em 0.4em;box-sizing: border-box;padding-bottom: 0.4em;background-color: white;}#sk-container-id-7 div.sk-label label {font-family: monospace;font-weight: bold;display: inline-block;line-height: 1.2em;}#sk-container-id-7 div.sk-label-container {text-align: center;}#sk-container-id-7 div.sk-container {/* jupyter's `normalize.less` sets `[hidden] { display: none; }` but bootstrap.min.css set `[hidden] { display: none !important; }` so we also need the `!important` here to be able to override the default hidden behavior on the sphinx rendered scikit-learn.org. See: https://github.com/scikit-learn/scikit-learn/issues/21755 */display: inline-block !important;position: relative;}#sk-container-id-7 div.sk-text-repr-fallback {display: none;}</style><div id=\"sk-container-id-7\" class=\"sk-top-container\"><div class=\"sk-text-repr-fallback\"><pre>XGBClassifier(base_score=None, booster=None, callbacks=None,\n",
              "              colsample_bylevel=None, colsample_bynode=None,\n",
              "              colsample_bytree=None, device=None, early_stopping_rounds=None,\n",
              "              enable_categorical=False, eval_metric=None, feature_types=None,\n",
              "              gamma=None, grow_policy=None, importance_type=None,\n",
              "              interaction_constraints=None, learning_rate=None, max_bin=None,\n",
              "              max_cat_threshold=None, max_cat_to_onehot=None,\n",
              "              max_delta_step=None, max_depth=None, max_leaves=None,\n",
              "              min_child_weight=None, missing=nan, monotone_constraints=None,\n",
              "              multi_strategy=None, n_estimators=None, n_jobs=None,\n",
              "              num_parallel_tree=None, objective=&#x27;multi:softprob&#x27;, ...)</pre><b>In a Jupyter environment, please rerun this cell to show the HTML representation or trust the notebook. <br />On GitHub, the HTML representation is unable to render, please try loading this page with nbviewer.org.</b></div><div class=\"sk-container\" hidden><div class=\"sk-item\"><div class=\"sk-estimator sk-toggleable\"><input class=\"sk-toggleable__control sk-hidden--visually\" id=\"sk-estimator-id-9\" type=\"checkbox\" checked><label for=\"sk-estimator-id-9\" class=\"sk-toggleable__label sk-toggleable__label-arrow\">XGBClassifier</label><div class=\"sk-toggleable__content\"><pre>XGBClassifier(base_score=None, booster=None, callbacks=None,\n",
              "              colsample_bylevel=None, colsample_bynode=None,\n",
              "              colsample_bytree=None, device=None, early_stopping_rounds=None,\n",
              "              enable_categorical=False, eval_metric=None, feature_types=None,\n",
              "              gamma=None, grow_policy=None, importance_type=None,\n",
              "              interaction_constraints=None, learning_rate=None, max_bin=None,\n",
              "              max_cat_threshold=None, max_cat_to_onehot=None,\n",
              "              max_delta_step=None, max_depth=None, max_leaves=None,\n",
              "              min_child_weight=None, missing=nan, monotone_constraints=None,\n",
              "              multi_strategy=None, n_estimators=None, n_jobs=None,\n",
              "              num_parallel_tree=None, objective=&#x27;multi:softprob&#x27;, ...)</pre></div></div></div></div></div>"
            ]
          },
          "metadata": {},
          "execution_count": 84
        }
      ]
    },
    {
      "cell_type": "code",
      "source": [
        "# Train prediction\n",
        "xgb_unbalanced_train_pred = xgb_unbalanced_model.predict(tfidfDataFinal)\n",
        "\n",
        "xgb_unbalanced_train_report = metrics.classification_report(train_processed['label'], xgb_unbalanced_train_pred)\n",
        "print (\"\\nAccuracy on Training set: {:.4f}\".format(accuracy_score(train_processed['label'], xgb_unbalanced_train_pred)))\n",
        "print(\"Train classification report\\n\", xgb_unbalanced_train_report)"
      ],
      "metadata": {
        "colab": {
          "base_uri": "https://localhost:8080/"
        },
        "id": "jmHIt7rdO6WR",
        "outputId": "8dff61f5-7bb4-4bc5-ec85-9305c93263e7"
      },
      "execution_count": null,
      "outputs": [
        {
          "output_type": "stream",
          "name": "stdout",
          "text": [
            "\n",
            "Accuracy on Training set: 0.9988\n",
            "Train classification report\n",
            "               precision    recall  f1-score   support\n",
            "\n",
            "           0       1.00      0.98      0.99       167\n",
            "           1       0.99      1.00      1.00       121\n",
            "           2       1.00      1.00      1.00      3712\n",
            "\n",
            "    accuracy                           1.00      4000\n",
            "   macro avg       1.00      0.99      0.99      4000\n",
            "weighted avg       1.00      1.00      1.00      4000\n",
            "\n"
          ]
        }
      ]
    },
    {
      "cell_type": "code",
      "source": [
        "# Test prediction\n",
        "xgb_unbalanced_test_pred = xgb_unbalanced_model.predict(test_vec)"
      ],
      "metadata": {
        "id": "mBUOQ0lkSdMD"
      },
      "execution_count": null,
      "outputs": []
    },
    {
      "cell_type": "code",
      "source": [
        "xgb_unbalanced_test_report = metrics.classification_report(test_processed['label'], xgb_unbalanced_test_pred)\n",
        "print (\"\\nAccuracy on Test set: {:.4f}\".format(accuracy_score(test_processed['label'], xgb_unbalanced_test_pred)))\n",
        "print(\"Test classification report\\n\", xgb_unbalanced_test_report)"
      ],
      "metadata": {
        "colab": {
          "base_uri": "https://localhost:8080/"
        },
        "id": "Vx38ISY3Sd_v",
        "outputId": "b85b3628-5b81-4eab-ae3f-1fb393f0248b"
      },
      "execution_count": null,
      "outputs": [
        {
          "output_type": "stream",
          "name": "stdout",
          "text": [
            "\n",
            "Accuracy on Test set: 0.9320\n",
            "Test classification report\n",
            "               precision    recall  f1-score   support\n",
            "\n",
            "           0       0.59      0.29      0.38        35\n",
            "           1       0.43      0.79      0.56        38\n",
            "           2       0.98      0.96      0.97       927\n",
            "\n",
            "    accuracy                           0.93      1000\n",
            "   macro avg       0.66      0.68      0.64      1000\n",
            "weighted avg       0.94      0.93      0.93      1000\n",
            "\n"
          ]
        }
      ]
    },
    {
      "cell_type": "markdown",
      "source": [
        "Sentiment Score does not have much affect on the performance on Test Data.\n",
        "Eventhough, Compared to other models (presumably that didn't use Vader), using sentiment labels generated by Vader significantly improved the F1-score. F1-score is a harmonic mean of precision and recall, providing a balanced view of model performance."
      ],
      "metadata": {
        "id": "pzWVv0ZiTOMn"
      }
    },
    {
      "cell_type": "markdown",
      "source": [
        "# **Project Task: Week 4 Applying LSTM**"
      ],
      "metadata": {
        "id": "HVRfS45eS5YU"
      }
    },
    {
      "cell_type": "markdown",
      "source": [
        "## **1. Use LSTM for the previous problem (use parameters of LSTM like top-word, embedding-length, Dropout, epochs, number of layers, etc.)**\n",
        "Hint: Another variation of LSTM, GRU (Gated Recurrent Units) can be tried as well."
      ],
      "metadata": {
        "id": "1BcucDZVTBeb"
      }
    },
    {
      "cell_type": "markdown",
      "source": [
        "**Applying LSTM**\n",
        "\n",
        "Long Short Term Memory(LSTM) Networks are a special kind of the Recurrent Neural Networks(RNN) capable of learning long-term dependencies. LSTM can be very useful in text mining problems as it involves dependencies in the sentences which can be caught in the \"memory\" of the LSTM. Here, we will train a simple LSTM and LSTM with Word2Vec embedding for classifying the reviews into positive and negative sentiments using Keras library.\n",
        "\n",
        "**Simple LSTM**\n",
        "\n",
        "We need to preprocess the text data to 2D tensor before we begin fitting it into a simple LSTM. Firstly we will tokenize the corpus by considering only top words (top_words = 20000) and transforming reviews to numerical sequences using the trained tokenizer. Lastly we will make it sure that all the numerical sequences have the same length (maxlen=100) for modelling by truncating the long reviews and padding shorter reviews having zero values.\n",
        "\n",
        "\n",
        "For constructing a simple LSTM, first embedding layer needs to be created.the embedding layer serves as a critical pre-processing step, particularly when dealing with sequential data like text. LSTMs typically handle numerical data. The embedding layer bridges the gap between categorical data (e.g., words in a sentence) and numerical representation suitable for LSTMs.\n",
        "It transforms each category (e.g., word) into a dense vector in a lower-dimensional space. This vector embedding aims to capture semantic relationships between words. Similar words will have vector representations closer together in this space.\n",
        "\n",
        "**Process in Embedding layer:**\n",
        "\n",
        "Vocabulary: Each unique word in the training data is assigned a unique integer (index).\n",
        "\n",
        "Embedding Layer: This layer takes the word index (integer) as input and outputs a dense vector representing that word.\n",
        "\n",
        "Learning: Over training, the embedding layer learns to map similar words to vectors with similar values. For instance, \"happy\" and \"joyful\" might have closer vector representations compared to \"sad.\"\n",
        "\n",
        "The next layer is the LSTM layer with 128 memory units.\n",
        "\n",
        "Finally, we will use a dense output layer with a single neuron and a sigmoid activation function to make 0 or 1 prediction for the two classes (positive sentiment and negative sentiment). As it is a binary classification problem log loss is used as the loss function(binary_crossentropy in Keras). ADAM optimization algorithm will be used.\n"
      ],
      "metadata": {
        "id": "cJdNcU8BNkU-"
      }
    },
    {
      "cell_type": "markdown",
      "source": [
        "One-Hot Encoding, a technique used in machine learning to represent categorical data in a way that can be understood by algorithms."
      ],
      "metadata": {
        "id": "nK0GwlJhEHsz"
      }
    },
    {
      "cell_type": "code",
      "source": [
        "ohe = OneHotEncoder(sparse=False)\n",
        "ohe.fit(train_processed[['sentiment']])                       #learns the unique categories present in the \"sentiment\" column\n",
        "encoded_data = ohe.transform(train_processed[['sentiment']])  #Converts the categorical values into a numerical representation"
      ],
      "metadata": {
        "colab": {
          "base_uri": "https://localhost:8080/"
        },
        "id": "GN8boNshlmML",
        "outputId": "a668af51-f504-421c-9c3f-763d1e26de4b"
      },
      "execution_count": null,
      "outputs": [
        {
          "output_type": "stream",
          "name": "stderr",
          "text": [
            "/usr/local/lib/python3.10/dist-packages/sklearn/preprocessing/_encoders.py:868: FutureWarning: `sparse` was renamed to `sparse_output` in version 1.2 and will be removed in 1.4. `sparse_output` is ignored unless you leave `sparse` to its default value.\n",
            "  warnings.warn(\n"
          ]
        }
      ]
    },
    {
      "cell_type": "code",
      "source": [
        "encoded_data[0]"
      ],
      "metadata": {
        "colab": {
          "base_uri": "https://localhost:8080/"
        },
        "id": "0qOfCDC_E6EU",
        "outputId": "76f07c82-6ad1-42c2-d552-52d982fe0014"
      },
      "execution_count": null,
      "outputs": [
        {
          "output_type": "execute_result",
          "data": {
            "text/plain": [
              "array([0., 0., 1.])"
            ]
          },
          "metadata": {},
          "execution_count": 89
        }
      ]
    },
    {
      "cell_type": "code",
      "source": [
        "encoded_data.shape"
      ],
      "metadata": {
        "colab": {
          "base_uri": "https://localhost:8080/"
        },
        "id": "i5MVvsAtmJ_s",
        "outputId": "3920223f-1876-4a0f-f97f-d168ff36df5d"
      },
      "execution_count": null,
      "outputs": [
        {
          "output_type": "execute_result",
          "data": {
            "text/plain": [
              "(4000, 3)"
            ]
          },
          "metadata": {},
          "execution_count": 90
        }
      ]
    },
    {
      "cell_type": "code",
      "source": [
        "# Splitting data into training set and validation\n",
        "X_train, X_test, Y_train, Y_test = train_test_split(train_processed['Processed_Review'], encoded_data,test_size=0.1, random_state=1,stratify = encoded_data)"
      ],
      "metadata": {
        "id": "mx7APRpC8B4o"
      },
      "execution_count": null,
      "outputs": []
    },
    {
      "cell_type": "code",
      "source": [
        "X_train[:1], Y_train[:1]"
      ],
      "metadata": {
        "colab": {
          "base_uri": "https://localhost:8080/"
        },
        "id": "t_ASoExehhXa",
        "outputId": "06ae3919-41be-4db3-e765-f8f0572b3f37"
      },
      "execution_count": null,
      "outputs": [
        {
          "output_type": "execute_result",
          "data": {
            "text/plain": [
              "(3231    ok device find google home good promise future\n",
              " Name: Processed_Review, dtype: object,\n",
              " array([[0., 1., 0.]]))"
            ]
          },
          "metadata": {},
          "execution_count": 92
        }
      ]
    },
    {
      "cell_type": "code",
      "source": [
        "top_words = 20000   #maximum number of words to consider in the vocabular\n",
        "maxlen = 100        #maximum length of each sequence\n",
        "batch_size = 32     #number of samples to process per training iteration\n",
        "classes = 3         #number of distinct classes in the classification problem\n",
        "epoch = 3           #number of times the training dataset will be iterated over during training"
      ],
      "metadata": {
        "id": "CCgDDcfHrLzb"
      },
      "execution_count": null,
      "outputs": []
    },
    {
      "cell_type": "markdown",
      "source": [
        "The Tokenizer class is used to convert text data into a numerical representation that machine learning models can understand. It does this by:\n",
        "\n",
        "**Tokenization:** Splitting the text into individual words (or tokens).\n",
        "Building Vocabulary: Creating a list of all unique words (tokens) in the training data.\n",
        "\n",
        "**Word-to-Index Mapping:** Assigning a unique integer index to each word in the vocabulary.\n",
        "\n",
        "After fitting the tokenizer, you can use it to convert new text data into numerical sequences of word indices. This process is called text vectorization.\n",
        "\n",
        "**Example:**Let's say your training data contains the following sentences:\n",
        "\n",
        "\"This is a sample sentence.\"\n",
        "\n",
        "\"Another sentence with some words.\"\n",
        "\n",
        "After fitting the tokenizer, it might create a vocabulary like this:\n",
        "\n",
        "\"this\": 1\n",
        "\n",
        "\"is\": 2\n",
        "\n",
        "\"a\": 3\n",
        "\n",
        "\"sample\": 4\n",
        "\n",
        "\"sentence\": 5\n",
        "\n",
        "\"another\": 6\n",
        "\n",
        "\"with\": 7\n",
        "\n",
        "\"some\": 8\n",
        "\n",
        "\"words\": 9\n",
        "\n",
        "Then, the first sentence would be converted to the sequence: [1, 2, 3, 4, 5].\n",
        "\n",
        "**Why use Tokenization and Word-to-Index Mapping?**\n",
        "\n",
        "Machine learning models can't directly process text. Tokenization and word-to-index mapping convert text into a format that models"
      ],
      "metadata": {
        "id": "J0yd2RV0JQJy"
      }
    },
    {
      "cell_type": "code",
      "source": [
        "tokenizer = Tokenizer(nb_words=top_words) #consider only the top top_words most frequent words in the corpus\n",
        "tokenizer.fit_on_texts(X_train)"
      ],
      "metadata": {
        "colab": {
          "base_uri": "https://localhost:8080/"
        },
        "id": "zn07yCAurwqI",
        "outputId": "8bfb59cb-561a-4ea4-c648-8506641a53d7"
      },
      "execution_count": null,
      "outputs": [
        {
          "output_type": "stream",
          "name": "stderr",
          "text": [
            "/usr/local/lib/python3.10/dist-packages/keras/src/preprocessing/text.py:246: UserWarning: The `nb_words` argument in `Tokenizer` has been renamed `num_words`.\n",
            "  warnings.warn(\n"
          ]
        }
      ]
    },
    {
      "cell_type": "code",
      "source": [
        "type(tokenizer.index_word)"
      ],
      "metadata": {
        "colab": {
          "base_uri": "https://localhost:8080/"
        },
        "id": "LbtpcBptr307",
        "outputId": "2968ce3a-41d7-40e6-b3c2-e56c150a74be"
      },
      "execution_count": null,
      "outputs": [
        {
          "output_type": "execute_result",
          "data": {
            "text/plain": [
              "dict"
            ]
          },
          "metadata": {},
          "execution_count": 95
        }
      ]
    },
    {
      "cell_type": "code",
      "source": [
        "# view first few elements from the dict\n",
        "{k: v for k, v in tokenizer.index_word.items() if k <= 5}"
      ],
      "metadata": {
        "colab": {
          "base_uri": "https://localhost:8080/"
        },
        "id": "KFN9K00GijOl",
        "outputId": "d9a7131c-29ce-4f86-a887-7fd3493c6324"
      },
      "execution_count": null,
      "outputs": [
        {
          "output_type": "execute_result",
          "data": {
            "text/plain": [
              "{1: 'love', 2: 'great', 3: 'tablet', 4: 'use', 5: 'buy'}"
            ]
          },
          "metadata": {},
          "execution_count": 96
        }
      ]
    },
    {
      "cell_type": "code",
      "source": [
        "tokenizer.num_words"
      ],
      "metadata": {
        "colab": {
          "base_uri": "https://localhost:8080/"
        },
        "id": "GRelyq-duDYc",
        "outputId": "46de85bd-63cb-4cfe-c534-9851148a844f"
      },
      "execution_count": null,
      "outputs": [
        {
          "output_type": "execute_result",
          "data": {
            "text/plain": [
              "20000"
            ]
          },
          "metadata": {},
          "execution_count": 97
        }
      ]
    },
    {
      "cell_type": "code",
      "source": [
        "#Retrieves the word-to-index mapping from a Tokenizer object.\n",
        "word2index= tokenizer.word_index"
      ],
      "metadata": {
        "id": "1nbaYK_l5ozU"
      },
      "execution_count": null,
      "outputs": []
    },
    {
      "cell_type": "code",
      "source": [
        "# actual vocab size\n",
        "len(word2index)"
      ],
      "metadata": {
        "colab": {
          "base_uri": "https://localhost:8080/"
        },
        "id": "UxSFaE1_59Nz",
        "outputId": "d8dfc612-8047-4031-a1c6-c56aebec087b"
      },
      "execution_count": null,
      "outputs": [
        {
          "output_type": "execute_result",
          "data": {
            "text/plain": [
              "3290"
            ]
          },
          "metadata": {},
          "execution_count": 99
        }
      ]
    },
    {
      "cell_type": "code",
      "source": [
        "#converts text data into numerical sequences using a pre-trained Tokenizer\n",
        "sequences_train = tokenizer.texts_to_sequences(X_train)\n",
        "sequences_test = tokenizer.texts_to_sequences(X_test)"
      ],
      "metadata": {
        "id": "yeAJo28EvrFp"
      },
      "execution_count": null,
      "outputs": []
    },
    {
      "cell_type": "code",
      "source": [
        "sequences_train[0]"
      ],
      "metadata": {
        "colab": {
          "base_uri": "https://localhost:8080/"
        },
        "id": "Pj21yhX5NjHV",
        "outputId": "43aa793e-dd74-40b0-f57f-2c702c56157f"
      },
      "execution_count": null,
      "outputs": [
        {
          "output_type": "execute_result",
          "data": {
            "text/plain": [
              "[355, 26, 99, 119, 48, 6, 855, 637]"
            ]
          },
          "metadata": {},
          "execution_count": 101
        }
      ]
    },
    {
      "cell_type": "code",
      "source": [
        "sequences_test[0]"
      ],
      "metadata": {
        "colab": {
          "base_uri": "https://localhost:8080/"
        },
        "id": "1E8H26f2Nox9",
        "outputId": "523a11ba-7f3a-451e-f91c-cab56a722295"
      },
      "execution_count": null,
      "outputs": [
        {
          "output_type": "execute_result",
          "data": {
            "text/plain": [
              "[5, 318, 472, 5, 154]"
            ]
          },
          "metadata": {},
          "execution_count": 102
        }
      ]
    },
    {
      "cell_type": "code",
      "source": [
        "#Pads sequences of words to a fixed length\n",
        "X_train_seq = pad_sequences(sequences_train, maxlen=maxlen, truncating=\"post\", padding=\"pre\")\n",
        "X_test_seq = pad_sequences(sequences_test, maxlen=maxlen, truncating=\"post\", padding=\"pre\")"
      ],
      "metadata": {
        "id": "dC9omCsfZkwD"
      },
      "execution_count": null,
      "outputs": []
    },
    {
      "cell_type": "code",
      "source": [
        "X_train_seq[0]"
      ],
      "metadata": {
        "colab": {
          "base_uri": "https://localhost:8080/"
        },
        "id": "6WOrFvTTN8j6",
        "outputId": "fb2382d1-8867-418d-8d18-e6cb97305d84"
      },
      "execution_count": null,
      "outputs": [
        {
          "output_type": "execute_result",
          "data": {
            "text/plain": [
              "array([  0,   0,   0,   0,   0,   0,   0,   0,   0,   0,   0,   0,   0,\n",
              "         0,   0,   0,   0,   0,   0,   0,   0,   0,   0,   0,   0,   0,\n",
              "         0,   0,   0,   0,   0,   0,   0,   0,   0,   0,   0,   0,   0,\n",
              "         0,   0,   0,   0,   0,   0,   0,   0,   0,   0,   0,   0,   0,\n",
              "         0,   0,   0,   0,   0,   0,   0,   0,   0,   0,   0,   0,   0,\n",
              "         0,   0,   0,   0,   0,   0,   0,   0,   0,   0,   0,   0,   0,\n",
              "         0,   0,   0,   0,   0,   0,   0,   0,   0,   0,   0,   0,   0,\n",
              "         0, 355,  26,  99, 119,  48,   6, 855, 637], dtype=int32)"
            ]
          },
          "metadata": {},
          "execution_count": 104
        }
      ]
    },
    {
      "cell_type": "code",
      "source": [
        "X_test_seq[0]"
      ],
      "metadata": {
        "colab": {
          "base_uri": "https://localhost:8080/"
        },
        "id": "omjPUsYhOB8q",
        "outputId": "3d5658fe-1eb7-4227-86dd-9d741dd888a1"
      },
      "execution_count": null,
      "outputs": [
        {
          "output_type": "execute_result",
          "data": {
            "text/plain": [
              "array([  0,   0,   0,   0,   0,   0,   0,   0,   0,   0,   0,   0,   0,\n",
              "         0,   0,   0,   0,   0,   0,   0,   0,   0,   0,   0,   0,   0,\n",
              "         0,   0,   0,   0,   0,   0,   0,   0,   0,   0,   0,   0,   0,\n",
              "         0,   0,   0,   0,   0,   0,   0,   0,   0,   0,   0,   0,   0,\n",
              "         0,   0,   0,   0,   0,   0,   0,   0,   0,   0,   0,   0,   0,\n",
              "         0,   0,   0,   0,   0,   0,   0,   0,   0,   0,   0,   0,   0,\n",
              "         0,   0,   0,   0,   0,   0,   0,   0,   0,   0,   0,   0,   0,\n",
              "         0,   0,   0,   0,   5, 318, 472,   5, 154], dtype=int32)"
            ]
          },
          "metadata": {},
          "execution_count": 105
        }
      ]
    },
    {
      "cell_type": "code",
      "source": [
        "Y_train.dtype"
      ],
      "metadata": {
        "colab": {
          "base_uri": "https://localhost:8080/"
        },
        "id": "ujhDk8USaljA",
        "outputId": "a8b41885-cb14-4b86-ca17-4a1197b9bc25"
      },
      "execution_count": null,
      "outputs": [
        {
          "output_type": "execute_result",
          "data": {
            "text/plain": [
              "dtype('float64')"
            ]
          },
          "metadata": {},
          "execution_count": 106
        }
      ]
    },
    {
      "cell_type": "code",
      "source": [
        "Y_test.dtype"
      ],
      "metadata": {
        "colab": {
          "base_uri": "https://localhost:8080/"
        },
        "id": "Bop86A3ab6sd",
        "outputId": "3bb30d6a-70ec-4893-ca58-98094b056d1c"
      },
      "execution_count": null,
      "outputs": [
        {
          "output_type": "execute_result",
          "data": {
            "text/plain": [
              "dtype('float64')"
            ]
          },
          "metadata": {},
          "execution_count": 107
        }
      ]
    },
    {
      "cell_type": "code",
      "source": [
        "print('X_train shape:', X_train_seq.shape) #(4000, 100)\n",
        "print('X_test shape:', X_test_seq.shape) #(1000, 100)\n",
        "print('y_train shape:', Y_train.shape) #(4000,)\n",
        "print('y_test shape:', Y_test.shape) #(1000,)"
      ],
      "metadata": {
        "colab": {
          "base_uri": "https://localhost:8080/"
        },
        "id": "cstbF5SJkA53",
        "outputId": "2ba6b4cf-0934-43a8-ec39-89201d0448ab"
      },
      "execution_count": null,
      "outputs": [
        {
          "output_type": "stream",
          "name": "stdout",
          "text": [
            "X_train shape: (3600, 100)\n",
            "X_test shape: (400, 100)\n",
            "y_train shape: (3600, 3)\n",
            "y_test shape: (400, 3)\n"
          ]
        }
      ]
    },
    {
      "cell_type": "code",
      "source": [
        "# Constructing a Simple LSTM\n",
        "model1 = Sequential()\n",
        "model1.add(Embedding(top_words, 128))                      #Maps words to 128-dimensional vectors\n",
        "model1.add(Dropout(0.2))                                   #Randomly drops out 20% of the input units to prevent overfitting\n",
        "model1.add(LSTM(128, dropout=0.2, recurrent_dropout=0.2))  #128 units uses dropout and recurrent dropout to further prevent overfitting\n",
        "model1.add(Dense(3,activation = \"softmax\"))\n",
        "model1.summary()"
      ],
      "metadata": {
        "colab": {
          "base_uri": "https://localhost:8080/"
        },
        "id": "4uXzgoclc--o",
        "outputId": "bb998272-0b99-4e7b-8d58-09dc4668f1f3"
      },
      "execution_count": null,
      "outputs": [
        {
          "output_type": "stream",
          "name": "stdout",
          "text": [
            "Model: \"sequential\"\n",
            "_________________________________________________________________\n",
            " Layer (type)                Output Shape              Param #   \n",
            "=================================================================\n",
            " embedding (Embedding)       (None, None, 128)         2560000   \n",
            "                                                                 \n",
            " dropout (Dropout)           (None, None, 128)         0         \n",
            "                                                                 \n",
            " lstm (LSTM)                 (None, 128)               131584    \n",
            "                                                                 \n",
            " dense (Dense)               (None, 3)                 387       \n",
            "                                                                 \n",
            "=================================================================\n",
            "Total params: 2691971 (10.27 MB)\n",
            "Trainable params: 2691971 (10.27 MB)\n",
            "Non-trainable params: 0 (0.00 Byte)\n",
            "_________________________________________________________________\n"
          ]
        }
      ]
    },
    {
      "cell_type": "markdown",
      "source": [
        "The below code Prints the shape of the weight matrix in the embedding layer of your model. The model1.layers[0] part accesses the first layer of your model, which is the embedding layer. The get_weights()[0] part retrieves the weight matrix of the embedding layer, and finally, shape gives you the dimensions of the weight matrix.\n",
        "\n",
        "The first element of the tuple will be the number of words in your vocabulary (which is top_words in your code), and the second element will be the embedding dimension (which is 128 in your code)"
      ],
      "metadata": {
        "id": "3TRoR5o1njkn"
      }
    },
    {
      "cell_type": "code",
      "source": [
        "# Getting weight matrix of the embedding layer\n",
        "print(\"Size of weight matrix in the embedding layer : \", \\\n",
        "      model1.layers[0].get_weights()[0].shape) #(20000, 128)"
      ],
      "metadata": {
        "colab": {
          "base_uri": "https://localhost:8080/"
        },
        "id": "e6gQ7DvLUNnu",
        "outputId": "00bbd5d1-3013-4b93-bcc7-8a0fcb45817f"
      },
      "execution_count": null,
      "outputs": [
        {
          "output_type": "stream",
          "name": "stdout",
          "text": [
            "Size of weight matrix in the embedding layer :  (20000, 128)\n"
          ]
        }
      ]
    },
    {
      "cell_type": "code",
      "source": [
        "embedding_data = model1.layers[0].get_weights()[0]"
      ],
      "metadata": {
        "id": "Fku8xv-GUdrK"
      },
      "execution_count": null,
      "outputs": []
    },
    {
      "cell_type": "code",
      "source": [
        "tsv_data = '\\t'.join(str(x) for x in embedding_data[0])\n",
        "for row in embedding_data[1:]:\n",
        "    tsv_data += '\\n' + '\\t'.join(str(x) for x in row)"
      ],
      "metadata": {
        "id": "UwgtwQxRaZ1c"
      },
      "execution_count": null,
      "outputs": []
    },
    {
      "cell_type": "code",
      "source": [
        "with open('embedding_weights.tsv', 'w') as f:\n",
        "    f.write(tsv_data)"
      ],
      "metadata": {
        "id": "X66lcGlgajg2"
      },
      "execution_count": null,
      "outputs": []
    },
    {
      "cell_type": "code",
      "source": [
        "# Compiling LSTM\n",
        "model1.compile(loss='binary_crossentropy',\n",
        "              optimizer='adam',\n",
        "              metrics=['accuracy'])"
      ],
      "metadata": {
        "id": "seDdsmXkdspk"
      },
      "execution_count": null,
      "outputs": []
    },
    {
      "cell_type": "code",
      "source": [
        "model1.fit(X_train_seq, Y_train, batch_size=batch_size, epochs=epoch, verbose=1)  # Use epochs instead of nb_epoch"
      ],
      "metadata": {
        "colab": {
          "base_uri": "https://localhost:8080/"
        },
        "id": "V0HLIYFsdtDQ",
        "outputId": "c0da59ce-c62c-4d4f-c26c-304e5ac4e1d3"
      },
      "execution_count": null,
      "outputs": [
        {
          "output_type": "stream",
          "name": "stdout",
          "text": [
            "Epoch 1/3\n",
            "113/113 [==============================] - 40s 307ms/step - loss: 0.2069 - accuracy: 0.9319\n",
            "Epoch 2/3\n",
            "113/113 [==============================] - 36s 316ms/step - loss: 0.1659 - accuracy: 0.9372\n",
            "Epoch 3/3\n",
            "113/113 [==============================] - 35s 309ms/step - loss: 0.1339 - accuracy: 0.9378\n"
          ]
        },
        {
          "output_type": "execute_result",
          "data": {
            "text/plain": [
              "<keras.src.callbacks.History at 0x7ebcbc679000>"
            ]
          },
          "metadata": {},
          "execution_count": 115
        }
      ]
    },
    {
      "cell_type": "code",
      "source": [
        "# Model Evaluation\n",
        "score = model1.evaluate(X_test_seq, Y_test, batch_size=batch_size)"
      ],
      "metadata": {
        "colab": {
          "base_uri": "https://localhost:8080/"
        },
        "id": "rOIwZ5G5eOcC",
        "outputId": "d23bd842-2fbf-4107-b2ed-be8012afd1fc"
      },
      "execution_count": null,
      "outputs": [
        {
          "output_type": "stream",
          "name": "stdout",
          "text": [
            "13/13 [==============================] - 1s 40ms/step - loss: 0.1600 - accuracy: 0.9325\n"
          ]
        }
      ]
    },
    {
      "cell_type": "code",
      "source": [
        "print('Test loss : {:.4f}'.format(score[0]))\n",
        "print('Test accuracy : {:.4f}'.format(score[1]))"
      ],
      "metadata": {
        "colab": {
          "base_uri": "https://localhost:8080/"
        },
        "id": "e16EYMmLf-f7",
        "outputId": "87f26bde-37c3-4331-bca5-8da10e484a0d"
      },
      "execution_count": null,
      "outputs": [
        {
          "output_type": "stream",
          "name": "stdout",
          "text": [
            "Test loss : 0.1600\n",
            "Test accuracy : 0.9325\n"
          ]
        }
      ]
    },
    {
      "cell_type": "code",
      "source": [
        "y_pred = model1.predict(X_test_seq)"
      ],
      "metadata": {
        "colab": {
          "base_uri": "https://localhost:8080/"
        },
        "id": "kK-VKJdqqRBV",
        "outputId": "593eadeb-1332-4882-f4f1-f5ca18006a68"
      },
      "execution_count": null,
      "outputs": [
        {
          "output_type": "stream",
          "name": "stdout",
          "text": [
            "13/13 [==============================] - 1s 38ms/step\n"
          ]
        }
      ]
    },
    {
      "cell_type": "code",
      "source": [
        "y_pred"
      ],
      "metadata": {
        "colab": {
          "base_uri": "https://localhost:8080/"
        },
        "id": "o9RINY1KqTjU",
        "outputId": "dcd57f96-f2f0-4885-d68b-1da1e961ed7f"
      },
      "execution_count": null,
      "outputs": [
        {
          "output_type": "execute_result",
          "data": {
            "text/plain": [
              "array([[1.9604525e-04, 1.4128053e-03, 9.9839109e-01],\n",
              "       [1.2955112e-04, 1.0904787e-03, 9.9878001e-01],\n",
              "       [1.4494537e-04, 1.0153884e-03, 9.9883968e-01],\n",
              "       ...,\n",
              "       [1.5141403e-03, 7.6757269e-03, 9.9081004e-01],\n",
              "       [5.6904737e-05, 4.3900820e-04, 9.9950403e-01],\n",
              "       [1.9078025e-05, 1.7113953e-04, 9.9980974e-01]], dtype=float32)"
            ]
          },
          "metadata": {},
          "execution_count": 119
        }
      ]
    },
    {
      "cell_type": "code",
      "source": [
        "y_pred = np.argmax(y_pred, axis=1)"
      ],
      "metadata": {
        "id": "0jeCjDjcoDMn"
      },
      "execution_count": null,
      "outputs": []
    },
    {
      "cell_type": "code",
      "source": [
        "y_pred"
      ],
      "metadata": {
        "colab": {
          "base_uri": "https://localhost:8080/"
        },
        "id": "2D1jslG7oFka",
        "outputId": "63de27cb-59ca-4d04-83b3-1a0e9fd5d1a0"
      },
      "execution_count": null,
      "outputs": [
        {
          "output_type": "execute_result",
          "data": {
            "text/plain": [
              "array([2, 2, 2, 2, 2, 2, 2, 2, 2, 2, 2, 2, 2, 2, 2, 2, 2, 2, 2, 2, 2, 2,\n",
              "       2, 2, 2, 2, 2, 2, 2, 2, 2, 2, 2, 2, 2, 2, 2, 2, 2, 2, 2, 2, 2, 2,\n",
              "       2, 2, 2, 2, 2, 2, 2, 2, 2, 2, 2, 2, 2, 2, 2, 2, 2, 2, 2, 2, 2, 2,\n",
              "       2, 2, 2, 2, 2, 2, 2, 2, 2, 2, 2, 2, 2, 1, 2, 2, 2, 2, 2, 2, 2, 2,\n",
              "       2, 2, 2, 2, 2, 2, 2, 2, 2, 2, 2, 2, 2, 2, 1, 2, 2, 2, 2, 2, 2, 2,\n",
              "       2, 2, 2, 2, 2, 2, 2, 2, 2, 2, 2, 2, 2, 2, 2, 2, 2, 2, 2, 2, 2, 2,\n",
              "       2, 2, 2, 2, 2, 2, 2, 2, 2, 2, 2, 2, 2, 2, 2, 2, 2, 2, 2, 2, 2, 2,\n",
              "       2, 2, 2, 2, 2, 2, 2, 2, 2, 2, 2, 2, 2, 2, 2, 2, 2, 2, 2, 2, 2, 2,\n",
              "       2, 2, 2, 2, 2, 2, 2, 2, 2, 2, 2, 2, 2, 2, 2, 2, 2, 2, 2, 2, 2, 2,\n",
              "       2, 2, 2, 2, 2, 2, 2, 2, 2, 2, 2, 2, 2, 2, 2, 2, 2, 2, 2, 2, 2, 2,\n",
              "       2, 2, 2, 2, 2, 2, 2, 2, 2, 2, 2, 2, 2, 2, 2, 2, 2, 2, 2, 2, 2, 2,\n",
              "       2, 2, 2, 2, 2, 2, 2, 2, 2, 2, 2, 2, 2, 2, 2, 2, 2, 2, 2, 2, 2, 2,\n",
              "       2, 2, 2, 2, 2, 2, 2, 2, 2, 2, 2, 2, 2, 2, 2, 2, 2, 2, 2, 2, 2, 2,\n",
              "       2, 2, 2, 2, 2, 2, 2, 2, 2, 2, 2, 2, 2, 2, 2, 2, 2, 2, 2, 2, 2, 2,\n",
              "       2, 2, 2, 2, 2, 2, 2, 2, 2, 2, 2, 2, 2, 2, 2, 2, 2, 2, 2, 2, 2, 2,\n",
              "       2, 2, 2, 2, 2, 2, 2, 2, 2, 2, 2, 2, 2, 2, 2, 2, 2, 2, 2, 2, 2, 2,\n",
              "       2, 2, 2, 2, 2, 2, 2, 2, 2, 2, 2, 2, 2, 2, 2, 2, 2, 2, 2, 2, 2, 2,\n",
              "       2, 2, 2, 2, 2, 2, 2, 2, 2, 2, 2, 2, 2, 2, 2, 2, 2, 2, 2, 2, 2, 2,\n",
              "       2, 2, 2, 2])"
            ]
          },
          "metadata": {},
          "execution_count": 121
        }
      ]
    },
    {
      "cell_type": "code",
      "source": [
        "Y_test"
      ],
      "metadata": {
        "colab": {
          "base_uri": "https://localhost:8080/"
        },
        "id": "xRyiy2tkrgTO",
        "outputId": "a6c2161b-1d20-4422-8b10-089526135a52"
      },
      "execution_count": null,
      "outputs": [
        {
          "output_type": "execute_result",
          "data": {
            "text/plain": [
              "array([[0., 0., 1.],\n",
              "       [0., 0., 1.],\n",
              "       [0., 0., 1.],\n",
              "       ...,\n",
              "       [0., 0., 1.],\n",
              "       [0., 0., 1.],\n",
              "       [0., 0., 1.]])"
            ]
          },
          "metadata": {},
          "execution_count": 122
        }
      ]
    },
    {
      "cell_type": "code",
      "source": [
        "Y_test = np.argmax(Y_test, axis=1)"
      ],
      "metadata": {
        "id": "quXIjrE-corm"
      },
      "execution_count": null,
      "outputs": []
    },
    {
      "cell_type": "code",
      "source": [
        "Y_test"
      ],
      "metadata": {
        "id": "8VL3ywOCqbWz",
        "colab": {
          "base_uri": "https://localhost:8080/"
        },
        "outputId": "f1a2ed86-2672-4030-a64d-7ce292bf44e2"
      },
      "execution_count": null,
      "outputs": [
        {
          "output_type": "execute_result",
          "data": {
            "text/plain": [
              "array([2, 2, 2, 2, 2, 2, 2, 2, 2, 2, 2, 2, 2, 2, 2, 2, 2, 2, 0, 2, 2, 2,\n",
              "       2, 1, 2, 1, 2, 2, 2, 2, 2, 2, 2, 2, 2, 2, 2, 2, 2, 2, 2, 2, 2, 1,\n",
              "       2, 2, 2, 2, 2, 2, 2, 2, 2, 0, 2, 2, 2, 2, 2, 2, 2, 2, 2, 2, 2, 2,\n",
              "       2, 2, 2, 2, 2, 2, 2, 1, 2, 2, 2, 2, 2, 2, 2, 2, 2, 2, 2, 2, 2, 2,\n",
              "       2, 2, 2, 2, 2, 2, 2, 2, 2, 1, 2, 2, 2, 2, 2, 2, 1, 2, 2, 2, 2, 2,\n",
              "       2, 2, 2, 2, 2, 2, 2, 2, 2, 2, 2, 2, 2, 2, 2, 2, 2, 2, 2, 2, 2, 2,\n",
              "       2, 2, 2, 2, 2, 2, 2, 2, 2, 2, 2, 2, 2, 2, 2, 2, 2, 1, 2, 2, 2, 2,\n",
              "       2, 2, 2, 2, 2, 2, 2, 2, 2, 0, 2, 2, 2, 2, 2, 2, 2, 2, 2, 2, 2, 2,\n",
              "       2, 2, 2, 2, 2, 2, 2, 2, 2, 2, 2, 2, 2, 2, 2, 2, 2, 2, 2, 2, 2, 2,\n",
              "       2, 2, 2, 2, 2, 2, 2, 2, 2, 2, 2, 2, 2, 0, 2, 0, 1, 2, 2, 2, 2, 2,\n",
              "       2, 2, 1, 2, 0, 2, 2, 2, 2, 2, 2, 2, 2, 2, 2, 1, 2, 2, 2, 2, 2, 2,\n",
              "       2, 2, 2, 2, 2, 2, 2, 2, 2, 2, 2, 2, 1, 1, 2, 2, 2, 2, 2, 2, 2, 2,\n",
              "       1, 2, 2, 2, 2, 2, 2, 0, 2, 2, 2, 2, 2, 0, 2, 2, 2, 2, 2, 2, 2, 2,\n",
              "       2, 2, 2, 2, 2, 2, 0, 2, 2, 2, 2, 2, 2, 2, 2, 2, 2, 2, 2, 2, 2, 2,\n",
              "       2, 2, 2, 2, 2, 2, 2, 2, 2, 2, 2, 2, 2, 2, 2, 2, 2, 2, 2, 2, 2, 2,\n",
              "       2, 2, 2, 2, 2, 2, 2, 2, 2, 2, 2, 2, 2, 2, 2, 2, 2, 2, 2, 2, 2, 2,\n",
              "       2, 2, 2, 2, 2, 2, 2, 2, 1, 2, 2, 2, 2, 1, 2, 2, 2, 2, 2, 2, 2, 2,\n",
              "       2, 2, 2, 2, 2, 2, 2, 2, 2, 2, 2, 2, 2, 2, 2, 2, 2, 2, 2, 1, 2, 2,\n",
              "       2, 2, 2, 2])"
            ]
          },
          "metadata": {},
          "execution_count": 124
        }
      ]
    },
    {
      "cell_type": "code",
      "source": [
        "report = classification_report(Y_test, y_pred)\n",
        "\n",
        "# Print the classification report\n",
        "print(report)"
      ],
      "metadata": {
        "colab": {
          "base_uri": "https://localhost:8080/"
        },
        "id": "NnRe5sCGn3OW",
        "outputId": "5a96b6e8-a2b7-4ace-acda-2ed6d63006d3"
      },
      "execution_count": null,
      "outputs": [
        {
          "output_type": "stream",
          "name": "stdout",
          "text": [
            "              precision    recall  f1-score   support\n",
            "\n",
            "           0       0.00      0.00      0.00         9\n",
            "           1       0.00      0.00      0.00        16\n",
            "           2       0.94      0.99      0.97       375\n",
            "\n",
            "    accuracy                           0.93       400\n",
            "   macro avg       0.31      0.33      0.32       400\n",
            "weighted avg       0.88      0.93      0.90       400\n",
            "\n"
          ]
        },
        {
          "output_type": "stream",
          "name": "stderr",
          "text": [
            "/usr/local/lib/python3.10/dist-packages/sklearn/metrics/_classification.py:1344: UndefinedMetricWarning: Precision and F-score are ill-defined and being set to 0.0 in labels with no predicted samples. Use `zero_division` parameter to control this behavior.\n",
            "  _warn_prf(average, modifier, msg_start, len(result))\n",
            "/usr/local/lib/python3.10/dist-packages/sklearn/metrics/_classification.py:1344: UndefinedMetricWarning: Precision and F-score are ill-defined and being set to 0.0 in labels with no predicted samples. Use `zero_division` parameter to control this behavior.\n",
            "  _warn_prf(average, modifier, msg_start, len(result))\n",
            "/usr/local/lib/python3.10/dist-packages/sklearn/metrics/_classification.py:1344: UndefinedMetricWarning: Precision and F-score are ill-defined and being set to 0.0 in labels with no predicted samples. Use `zero_division` parameter to control this behavior.\n",
            "  _warn_prf(average, modifier, msg_start, len(result))\n"
          ]
        }
      ]
    },
    {
      "cell_type": "markdown",
      "source": [
        "The LSTM model performed poorly for classes 0 and 1, with a precision, recall, and F1-score of 0 for both. This means the model almost never correctly identified these classes.\n",
        "\n",
        "However, the model excelled at identifying class 2, achieving a precision of 0.94, recall of 1.00, and F1-score of 0.97. This indicates the model very accurately classified data points belonging to class 2.\n",
        "\n",
        "Overall accuracy was high at 0.94, but this is skewed by the dominance of class 2 (375 out of 400 data points). Macro and weighted averages of precision, recall, and F1-score are all around 0.3, suggesting the model's performance is heavily reliant on class 2.\n",
        "\n",
        "In conclusion, the LSTM model needs improvement in handling classes 0 and 1. It might be helpful to investigate data imbalance or class specific hyperparameter tuning."
      ],
      "metadata": {
        "id": "r3kqhTLJpaaM"
      }
    },
    {
      "cell_type": "markdown",
      "source": [
        "**LSTM with Word2Vec Embedding**\n",
        "\n",
        "In the simple LSTM model constructed above, the embedding class in Keras comes in handy for converting the numerical sequence of words into a word embedding but it doesn't take the semantic similarity of the words into account. The model assigns random weights to the embedding layer and learn the embeddings by minimizing the global error of the network.\n",
        "\n",
        "Instead of using random weights we will use pretrained word embeddings for initializing the weight of an embedding layer. Here, we will use the trained Word2Vec embedding for intializing the weights of embedding layer in LSTM.\n",
        "\n",
        "Load pretrained word embedding model.\n",
        "Construct embedding layer using embedding matrix as weights.\n",
        "Train a LSTM with Word2Vec embedding (embedding layer => LSTM layer => dense layer).\n",
        "Compile and fit the model using log loss function and ADAM optimizer."
      ],
      "metadata": {
        "id": "5nSllAzaTsE8"
      }
    },
    {
      "cell_type": "markdown",
      "metadata": {
        "id": "0uaEh5vL56Lb"
      },
      "source": [
        "***Word2Vec***\n",
        "\n",
        "Another common approach of word embedding is the prediction based embedding like Word2Vec model. Briefly, Word2Vec is a combination of two techniques: Continuous Bag of Words (CBoW) and Skip-Gram model. Both are Shallow Neural Networks which learn weights for the word vector representations.\n",
        "\n",
        "Here, we will train Word2Vec model to create our own word vector representation using gensim library. Then we will fit the feature vectors of the reviews to the LSTM. Here's the workflow of this part: -\n",
        "\n",
        "1.   Parse review text to sentences (Word2Vec model takes a list of sentences as inputs).\n",
        "2.   Create vocabulary list using Word2Vec model.\n",
        "3.   Transform each review into numerical representation by computing average feature vectors of words therein\n",
        "4.   Fit the average feature vectors LSTM"
      ]
    },
    {
      "cell_type": "markdown",
      "source": [
        "Text Preprocessing\n",
        "\n",
        "The following text preprocessing methods are implemented to convert raw reviews to cleaned review making it easier to do feature extraction in the next step.\n",
        "\n",
        "* Remove non-character such as digits and symbols.\n",
        "* Convert to lower case.\n",
        "* Remove stop words such as \"the\" and \"and\" if needed.\n",
        "* Convert to root words by stemming if needed."
      ],
      "metadata": {
        "id": "GREp5OGub7x6"
      }
    },
    {
      "cell_type": "code",
      "source": [
        "train_data.head(3)"
      ],
      "metadata": {
        "colab": {
          "base_uri": "https://localhost:8080/",
          "height": 265
        },
        "id": "h080xIYOf7CP",
        "outputId": "0baec85f-f482-4459-f40e-95f8c93b0021"
      },
      "execution_count": null,
      "outputs": [
        {
          "output_type": "execute_result",
          "data": {
            "text/plain": [
              "                                                name   brand  \\\n",
              "0  All-New Fire HD 8 Tablet, 8\" HD Display, Wi-Fi...  Amazon   \n",
              "1        Amazon - Echo Plus w/ Built-In Hub - Silver  Amazon   \n",
              "2  Amazon Echo Show Alexa-enabled Bluetooth Speak...  Amazon   \n",
              "\n",
              "                                          categories     primaryCategories  \\\n",
              "0  Electronics,iPad & Tablets,All Tablets,Fire Ta...           Electronics   \n",
              "1  Amazon Echo,Smart Home,Networking,Home & Tools...  Electronics,Hardware   \n",
              "2  Amazon Echo,Virtual Assistant Speakers,Electro...  Electronics,Hardware   \n",
              "\n",
              "               reviews.date  \\\n",
              "0  2016-12-26T00:00:00.000Z   \n",
              "1  2018-01-17T00:00:00.000Z   \n",
              "2  2017-12-20T00:00:00.000Z   \n",
              "\n",
              "                                        reviews.text  \\\n",
              "0  Purchased on Black FridayPros - Great Price (e...   \n",
              "1  I purchased two Amazon in Echo Plus and two do...   \n",
              "2  Just an average Alexa option. Does show a few ...   \n",
              "\n",
              "              reviews.title sentiment  \n",
              "0           Powerful tablet  Positive  \n",
              "1  Amazon Echo Plus AWESOME  Positive  \n",
              "2                   Average   Neutral  "
            ],
            "text/html": [
              "\n",
              "  <div id=\"df-64b944d0-6f6f-4536-9406-3cd37c36b92f\" class=\"colab-df-container\">\n",
              "    <div>\n",
              "<style scoped>\n",
              "    .dataframe tbody tr th:only-of-type {\n",
              "        vertical-align: middle;\n",
              "    }\n",
              "\n",
              "    .dataframe tbody tr th {\n",
              "        vertical-align: top;\n",
              "    }\n",
              "\n",
              "    .dataframe thead th {\n",
              "        text-align: right;\n",
              "    }\n",
              "</style>\n",
              "<table border=\"1\" class=\"dataframe\">\n",
              "  <thead>\n",
              "    <tr style=\"text-align: right;\">\n",
              "      <th></th>\n",
              "      <th>name</th>\n",
              "      <th>brand</th>\n",
              "      <th>categories</th>\n",
              "      <th>primaryCategories</th>\n",
              "      <th>reviews.date</th>\n",
              "      <th>reviews.text</th>\n",
              "      <th>reviews.title</th>\n",
              "      <th>sentiment</th>\n",
              "    </tr>\n",
              "  </thead>\n",
              "  <tbody>\n",
              "    <tr>\n",
              "      <th>0</th>\n",
              "      <td>All-New Fire HD 8 Tablet, 8\" HD Display, Wi-Fi...</td>\n",
              "      <td>Amazon</td>\n",
              "      <td>Electronics,iPad &amp; Tablets,All Tablets,Fire Ta...</td>\n",
              "      <td>Electronics</td>\n",
              "      <td>2016-12-26T00:00:00.000Z</td>\n",
              "      <td>Purchased on Black FridayPros - Great Price (e...</td>\n",
              "      <td>Powerful tablet</td>\n",
              "      <td>Positive</td>\n",
              "    </tr>\n",
              "    <tr>\n",
              "      <th>1</th>\n",
              "      <td>Amazon - Echo Plus w/ Built-In Hub - Silver</td>\n",
              "      <td>Amazon</td>\n",
              "      <td>Amazon Echo,Smart Home,Networking,Home &amp; Tools...</td>\n",
              "      <td>Electronics,Hardware</td>\n",
              "      <td>2018-01-17T00:00:00.000Z</td>\n",
              "      <td>I purchased two Amazon in Echo Plus and two do...</td>\n",
              "      <td>Amazon Echo Plus AWESOME</td>\n",
              "      <td>Positive</td>\n",
              "    </tr>\n",
              "    <tr>\n",
              "      <th>2</th>\n",
              "      <td>Amazon Echo Show Alexa-enabled Bluetooth Speak...</td>\n",
              "      <td>Amazon</td>\n",
              "      <td>Amazon Echo,Virtual Assistant Speakers,Electro...</td>\n",
              "      <td>Electronics,Hardware</td>\n",
              "      <td>2017-12-20T00:00:00.000Z</td>\n",
              "      <td>Just an average Alexa option. Does show a few ...</td>\n",
              "      <td>Average</td>\n",
              "      <td>Neutral</td>\n",
              "    </tr>\n",
              "  </tbody>\n",
              "</table>\n",
              "</div>\n",
              "    <div class=\"colab-df-buttons\">\n",
              "\n",
              "  <div class=\"colab-df-container\">\n",
              "    <button class=\"colab-df-convert\" onclick=\"convertToInteractive('df-64b944d0-6f6f-4536-9406-3cd37c36b92f')\"\n",
              "            title=\"Convert this dataframe to an interactive table.\"\n",
              "            style=\"display:none;\">\n",
              "\n",
              "  <svg xmlns=\"http://www.w3.org/2000/svg\" height=\"24px\" viewBox=\"0 -960 960 960\">\n",
              "    <path d=\"M120-120v-720h720v720H120Zm60-500h600v-160H180v160Zm220 220h160v-160H400v160Zm0 220h160v-160H400v160ZM180-400h160v-160H180v160Zm440 0h160v-160H620v160ZM180-180h160v-160H180v160Zm440 0h160v-160H620v160Z\"/>\n",
              "  </svg>\n",
              "    </button>\n",
              "\n",
              "  <style>\n",
              "    .colab-df-container {\n",
              "      display:flex;\n",
              "      gap: 12px;\n",
              "    }\n",
              "\n",
              "    .colab-df-convert {\n",
              "      background-color: #E8F0FE;\n",
              "      border: none;\n",
              "      border-radius: 50%;\n",
              "      cursor: pointer;\n",
              "      display: none;\n",
              "      fill: #1967D2;\n",
              "      height: 32px;\n",
              "      padding: 0 0 0 0;\n",
              "      width: 32px;\n",
              "    }\n",
              "\n",
              "    .colab-df-convert:hover {\n",
              "      background-color: #E2EBFA;\n",
              "      box-shadow: 0px 1px 2px rgba(60, 64, 67, 0.3), 0px 1px 3px 1px rgba(60, 64, 67, 0.15);\n",
              "      fill: #174EA6;\n",
              "    }\n",
              "\n",
              "    .colab-df-buttons div {\n",
              "      margin-bottom: 4px;\n",
              "    }\n",
              "\n",
              "    [theme=dark] .colab-df-convert {\n",
              "      background-color: #3B4455;\n",
              "      fill: #D2E3FC;\n",
              "    }\n",
              "\n",
              "    [theme=dark] .colab-df-convert:hover {\n",
              "      background-color: #434B5C;\n",
              "      box-shadow: 0px 1px 3px 1px rgba(0, 0, 0, 0.15);\n",
              "      filter: drop-shadow(0px 1px 2px rgba(0, 0, 0, 0.3));\n",
              "      fill: #FFFFFF;\n",
              "    }\n",
              "  </style>\n",
              "\n",
              "    <script>\n",
              "      const buttonEl =\n",
              "        document.querySelector('#df-64b944d0-6f6f-4536-9406-3cd37c36b92f button.colab-df-convert');\n",
              "      buttonEl.style.display =\n",
              "        google.colab.kernel.accessAllowed ? 'block' : 'none';\n",
              "\n",
              "      async function convertToInteractive(key) {\n",
              "        const element = document.querySelector('#df-64b944d0-6f6f-4536-9406-3cd37c36b92f');\n",
              "        const dataTable =\n",
              "          await google.colab.kernel.invokeFunction('convertToInteractive',\n",
              "                                                    [key], {});\n",
              "        if (!dataTable) return;\n",
              "\n",
              "        const docLinkHtml = 'Like what you see? Visit the ' +\n",
              "          '<a target=\"_blank\" href=https://colab.research.google.com/notebooks/data_table.ipynb>data table notebook</a>'\n",
              "          + ' to learn more about interactive tables.';\n",
              "        element.innerHTML = '';\n",
              "        dataTable['output_type'] = 'display_data';\n",
              "        await google.colab.output.renderOutput(dataTable, element);\n",
              "        const docLink = document.createElement('div');\n",
              "        docLink.innerHTML = docLinkHtml;\n",
              "        element.appendChild(docLink);\n",
              "      }\n",
              "    </script>\n",
              "  </div>\n",
              "\n",
              "\n",
              "<div id=\"df-04170fd3-cc91-4af4-a5d6-38ba9a69b080\">\n",
              "  <button class=\"colab-df-quickchart\" onclick=\"quickchart('df-04170fd3-cc91-4af4-a5d6-38ba9a69b080')\"\n",
              "            title=\"Suggest charts\"\n",
              "            style=\"display:none;\">\n",
              "\n",
              "<svg xmlns=\"http://www.w3.org/2000/svg\" height=\"24px\"viewBox=\"0 0 24 24\"\n",
              "     width=\"24px\">\n",
              "    <g>\n",
              "        <path d=\"M19 3H5c-1.1 0-2 .9-2 2v14c0 1.1.9 2 2 2h14c1.1 0 2-.9 2-2V5c0-1.1-.9-2-2-2zM9 17H7v-7h2v7zm4 0h-2V7h2v10zm4 0h-2v-4h2v4z\"/>\n",
              "    </g>\n",
              "</svg>\n",
              "  </button>\n",
              "\n",
              "<style>\n",
              "  .colab-df-quickchart {\n",
              "      --bg-color: #E8F0FE;\n",
              "      --fill-color: #1967D2;\n",
              "      --hover-bg-color: #E2EBFA;\n",
              "      --hover-fill-color: #174EA6;\n",
              "      --disabled-fill-color: #AAA;\n",
              "      --disabled-bg-color: #DDD;\n",
              "  }\n",
              "\n",
              "  [theme=dark] .colab-df-quickchart {\n",
              "      --bg-color: #3B4455;\n",
              "      --fill-color: #D2E3FC;\n",
              "      --hover-bg-color: #434B5C;\n",
              "      --hover-fill-color: #FFFFFF;\n",
              "      --disabled-bg-color: #3B4455;\n",
              "      --disabled-fill-color: #666;\n",
              "  }\n",
              "\n",
              "  .colab-df-quickchart {\n",
              "    background-color: var(--bg-color);\n",
              "    border: none;\n",
              "    border-radius: 50%;\n",
              "    cursor: pointer;\n",
              "    display: none;\n",
              "    fill: var(--fill-color);\n",
              "    height: 32px;\n",
              "    padding: 0;\n",
              "    width: 32px;\n",
              "  }\n",
              "\n",
              "  .colab-df-quickchart:hover {\n",
              "    background-color: var(--hover-bg-color);\n",
              "    box-shadow: 0 1px 2px rgba(60, 64, 67, 0.3), 0 1px 3px 1px rgba(60, 64, 67, 0.15);\n",
              "    fill: var(--button-hover-fill-color);\n",
              "  }\n",
              "\n",
              "  .colab-df-quickchart-complete:disabled,\n",
              "  .colab-df-quickchart-complete:disabled:hover {\n",
              "    background-color: var(--disabled-bg-color);\n",
              "    fill: var(--disabled-fill-color);\n",
              "    box-shadow: none;\n",
              "  }\n",
              "\n",
              "  .colab-df-spinner {\n",
              "    border: 2px solid var(--fill-color);\n",
              "    border-color: transparent;\n",
              "    border-bottom-color: var(--fill-color);\n",
              "    animation:\n",
              "      spin 1s steps(1) infinite;\n",
              "  }\n",
              "\n",
              "  @keyframes spin {\n",
              "    0% {\n",
              "      border-color: transparent;\n",
              "      border-bottom-color: var(--fill-color);\n",
              "      border-left-color: var(--fill-color);\n",
              "    }\n",
              "    20% {\n",
              "      border-color: transparent;\n",
              "      border-left-color: var(--fill-color);\n",
              "      border-top-color: var(--fill-color);\n",
              "    }\n",
              "    30% {\n",
              "      border-color: transparent;\n",
              "      border-left-color: var(--fill-color);\n",
              "      border-top-color: var(--fill-color);\n",
              "      border-right-color: var(--fill-color);\n",
              "    }\n",
              "    40% {\n",
              "      border-color: transparent;\n",
              "      border-right-color: var(--fill-color);\n",
              "      border-top-color: var(--fill-color);\n",
              "    }\n",
              "    60% {\n",
              "      border-color: transparent;\n",
              "      border-right-color: var(--fill-color);\n",
              "    }\n",
              "    80% {\n",
              "      border-color: transparent;\n",
              "      border-right-color: var(--fill-color);\n",
              "      border-bottom-color: var(--fill-color);\n",
              "    }\n",
              "    90% {\n",
              "      border-color: transparent;\n",
              "      border-bottom-color: var(--fill-color);\n",
              "    }\n",
              "  }\n",
              "</style>\n",
              "\n",
              "  <script>\n",
              "    async function quickchart(key) {\n",
              "      const quickchartButtonEl =\n",
              "        document.querySelector('#' + key + ' button');\n",
              "      quickchartButtonEl.disabled = true;  // To prevent multiple clicks.\n",
              "      quickchartButtonEl.classList.add('colab-df-spinner');\n",
              "      try {\n",
              "        const charts = await google.colab.kernel.invokeFunction(\n",
              "            'suggestCharts', [key], {});\n",
              "      } catch (error) {\n",
              "        console.error('Error during call to suggestCharts:', error);\n",
              "      }\n",
              "      quickchartButtonEl.classList.remove('colab-df-spinner');\n",
              "      quickchartButtonEl.classList.add('colab-df-quickchart-complete');\n",
              "    }\n",
              "    (() => {\n",
              "      let quickchartButtonEl =\n",
              "        document.querySelector('#df-04170fd3-cc91-4af4-a5d6-38ba9a69b080 button');\n",
              "      quickchartButtonEl.style.display =\n",
              "        google.colab.kernel.accessAllowed ? 'block' : 'none';\n",
              "    })();\n",
              "  </script>\n",
              "</div>\n",
              "\n",
              "    </div>\n",
              "  </div>\n"
            ],
            "application/vnd.google.colaboratory.intrinsic+json": {
              "type": "dataframe",
              "variable_name": "train_data",
              "summary": "{\n  \"name\": \"train_data\",\n  \"rows\": 4000,\n  \"fields\": [\n    {\n      \"column\": \"name\",\n      \"properties\": {\n        \"dtype\": \"category\",\n        \"num_unique_values\": 23,\n        \"samples\": [\n          \"Kindle Oasis E-reader with Leather Charging Cover - Black, 6\\\" High-Resolution Display (300 ppi), Wi-Fi - Includes Special Offers\",\n          \"Fire Tablet, 7 Display, Wi-Fi, 16 GB - Includes Special Offers, Black\",\n          \"All-New Fire HD 8 Tablet, 8\\\" HD Display, Wi-Fi, 16 GB - Includes Special Offers, Magenta\"\n        ],\n        \"semantic_type\": \"\",\n        \"description\": \"\"\n      }\n    },\n    {\n      \"column\": \"brand\",\n      \"properties\": {\n        \"dtype\": \"category\",\n        \"num_unique_values\": 1,\n        \"samples\": [\n          \"Amazon\"\n        ],\n        \"semantic_type\": \"\",\n        \"description\": \"\"\n      }\n    },\n    {\n      \"column\": \"categories\",\n      \"properties\": {\n        \"dtype\": \"category\",\n        \"num_unique_values\": 23,\n        \"samples\": [\n          \"Kindle E-readers,Electronics Features,Computers & Tablets,E-Readers & Accessories,E-Readers,eBook Readers\"\n        ],\n        \"semantic_type\": \"\",\n        \"description\": \"\"\n      }\n    },\n    {\n      \"column\": \"primaryCategories\",\n      \"properties\": {\n        \"dtype\": \"category\",\n        \"num_unique_values\": 4,\n        \"samples\": [\n          \"Electronics,Hardware\"\n        ],\n        \"semantic_type\": \"\",\n        \"description\": \"\"\n      }\n    },\n    {\n      \"column\": \"reviews.date\",\n      \"properties\": {\n        \"dtype\": \"object\",\n        \"num_unique_values\": 638,\n        \"samples\": [\n          \"2016-08-12T00:00:00.000Z\"\n        ],\n        \"semantic_type\": \"\",\n        \"description\": \"\"\n      }\n    },\n    {\n      \"column\": \"reviews.text\",\n      \"properties\": {\n        \"dtype\": \"string\",\n        \"num_unique_values\": 3598,\n        \"samples\": [\n          \"We bought this for our toddlers, and so far seems to hold up well with them. Some quirky rules with Amazon and accounts with product, but overall good for what we need.\"\n        ],\n        \"semantic_type\": \"\",\n        \"description\": \"\"\n      }\n    },\n    {\n      \"column\": \"reviews.title\",\n      \"properties\": {\n        \"dtype\": \"string\",\n        \"num_unique_values\": 2606,\n        \"samples\": [\n          \"My son loves it!!\"\n        ],\n        \"semantic_type\": \"\",\n        \"description\": \"\"\n      }\n    },\n    {\n      \"column\": \"sentiment\",\n      \"properties\": {\n        \"dtype\": \"category\",\n        \"num_unique_values\": 3,\n        \"samples\": [\n          \"Positive\"\n        ],\n        \"semantic_type\": \"\",\n        \"description\": \"\"\n      }\n    }\n  ]\n}"
            }
          },
          "metadata": {},
          "execution_count": 126
        }
      ]
    },
    {
      "cell_type": "code",
      "source": [
        "X = train_data['reviews.text']\n",
        "Y = train_data['sentiment']"
      ],
      "metadata": {
        "id": "IJ4QdXNgKORM"
      },
      "execution_count": null,
      "outputs": []
    },
    {
      "cell_type": "code",
      "source": [
        "# Splitting data into training set and validation\n",
        "x_train, x_test, y_train, y_test = train_test_split(X, Y, test_size=0.1, random_state=1,stratify = Y)"
      ],
      "metadata": {
        "id": "O8MUCCe8MVKe"
      },
      "execution_count": null,
      "outputs": []
    },
    {
      "cell_type": "code",
      "source": [
        "y_train.value_counts()"
      ],
      "metadata": {
        "colab": {
          "base_uri": "https://localhost:8080/"
        },
        "id": "tBnbfVl2MkBJ",
        "outputId": "a6c46130-23b3-4db7-c6a9-ac0d0915708d"
      },
      "execution_count": null,
      "outputs": [
        {
          "output_type": "execute_result",
          "data": {
            "text/plain": [
              "sentiment\n",
              "Positive    3374\n",
              "Neutral      142\n",
              "Negative      84\n",
              "Name: count, dtype: int64"
            ]
          },
          "metadata": {},
          "execution_count": 129
        }
      ]
    },
    {
      "cell_type": "code",
      "source": [
        "y_test.value_counts()"
      ],
      "metadata": {
        "colab": {
          "base_uri": "https://localhost:8080/"
        },
        "id": "bXH5C8sSN0FA",
        "outputId": "1592b3a6-66cb-4c69-cf41-507af84395af"
      },
      "execution_count": null,
      "outputs": [
        {
          "output_type": "execute_result",
          "data": {
            "text/plain": [
              "sentiment\n",
              "Positive    375\n",
              "Neutral      16\n",
              "Negative      9\n",
              "Name: count, dtype: int64"
            ]
          },
          "metadata": {},
          "execution_count": 130
        }
      ]
    },
    {
      "cell_type": "markdown",
      "source": [
        "cleanText Function that takes a raw text string as input and returns a cleaned version of the text. Here's a breakdown of what the function does:\n",
        "\n",
        "**Function Arguments:**\n",
        "\n",
        "**raw_text:** This is the string containing the text you want to clean.\n",
        "\n",
        "**remove_stopwords (optional):** A boolean flag indicating whether to remove stop words (common words like \"the\", \"a\", \"an\") from the text. Defaults to False.\n",
        "\n",
        "**stemming (optional):** A boolean flag indicating whether to perform stemming on the words (reducing words to their root form). Defaults to False.\n",
        "\n",
        "**split_text (optional):** A boolean flag indicating whether to return the cleaned text as a list of words or a single string. Defaults to False.\n",
        "\n",
        "**Steps performed by the function:**\n",
        "\n",
        "* **HTML Removal:**\n",
        "\n",
        "It uses the BeautifulSoup library with the lxml parser to convert the raw_text into a BeautifulSoup object.\n",
        "\n",
        "Then, it calls the get_text() method on the BeautifulSoup object to extract the plain text content, effectively removing HTML tags and markup.\n",
        "\n",
        "* **Character filtering:**\n",
        "\n",
        "It uses regular expressions with the re.sub function to replace all characters except letters (a-zA-Z) with spaces. This removes punctuation, symbols, and numbers from the text.\n",
        "\n",
        "* **Lowercasing:**\n",
        "\n",
        "It converts all characters in the text to lowercase using the lower() method. This ensures case-insensitive processing for further cleaning steps.\n",
        "\n",
        "* **Word Splitting:**\n",
        "\n",
        "It splits the processed text into a list of individual words using the split() method.\n",
        "\n",
        "* **Stopword Removal (Optional):**\n",
        "\n",
        "If the remove_stopwords flag is set to True, it removes stop words from the list of words.\n",
        "\n",
        "It imports the stopwords library and uses the words(\"english\") function to get a set of common English stop words.\n",
        "\n",
        "It then uses list comprehension to iterate through the word list and keeps only the words that are not present in the stop word set.\n",
        "\n",
        "* **Stemming (Optional):**\n",
        "\n",
        "If the stemming flag is set to True, it performs stemming on the words.\n",
        "\n",
        "It creates a SnowballStemmer object for the English language.\n",
        "\n",
        "It uses list comprehension again to iterate through the word list and applies the stem method of the stemmer object to each word, effectively reducing it to its root form.\n",
        "\n",
        "**Output:**\n",
        "\n",
        "If the split_text flag is set to True, the function returns the cleaned text as a list of words.\n",
        "\n",
        "Otherwise, it joins the cleaned words back into a single string separated by spaces and returns the string.\n",
        "\n",
        "Overall, this function provides a useful tool for cleaning text data in Python by removing HTML, non-alphanumeric characters, converting to lowercase, optionally removing stop words, and optionally performing stemming."
      ],
      "metadata": {
        "id": "BCmpschBq5hr"
      }
    },
    {
      "cell_type": "code",
      "metadata": {
        "id": "KcSwceNyDSRt"
      },
      "source": [
        "def cleanText(raw_text, remove_stopwords=False, stemming=False, split_text=False, \\\n",
        "             ):\n",
        "    '''\n",
        "    Convert a raw review to a cleaned review\n",
        "    '''\n",
        "    text = BeautifulSoup(raw_text, 'lxml').get_text()  #remove html\n",
        "    letters_only = re.sub(\"[^a-zA-Z]\", \" \", text)  # remove non-character\n",
        "    words = letters_only.lower().split() # convert to lower case\n",
        "\n",
        "    if remove_stopwords: # remove stopword\n",
        "        stops = set(stopwords.words(\"english\"))\n",
        "        words = [w for w in words if not w in stops]\n",
        "\n",
        "    if stemming==True: # stemming\n",
        "#         stemmer = PorterStemmer()\n",
        "        stemmer = SnowballStemmer('english')\n",
        "        words = [stemmer.stem(w) for w in words]\n",
        "\n",
        "    if split_text==True:  # split text\n",
        "        return (words)\n",
        "\n",
        "    return( \" \".join(words))"
      ],
      "execution_count": null,
      "outputs": []
    },
    {
      "cell_type": "code",
      "source": [
        "# Preprocess text data in training set and validation set\n",
        "X_train_cleaned = []\n",
        "X_test_cleaned = []\n",
        "\n",
        "for d in x_train:\n",
        "    X_train_cleaned.append(cleanText(d))\n",
        "print('Show a cleaned review in the training set : \\n',  X_train_cleaned[10])\n",
        "\n",
        "for d in x_test:\n",
        "    X_test_cleaned.append(cleanText(d))"
      ],
      "metadata": {
        "colab": {
          "base_uri": "https://localhost:8080/"
        },
        "id": "ehT3N5V5cXJg",
        "outputId": "6d5cb3a4-4d80-43f2-c49f-638f6516ad14"
      },
      "execution_count": null,
      "outputs": [
        {
          "output_type": "stream",
          "name": "stderr",
          "text": [
            "<ipython-input-131-823dc0be5f76>:6: MarkupResemblesLocatorWarning: The input looks more like a filename than markup. You may want to open this file and pass the filehandle into Beautiful Soup.\n",
            "  text = BeautifulSoup(raw_text, 'lxml').get_text()  #remove html\n"
          ]
        },
        {
          "output_type": "stream",
          "name": "stdout",
          "text": [
            "Show a cleaned review in the training set : \n",
            " my teens needed something they could use to read favorite books watch movies edit photos and catch up with friends on social media the kindle fire tablet covered all this and more at a great price\n"
          ]
        }
      ]
    },
    {
      "cell_type": "code",
      "source": [
        "# Splitting review text into parsed sentences using NLTK's punkt tokenizer\n",
        "\n",
        "tokenizer = nltk.data.load('tokenizers/punkt/english.pickle')  #Loads the pre-trained English Punkt sentence tokenizer"
      ],
      "metadata": {
        "id": "cDO_06kh00Xd"
      },
      "execution_count": null,
      "outputs": []
    },
    {
      "cell_type": "markdown",
      "source": [
        "Function **parseSent** takes a review text string, a loaded tokenizer, and an optional flag for stop word removal, and returns a list of cleaned sentences.\n",
        "\n",
        "**Arguments:**\n",
        "\n",
        "* **review:** The raw review text string.\n",
        "\n",
        "* **tokenizer:** A loaded sentence tokenizer object (like the Punkt tokenizer loaded previously).\n",
        "* **remove_stopwords (optional):** A boolean flag indicating whether to remove stop words from each sentence during cleaning (defaults to False).\n",
        "\n",
        "**Steps:**\n",
        "\n",
        "* **Sentence Tokenization:**\n",
        "\n",
        "The function uses review.strip() to remove any leading or trailing whitespace from the review text.\n",
        "\n",
        "It then calls the tokenize method of the tokenizer object with the cleaned review text. This splits the text into a list of raw_sentences based on punctuation and sentence boundaries defined in the tokenizer model.\n",
        "\n",
        "* **Cleaning Sentences (optional):**\n",
        "\n",
        "An empty list sentences is initialized to store the cleaned sentences.\n",
        "\n",
        "The code iterates through each raw_sentence in the list of raw sentences.\n",
        "It checks if the length of the raw_sentence is greater than zero (to avoid empty sentences).\n",
        "\n",
        "If the sentence is not empty:\n",
        "\n",
        "It calls the cleanText function (assumed to be defined elsewhere) on the raw_sentence with the following arguments:\n",
        "   \n",
        "   raw_sentence: The raw sentence text.\n",
        "   \n",
        "   remove_stopwords: The value of the remove_stopwords flag passed to the parseSent function.\n",
        "   \n",
        "   split_text=True: This ensures the cleanText function returns a list of words for each sentence, suitable for further sentence-level processing.\n",
        "\n",
        "The cleaned sentence list returned by cleanText is then appended to the sentences list.\n",
        "\n",
        "* **Return Cleaned Sentences:**\n",
        "\n",
        "Finally, the function returns the sentences list containing the cleaned sentences from the review text."
      ],
      "metadata": {
        "id": "wklifXDI1jFC"
      }
    },
    {
      "cell_type": "code",
      "metadata": {
        "id": "p8rJBIiW5It7"
      },
      "source": [
        "def parseSent(review, tokenizer, remove_stopwords=False):\n",
        "    '''\n",
        "    Parse text into sentences\n",
        "    '''\n",
        "    raw_sentences = tokenizer.tokenize(review.strip())\n",
        "    sentences = []\n",
        "    for raw_sentence in raw_sentences:\n",
        "        if len(raw_sentence) > 0:\n",
        "            sentences.append(cleanText(raw_sentence, remove_stopwords, split_text=True))\n",
        "    return sentences"
      ],
      "execution_count": null,
      "outputs": []
    },
    {
      "cell_type": "code",
      "source": [
        "# Parsing each review in the training set into sentences\n",
        "sentences = []\n",
        "for review in X_train_cleaned:\n",
        "    sentences += parseSent(review, tokenizer)\n",
        "\n",
        "print('%d parsed sentence in the training set\\n'  %len(sentences))\n",
        "print('Show a parsed sentence in the training set : \\n',  sentences[10])"
      ],
      "metadata": {
        "colab": {
          "base_uri": "https://localhost:8080/"
        },
        "id": "_Adxfqbg05RG",
        "outputId": "bfc3052d-e4d7-4718-b04d-e5c5366a8aed"
      },
      "execution_count": null,
      "outputs": [
        {
          "output_type": "stream",
          "name": "stdout",
          "text": [
            "3600 parsed sentence in the training set\n",
            "\n",
            "Show a parsed sentence in the training set : \n",
            " ['my', 'teens', 'needed', 'something', 'they', 'could', 'use', 'to', 'read', 'favorite', 'books', 'watch', 'movies', 'edit', 'photos', 'and', 'catch', 'up', 'with', 'friends', 'on', 'social', 'media', 'the', 'kindle', 'fire', 'tablet', 'covered', 'all', 'this', 'and', 'more', 'at', 'a', 'great', 'price']\n"
          ]
        }
      ]
    },
    {
      "cell_type": "code",
      "metadata": {
        "id": "_hrQexnmRKFT"
      },
      "source": [
        "w2v = Word2Vec()"
      ],
      "execution_count": null,
      "outputs": []
    },
    {
      "cell_type": "markdown",
      "metadata": {
        "id": "Zp5_ZeY38v1b"
      },
      "source": [
        "***Creating Vocabulary List using Word2Vec Model***\n",
        "\n",
        "As we have a set of cleaned and parsed sentences from the training data, we will train our own word vector representations by specifying the embedding dimension (= length of feature vector)."
      ]
    },
    {
      "cell_type": "markdown",
      "source": [
        "Trains a Word2Vec model on the parsed sentences (sentences) and then saves the trained model. Here's a breakdown of the code:\n",
        "\n",
        "**Code Explanation:**\n",
        "\n",
        "* **Hyperparameter settings:**\n",
        "\n",
        "  * **num_features:** This sets the embedding dimension (size of the word vectors) to 300, a common choice.\n",
        "  * **min_word_count:** This filters out words that appear less than 10 times in the training data, reducing vocabulary size and noise. You can adjust this based on your data size and desired vocabulary.\n",
        "  * **num_workers:** This sets the number of worker threads to use for training (4 in this case), which can improve training speed on multi-core systems.\n",
        "  * **context:** This defines the window size (10 words in this case) for considering surrounding words to learn word context. You can experiment with different window sizes.\n",
        "  * **downsampling:** This sets the downsampling rate (1e-3) for frequent words to address issues with high-frequency words dominating the training process.\n",
        "\n",
        "* **Training the Model:**\n",
        "\n",
        "It creates a Word2Vec model instance (w2v) using the gensim library.\n",
        "\n",
        "It passes the list of parsed sentences (sentences) as the training data.\n",
        "Other arguments passed to the Word2Vec constructor match the defined hyperparameters.\n",
        "\n",
        "The w2v.init_sims(replace=True) line initializes word vector similarities after training.\n",
        "\n",
        "* **Saving the Model:**\n",
        "\n",
        "It saves the trained Word2Vec model using the w2v.save method with a descriptive filename indicating the hyperparameters used.\n",
        "\n",
        "* **Evaluating Vocabulary:**\n",
        "\n",
        "It prints the number of words in the vocabulary list using len(w2v.wv.index_to_key). This shows the size of the learned vocabulary after applying filtering with min_word_count.\n",
        "\n",
        "It prints the first 10 words in the vocabulary list using slicing ([:10]) to get a glimpse of the learned vocabulary."
      ],
      "metadata": {
        "id": "vM1l05CO4YfG"
      }
    },
    {
      "cell_type": "code",
      "source": [
        "# Fix Training Word2Vec model ...\n",
        "# Fitting parsed sentences to Word2Vec model\n",
        "num_features = 300  # embedding dimension\n",
        "min_word_count = 10\n",
        "num_workers = 4\n",
        "context = 10\n",
        "downsampling = 1e-3\n",
        "\n",
        "print(\"Training Word2Vec model ...\\n\")\n",
        "w2v = Word2Vec(sentences, workers=num_workers, vector_size=num_features, min_count=min_word_count,\n",
        "               window=context, sample=downsampling)\n",
        "w2v.init_sims(replace=True)\n",
        "w2v.save(\"w2v_300features_10minwordcounts_10context\")  # save trained word2vec model\n",
        "\n",
        "print(\"Number of words in the vocabulary list: %d \\n\" % len(w2v.wv.index_to_key))  # 4016\n",
        "print(\"Show first 10 words in the vocabulary list: \\n\", w2v.wv.index_to_key[:10])\n"
      ],
      "metadata": {
        "colab": {
          "base_uri": "https://localhost:8080/"
        },
        "id": "NMZTWmvp9Wfs",
        "outputId": "a9bfc032-1d81-4ef2-d4e5-44a7cbe86159"
      },
      "execution_count": null,
      "outputs": [
        {
          "output_type": "stream",
          "name": "stdout",
          "text": [
            "Training Word2Vec model ...\n",
            "\n"
          ]
        },
        {
          "output_type": "stream",
          "name": "stderr",
          "text": [
            "<ipython-input-137-3c0f9728617c>:12: DeprecationWarning: Call to deprecated `init_sims` (Gensim 4.0.0 implemented internal optimizations that make calls to init_sims() unnecessary. init_sims() is now obsoleted and will be completely removed in future versions. See https://github.com/RaRe-Technologies/gensim/wiki/Migrating-from-Gensim-3.x-to-4).\n",
            "  w2v.init_sims(replace=True)\n",
            "WARNING:gensim.models.keyedvectors:destructive init_sims(replace=True) deprecated & no longer required for space-efficiency\n"
          ]
        },
        {
          "output_type": "stream",
          "name": "stdout",
          "text": [
            "Number of words in the vocabulary list: 1009 \n",
            "\n",
            "Show first 10 words in the vocabulary list: \n",
            " ['the', 'it', 'and', 'to', 'i', 'for', 'a', 'is', 'my', 'this']\n"
          ]
        }
      ]
    },
    {
      "cell_type": "code",
      "source": [
        "# Loading pretrained Word2Vec model\n",
        "w2v = Word2Vec.load(\"w2v_300features_10minwordcounts_10context\")\n",
        "\n",
        "# Getting Word2Vec embedding matrix\n",
        "embedding_matrix = w2v.wv.vectors  # embedding matrix, type = numpy.ndarray\n",
        "print(\"Shape of embedding matrix : \", embedding_matrix.shape)  # (vocabulary size, embedding dimension)\n",
        "print(\"feature vector of the first word in the vocabulary list:\",w2v.wv.vectors[0])"
      ],
      "metadata": {
        "colab": {
          "base_uri": "https://localhost:8080/"
        },
        "id": "nFT_BZwE8E-a",
        "outputId": "9f06f30d-9737-4886-8f55-4d619898c705"
      },
      "execution_count": null,
      "outputs": [
        {
          "output_type": "stream",
          "name": "stdout",
          "text": [
            "Shape of embedding matrix :  (1009, 300)\n",
            "feature vector of the first word in the vocabulary list: [ 7.04897344e-02  3.41240503e-02  9.07287188e-03  6.09439611e-02\n",
            " -2.72937976e-02 -9.00142863e-02  3.34164239e-02  1.20420836e-01\n",
            " -3.65851098e-03 -8.23087916e-02  3.39198634e-02  2.99255666e-03\n",
            "  1.04456870e-02 -3.75092612e-03 -4.18801978e-02 -5.01222387e-02\n",
            "  2.42217239e-02 -4.96682189e-02 -1.71494466e-04 -6.10330291e-02\n",
            "  2.04716641e-02  2.47244686e-02  4.21854295e-02  2.49775639e-03\n",
            "  3.82570028e-02  1.16743650e-02 -1.03916459e-01  3.89004946e-02\n",
            " -6.99992701e-02 -9.87715200e-02 -5.70845790e-03  1.15483766e-02\n",
            "  3.90182324e-02 -2.35325862e-02 -1.35631859e-02  4.67027575e-02\n",
            "  2.54735965e-02 -1.00667812e-01 -6.05711564e-02 -3.13312635e-02\n",
            " -8.19955692e-02  2.09052432e-02 -1.01266457e-02 -8.17939714e-02\n",
            "  6.36693761e-02  2.69623119e-02  4.41007353e-02  1.00577332e-01\n",
            " -5.29955402e-02  1.13873288e-01  7.70671340e-03  1.02182433e-01\n",
            " -2.58946419e-02  2.90920865e-02 -2.17645578e-02 -1.20469164e-02\n",
            " -3.25454287e-02  3.59954871e-02  3.26726921e-02 -6.04755357e-02\n",
            " -1.65318307e-02 -3.62036005e-02  2.80435272e-02 -9.12622828e-03\n",
            " -1.42828990e-02  7.78422281e-02  2.56942641e-02  1.48859117e-02\n",
            " -2.47986838e-02  4.68614437e-02  3.95654738e-02  7.06119314e-02\n",
            "  5.69479279e-02 -7.84469545e-02 -1.85148418e-03  3.20834927e-02\n",
            " -3.16587612e-02 -3.09816860e-02 -1.12798978e-02  5.97597472e-02\n",
            " -8.62654224e-02 -6.83460459e-02  3.56656387e-02  7.75938407e-02\n",
            " -3.91018093e-02  1.18811019e-02 -6.82386830e-02  5.15982322e-02\n",
            "  1.06872581e-01  5.42408936e-02  2.39207875e-02 -5.18302023e-02\n",
            "  1.22436233e-01  3.19641791e-02  7.10925907e-02  6.67180493e-02\n",
            "  8.81121084e-02 -1.81198562e-03 -5.20831384e-02  2.75416728e-02\n",
            " -4.93249036e-02  9.97919310e-03  2.12737173e-02  8.64826962e-02\n",
            "  2.00712793e-02 -9.77860019e-03 -3.40006733e-03  4.42438088e-02\n",
            " -1.29879937e-01  2.18238086e-02 -5.13061322e-02 -1.02344856e-01\n",
            "  2.24016160e-02 -2.68483348e-02  1.97580699e-02  4.67889681e-02\n",
            " -2.07151081e-02  2.83567347e-02  1.01351298e-01 -6.79773986e-02\n",
            "  3.23130675e-02 -1.37708522e-02  6.80682585e-02 -7.44646937e-02\n",
            " -4.92951646e-02  4.53504696e-02 -3.24491672e-02 -1.61321890e-02\n",
            "  5.32004843e-03  2.02305838e-02  7.95802940e-03  1.22221872e-01\n",
            "  2.14459375e-02 -7.06055462e-02  6.00364851e-03  5.78296091e-03\n",
            " -9.06853676e-02  2.02610325e-02 -2.91198958e-02 -1.79152004e-02\n",
            "  3.62954214e-02 -6.76316172e-02 -4.96235266e-02 -3.46531011e-02\n",
            " -3.01723182e-03 -8.84003937e-02 -6.34895340e-02  7.29065835e-02\n",
            " -3.75523232e-02 -7.22634941e-02  2.48921998e-02 -1.55886337e-01\n",
            " -3.68274562e-02 -4.16502617e-02  4.53920960e-02  1.00291222e-01\n",
            " -4.74359952e-02 -3.60598080e-02  6.58422709e-02  6.32353202e-02\n",
            " -2.30430774e-02  9.03806183e-03 -1.56147569e-01  3.87102105e-02\n",
            " -4.82967012e-02  4.05959822e-02  3.14558223e-02 -4.83056419e-02\n",
            "  3.36140543e-02  1.10039078e-01 -3.47270668e-02  4.47464315e-03\n",
            " -8.11725017e-03  5.72372563e-02 -7.38779604e-02  4.61458378e-02\n",
            "  4.19087335e-02 -4.42427322e-02  2.61441129e-03  6.81201816e-02\n",
            " -7.86483139e-02  1.32943556e-01 -4.12898138e-02 -3.27541567e-02\n",
            " -1.27626602e-02  1.76425930e-02  5.34584187e-02  9.97249559e-02\n",
            "  7.91640803e-02 -3.10530905e-02  9.27274525e-02 -1.27193583e-02\n",
            " -1.58718824e-01  6.99147582e-03  3.26878987e-02 -3.85629088e-02\n",
            "  8.28160122e-02 -3.58961001e-02  4.91406918e-02 -1.08693615e-02\n",
            " -8.69183987e-02  9.96416714e-03  3.59361358e-02  4.22314331e-02\n",
            "  5.82721904e-02 -2.66221631e-02  7.14850891e-03  7.04741329e-02\n",
            "  2.34543998e-02 -8.59969237e-04  9.28067509e-03 -5.28781936e-02\n",
            " -8.36003125e-02 -2.92645413e-02 -5.27853286e-03 -3.78952511e-02\n",
            " -2.21791919e-02 -1.32921532e-01 -5.37091941e-02 -2.05348767e-02\n",
            "  5.25519736e-02  2.15760358e-02  2.90656881e-03 -2.43206490e-02\n",
            " -6.75211549e-02 -2.90663224e-02  5.10980748e-02  2.61972826e-02\n",
            " -5.92261516e-02  2.69566942e-02  8.42075795e-02 -4.70081344e-02\n",
            " -2.49658711e-02  6.59189746e-02 -4.78453608e-03  5.57304099e-02\n",
            " -3.69781405e-02 -2.76543144e-02 -4.02125865e-02 -1.44526377e-01\n",
            "  4.45372518e-03 -9.13392007e-03 -5.80046624e-02  4.41937186e-02\n",
            "  8.54336843e-03 -4.44340296e-02 -4.74799164e-02 -2.40181689e-03\n",
            "  7.05192536e-02  7.42765665e-02 -4.98315692e-02  2.27872673e-02\n",
            " -2.68642586e-02 -2.30250433e-02 -1.92888483e-01 -4.73832637e-02\n",
            "  1.14129603e-01  2.57458678e-03 -1.23084627e-01 -1.07560691e-03\n",
            "  3.31244357e-02  5.43556884e-02  3.46335992e-02 -7.97568783e-02\n",
            " -5.11630736e-02  1.61667019e-02 -7.03981565e-03  1.20981792e-02\n",
            " -9.79909673e-02  5.18115275e-02 -2.07202211e-02  1.23102497e-02\n",
            "  2.84408703e-02 -4.05450948e-02  8.72781649e-02  2.35724337e-02\n",
            "  8.70279148e-02 -3.68460920e-03 -1.08661793e-01  4.01279777e-02\n",
            "  5.87056987e-02 -3.25005837e-02 -6.34362409e-03  7.68888146e-02\n",
            " -4.87665311e-02 -1.55759358e-03 -8.55172500e-02  1.56633183e-02\n",
            "  1.92251727e-02  1.06212601e-01 -4.19688299e-02  1.10967360e-01\n",
            "  4.44886722e-02  1.96746308e-02  6.27486706e-02  1.39720783e-01\n",
            " -1.02685697e-01 -1.33365032e-03  6.96043819e-02  2.96806749e-02]\n"
          ]
        }
      ]
    },
    {
      "cell_type": "code",
      "source": [
        "# Your existing code here\n",
        "top_words = embedding_matrix.shape[0]  # 4016\n",
        "maxlen = 100\n",
        "batch_size = 32\n",
        "nb_classes = 3\n",
        "nb_epoch = 3"
      ],
      "metadata": {
        "id": "Em5m9l7BSJbb"
      },
      "execution_count": null,
      "outputs": []
    },
    {
      "cell_type": "code",
      "source": [
        "# Vectorizing X_train and X_test to 2D tensor\n",
        "tokenizer = Tokenizer(nb_words=top_words)  # Considering only top 20000 words in the corpus\n",
        "tokenizer.fit_on_texts(X_train_cleaned)"
      ],
      "metadata": {
        "colab": {
          "base_uri": "https://localhost:8080/"
        },
        "id": "bV6xjLkQSR6p",
        "outputId": "8b5a1500-b10b-44b3-e2f5-105512870b4e"
      },
      "execution_count": null,
      "outputs": [
        {
          "output_type": "stream",
          "name": "stderr",
          "text": [
            "/usr/local/lib/python3.10/dist-packages/keras/src/preprocessing/text.py:246: UserWarning: The `nb_words` argument in `Tokenizer` has been renamed `num_words`.\n",
            "  warnings.warn(\n"
          ]
        }
      ]
    },
    {
      "cell_type": "code",
      "source": [
        "# tokenizer.word_index # access word-to-index dictionary of trained tokenizer\n",
        "\n",
        "sequences_train = tokenizer.texts_to_sequences(X_train_cleaned)\n",
        "sequences_test = tokenizer.texts_to_sequences(X_test_cleaned)"
      ],
      "metadata": {
        "id": "Qyrta-T5SmtO"
      },
      "execution_count": null,
      "outputs": []
    },
    {
      "cell_type": "code",
      "source": [
        "len(X_train_cleaned)"
      ],
      "metadata": {
        "colab": {
          "base_uri": "https://localhost:8080/"
        },
        "id": "lvdquqrtBpbu",
        "outputId": "f0149795-7659-4ec9-946d-1ae91bde72ad"
      },
      "execution_count": null,
      "outputs": [
        {
          "output_type": "execute_result",
          "data": {
            "text/plain": [
              "3600"
            ]
          },
          "metadata": {},
          "execution_count": 142
        }
      ]
    },
    {
      "cell_type": "code",
      "source": [
        "len(X_test_cleaned)"
      ],
      "metadata": {
        "colab": {
          "base_uri": "https://localhost:8080/"
        },
        "id": "-ohM56rUB49X",
        "outputId": "d0884305-f50b-4ebd-b354-7722e4806be5"
      },
      "execution_count": null,
      "outputs": [
        {
          "output_type": "execute_result",
          "data": {
            "text/plain": [
              "400"
            ]
          },
          "metadata": {},
          "execution_count": 143
        }
      ]
    },
    {
      "cell_type": "code",
      "source": [
        "x_train_seq = pad_sequences(sequences_train, maxlen=maxlen)\n",
        "x_test_seq = pad_sequences(sequences_test, maxlen=maxlen)"
      ],
      "metadata": {
        "id": "D4oBh93TbX9y"
      },
      "execution_count": null,
      "outputs": []
    },
    {
      "cell_type": "code",
      "source": [
        "y_train.shape"
      ],
      "metadata": {
        "colab": {
          "base_uri": "https://localhost:8080/"
        },
        "id": "KQxgftg8DAOr",
        "outputId": "f1dbfe63-fecf-48e5-bd66-a642944add19"
      },
      "execution_count": null,
      "outputs": [
        {
          "output_type": "execute_result",
          "data": {
            "text/plain": [
              "(3600,)"
            ]
          },
          "metadata": {},
          "execution_count": 145
        }
      ]
    },
    {
      "cell_type": "code",
      "source": [
        "y_train.dtype"
      ],
      "metadata": {
        "colab": {
          "base_uri": "https://localhost:8080/"
        },
        "id": "wbHvUGB1DKIL",
        "outputId": "ba9b67f1-d9b1-47e5-cc5d-1786d650a01e"
      },
      "execution_count": null,
      "outputs": [
        {
          "output_type": "execute_result",
          "data": {
            "text/plain": [
              "dtype('O')"
            ]
          },
          "metadata": {},
          "execution_count": 146
        }
      ]
    },
    {
      "cell_type": "code",
      "source": [
        "y_test.shape"
      ],
      "metadata": {
        "colab": {
          "base_uri": "https://localhost:8080/"
        },
        "id": "R_uSJFCEDDl8",
        "outputId": "04eac6e7-0485-4fc3-d028-a91c37540b2c"
      },
      "execution_count": null,
      "outputs": [
        {
          "output_type": "execute_result",
          "data": {
            "text/plain": [
              "(400,)"
            ]
          },
          "metadata": {},
          "execution_count": 147
        }
      ]
    },
    {
      "cell_type": "code",
      "source": [
        "y_test.dtype"
      ],
      "metadata": {
        "colab": {
          "base_uri": "https://localhost:8080/"
        },
        "id": "TuOb_2FMDR3_",
        "outputId": "aeb1c815-1ff2-465f-e203-370d16ff8d95"
      },
      "execution_count": null,
      "outputs": [
        {
          "output_type": "execute_result",
          "data": {
            "text/plain": [
              "dtype('O')"
            ]
          },
          "metadata": {},
          "execution_count": 148
        }
      ]
    },
    {
      "cell_type": "code",
      "source": [
        "y_test = y_test.map(label_mapping)"
      ],
      "metadata": {
        "id": "gMsefkslEOqr"
      },
      "execution_count": null,
      "outputs": []
    },
    {
      "cell_type": "code",
      "source": [
        "# One-Hot Encoding of y_train and y_test\n",
        "y_test_seq = to_categorical(y_test, nb_classes)"
      ],
      "metadata": {
        "id": "vtCA-M5c8F4i"
      },
      "execution_count": null,
      "outputs": []
    },
    {
      "cell_type": "code",
      "source": [
        "ytrain_Labelled = y_train.map(label_mapping)"
      ],
      "metadata": {
        "id": "Td2seCdwDmmM"
      },
      "execution_count": null,
      "outputs": []
    },
    {
      "cell_type": "code",
      "source": [
        "oversample = SMOTE(sampling_strategy='not majority')\n",
        "# fit and apply the transform\n",
        "x, y = oversample.fit_resample(x_train_seq,ytrain_Labelled)"
      ],
      "metadata": {
        "id": "6a0zT_OT-N12"
      },
      "execution_count": null,
      "outputs": []
    },
    {
      "cell_type": "code",
      "source": [
        "x_train_seq.shape"
      ],
      "metadata": {
        "colab": {
          "base_uri": "https://localhost:8080/"
        },
        "id": "KDkVlJ11EAVH",
        "outputId": "076fcb48-5ba6-4bde-c009-2ae7bd6c8af3"
      },
      "execution_count": null,
      "outputs": [
        {
          "output_type": "execute_result",
          "data": {
            "text/plain": [
              "(3600, 100)"
            ]
          },
          "metadata": {},
          "execution_count": 153
        }
      ]
    },
    {
      "cell_type": "code",
      "source": [
        "ytrain_Labelled.shape"
      ],
      "metadata": {
        "colab": {
          "base_uri": "https://localhost:8080/"
        },
        "id": "jpbXcNcNEFEr",
        "outputId": "66f98e34-722e-4371-f62b-6000e97bd50a"
      },
      "execution_count": null,
      "outputs": [
        {
          "output_type": "execute_result",
          "data": {
            "text/plain": [
              "(3600,)"
            ]
          },
          "metadata": {},
          "execution_count": 154
        }
      ]
    },
    {
      "cell_type": "code",
      "source": [
        "x.shape"
      ],
      "metadata": {
        "colab": {
          "base_uri": "https://localhost:8080/"
        },
        "id": "1ZDiAY2iFGTO",
        "outputId": "14403a08-c55b-454f-8041-da49890b80e3"
      },
      "execution_count": null,
      "outputs": [
        {
          "output_type": "execute_result",
          "data": {
            "text/plain": [
              "(10122, 100)"
            ]
          },
          "metadata": {},
          "execution_count": 155
        }
      ]
    },
    {
      "cell_type": "code",
      "source": [
        "y.shape"
      ],
      "metadata": {
        "colab": {
          "base_uri": "https://localhost:8080/"
        },
        "id": "WDSDgmLKFJqT",
        "outputId": "f9952ac4-dc68-4303-caec-580324915b29"
      },
      "execution_count": null,
      "outputs": [
        {
          "output_type": "execute_result",
          "data": {
            "text/plain": [
              "(10122,)"
            ]
          },
          "metadata": {},
          "execution_count": 156
        }
      ]
    },
    {
      "cell_type": "code",
      "source": [
        "y.dtype"
      ],
      "metadata": {
        "colab": {
          "base_uri": "https://localhost:8080/"
        },
        "id": "eDirDzhzFhim",
        "outputId": "197a7b2b-e4fd-4c30-cf68-c45f427d8811"
      },
      "execution_count": null,
      "outputs": [
        {
          "output_type": "execute_result",
          "data": {
            "text/plain": [
              "dtype('int64')"
            ]
          },
          "metadata": {},
          "execution_count": 157
        }
      ]
    },
    {
      "cell_type": "code",
      "source": [
        "y[0]"
      ],
      "metadata": {
        "colab": {
          "base_uri": "https://localhost:8080/"
        },
        "id": "AEDlAp-MFlud",
        "outputId": "e767b9c8-68d0-4e2f-c67f-8d5a892de071"
      },
      "execution_count": null,
      "outputs": [
        {
          "output_type": "execute_result",
          "data": {
            "text/plain": [
              "2"
            ]
          },
          "metadata": {},
          "execution_count": 158
        }
      ]
    },
    {
      "cell_type": "code",
      "source": [
        "y_train_seq = to_categorical(y, nb_classes)"
      ],
      "metadata": {
        "id": "l_BfXBqw96We"
      },
      "execution_count": null,
      "outputs": []
    },
    {
      "cell_type": "code",
      "source": [
        "y_train_seq[0]"
      ],
      "metadata": {
        "colab": {
          "base_uri": "https://localhost:8080/"
        },
        "id": "YQtqkP-iFpb3",
        "outputId": "bea7ba27-5f04-4c17-e82f-9193c348a8fa"
      },
      "execution_count": null,
      "outputs": [
        {
          "output_type": "execute_result",
          "data": {
            "text/plain": [
              "array([0., 0., 1.], dtype=float32)"
            ]
          },
          "metadata": {},
          "execution_count": 160
        }
      ]
    },
    {
      "cell_type": "code",
      "source": [
        "# Constructing Word2Vec embedding layer\n",
        "embedding_layer = Embedding(embedding_matrix.shape[0], # 4016\n",
        "                            embedding_matrix.shape[1], # 300\n",
        "                            weights=[embedding_matrix],\n",
        "                            mask_zero=True) # Add mask_zero=True to ignore padding tokens)\n",
        "\n",
        "# Constructing LSTM with Word2Vec embedding\n",
        "model2 = Sequential()\n",
        "model2.add(embedding_layer)\n",
        "model2.add(LSTM(128, dropout=0.2, recurrent_dropout=0.2))  # Fix dropout arguments\n",
        "model2.add(Dense(nb_classes))\n",
        "model2.add(Activation('softmax'))\n",
        "model2.summary()\n",
        "\n",
        "# Compiling model\n",
        "model2.compile(loss='binary_crossentropy',\n",
        "               optimizer='adam',\n",
        "               metrics=['accuracy'])\n",
        "\n",
        "model2.fit(x, y_train_seq, batch_size=batch_size, epochs=nb_epoch, verbose=1)  # Fix 'nb_epoch' to 'epochs'"
      ],
      "metadata": {
        "colab": {
          "base_uri": "https://localhost:8080/"
        },
        "id": "Yx-djTjQ-RJE",
        "outputId": "1ac79a2f-65cb-4b68-91bc-6f832acfec6c"
      },
      "execution_count": null,
      "outputs": [
        {
          "output_type": "stream",
          "name": "stdout",
          "text": [
            "Model: \"sequential_1\"\n",
            "_________________________________________________________________\n",
            " Layer (type)                Output Shape              Param #   \n",
            "=================================================================\n",
            " embedding_1 (Embedding)     (None, None, 300)         302700    \n",
            "                                                                 \n",
            " lstm_1 (LSTM)               (None, 128)               219648    \n",
            "                                                                 \n",
            " dense_1 (Dense)             (None, 3)                 387       \n",
            "                                                                 \n",
            " activation (Activation)     (None, 3)                 0         \n",
            "                                                                 \n",
            "=================================================================\n",
            "Total params: 522735 (1.99 MB)\n",
            "Trainable params: 522735 (1.99 MB)\n",
            "Non-trainable params: 0 (0.00 Byte)\n",
            "_________________________________________________________________\n",
            "Epoch 1/3\n",
            "317/317 [==============================] - 136s 413ms/step - loss: 0.5600 - accuracy: 0.5087\n",
            "Epoch 2/3\n",
            "317/317 [==============================] - 127s 401ms/step - loss: 0.4513 - accuracy: 0.6507\n",
            "Epoch 3/3\n",
            "317/317 [==============================] - 127s 401ms/step - loss: 0.3967 - accuracy: 0.7023\n"
          ]
        },
        {
          "output_type": "execute_result",
          "data": {
            "text/plain": [
              "<keras.src.callbacks.History at 0x7ebca867b4f0>"
            ]
          },
          "metadata": {},
          "execution_count": 164
        }
      ]
    },
    {
      "cell_type": "code",
      "source": [
        "# Model evaluation\n",
        "score = model2.evaluate(x_test_seq, y_test_seq, batch_size=batch_size)\n",
        "print('Test loss : {:.4f}'.format(score[0]))\n",
        "print('Test accuracy : {:.4f}'.format(score[1]))"
      ],
      "metadata": {
        "colab": {
          "base_uri": "https://localhost:8080/"
        },
        "id": "Z7Q3c3lX-91M",
        "outputId": "a7324709-7343-4479-dabf-cb04d59c7265"
      },
      "execution_count": null,
      "outputs": [
        {
          "output_type": "stream",
          "name": "stdout",
          "text": [
            "13/13 [==============================] - 1s 54ms/step - loss: 0.3242 - accuracy: 0.7975\n",
            "Test loss : 0.3242\n",
            "Test accuracy : 0.7975\n"
          ]
        }
      ]
    },
    {
      "cell_type": "code",
      "source": [
        "# Getting weight matrix of the embedding layer\n",
        "print(\"Size of weight matrix in the embedding layer : \", \\\n",
        "      model2.layers[0].get_weights()[0].shape) #(20000, 128)\n",
        "\n",
        "# Getting weight matrix of the hidden layer\n",
        "print(\"Size of weight matrix in the hidden layer : \", \\\n",
        "      model2.layers[1].get_weights()[0].shape) #(128, 512)  weight dim of LSTM - w\n",
        "\n",
        "# Getting weight matrix of the output layer\n",
        "print(\"Size of weight matrix in the output layer : \", \\\n",
        "      model2.layers[2].get_weights()[0].shape) #(128, 2) weight dim of dense layer"
      ],
      "metadata": {
        "colab": {
          "base_uri": "https://localhost:8080/"
        },
        "id": "m_FEB0vP-sEp",
        "outputId": "ad31a8ee-43a2-4e2b-df17-0d31ffdf977a"
      },
      "execution_count": null,
      "outputs": [
        {
          "output_type": "stream",
          "name": "stdout",
          "text": [
            "Size of weight matrix in the embedding layer :  (1009, 300)\n",
            "Size of weight matrix in the hidden layer :  (300, 512)\n",
            "Size of weight matrix in the output layer :  (128, 3)\n"
          ]
        }
      ]
    },
    {
      "cell_type": "code",
      "source": [
        "y_pred = model2.predict(x_test_seq)"
      ],
      "metadata": {
        "colab": {
          "base_uri": "https://localhost:8080/"
        },
        "id": "oxMd-Cor_z9G",
        "outputId": "85d8a6d6-0aca-4804-dfb7-05fe73013670"
      },
      "execution_count": null,
      "outputs": [
        {
          "output_type": "stream",
          "name": "stdout",
          "text": [
            "13/13 [==============================] - 1s 57ms/step\n"
          ]
        }
      ]
    },
    {
      "cell_type": "code",
      "source": [
        "y_pred = np.argmax(y_pred, axis=1)"
      ],
      "metadata": {
        "id": "CvwKQgqv_w0_"
      },
      "execution_count": null,
      "outputs": []
    },
    {
      "cell_type": "code",
      "source": [
        "report = classification_report(y_test, y_pred)"
      ],
      "metadata": {
        "id": "WsP5bX4w_dWl"
      },
      "execution_count": null,
      "outputs": []
    },
    {
      "cell_type": "code",
      "source": [
        "print(report)"
      ],
      "metadata": {
        "colab": {
          "base_uri": "https://localhost:8080/"
        },
        "id": "SoLaVmDmEnnE",
        "outputId": "4aef95de-df8e-499b-f117-7ea482e9d68f"
      },
      "execution_count": null,
      "outputs": [
        {
          "output_type": "stream",
          "name": "stdout",
          "text": [
            "              precision    recall  f1-score   support\n",
            "\n",
            "           0       0.08      0.22      0.11         9\n",
            "           1       0.06      0.19      0.10        16\n",
            "           2       0.96      0.84      0.89       375\n",
            "\n",
            "    accuracy                           0.80       400\n",
            "   macro avg       0.37      0.42      0.37       400\n",
            "weighted avg       0.90      0.80      0.85       400\n",
            "\n"
          ]
        }
      ]
    },
    {
      "cell_type": "markdown",
      "source": [
        "Summary of the LSTM model using word2vec embedding with a dictionary of 1009 words suffers from insufficient data. This is evident from the low overall accuracy (80%) and macro average precision, recall, and F1-score (all around 0.37)."
      ],
      "metadata": {
        "id": "1Q8-I-HY_O0E"
      }
    },
    {
      "cell_type": "code",
      "source": [],
      "metadata": {
        "id": "OnHXw2bkF9_K"
      },
      "execution_count": null,
      "outputs": []
    }
  ]
}